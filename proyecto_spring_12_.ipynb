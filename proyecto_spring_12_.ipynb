{
 "cells": [
  {
   "cell_type": "markdown",
   "metadata": {},
   "source": [
    "# Descripción"
   ]
  },
  {
   "cell_type": "markdown",
   "metadata": {},
   "source": [
    "La compañía de seguros Sure Tomorrow quiere resolver varias tareas con la ayuda de machine learning y te pide que evalúes esa posibilidad.\n",
    "- Tarea 1: encontrar clientes que sean similares a un cliente determinado. Esto ayudará a los agentes de la compañía con el marketing.\n",
    "- Tarea 2: predecir la probabilidad de que un nuevo cliente reciba una prestación del seguro. ¿Puede un modelo de predictivo funcionar mejor que un modelo dummy?\n",
    "- Tarea 3: predecir el número de prestaciones de seguro que un nuevo cliente pueda recibir utilizando un modelo de regresión lineal.\n",
    "- Tarea 4: proteger los datos personales de los clientes sin afectar al modelo del ejercicio anterior. Es necesario desarrollar un algoritmo de transformación de datos que dificulte la recuperación de la información personal si los datos caen en manos equivocadas. Esto se denomina enmascaramiento u ofuscación de datos. Pero los datos deben protegerse de tal manera que no se vea afectada la calidad de los modelos de machine learning. No es necesario elegir el mejor modelo, basta con demostrar que el algoritmo funciona correctamente.\n"
   ]
  },
  {
   "cell_type": "markdown",
   "metadata": {},
   "source": [
    "# Preprocesamiento y exploración de datos\n",
    "\n",
    "## Inicialización"
   ]
  },
  {
   "cell_type": "code",
   "execution_count": 1,
   "metadata": {},
   "outputs": [
    {
     "name": "stdout",
     "output_type": "stream",
     "text": [
      "\u001b[33mWARNING: Ignoring invalid distribution -cikit-learn (/opt/conda/envs/python3/lib/python3.9/site-packages)\u001b[0m\u001b[33m\n",
      "\u001b[0mRequirement already satisfied: scikit-learn in /opt/conda/envs/python3/lib/python3.9/site-packages (0.24.1)\n",
      "Collecting scikit-learn\n",
      "  Using cached scikit_learn-1.6.1-cp39-cp39-manylinux_2_17_x86_64.manylinux2014_x86_64.whl.metadata (18 kB)\n",
      "Requirement already satisfied: numpy>=1.19.5 in /opt/conda/envs/python3/lib/python3.9/site-packages (from scikit-learn) (1.21.2)\n",
      "Requirement already satisfied: scipy>=1.6.0 in /opt/conda/envs/python3/lib/python3.9/site-packages (from scikit-learn) (1.10.1)\n",
      "Requirement already satisfied: joblib>=1.2.0 in /opt/conda/envs/python3/lib/python3.9/site-packages (from scikit-learn) (1.4.2)\n",
      "Requirement already satisfied: threadpoolctl>=3.1.0 in /opt/conda/envs/python3/lib/python3.9/site-packages (from scikit-learn) (3.5.0)\n",
      "Using cached scikit_learn-1.6.1-cp39-cp39-manylinux_2_17_x86_64.manylinux2014_x86_64.whl (13.5 MB)\n",
      "\u001b[33mWARNING: Ignoring invalid distribution -cikit-learn (/opt/conda/envs/python3/lib/python3.9/site-packages)\u001b[0m\u001b[33m\n",
      "\u001b[0mInstalling collected packages: scikit-learn\n",
      "  Attempting uninstall: scikit-learn\n",
      "    Found existing installation: scikit-learn 0.24.1\n",
      "    Uninstalling scikit-learn-0.24.1:\n",
      "\u001b[31mERROR: Could not install packages due to an OSError: [Errno 13] Permission denied: 'COPYING'\n",
      "Consider using the `--user` option or check the permissions.\n",
      "\u001b[0m\u001b[31m\n",
      "\u001b[0mNote: you may need to restart the kernel to use updated packages.\n"
     ]
    }
   ],
   "source": [
    "pip install scikit-learn --upgrade"
   ]
  },
  {
   "cell_type": "code",
   "execution_count": 24,
   "metadata": {},
   "outputs": [],
   "source": [
    "import numpy as np\n",
    "import pandas as pd\n",
    "\n",
    "import seaborn as sns\n",
    "import matplotlib.pyplot as plt\n",
    "from pandas.plotting import scatter_matrix\n",
    "\n",
    "from sklearn.linear_model import LinearRegression\n",
    "import sklearn.metrics\n",
    "import sklearn.neighbors\n",
    "from sklearn.neighbors import NearestNeighbors\n",
    "import sklearn.preprocessing\n",
    "\n",
    "import itertools \n",
    "\n",
    "from sklearn.model_selection import train_test_split\n",
    "\n",
    "from IPython.display import display\n",
    "\n",
    "import random"
   ]
  },
  {
   "cell_type": "markdown",
   "metadata": {},
   "source": [
    "## Carga de datos"
   ]
  },
  {
   "cell_type": "markdown",
   "metadata": {},
   "source": [
    "Carga los datos y haz una revisión básica para comprobar que no hay problemas obvios."
   ]
  },
  {
   "cell_type": "code",
   "execution_count": 3,
   "metadata": {},
   "outputs": [],
   "source": [
    "df = pd.read_csv('/datasets/insurance_us.csv')"
   ]
  },
  {
   "cell_type": "markdown",
   "metadata": {},
   "source": [
    "Renombramos las columnas para que el código se vea más coherente con su estilo."
   ]
  },
  {
   "cell_type": "code",
   "execution_count": 4,
   "metadata": {},
   "outputs": [],
   "source": [
    "df = df.rename(columns={'Gender': 'gender', 'Age': 'age', 'Salary': 'income', 'Family members': 'family_members', 'Insurance benefits': 'insurance_benefits'})"
   ]
  },
  {
   "cell_type": "code",
   "execution_count": 5,
   "metadata": {},
   "outputs": [
    {
     "data": {
      "text/html": [
       "<div>\n",
       "<style scoped>\n",
       "    .dataframe tbody tr th:only-of-type {\n",
       "        vertical-align: middle;\n",
       "    }\n",
       "\n",
       "    .dataframe tbody tr th {\n",
       "        vertical-align: top;\n",
       "    }\n",
       "\n",
       "    .dataframe thead th {\n",
       "        text-align: right;\n",
       "    }\n",
       "</style>\n",
       "<table border=\"1\" class=\"dataframe\">\n",
       "  <thead>\n",
       "    <tr style=\"text-align: right;\">\n",
       "      <th></th>\n",
       "      <th>gender</th>\n",
       "      <th>age</th>\n",
       "      <th>income</th>\n",
       "      <th>family_members</th>\n",
       "      <th>insurance_benefits</th>\n",
       "    </tr>\n",
       "  </thead>\n",
       "  <tbody>\n",
       "    <tr>\n",
       "      <th>4391</th>\n",
       "      <td>0</td>\n",
       "      <td>30.0</td>\n",
       "      <td>18200.0</td>\n",
       "      <td>2</td>\n",
       "      <td>0</td>\n",
       "    </tr>\n",
       "    <tr>\n",
       "      <th>4938</th>\n",
       "      <td>1</td>\n",
       "      <td>37.0</td>\n",
       "      <td>55700.0</td>\n",
       "      <td>1</td>\n",
       "      <td>0</td>\n",
       "    </tr>\n",
       "    <tr>\n",
       "      <th>2667</th>\n",
       "      <td>0</td>\n",
       "      <td>22.0</td>\n",
       "      <td>37000.0</td>\n",
       "      <td>1</td>\n",
       "      <td>0</td>\n",
       "    </tr>\n",
       "    <tr>\n",
       "      <th>2453</th>\n",
       "      <td>1</td>\n",
       "      <td>21.0</td>\n",
       "      <td>26700.0</td>\n",
       "      <td>4</td>\n",
       "      <td>0</td>\n",
       "    </tr>\n",
       "    <tr>\n",
       "      <th>2251</th>\n",
       "      <td>0</td>\n",
       "      <td>23.0</td>\n",
       "      <td>45200.0</td>\n",
       "      <td>0</td>\n",
       "      <td>0</td>\n",
       "    </tr>\n",
       "    <tr>\n",
       "      <th>2531</th>\n",
       "      <td>0</td>\n",
       "      <td>31.0</td>\n",
       "      <td>45300.0</td>\n",
       "      <td>1</td>\n",
       "      <td>0</td>\n",
       "    </tr>\n",
       "    <tr>\n",
       "      <th>4230</th>\n",
       "      <td>0</td>\n",
       "      <td>32.0</td>\n",
       "      <td>25600.0</td>\n",
       "      <td>1</td>\n",
       "      <td>0</td>\n",
       "    </tr>\n",
       "    <tr>\n",
       "      <th>3520</th>\n",
       "      <td>1</td>\n",
       "      <td>22.0</td>\n",
       "      <td>60000.0</td>\n",
       "      <td>0</td>\n",
       "      <td>0</td>\n",
       "    </tr>\n",
       "    <tr>\n",
       "      <th>2339</th>\n",
       "      <td>1</td>\n",
       "      <td>30.0</td>\n",
       "      <td>52600.0</td>\n",
       "      <td>4</td>\n",
       "      <td>0</td>\n",
       "    </tr>\n",
       "    <tr>\n",
       "      <th>2582</th>\n",
       "      <td>0</td>\n",
       "      <td>39.0</td>\n",
       "      <td>48000.0</td>\n",
       "      <td>0</td>\n",
       "      <td>0</td>\n",
       "    </tr>\n",
       "  </tbody>\n",
       "</table>\n",
       "</div>"
      ],
      "text/plain": [
       "      gender   age   income  family_members  insurance_benefits\n",
       "4391       0  30.0  18200.0               2                   0\n",
       "4938       1  37.0  55700.0               1                   0\n",
       "2667       0  22.0  37000.0               1                   0\n",
       "2453       1  21.0  26700.0               4                   0\n",
       "2251       0  23.0  45200.0               0                   0\n",
       "2531       0  31.0  45300.0               1                   0\n",
       "4230       0  32.0  25600.0               1                   0\n",
       "3520       1  22.0  60000.0               0                   0\n",
       "2339       1  30.0  52600.0               4                   0\n",
       "2582       0  39.0  48000.0               0                   0"
      ]
     },
     "execution_count": 5,
     "metadata": {},
     "output_type": "execute_result"
    }
   ],
   "source": [
    "df.sample(10)"
   ]
  },
  {
   "cell_type": "code",
   "execution_count": 6,
   "metadata": {},
   "outputs": [
    {
     "name": "stdout",
     "output_type": "stream",
     "text": [
      "<class 'pandas.core.frame.DataFrame'>\n",
      "RangeIndex: 5000 entries, 0 to 4999\n",
      "Data columns (total 5 columns):\n",
      " #   Column              Non-Null Count  Dtype  \n",
      "---  ------              --------------  -----  \n",
      " 0   gender              5000 non-null   int64  \n",
      " 1   age                 5000 non-null   float64\n",
      " 2   income              5000 non-null   float64\n",
      " 3   family_members      5000 non-null   int64  \n",
      " 4   insurance_benefits  5000 non-null   int64  \n",
      "dtypes: float64(2), int64(3)\n",
      "memory usage: 195.4 KB\n"
     ]
    }
   ],
   "source": [
    "df.info()"
   ]
  },
  {
   "cell_type": "code",
   "execution_count": 7,
   "metadata": {},
   "outputs": [],
   "source": [
    "# puede que queramos cambiar el tipo de edad (de float a int) aunque esto no es crucial\n",
    "# escribe tu conversión aquí si lo deseas:\n",
    "df['age'] = df['age'].astype(int)"
   ]
  },
  {
   "cell_type": "code",
   "execution_count": 8,
   "metadata": {},
   "outputs": [
    {
     "name": "stdout",
     "output_type": "stream",
     "text": [
      "<class 'pandas.core.frame.DataFrame'>\n",
      "RangeIndex: 5000 entries, 0 to 4999\n",
      "Data columns (total 5 columns):\n",
      " #   Column              Non-Null Count  Dtype  \n",
      "---  ------              --------------  -----  \n",
      " 0   gender              5000 non-null   int64  \n",
      " 1   age                 5000 non-null   int64  \n",
      " 2   income              5000 non-null   float64\n",
      " 3   family_members      5000 non-null   int64  \n",
      " 4   insurance_benefits  5000 non-null   int64  \n",
      "dtypes: float64(1), int64(4)\n",
      "memory usage: 195.4 KB\n"
     ]
    }
   ],
   "source": [
    "# comprueba que la conversión se haya realizado con éxito\n",
    "df.info()"
   ]
  },
  {
   "cell_type": "code",
   "execution_count": 9,
   "metadata": {},
   "outputs": [],
   "source": [
    "# ahora echa un vistazo a las estadísticas descriptivas de los datos.# ¿Se ve todo bien?"
   ]
  },
  {
   "cell_type": "code",
   "execution_count": 10,
   "metadata": {},
   "outputs": [
    {
     "data": {
      "text/html": [
       "<div>\n",
       "<style scoped>\n",
       "    .dataframe tbody tr th:only-of-type {\n",
       "        vertical-align: middle;\n",
       "    }\n",
       "\n",
       "    .dataframe tbody tr th {\n",
       "        vertical-align: top;\n",
       "    }\n",
       "\n",
       "    .dataframe thead th {\n",
       "        text-align: right;\n",
       "    }\n",
       "</style>\n",
       "<table border=\"1\" class=\"dataframe\">\n",
       "  <thead>\n",
       "    <tr style=\"text-align: right;\">\n",
       "      <th></th>\n",
       "      <th>gender</th>\n",
       "      <th>age</th>\n",
       "      <th>income</th>\n",
       "      <th>family_members</th>\n",
       "      <th>insurance_benefits</th>\n",
       "    </tr>\n",
       "  </thead>\n",
       "  <tbody>\n",
       "    <tr>\n",
       "      <th>count</th>\n",
       "      <td>5000.000000</td>\n",
       "      <td>5000.000000</td>\n",
       "      <td>5000.000000</td>\n",
       "      <td>5000.000000</td>\n",
       "      <td>5000.000000</td>\n",
       "    </tr>\n",
       "    <tr>\n",
       "      <th>mean</th>\n",
       "      <td>0.499000</td>\n",
       "      <td>30.952800</td>\n",
       "      <td>39916.360000</td>\n",
       "      <td>1.194200</td>\n",
       "      <td>0.148000</td>\n",
       "    </tr>\n",
       "    <tr>\n",
       "      <th>std</th>\n",
       "      <td>0.500049</td>\n",
       "      <td>8.440807</td>\n",
       "      <td>9900.083569</td>\n",
       "      <td>1.091387</td>\n",
       "      <td>0.463183</td>\n",
       "    </tr>\n",
       "    <tr>\n",
       "      <th>min</th>\n",
       "      <td>0.000000</td>\n",
       "      <td>18.000000</td>\n",
       "      <td>5300.000000</td>\n",
       "      <td>0.000000</td>\n",
       "      <td>0.000000</td>\n",
       "    </tr>\n",
       "    <tr>\n",
       "      <th>25%</th>\n",
       "      <td>0.000000</td>\n",
       "      <td>24.000000</td>\n",
       "      <td>33300.000000</td>\n",
       "      <td>0.000000</td>\n",
       "      <td>0.000000</td>\n",
       "    </tr>\n",
       "    <tr>\n",
       "      <th>50%</th>\n",
       "      <td>0.000000</td>\n",
       "      <td>30.000000</td>\n",
       "      <td>40200.000000</td>\n",
       "      <td>1.000000</td>\n",
       "      <td>0.000000</td>\n",
       "    </tr>\n",
       "    <tr>\n",
       "      <th>75%</th>\n",
       "      <td>1.000000</td>\n",
       "      <td>37.000000</td>\n",
       "      <td>46600.000000</td>\n",
       "      <td>2.000000</td>\n",
       "      <td>0.000000</td>\n",
       "    </tr>\n",
       "    <tr>\n",
       "      <th>max</th>\n",
       "      <td>1.000000</td>\n",
       "      <td>65.000000</td>\n",
       "      <td>79000.000000</td>\n",
       "      <td>6.000000</td>\n",
       "      <td>5.000000</td>\n",
       "    </tr>\n",
       "  </tbody>\n",
       "</table>\n",
       "</div>"
      ],
      "text/plain": [
       "            gender          age        income  family_members  \\\n",
       "count  5000.000000  5000.000000   5000.000000     5000.000000   \n",
       "mean      0.499000    30.952800  39916.360000        1.194200   \n",
       "std       0.500049     8.440807   9900.083569        1.091387   \n",
       "min       0.000000    18.000000   5300.000000        0.000000   \n",
       "25%       0.000000    24.000000  33300.000000        0.000000   \n",
       "50%       0.000000    30.000000  40200.000000        1.000000   \n",
       "75%       1.000000    37.000000  46600.000000        2.000000   \n",
       "max       1.000000    65.000000  79000.000000        6.000000   \n",
       "\n",
       "       insurance_benefits  \n",
       "count         5000.000000  \n",
       "mean             0.148000  \n",
       "std              0.463183  \n",
       "min              0.000000  \n",
       "25%              0.000000  \n",
       "50%              0.000000  \n",
       "75%              0.000000  \n",
       "max              5.000000  "
      ]
     },
     "execution_count": 10,
     "metadata": {},
     "output_type": "execute_result"
    }
   ],
   "source": [
    "df.describe()"
   ]
  },
  {
   "cell_type": "code",
   "execution_count": 11,
   "metadata": {},
   "outputs": [
    {
     "data": {
      "image/png": "[encoded data removed]",
      "text/plain": [
       "<Figure size 800x800 with 25 Axes>"
      ]
     },
     "metadata": {},
     "output_type": "display_data"
    }
   ],
   "source": [
    "scatter_matrix(df, figsize=(8, 8), alpha=0.8)\n",
    "plt.show()"
   ]
  },
  {
   "cell_type": "markdown",
   "metadata": {},
   "source": [
    "## Análisis exploratorio de datos"
   ]
  },
  {
   "cell_type": "markdown",
   "metadata": {},
   "source": [
    "Vamos a comprobar rápidamente si existen determinados grupos de clientes observando el gráfico de pares."
   ]
  },
  {
   "cell_type": "code",
   "execution_count": 12,
   "metadata": {},
   "outputs": [
    {
     "data": {
      "image/png": "[encoded data removed]",
      "text/plain": [
       "<Figure size 1200x1200 with 30 Axes>"
      ]
     },
     "metadata": {},
     "output_type": "display_data"
    }
   ],
   "source": [
    "g = sns.pairplot(df, kind='hist')\n",
    "g.fig.set_size_inches(12, 12)"
   ]
  },
  {
   "cell_type": "markdown",
   "metadata": {},
   "source": [
    "De acuerdo, es un poco complicado detectar grupos obvios (clústeres) ya que es difícil combinar diversas variables simultáneamente (para analizar distribuciones multivariadas). Ahí es donde LA y ML pueden ser bastante útiles."
   ]
  },
  {
   "cell_type": "markdown",
   "metadata": {},
   "source": [
    "# Tarea 1. Clientes similares"
   ]
  },
  {
   "cell_type": "markdown",
   "metadata": {},
   "source": [
    "En el lenguaje de ML, es necesario desarrollar un procedimiento que devuelva los k vecinos más cercanos (objetos) para un objeto dado basándose en la distancia entre los objetos.\n",
    "Es posible que quieras revisar las siguientes lecciones (capítulo -> lección)- Distancia entre vectores -> Distancia euclidiana\n",
    "- Distancia entre vectores -> Distancia Manhattan\n",
    "\n",
    "Para resolver la tarea, podemos probar diferentes métricas de distancia."
   ]
  },
  {
   "cell_type": "markdown",
   "metadata": {},
   "source": [
    "Escribe una función que devuelva los k vecinos más cercanos para un $n^{th}$ objeto basándose en una métrica de distancia especificada. A la hora de realizar esta tarea no debe tenerse en cuenta el número de prestaciones de seguro recibidas.\n",
    "Puedes utilizar una implementación ya existente del algoritmo kNN de scikit-learn (consulta [el enlace](https://scikit-learn.org/stable/modules/generated/sklearn.neighbors.NearestNeighbors.html#sklearn.neighbors.NearestNeighbors)) o tu propia implementación.\n",
    "Pruébalo para cuatro combinaciones de dos casos- Escalado\n",
    "  - los datos no están escalados\n",
    "  - los datos se escalan con el escalador [MaxAbsScaler](https://scikit-learn.org/stable/modules/generated/sklearn.preprocessing.MaxAbsScaler.html)\n",
    "- Métricas de distancia\n",
    "  - Euclidiana\n",
    "  - Manhattan\n",
    "\n",
    "Responde a estas preguntas:- ¿El hecho de que los datos no estén escalados afecta al algoritmo kNN? Si es así, ¿cómo se manifiesta?- ¿Qué tan similares son los resultados al utilizar la métrica de distancia Manhattan (independientemente del escalado)?"
   ]
  },
  {
   "cell_type": "code",
   "execution_count": 13,
   "metadata": {},
   "outputs": [],
   "source": [
    "feature_names = ['gender', 'age', 'income', 'family_members']"
   ]
  },
  {
   "cell_type": "code",
   "execution_count": 14,
   "metadata": {},
   "outputs": [],
   "source": [
    "def get_knn(df, n, k, metric):\n",
    "    \n",
    "    \"\"\"\n",
    "    Devuelve los k vecinos más cercanos\n",
    "\n",
    "    :param df: DataFrame de pandas utilizado para encontrar objetos similares dentro del mismo lugar\n",
    "    :param n: número de objetos para los que se buscan los vecinos más cercanos    \n",
    "    :param k: número de vecinos más cercanos a devolver\n",
    "    :param métrica: nombre de la métrica de distancia    \"\"\"\n",
    "       \n",
    "    \n",
    "    nbrs = sklearn.neighbors.NearestNeighbors(n_neighbors=k, algorithm='brute', metric=metric)\n",
    "    nbrs=nbrs.fit(df[feature_names])    \n",
    "    nbrs_distances, nbrs_indices = nbrs.kneighbors([df.iloc[n][feature_names]], k, return_distance=True)\n",
    "    \n",
    "    df_res = pd.concat([\n",
    "        df.iloc[nbrs_indices[0]], \n",
    "        pd.DataFrame(nbrs_distances.T, index=nbrs_indices[0], columns=['distance'])\n",
    "        ], axis=1)\n",
    "    \n",
    "    return df_res"
   ]
  },
  {
   "cell_type": "markdown",
   "metadata": {},
   "source": [
    "Escalar datos."
   ]
  },
  {
   "cell_type": "code",
   "execution_count": 15,
   "metadata": {},
   "outputs": [],
   "source": [
    "feature_names = ['gender', 'age', 'income', 'family_members']\n",
    "\n",
    "transformer_mas = sklearn.preprocessing.MaxAbsScaler().fit(df[feature_names].to_numpy())\n",
    "\n",
    "df_scaled = df.copy()\n",
    "df_scaled.loc[:, feature_names] = transformer_mas.transform(df[feature_names].to_numpy())"
   ]
  },
  {
   "cell_type": "code",
   "execution_count": 16,
   "metadata": {},
   "outputs": [],
   "source": [
    "#df_scaled.sample(5)"
   ]
  },
  {
   "cell_type": "markdown",
   "metadata": {},
   "source": [
    "Ahora, vamos a obtener registros similares para uno determinado, para cada combinación"
   ]
  },
  {
   "cell_type": "code",
   "execution_count": 32,
   "metadata": {},
   "outputs": [],
   "source": [
    "k=5"
   ]
  },
  {
   "cell_type": "code",
   "execution_count": 18,
   "metadata": {},
   "outputs": [],
   "source": [
    "n=random.randint(0, len(df_scaled))"
   ]
  },
  {
   "cell_type": "code",
   "execution_count": 26,
   "metadata": {},
   "outputs": [],
   "source": [
    "#metric = \"euclidean\"\n",
    "#modelo=get_knn(df_scaled, n, k=5, metric= metric)\n",
    "#modelo"
   ]
  },
  {
   "cell_type": "code",
   "execution_count": 33,
   "metadata": {},
   "outputs": [
    {
     "name": "stdout",
     "output_type": "stream",
     "text": [
      "metric=euclidean, scaled=False\n",
      "      gender  age   income  family_members  insurance_benefits  distance\n",
      "2549       0   18  35300.0               2                   0  0.000000\n",
      "3176       0   21  35300.0               1                   0  3.162278\n",
      "773        0   21  35300.0               1                   0  3.162278\n",
      "4602       1   23  35300.0               1                   0  5.196152\n",
      "917        0   24  35300.0               2                   0  6.000000\n",
      "\n",
      "metric=manhattan, scaled=False\n",
      "      gender  age   income  family_members  insurance_benefits  distance\n",
      "2549       0   18  35300.0               2                   0       0.0\n",
      "3176       0   21  35300.0               1                   0       4.0\n",
      "773        0   21  35300.0               1                   0       4.0\n",
      "917        0   24  35300.0               2                   0       6.0\n",
      "4602       1   23  35300.0               1                   0       7.0\n",
      "\n",
      "metric=euclidean, scaled=True\n",
      "     original                                                scaled            \\\n",
      "       gender age   income family_members insurance_benefits gender       age   \n",
      "2549        0  18  35300.0              2                  0    0.0  0.276923   \n",
      "4073        0  19  35400.0              2                  0    0.0  0.292308   \n",
      "3426        0  19  35200.0              2                  0    0.0  0.292308   \n",
      "3059        0  18  33400.0              2                  0    0.0  0.276923   \n",
      "4678        0  18  33300.0              2                  0    0.0  0.276923   \n",
      "\n",
      "                                                                \n",
      "        income family_members insurance_benefits      distance  \n",
      "2549  0.446835       0.333333                  0  7.450581e-09  \n",
      "4073  0.448101       0.333333                  0  1.543660e-02  \n",
      "3426  0.445570       0.333333                  0  1.543660e-02  \n",
      "3059  0.422785       0.333333                  0  2.405063e-02  \n",
      "4678  0.421519       0.333333                  0  2.531646e-02  \n",
      "\n",
      "metric=manhattan, scaled=True\n",
      "     original                                                scaled            \\\n",
      "       gender age   income family_members insurance_benefits gender       age   \n",
      "2549        0  18  35300.0              2                  0    0.0  0.276923   \n",
      "3426        0  19  35200.0              2                  0    0.0  0.292308   \n",
      "4073        0  19  35400.0              2                  0    0.0  0.292308   \n",
      "3059        0  18  33400.0              2                  0    0.0  0.276923   \n",
      "4678        0  18  33300.0              2                  0    0.0  0.276923   \n",
      "\n",
      "                                                            \n",
      "        income family_members insurance_benefits  distance  \n",
      "2549  0.446835       0.333333                  0  0.000000  \n",
      "3426  0.445570       0.333333                  0  0.016650  \n",
      "4073  0.448101       0.333333                  0  0.016650  \n",
      "3059  0.422785       0.333333                  0  0.024051  \n",
      "4678  0.421519       0.333333                  0  0.025316  \n",
      "\n"
     ]
    }
   ],
   "source": [
    "for df_source, metric in itertools.product([df, df_scaled], ['euclidean', 'manhattan']):\n",
    "    if df_source is not df_scaled:\n",
    "        is_scaled = False\n",
    "    else:\n",
    "        is_scaled = True\n",
    "    print(f'metric={metric}, scaled={is_scaled}')\n",
    "    modelo = get_knn(df_source, n=n, k=5, metric=metric)\n",
    "    if is_scaled:\n",
    "        modelo = pd.concat([df. loc[modelo.index], modelo], axis=1, keys=['original', 'scaled'])\n",
    "    print(modelo)\n",
    "    print()"
   ]
  },
  {
   "cell_type": "markdown",
   "metadata": {},
   "source": [
    "Respuestas a las preguntas"
   ]
  },
  {
   "cell_type": "markdown",
   "metadata": {},
   "source": [
    "**¿El hecho de que los datos no estén escalados afecta al algoritmo kNN? Si es así, ¿cómo se manifiesta?** \n",
    "los valores son similares en ambos casos. En el caso de los valores no escalados, el modelo considera las variables en igual importancia, sin embargo, en el caso de los escalados, las variables de ingreson y miembros tienen mas peso, como se esperaria. "
   ]
  },
  {
   "cell_type": "markdown",
   "metadata": {},
   "source": [
    "**¿Qué tan similares son los resultados al utilizar la métrica de distancia Manhattan (independientemente del escalado)?** \n",
    "\n",
    "Escribe tu respuesta aquí."
   ]
  },
  {
   "cell_type": "markdown",
   "metadata": {},
   "source": [
    "# Tarea 2. ¿Es probable que el cliente reciba una prestación del seguro?"
   ]
  },
  {
   "cell_type": "markdown",
   "metadata": {},
   "source": [
    "En términos de machine learning podemos considerarlo como una tarea de clasificación binaria."
   ]
  },
  {
   "cell_type": "markdown",
   "metadata": {},
   "source": [
    "Con el valor de `insurance_benefits` superior a cero como objetivo, evalúa si el enfoque de clasificación kNN puede funcionar mejor que el modelo dummy.\n",
    "Instrucciones:\n",
    "- Construye un clasificador basado en KNN y mide su calidad con la métrica F1 para k=1...10 tanto para los datos originales como para los escalados. Sería interesante observar cómo k puede influir en la métrica de evaluación y si el escalado de los datos provoca alguna diferencia. Puedes utilizar una implementación ya existente del algoritmo de clasificación kNN de scikit-learn (consulta [el enlace](https://scikit-learn.org/stable/modules/generated/sklearn.neighbors.KNeighborsClassifier.html)) o tu propia implementación.- Construye un modelo dummy que, en este caso, es simplemente un modelo aleatorio. Debería devolver \"1\" con cierta probabilidad. Probemos el modelo con cuatro valores de probabilidad: 0, la probabilidad de pagar cualquier prestación del seguro, 0.5, 1.\n",
    "La probabilidad de pagar cualquier prestación del seguro puede definirse como\n",
    "$$\n",
    "P\\{\\text{prestación de seguro recibida}\\}=\\frac{\\text{número de clientes que han recibido alguna prestación de seguro}}{\\text{número total de clientes}}.\n",
    "$$\n",
    "\n",
    "Divide todos los datos correspondientes a las etapas de entrenamiento/prueba respetando la proporción 70:30."
   ]
  },
  {
   "cell_type": "code",
   "execution_count": null,
   "metadata": {},
   "outputs": [],
   "source": [
    "# сalcula el objetivo\n",
    "df['insurance_benefits_received'] = #<tu código aquí>"
   ]
  },
  {
   "cell_type": "code",
   "execution_count": null,
   "metadata": {},
   "outputs": [],
   "source": [
    "# comprueba el desequilibrio de clases con value_counts()\n",
    "\n",
    "# <tu código aquí>"
   ]
  },
  {
   "cell_type": "code",
   "execution_count": null,
   "metadata": {},
   "outputs": [],
   "source": [
    "def eval_classifier(y_true, y_pred):\n",
    "    \n",
    "    f1_score = sklearn.metrics.f1_score(y_true, y_pred)\n",
    "    print(f'F1: {f1_score:.2f}')\n",
    "    \n",
    "# si tienes algún problema con la siguiente línea, reinicia el kernel y ejecuta el cuaderno de nuevo    cm = sklearn.metrics.confusion_matrix(y_true, y_pred, normalize='all')\n",
    "    print('Matriz de confusión')\n",
    "    print(cm)"
   ]
  },
  {
   "cell_type": "code",
   "execution_count": null,
   "metadata": {},
   "outputs": [],
   "source": [
    "# generar la salida de un modelo aleatorio\n",
    "\n",
    "def rnd_model_predict(P, size, seed=42):\n",
    "\n",
    "    rng = np.random.default_rng(seed=seed)\n",
    "    return rng.binomial(n=1, p=P, size=size)"
   ]
  },
  {
   "cell_type": "code",
   "execution_count": null,
   "metadata": {},
   "outputs": [],
   "source": [
    "for P in [0, df['insurance_benefits_received'].sum() / len(df), 0.5, 1]:\n",
    "\n",
    "    print(f'La probabilidad: {P:.2f}')\n",
    "    y_pred_rnd = # <tu código aquí> \n",
    "        \n",
    "    eval_classifier(df['insurance_benefits_received'], y_pred_rnd)\n",
    "    \n",
    "    print()"
   ]
  },
  {
   "cell_type": "code",
   "execution_count": null,
   "metadata": {},
   "outputs": [],
   "source": []
  },
  {
   "cell_type": "code",
   "execution_count": null,
   "metadata": {},
   "outputs": [],
   "source": []
  },
  {
   "cell_type": "code",
   "execution_count": null,
   "metadata": {},
   "outputs": [],
   "source": []
  },
  {
   "cell_type": "markdown",
   "metadata": {},
   "source": [
    "# Tarea 3. Regresión (con regresión lineal)"
   ]
  },
  {
   "cell_type": "markdown",
   "metadata": {},
   "source": [
    "Con `insurance_benefits` como objetivo, evalúa cuál sería la RECM de un modelo de regresión lineal."
   ]
  },
  {
   "cell_type": "markdown",
   "metadata": {},
   "source": [
    "Construye tu propia implementación de regresión lineal. Para ello, recuerda cómo está formulada la solución de la tarea de regresión lineal en términos de LA. Comprueba la RECM tanto para los datos originales como para los escalados. ¿Puedes ver alguna diferencia en la RECM con respecto a estos dos casos?\n",
    "\n",
    "Denotemos- $X$: matriz de características; cada fila es un caso, cada columna es una característica, la primera columna está formada por unidades- $y$ — objetivo (un vector)- $\\hat{y}$ — objetivo estimado (un vector)- $w$ — vector de pesos\n",
    "La tarea de regresión lineal en el lenguaje de las matrices puede formularse así:\n",
    "$$\n",
    "y = Xw\n",
    "$$\n",
    "\n",
    "El objetivo de entrenamiento es entonces encontrar esa $w$ w que minimice la distancia L2 (ECM) entre $Xw$ y $y$:\n",
    "\n",
    "$$\n",
    "\\min_w d_2(Xw, y) \\quad \\text{or} \\quad \\min_w \\text{MSE}(Xw, y)\n",
    "$$\n",
    "\n",
    "Parece que hay una solución analítica para lo anteriormente expuesto:\n",
    "$$\n",
    "w = (X^T X)^{-1} X^T y\n",
    "$$\n",
    "\n",
    "La fórmula anterior puede servir para encontrar los pesos $w$ y estos últimos pueden utilizarse para calcular los valores predichos\n",
    "$$\n",
    "\\hat{y} = X_{val}w\n",
    "$$"
   ]
  },
  {
   "cell_type": "markdown",
   "metadata": {},
   "source": [
    "Divide todos los datos correspondientes a las etapas de entrenamiento/prueba respetando la proporción 70:30. Utiliza la métrica RECM para evaluar el modelo."
   ]
  },
  {
   "cell_type": "code",
   "execution_count": null,
   "metadata": {},
   "outputs": [],
   "source": [
    "class MyLinearRegression:\n",
    "    \n",
    "    def __init__(self):\n",
    "        \n",
    "        self.weights = None\n",
    "    \n",
    "    def fit(self, X, y):\n",
    "        \n",
    "        # añadir las unidades\n",
    "        X2 = np.append(np.ones([len(X), 1]), X, axis=1)\n",
    "        self.weights = # <tu código aquí>\n",
    "\n",
    "    def predict(self, X):\n",
    "        \n",
    "        # añadir las unidades\n",
    "        X2 = # <tu código aquí>\n",
    "        y_pred = # <tu código aquí>\n",
    "        \n",
    "        return y_pred"
   ]
  },
  {
   "cell_type": "code",
   "execution_count": null,
   "metadata": {},
   "outputs": [],
   "source": [
    "def eval_regressor(y_true, y_pred):\n",
    "    \n",
    "    rmse = math.sqrt(sklearn.metrics.mean_squared_error(y_true, y_pred))\n",
    "    print(f'RMSE: {rmse:.2f}')\n",
    "    \n",
    "    r2_score = math.sqrt(sklearn.metrics.r2_score(y_true, y_pred))\n",
    "    print(f'R2: {r2_score:.2f}')    "
   ]
  },
  {
   "cell_type": "code",
   "execution_count": null,
   "metadata": {},
   "outputs": [],
   "source": []
  },
  {
   "cell_type": "code",
   "execution_count": null,
   "metadata": {},
   "outputs": [],
   "source": [
    "X = df[['age', 'gender', 'income', 'family_members']].to_numpy()\n",
    "y = df['insurance_benefits'].to_numpy()\n",
    "\n",
    "X_train, X_test, y_train, y_test = train_test_split(X, y, test_size=0.3, random_state=12345)\n",
    "\n",
    "lr = MyLinearRegression()\n",
    "\n",
    "lr.fit(X_train, y_train)\n",
    "print(lr.weights)\n",
    "\n",
    "y_test_pred = lr.predict(X_test)\n",
    "eval_regressor(y_test, y_test_pred)"
   ]
  },
  {
   "cell_type": "code",
   "execution_count": null,
   "metadata": {},
   "outputs": [],
   "source": []
  },
  {
   "cell_type": "code",
   "execution_count": null,
   "metadata": {},
   "outputs": [],
   "source": []
  },
  {
   "cell_type": "code",
   "execution_count": null,
   "metadata": {},
   "outputs": [],
   "source": []
  },
  {
   "cell_type": "markdown",
   "metadata": {},
   "source": [
    "# Tarea 4. Ofuscar datos"
   ]
  },
  {
   "cell_type": "markdown",
   "metadata": {},
   "source": [
    "Lo mejor es ofuscar los datos multiplicando las características numéricas (recuerda que se pueden ver como la matriz $X$) por una matriz invertible $P$. \n",
    "\n",
    "$$\n",
    "X' = X \\times P\n",
    "$$\n",
    "\n",
    "Trata de hacerlo y comprueba cómo quedarán los valores de las características después de la transformación. Por cierto, la propiedad de invertibilidad es importante aquí, así que asegúrate de que $P$ sea realmente invertible.\n",
    "\n",
    "Puedes revisar la lección 'Matrices y operaciones matriciales -> Multiplicación de matrices' para recordar la regla de multiplicación de matrices y su implementación con NumPy."
   ]
  },
  {
   "cell_type": "code",
   "execution_count": null,
   "metadata": {},
   "outputs": [],
   "source": [
    "personal_info_column_list = ['gender', 'age', 'income', 'family_members']\n",
    "df_pn = df[personal_info_column_list]"
   ]
  },
  {
   "cell_type": "code",
   "execution_count": null,
   "metadata": {},
   "outputs": [],
   "source": [
    "X = df_pn.to_numpy()"
   ]
  },
  {
   "cell_type": "markdown",
   "metadata": {},
   "source": [
    "Generar una matriz aleatoria $P$."
   ]
  },
  {
   "cell_type": "code",
   "execution_count": null,
   "metadata": {},
   "outputs": [],
   "source": [
    "rng = np.random.default_rng(seed=42)\n",
    "P = rng.random(size=(X.shape[1], X.shape[1]))"
   ]
  },
  {
   "cell_type": "markdown",
   "metadata": {},
   "source": [
    "Comprobar que la matriz P sea invertible"
   ]
  },
  {
   "cell_type": "code",
   "execution_count": null,
   "metadata": {},
   "outputs": [],
   "source": []
  },
  {
   "cell_type": "markdown",
   "metadata": {},
   "source": [
    "¿Puedes adivinar la edad o los ingresos de los clientes después de la transformación?"
   ]
  },
  {
   "cell_type": "code",
   "execution_count": null,
   "metadata": {},
   "outputs": [],
   "source": []
  },
  {
   "cell_type": "markdown",
   "metadata": {},
   "source": [
    "¿Puedes recuperar los datos originales de $X'$ si conoces $P$? Intenta comprobarlo a través de los cálculos moviendo $P$ del lado derecho de la fórmula anterior al izquierdo. En este caso las reglas de la multiplicación matricial son realmente útiles"
   ]
  },
  {
   "cell_type": "code",
   "execution_count": null,
   "metadata": {},
   "outputs": [],
   "source": []
  },
  {
   "cell_type": "markdown",
   "metadata": {},
   "source": [
    "Muestra los tres casos para algunos clientes- Datos originales\n",
    "- El que está transformado- El que está invertido (recuperado)"
   ]
  },
  {
   "cell_type": "code",
   "execution_count": null,
   "metadata": {},
   "outputs": [],
   "source": []
  },
  {
   "cell_type": "markdown",
   "metadata": {},
   "source": [
    "Seguramente puedes ver que algunos valores no son exactamente iguales a los de los datos originales. ¿Cuál podría ser la razón de ello?"
   ]
  },
  {
   "cell_type": "code",
   "execution_count": null,
   "metadata": {},
   "outputs": [],
   "source": []
  },
  {
   "cell_type": "markdown",
   "metadata": {},
   "source": [
    "## Prueba de que la ofuscación de datos puede funcionar con regresión lineal"
   ]
  },
  {
   "cell_type": "markdown",
   "metadata": {},
   "source": [
    "En este proyecto la tarea de regresión se ha resuelto con la regresión lineal. Tu siguiente tarea es demostrar _analytically_ que el método de ofuscación no afectará a la regresión lineal en términos de valores predichos, es decir, que sus valores seguirán siendo los mismos. ¿Lo puedes creer? Pues no hace falta que lo creas, ¡tienes que que demostrarlo!"
   ]
  },
  {
   "cell_type": "markdown",
   "metadata": {},
   "source": [
    "Entonces, los datos están ofuscados y ahora tenemos $X \\times P$ en lugar de tener solo $X$. En consecuencia, hay otros pesos $w_P$ como\n",
    "$$\n",
    "w = (X^T X)^{-1} X^T y \\quad \\Rightarrow \\quad w_P = [(XP)^T XP]^{-1} (XP)^T y\n",
    "$$\n",
    "\n",
    "¿Cómo se relacionarían $w$ y $w_P$ si simplificáramos la fórmula de $w_P$ anterior? \n",
    "\n",
    "¿Cuáles serían los valores predichos con $w_P$? \n",
    "\n",
    "¿Qué significa esto para la calidad de la regresión lineal si esta se mide mediante la RECM?\n",
    "Revisa el Apéndice B Propiedades de las matrices al final del cuaderno. ¡Allí encontrarás fórmulas muy útiles!\n",
    "\n",
    "No es necesario escribir código en esta sección, basta con una explicación analítica."
   ]
  },
  {
   "cell_type": "markdown",
   "metadata": {},
   "source": [
    "**Respuesta**"
   ]
  },
  {
   "cell_type": "markdown",
   "metadata": {},
   "source": []
  },
  {
   "cell_type": "markdown",
   "metadata": {},
   "source": [
    "**Prueba analítica**"
   ]
  },
  {
   "cell_type": "markdown",
   "metadata": {},
   "source": []
  },
  {
   "cell_type": "markdown",
   "metadata": {},
   "source": [
    "## Prueba de regresión lineal con ofuscación de datos"
   ]
  },
  {
   "cell_type": "markdown",
   "metadata": {},
   "source": [
    "Ahora, probemos que la regresión lineal pueda funcionar, en términos computacionales, con la transformación de ofuscación elegida.\n",
    "Construye un procedimiento o una clase que ejecute la regresión lineal opcionalmente con la ofuscación. Puedes usar una implementación de regresión lineal de scikit-learn o tu propia implementación.\n",
    "Ejecuta la regresión lineal para los datos originales y los ofuscados, compara los valores predichos y los valores de las métricas RMSE y $R^2$. ¿Hay alguna diferencia?"
   ]
  },
  {
   "cell_type": "markdown",
   "metadata": {},
   "source": [
    "**Procedimiento**\n",
    "\n",
    "- Crea una matriz cuadrada $P$ de números aleatorios.- Comprueba que sea invertible. Si no lo es, repite el primer paso hasta obtener una matriz invertible.- <¡ tu comentario aquí !>\n",
    "- Utiliza $XP$ como la nueva matriz de características"
   ]
  },
  {
   "cell_type": "code",
   "execution_count": null,
   "metadata": {},
   "outputs": [],
   "source": []
  },
  {
   "cell_type": "code",
   "execution_count": null,
   "metadata": {},
   "outputs": [],
   "source": []
  },
  {
   "cell_type": "code",
   "execution_count": null,
   "metadata": {},
   "outputs": [],
   "source": []
  },
  {
   "cell_type": "markdown",
   "metadata": {},
   "source": [
    "# Conclusiones"
   ]
  },
  {
   "cell_type": "code",
   "execution_count": null,
   "metadata": {},
   "outputs": [],
   "source": []
  },
  {
   "cell_type": "code",
   "execution_count": null,
   "metadata": {},
   "outputs": [],
   "source": []
  },
  {
   "cell_type": "code",
   "execution_count": null,
   "metadata": {},
   "outputs": [],
   "source": []
  },
  {
   "cell_type": "markdown",
   "metadata": {},
   "source": [
    "# Lista de control"
   ]
  },
  {
   "cell_type": "markdown",
   "metadata": {},
   "source": [
    "Escribe 'x' para verificar. Luego presiona Shift+Enter."
   ]
  },
  {
   "cell_type": "markdown",
   "metadata": {},
   "source": [
    "- [x]  Jupyter Notebook está abierto\n",
    "- [ ]  El código no tiene errores- [ ]  Las celdas están ordenadas de acuerdo con la lógica y el orden de ejecución\n",
    "- [ ]  Se ha realizado la tarea 1\n",
    "    - [ ]  Está presente el procedimiento que puede devolver k clientes similares para un cliente determinado\n",
    "    - [ ]  Se probó el procedimiento para las cuatro combinaciones propuestas    - [ ]  Se respondieron las preguntas sobre la escala/distancia- [ ]  Se ha realizado la tarea 2\n",
    "    - [ ]  Se construyó y probó el modelo de clasificación aleatoria para todos los niveles de probabilidad    - [ ]  Se construyó y probó el modelo de clasificación kNN tanto para los datos originales como para los escalados. Se calculó la métrica F1.- [ ]  Se ha realizado la tarea 3\n",
    "    - [ ]  Se implementó la solución de regresión lineal mediante operaciones matriciales    - [ ]  Se calculó la RECM para la solución implementada- [ ]  Se ha realizado la tarea 4\n",
    "    - [ ]  Se ofuscaron los datos mediante una matriz aleatoria e invertible P    - [ ]  Se recuperaron los datos ofuscados y se han mostrado algunos ejemplos    - [ ]  Se proporcionó la prueba analítica de que la transformación no afecta a la RECM    - [ ]  Se proporcionó la prueba computacional de que la transformación no afecta a la RECM- [ ]  Se han sacado conclusiones"
   ]
  },
  {
   "cell_type": "markdown",
   "metadata": {},
   "source": [
    "# Apéndices\n",
    "\n",
    "## Apéndice A: Escribir fórmulas en los cuadernos de Jupyter"
   ]
  },
  {
   "cell_type": "markdown",
   "metadata": {},
   "source": [
    "Puedes escribir fórmulas en tu Jupyter Notebook utilizando un lenguaje de marcado proporcionado por un sistema de publicación de alta calidad llamado $\\LaTeX$ (se pronuncia como \"Lah-tech\"). Las fórmulas se verán como las de los libros de texto.\n",
    "\n",
    "Para incorporar una fórmula a un texto, pon el signo de dólar (\\\\$) antes y después del texto de la fórmula, por ejemplo: $\\frac{1}{2} \\times \\frac{3}{2} = \\frac{3}{4}$ or $y = x^2, x \\ge 1$.\n",
    "\n",
    "Si una fórmula debe estar en el mismo párrafo, pon el doble signo de dólar (\\\\$\\\\$) antes y después del texto de la fórmula, por ejemplo:\n",
    "$$\n",
    "\\bar{x} = \\frac{1}{n}\\sum_{i=1}^{n} x_i.\n",
    "$$\n",
    "\n",
    "El lenguaje de marcado de [LaTeX](https://es.wikipedia.org/wiki/LaTeX) es muy popular entre las personas que utilizan fórmulas en sus artículos, libros y textos. Puede resultar complicado, pero sus fundamentos son sencillos. Consulta esta [ficha de ayuda](http://tug.ctan.org/info/undergradmath/undergradmath.pdf) (materiales en inglés) de dos páginas para aprender a componer las fórmulas más comunes."
   ]
  },
  {
   "cell_type": "markdown",
   "metadata": {},
   "source": [
    "## Apéndice B: Propiedades de las matrices"
   ]
  },
  {
   "cell_type": "markdown",
   "metadata": {},
   "source": [
    "Las matrices tienen muchas propiedades en cuanto al álgebra lineal. Aquí se enumeran algunas de ellas que pueden ayudarte a la hora de realizar la prueba analítica de este proyecto."
   ]
  },
  {
   "cell_type": "markdown",
   "metadata": {},
   "source": [
    "<table>\n",
    "<tr>\n",
    "<td>Distributividad</td><td>$A(B+C)=AB+AC$</td>\n",
    "</tr>\n",
    "<tr>\n",
    "<td>No conmutatividad</td><td>$AB \\neq BA$</td>\n",
    "</tr>\n",
    "<tr>\n",
    "<td>Propiedad asociativa de la multiplicación</td><td>$(AB)C = A(BC)$</td>\n",
    "</tr>\n",
    "<tr>\n",
    "<td>Propiedad de identidad multiplicativa</td><td>$IA = AI = A$</td>\n",
    "</tr>\n",
    "<tr>\n",
    "<td></td><td>$A^{-1}A = AA^{-1} = I$\n",
    "</td>\n",
    "</tr>    \n",
    "<tr>\n",
    "<td></td><td>$(AB)^{-1} = B^{-1}A^{-1}$</td>\n",
    "</tr>    \n",
    "<tr>\n",
    "<td>Reversibilidad de la transposición de un producto de matrices,</td><td>$(AB)^T = B^TA^T$</td>\n",
    "</tr>    \n",
    "</table>"
   ]
  },
  {
   "cell_type": "code",
   "execution_count": null,
   "metadata": {},
   "outputs": [],
   "source": []
  }
 ],
 "metadata": {
  "ExecuteTimeLog": [
   {
    "duration": 2368,
    "start_time": "2025-01-23T02:59:56.954Z"
   },
   {
    "duration": 2118,
    "start_time": "2025-01-23T03:00:16.248Z"
   },
   {
    "duration": 2645,
    "start_time": "2025-01-23T03:00:18.368Z"
   },
   {
    "duration": 14,
    "start_time": "2025-01-23T03:00:21.015Z"
   },
   {
    "duration": 3,
    "start_time": "2025-01-23T03:00:21.031Z"
   },
   {
    "duration": 10,
    "start_time": "2025-01-23T03:00:21.037Z"
   },
   {
    "duration": 9,
    "start_time": "2025-01-23T03:00:21.048Z"
   },
   {
    "duration": 3,
    "start_time": "2025-01-23T03:00:21.058Z"
   },
   {
    "duration": 2,
    "start_time": "2025-01-23T03:00:21.063Z"
   },
   {
    "duration": 2,
    "start_time": "2025-01-23T03:00:21.066Z"
   },
   {
    "duration": 2538,
    "start_time": "2025-01-23T03:00:21.071Z"
   },
   {
    "duration": 2,
    "start_time": "2025-01-23T03:00:23.611Z"
   },
   {
    "duration": 6,
    "start_time": "2025-01-23T03:00:23.615Z"
   },
   {
    "duration": 0,
    "start_time": "2025-01-23T03:00:23.622Z"
   },
   {
    "duration": 0,
    "start_time": "2025-01-23T03:00:23.624Z"
   },
   {
    "duration": 0,
    "start_time": "2025-01-23T03:00:23.625Z"
   },
   {
    "duration": 0,
    "start_time": "2025-01-23T03:00:23.627Z"
   },
   {
    "duration": 0,
    "start_time": "2025-01-23T03:00:23.629Z"
   },
   {
    "duration": 0,
    "start_time": "2025-01-23T03:00:23.630Z"
   },
   {
    "duration": 0,
    "start_time": "2025-01-23T03:00:23.631Z"
   },
   {
    "duration": 0,
    "start_time": "2025-01-23T03:00:23.633Z"
   },
   {
    "duration": 0,
    "start_time": "2025-01-23T03:00:23.634Z"
   },
   {
    "duration": 0,
    "start_time": "2025-01-23T03:00:23.636Z"
   },
   {
    "duration": 0,
    "start_time": "2025-01-23T03:00:23.637Z"
   },
   {
    "duration": 0,
    "start_time": "2025-01-23T03:00:23.639Z"
   },
   {
    "duration": 0,
    "start_time": "2025-01-23T03:00:23.640Z"
   },
   {
    "duration": 7,
    "start_time": "2025-01-23T03:03:39.584Z"
   },
   {
    "duration": 3,
    "start_time": "2025-01-23T03:04:02.900Z"
   },
   {
    "duration": 1809,
    "start_time": "2025-01-23T03:04:17.584Z"
   },
   {
    "duration": 1800,
    "start_time": "2025-01-23T03:04:33.355Z"
   },
   {
    "duration": 953,
    "start_time": "2025-01-23T03:04:35.157Z"
   },
   {
    "duration": 10,
    "start_time": "2025-01-23T03:04:36.112Z"
   },
   {
    "duration": 4,
    "start_time": "2025-01-23T03:04:36.125Z"
   },
   {
    "duration": 12,
    "start_time": "2025-01-23T03:04:36.131Z"
   },
   {
    "duration": 8,
    "start_time": "2025-01-23T03:04:36.145Z"
   },
   {
    "duration": 3,
    "start_time": "2025-01-23T03:04:36.154Z"
   },
   {
    "duration": 3,
    "start_time": "2025-01-23T03:04:36.158Z"
   },
   {
    "duration": 3,
    "start_time": "2025-01-23T03:04:36.162Z"
   },
   {
    "duration": 2613,
    "start_time": "2025-01-23T03:04:36.168Z"
   },
   {
    "duration": 3,
    "start_time": "2025-01-23T03:04:38.783Z"
   },
   {
    "duration": 4,
    "start_time": "2025-01-23T03:04:38.788Z"
   },
   {
    "duration": 0,
    "start_time": "2025-01-23T03:04:38.793Z"
   },
   {
    "duration": 0,
    "start_time": "2025-01-23T03:04:38.795Z"
   },
   {
    "duration": 0,
    "start_time": "2025-01-23T03:04:38.796Z"
   },
   {
    "duration": 0,
    "start_time": "2025-01-23T03:04:38.797Z"
   },
   {
    "duration": 0,
    "start_time": "2025-01-23T03:04:38.809Z"
   },
   {
    "duration": 0,
    "start_time": "2025-01-23T03:04:38.810Z"
   },
   {
    "duration": 0,
    "start_time": "2025-01-23T03:04:38.812Z"
   },
   {
    "duration": 0,
    "start_time": "2025-01-23T03:04:38.813Z"
   },
   {
    "duration": 0,
    "start_time": "2025-01-23T03:04:38.814Z"
   },
   {
    "duration": 0,
    "start_time": "2025-01-23T03:04:38.816Z"
   },
   {
    "duration": 0,
    "start_time": "2025-01-23T03:04:38.817Z"
   },
   {
    "duration": 0,
    "start_time": "2025-01-23T03:04:38.819Z"
   },
   {
    "duration": 0,
    "start_time": "2025-01-23T03:04:38.820Z"
   },
   {
    "duration": 1783,
    "start_time": "2025-01-23T03:04:40.413Z"
   },
   {
    "duration": 1574,
    "start_time": "2025-01-23T03:04:58.958Z"
   },
   {
    "duration": 4,
    "start_time": "2025-01-23T03:05:17.550Z"
   },
   {
    "duration": 2137,
    "start_time": "2025-01-23T03:05:38.609Z"
   },
   {
    "duration": 3,
    "start_time": "2025-01-23T03:06:40.102Z"
   },
   {
    "duration": 8,
    "start_time": "2025-01-23T03:06:43.139Z"
   },
   {
    "duration": 2597,
    "start_time": "2025-01-23T23:20:14.412Z"
   },
   {
    "duration": 2838,
    "start_time": "2025-01-23T23:20:17.011Z"
   },
   {
    "duration": 15,
    "start_time": "2025-01-23T23:20:19.851Z"
   },
   {
    "duration": 3,
    "start_time": "2025-01-23T23:20:19.868Z"
   },
   {
    "duration": 37,
    "start_time": "2025-01-23T23:20:19.873Z"
   },
   {
    "duration": 9,
    "start_time": "2025-01-23T23:20:19.912Z"
   },
   {
    "duration": 3,
    "start_time": "2025-01-23T23:20:19.922Z"
   },
   {
    "duration": 2,
    "start_time": "2025-01-23T23:20:19.926Z"
   },
   {
    "duration": 3,
    "start_time": "2025-01-23T23:20:19.930Z"
   },
   {
    "duration": 2601,
    "start_time": "2025-01-23T23:20:19.934Z"
   },
   {
    "duration": 2,
    "start_time": "2025-01-23T23:20:22.537Z"
   },
   {
    "duration": 5,
    "start_time": "2025-01-23T23:20:22.541Z"
   },
   {
    "duration": 0,
    "start_time": "2025-01-23T23:20:22.549Z"
   },
   {
    "duration": 0,
    "start_time": "2025-01-23T23:20:22.551Z"
   },
   {
    "duration": 0,
    "start_time": "2025-01-23T23:20:22.552Z"
   },
   {
    "duration": 0,
    "start_time": "2025-01-23T23:20:22.553Z"
   },
   {
    "duration": 0,
    "start_time": "2025-01-23T23:20:22.554Z"
   },
   {
    "duration": 0,
    "start_time": "2025-01-23T23:20:22.555Z"
   },
   {
    "duration": 0,
    "start_time": "2025-01-23T23:20:22.556Z"
   },
   {
    "duration": 0,
    "start_time": "2025-01-23T23:20:22.652Z"
   },
   {
    "duration": 0,
    "start_time": "2025-01-23T23:20:22.653Z"
   },
   {
    "duration": 0,
    "start_time": "2025-01-23T23:20:22.654Z"
   },
   {
    "duration": 0,
    "start_time": "2025-01-23T23:20:22.655Z"
   },
   {
    "duration": 0,
    "start_time": "2025-01-23T23:20:22.656Z"
   },
   {
    "duration": 0,
    "start_time": "2025-01-23T23:20:22.657Z"
   },
   {
    "duration": 226,
    "start_time": "2025-01-23T23:21:39.000Z"
   },
   {
    "duration": 453,
    "start_time": "2025-01-23T23:21:50.681Z"
   },
   {
    "duration": 15,
    "start_time": "2025-01-23T23:22:00.359Z"
   },
   {
    "duration": 14,
    "start_time": "2025-01-23T23:22:14.233Z"
   },
   {
    "duration": 3,
    "start_time": "2025-01-23T23:26:04.992Z"
   },
   {
    "duration": 8,
    "start_time": "2025-01-23T23:26:20.156Z"
   },
   {
    "duration": 17,
    "start_time": "2025-01-23T23:30:56.846Z"
   },
   {
    "duration": 2616,
    "start_time": "2025-01-23T23:40:13.905Z"
   },
   {
    "duration": 1917,
    "start_time": "2025-01-23T23:41:39.860Z"
   },
   {
    "duration": 3,
    "start_time": "2025-01-23T23:42:09.516Z"
   },
   {
    "duration": 2068,
    "start_time": "2025-01-23T23:42:16.703Z"
   },
   {
    "duration": 15,
    "start_time": "2025-01-23T23:45:23.827Z"
   },
   {
    "duration": 3,
    "start_time": "2025-01-23T23:45:30.958Z"
   },
   {
    "duration": 2027,
    "start_time": "2025-01-23T23:45:35.970Z"
   },
   {
    "duration": 1017,
    "start_time": "2025-01-23T23:46:54.533Z"
   },
   {
    "duration": 6,
    "start_time": "2025-01-25T19:52:24.772Z"
   },
   {
    "duration": 4,
    "start_time": "2025-01-25T19:52:58.813Z"
   },
   {
    "duration": 3,
    "start_time": "2025-01-25T19:55:05.829Z"
   },
   {
    "duration": 3,
    "start_time": "2025-01-25T19:55:21.704Z"
   },
   {
    "duration": 165,
    "start_time": "2025-01-25T19:55:34.467Z"
   },
   {
    "duration": 2411,
    "start_time": "2025-01-25T19:55:50.483Z"
   },
   {
    "duration": 2707,
    "start_time": "2025-01-25T19:55:52.897Z"
   },
   {
    "duration": 12,
    "start_time": "2025-01-25T19:55:55.606Z"
   },
   {
    "duration": 3,
    "start_time": "2025-01-25T19:55:55.620Z"
   },
   {
    "duration": 15,
    "start_time": "2025-01-25T19:55:55.625Z"
   },
   {
    "duration": 10,
    "start_time": "2025-01-25T19:55:55.641Z"
   },
   {
    "duration": 5,
    "start_time": "2025-01-25T19:55:55.652Z"
   },
   {
    "duration": 8,
    "start_time": "2025-01-25T19:55:55.658Z"
   },
   {
    "duration": 2,
    "start_time": "2025-01-25T19:55:55.668Z"
   },
   {
    "duration": 16,
    "start_time": "2025-01-25T19:55:55.672Z"
   },
   {
    "duration": 1146,
    "start_time": "2025-01-25T19:55:55.690Z"
   },
   {
    "duration": 2637,
    "start_time": "2025-01-25T19:55:56.838Z"
   },
   {
    "duration": 4,
    "start_time": "2025-01-25T19:55:59.478Z"
   },
   {
    "duration": 3,
    "start_time": "2025-01-25T19:55:59.485Z"
   },
   {
    "duration": 8,
    "start_time": "2025-01-25T19:55:59.490Z"
   },
   {
    "duration": 8,
    "start_time": "2025-01-25T19:55:59.500Z"
   },
   {
    "duration": 24,
    "start_time": "2025-01-25T19:55:59.509Z"
   },
   {
    "duration": 0,
    "start_time": "2025-01-25T19:55:59.535Z"
   },
   {
    "duration": 0,
    "start_time": "2025-01-25T19:55:59.536Z"
   },
   {
    "duration": 0,
    "start_time": "2025-01-25T19:55:59.538Z"
   },
   {
    "duration": 0,
    "start_time": "2025-01-25T19:55:59.539Z"
   },
   {
    "duration": 0,
    "start_time": "2025-01-25T19:55:59.541Z"
   },
   {
    "duration": 0,
    "start_time": "2025-01-25T19:55:59.542Z"
   },
   {
    "duration": 0,
    "start_time": "2025-01-25T19:55:59.544Z"
   },
   {
    "duration": 0,
    "start_time": "2025-01-25T19:55:59.545Z"
   },
   {
    "duration": 0,
    "start_time": "2025-01-25T19:55:59.546Z"
   },
   {
    "duration": 0,
    "start_time": "2025-01-25T19:55:59.547Z"
   },
   {
    "duration": 5,
    "start_time": "2025-01-25T19:57:55.920Z"
   },
   {
    "duration": 3,
    "start_time": "2025-01-25T20:06:00.430Z"
   },
   {
    "duration": 355,
    "start_time": "2025-01-25T20:06:10.070Z"
   },
   {
    "duration": 14,
    "start_time": "2025-01-25T20:07:30.430Z"
   },
   {
    "duration": 19,
    "start_time": "2025-01-25T20:10:48.584Z"
   },
   {
    "duration": 16,
    "start_time": "2025-01-25T20:10:55.068Z"
   },
   {
    "duration": 14,
    "start_time": "2025-01-25T20:16:54.833Z"
   },
   {
    "duration": 26,
    "start_time": "2025-01-25T20:17:02.238Z"
   },
   {
    "duration": 19,
    "start_time": "2025-01-25T20:18:41.125Z"
   },
   {
    "duration": 13,
    "start_time": "2025-01-25T20:19:54.829Z"
   },
   {
    "duration": 14,
    "start_time": "2025-01-25T20:23:06.541Z"
   },
   {
    "duration": 20,
    "start_time": "2025-01-25T20:23:11.763Z"
   },
   {
    "duration": 4,
    "start_time": "2025-01-25T20:24:01.229Z"
   },
   {
    "duration": 2224,
    "start_time": "2025-01-25T20:24:08.395Z"
   },
   {
    "duration": 983,
    "start_time": "2025-01-25T20:24:10.621Z"
   },
   {
    "duration": 7,
    "start_time": "2025-01-25T20:24:11.606Z"
   },
   {
    "duration": 3,
    "start_time": "2025-01-25T20:24:11.615Z"
   },
   {
    "duration": 11,
    "start_time": "2025-01-25T20:24:11.632Z"
   },
   {
    "duration": 8,
    "start_time": "2025-01-25T20:24:11.645Z"
   },
   {
    "duration": 3,
    "start_time": "2025-01-25T20:24:11.655Z"
   },
   {
    "duration": 8,
    "start_time": "2025-01-25T20:24:11.660Z"
   },
   {
    "duration": 3,
    "start_time": "2025-01-25T20:24:11.670Z"
   },
   {
    "duration": 17,
    "start_time": "2025-01-25T20:24:11.674Z"
   },
   {
    "duration": 1096,
    "start_time": "2025-01-25T20:24:11.692Z"
   },
   {
    "duration": 2509,
    "start_time": "2025-01-25T20:24:12.789Z"
   },
   {
    "duration": 4,
    "start_time": "2025-01-25T20:24:15.300Z"
   },
   {
    "duration": 5,
    "start_time": "2025-01-25T20:24:15.308Z"
   },
   {
    "duration": 21,
    "start_time": "2025-01-25T20:24:15.315Z"
   },
   {
    "duration": 2,
    "start_time": "2025-01-25T20:24:15.338Z"
   },
   {
    "duration": 352,
    "start_time": "2025-01-25T20:24:15.341Z"
   },
   {
    "duration": 1,
    "start_time": "2025-01-25T20:24:15.694Z"
   },
   {
    "duration": 0,
    "start_time": "2025-01-25T20:24:15.696Z"
   },
   {
    "duration": 0,
    "start_time": "2025-01-25T20:24:15.697Z"
   },
   {
    "duration": 0,
    "start_time": "2025-01-25T20:24:15.699Z"
   },
   {
    "duration": 0,
    "start_time": "2025-01-25T20:24:15.700Z"
   },
   {
    "duration": 0,
    "start_time": "2025-01-25T20:24:15.702Z"
   },
   {
    "duration": 0,
    "start_time": "2025-01-25T20:24:15.703Z"
   },
   {
    "duration": 0,
    "start_time": "2025-01-25T20:24:15.704Z"
   },
   {
    "duration": 0,
    "start_time": "2025-01-25T20:24:15.705Z"
   },
   {
    "duration": 0,
    "start_time": "2025-01-25T20:24:15.706Z"
   },
   {
    "duration": 0,
    "start_time": "2025-01-25T20:24:15.732Z"
   },
   {
    "duration": 4,
    "start_time": "2025-01-25T20:27:30.290Z"
   },
   {
    "duration": 191,
    "start_time": "2025-01-25T20:27:36.166Z"
   },
   {
    "duration": 73,
    "start_time": "2025-01-25T20:57:25.008Z"
   },
   {
    "duration": 2213,
    "start_time": "2025-01-25T23:13:02.161Z"
   },
   {
    "duration": 1096,
    "start_time": "2025-01-25T23:13:04.378Z"
   },
   {
    "duration": 8,
    "start_time": "2025-01-25T23:13:05.476Z"
   },
   {
    "duration": 3,
    "start_time": "2025-01-25T23:13:05.486Z"
   },
   {
    "duration": 11,
    "start_time": "2025-01-25T23:13:05.492Z"
   },
   {
    "duration": 27,
    "start_time": "2025-01-25T23:13:05.505Z"
   },
   {
    "duration": 4,
    "start_time": "2025-01-25T23:13:05.534Z"
   },
   {
    "duration": 11,
    "start_time": "2025-01-25T23:13:05.539Z"
   },
   {
    "duration": 3,
    "start_time": "2025-01-25T23:13:05.552Z"
   },
   {
    "duration": 18,
    "start_time": "2025-01-25T23:13:05.556Z"
   },
   {
    "duration": 1127,
    "start_time": "2025-01-25T23:13:05.577Z"
   },
   {
    "duration": 2642,
    "start_time": "2025-01-25T23:13:06.706Z"
   },
   {
    "duration": 4,
    "start_time": "2025-01-25T23:13:09.350Z"
   },
   {
    "duration": 4,
    "start_time": "2025-01-25T23:13:09.358Z"
   },
   {
    "duration": 10,
    "start_time": "2025-01-25T23:13:09.363Z"
   },
   {
    "duration": 2,
    "start_time": "2025-01-25T23:13:09.374Z"
   },
   {
    "duration": 566,
    "start_time": "2025-01-25T23:13:09.378Z"
   },
   {
    "duration": 0,
    "start_time": "2025-01-25T23:13:09.946Z"
   },
   {
    "duration": 0,
    "start_time": "2025-01-25T23:13:09.947Z"
   },
   {
    "duration": 0,
    "start_time": "2025-01-25T23:13:09.949Z"
   },
   {
    "duration": 0,
    "start_time": "2025-01-25T23:13:09.950Z"
   },
   {
    "duration": 0,
    "start_time": "2025-01-25T23:13:09.951Z"
   },
   {
    "duration": 0,
    "start_time": "2025-01-25T23:13:09.952Z"
   },
   {
    "duration": 0,
    "start_time": "2025-01-25T23:13:09.953Z"
   },
   {
    "duration": 0,
    "start_time": "2025-01-25T23:13:09.955Z"
   },
   {
    "duration": 0,
    "start_time": "2025-01-25T23:13:09.956Z"
   },
   {
    "duration": 0,
    "start_time": "2025-01-25T23:13:09.957Z"
   },
   {
    "duration": 0,
    "start_time": "2025-01-25T23:13:09.958Z"
   },
   {
    "duration": 3,
    "start_time": "2025-01-25T23:17:44.446Z"
   },
   {
    "duration": 15,
    "start_time": "2025-01-25T23:18:34.242Z"
   },
   {
    "duration": 3,
    "start_time": "2025-01-25T23:20:21.127Z"
   },
   {
    "duration": 13,
    "start_time": "2025-01-25T23:20:35.154Z"
   },
   {
    "duration": 13,
    "start_time": "2025-01-25T23:20:36.597Z"
   },
   {
    "duration": 14,
    "start_time": "2025-01-25T23:20:39.238Z"
   },
   {
    "duration": 3,
    "start_time": "2025-01-25T23:20:50.141Z"
   },
   {
    "duration": 80,
    "start_time": "2025-01-25T23:21:26.062Z"
   },
   {
    "duration": 80,
    "start_time": "2025-01-25T23:21:39.586Z"
   },
   {
    "duration": 79,
    "start_time": "2025-01-25T23:21:51.361Z"
   },
   {
    "duration": 15,
    "start_time": "2025-01-25T23:58:51.637Z"
   },
   {
    "duration": 2182,
    "start_time": "2025-01-25T23:59:01.662Z"
   },
   {
    "duration": 1121,
    "start_time": "2025-01-25T23:59:03.847Z"
   },
   {
    "duration": 8,
    "start_time": "2025-01-25T23:59:04.970Z"
   },
   {
    "duration": 4,
    "start_time": "2025-01-25T23:59:04.980Z"
   },
   {
    "duration": 11,
    "start_time": "2025-01-25T23:59:04.986Z"
   },
   {
    "duration": 9,
    "start_time": "2025-01-25T23:59:04.998Z"
   },
   {
    "duration": 24,
    "start_time": "2025-01-25T23:59:05.008Z"
   },
   {
    "duration": 8,
    "start_time": "2025-01-25T23:59:05.034Z"
   },
   {
    "duration": 2,
    "start_time": "2025-01-25T23:59:05.044Z"
   },
   {
    "duration": 16,
    "start_time": "2025-01-25T23:59:05.048Z"
   },
   {
    "duration": 1103,
    "start_time": "2025-01-25T23:59:05.065Z"
   },
   {
    "duration": 2675,
    "start_time": "2025-01-25T23:59:06.169Z"
   },
   {
    "duration": 3,
    "start_time": "2025-01-25T23:59:08.846Z"
   },
   {
    "duration": 4,
    "start_time": "2025-01-25T23:59:08.852Z"
   },
   {
    "duration": 8,
    "start_time": "2025-01-25T23:59:08.857Z"
   },
   {
    "duration": 3,
    "start_time": "2025-01-25T23:59:08.867Z"
   },
   {
    "duration": 3,
    "start_time": "2025-01-25T23:59:08.871Z"
   },
   {
    "duration": 2,
    "start_time": "2025-01-25T23:59:08.876Z"
   },
   {
    "duration": 357,
    "start_time": "2025-01-25T23:59:08.880Z"
   },
   {
    "duration": 0,
    "start_time": "2025-01-25T23:59:09.239Z"
   },
   {
    "duration": 0,
    "start_time": "2025-01-25T23:59:09.240Z"
   },
   {
    "duration": 0,
    "start_time": "2025-01-25T23:59:09.242Z"
   },
   {
    "duration": 0,
    "start_time": "2025-01-25T23:59:09.243Z"
   },
   {
    "duration": 0,
    "start_time": "2025-01-25T23:59:09.245Z"
   },
   {
    "duration": 0,
    "start_time": "2025-01-25T23:59:09.246Z"
   },
   {
    "duration": 0,
    "start_time": "2025-01-25T23:59:09.248Z"
   },
   {
    "duration": 0,
    "start_time": "2025-01-25T23:59:09.249Z"
   },
   {
    "duration": 0,
    "start_time": "2025-01-25T23:59:09.251Z"
   },
   {
    "duration": 0,
    "start_time": "2025-01-25T23:59:09.253Z"
   },
   {
    "duration": 0,
    "start_time": "2025-01-25T23:59:09.254Z"
   },
   {
    "duration": 3,
    "start_time": "2025-01-26T00:04:38.817Z"
   },
   {
    "duration": 10,
    "start_time": "2025-01-26T00:04:42.171Z"
   },
   {
    "duration": 2,
    "start_time": "2025-01-26T00:04:44.680Z"
   },
   {
    "duration": 2,
    "start_time": "2025-01-26T00:04:46.573Z"
   },
   {
    "duration": 14,
    "start_time": "2025-01-26T00:04:48.494Z"
   },
   {
    "duration": 3,
    "start_time": "2025-01-26T00:08:33.604Z"
   },
   {
    "duration": 14,
    "start_time": "2025-01-26T00:08:37.055Z"
   },
   {
    "duration": 2398,
    "start_time": "2025-01-26T00:45:17.559Z"
   },
   {
    "duration": 2903,
    "start_time": "2025-01-26T00:45:19.960Z"
   },
   {
    "duration": 13,
    "start_time": "2025-01-26T00:45:22.865Z"
   },
   {
    "duration": 3,
    "start_time": "2025-01-26T00:45:22.880Z"
   },
   {
    "duration": 11,
    "start_time": "2025-01-26T00:45:22.885Z"
   },
   {
    "duration": 22,
    "start_time": "2025-01-26T00:45:22.897Z"
   },
   {
    "duration": 3,
    "start_time": "2025-01-26T00:45:22.921Z"
   },
   {
    "duration": 8,
    "start_time": "2025-01-26T00:45:22.927Z"
   },
   {
    "duration": 2,
    "start_time": "2025-01-26T00:45:22.937Z"
   },
   {
    "duration": 18,
    "start_time": "2025-01-26T00:45:22.943Z"
   },
   {
    "duration": 1197,
    "start_time": "2025-01-26T00:45:22.963Z"
   },
   {
    "duration": 2668,
    "start_time": "2025-01-26T00:45:24.162Z"
   },
   {
    "duration": 2,
    "start_time": "2025-01-26T00:45:26.832Z"
   },
   {
    "duration": 5,
    "start_time": "2025-01-26T00:45:26.836Z"
   },
   {
    "duration": 8,
    "start_time": "2025-01-26T00:45:26.843Z"
   },
   {
    "duration": 2,
    "start_time": "2025-01-26T00:45:26.853Z"
   },
   {
    "duration": 2,
    "start_time": "2025-01-26T00:45:26.857Z"
   },
   {
    "duration": 2,
    "start_time": "2025-01-26T00:45:26.861Z"
   },
   {
    "duration": 373,
    "start_time": "2025-01-26T00:45:26.865Z"
   },
   {
    "duration": 0,
    "start_time": "2025-01-26T00:45:27.240Z"
   },
   {
    "duration": 0,
    "start_time": "2025-01-26T00:45:27.242Z"
   },
   {
    "duration": 0,
    "start_time": "2025-01-26T00:45:27.243Z"
   },
   {
    "duration": 0,
    "start_time": "2025-01-26T00:45:27.244Z"
   },
   {
    "duration": 0,
    "start_time": "2025-01-26T00:45:27.245Z"
   },
   {
    "duration": 0,
    "start_time": "2025-01-26T00:45:27.246Z"
   },
   {
    "duration": 0,
    "start_time": "2025-01-26T00:45:27.247Z"
   },
   {
    "duration": 0,
    "start_time": "2025-01-26T00:45:27.248Z"
   },
   {
    "duration": 0,
    "start_time": "2025-01-26T00:45:27.249Z"
   },
   {
    "duration": 0,
    "start_time": "2025-01-26T00:45:27.251Z"
   },
   {
    "duration": 0,
    "start_time": "2025-01-26T00:45:27.252Z"
   },
   {
    "duration": 15,
    "start_time": "2025-01-26T00:47:32.121Z"
   },
   {
    "duration": 5,
    "start_time": "2025-01-26T00:47:37.884Z"
   },
   {
    "duration": 15,
    "start_time": "2025-01-26T00:47:47.992Z"
   },
   {
    "duration": 119,
    "start_time": "2025-01-26T00:47:56.589Z"
   },
   {
    "duration": 5,
    "start_time": "2025-01-26T00:48:01.484Z"
   },
   {
    "duration": 15,
    "start_time": "2025-01-26T00:48:04.871Z"
   },
   {
    "duration": 16,
    "start_time": "2025-01-26T00:48:50.256Z"
   },
   {
    "duration": 4,
    "start_time": "2025-01-26T00:50:14.252Z"
   },
   {
    "duration": 8,
    "start_time": "2025-01-26T00:50:20.642Z"
   },
   {
    "duration": 2,
    "start_time": "2025-01-26T00:50:23.400Z"
   },
   {
    "duration": 2,
    "start_time": "2025-01-26T00:50:26.246Z"
   },
   {
    "duration": 3,
    "start_time": "2025-01-26T00:50:29.044Z"
   },
   {
    "duration": 16,
    "start_time": "2025-01-26T00:50:31.094Z"
   },
   {
    "duration": 8,
    "start_time": "2025-01-26T00:51:24.260Z"
   },
   {
    "duration": 19,
    "start_time": "2025-01-26T00:51:31.689Z"
   },
   {
    "duration": 5,
    "start_time": "2025-01-27T23:35:34.999Z"
   },
   {
    "duration": 155,
    "start_time": "2025-01-27T23:35:36.736Z"
   },
   {
    "duration": 2316,
    "start_time": "2025-01-27T23:35:43.235Z"
   },
   {
    "duration": 2788,
    "start_time": "2025-01-27T23:35:45.553Z"
   },
   {
    "duration": 14,
    "start_time": "2025-01-27T23:35:48.343Z"
   },
   {
    "duration": 3,
    "start_time": "2025-01-27T23:35:48.360Z"
   },
   {
    "duration": 11,
    "start_time": "2025-01-27T23:35:48.365Z"
   },
   {
    "duration": 9,
    "start_time": "2025-01-27T23:35:48.377Z"
   },
   {
    "duration": 3,
    "start_time": "2025-01-27T23:35:48.387Z"
   },
   {
    "duration": 8,
    "start_time": "2025-01-27T23:35:48.409Z"
   },
   {
    "duration": 2,
    "start_time": "2025-01-27T23:35:48.419Z"
   },
   {
    "duration": 15,
    "start_time": "2025-01-27T23:35:48.425Z"
   },
   {
    "duration": 1076,
    "start_time": "2025-01-27T23:35:48.441Z"
   },
   {
    "duration": 2536,
    "start_time": "2025-01-27T23:35:49.519Z"
   },
   {
    "duration": 3,
    "start_time": "2025-01-27T23:35:52.056Z"
   },
   {
    "duration": 4,
    "start_time": "2025-01-27T23:35:52.061Z"
   },
   {
    "duration": 8,
    "start_time": "2025-01-27T23:35:52.067Z"
   },
   {
    "duration": 2,
    "start_time": "2025-01-27T23:35:52.077Z"
   },
   {
    "duration": 28,
    "start_time": "2025-01-27T23:35:52.081Z"
   },
   {
    "duration": 3,
    "start_time": "2025-01-27T23:35:52.112Z"
   },
   {
    "duration": 18,
    "start_time": "2025-01-27T23:35:52.117Z"
   },
   {
    "duration": 74,
    "start_time": "2025-01-27T23:35:52.138Z"
   },
   {
    "duration": 0,
    "start_time": "2025-01-27T23:35:52.332Z"
   },
   {
    "duration": 0,
    "start_time": "2025-01-27T23:35:52.333Z"
   },
   {
    "duration": 0,
    "start_time": "2025-01-27T23:35:52.334Z"
   },
   {
    "duration": 0,
    "start_time": "2025-01-27T23:35:52.336Z"
   },
   {
    "duration": 0,
    "start_time": "2025-01-27T23:35:52.337Z"
   },
   {
    "duration": 0,
    "start_time": "2025-01-27T23:35:52.338Z"
   },
   {
    "duration": 0,
    "start_time": "2025-01-27T23:35:52.339Z"
   },
   {
    "duration": 0,
    "start_time": "2025-01-27T23:35:52.341Z"
   },
   {
    "duration": 1,
    "start_time": "2025-01-27T23:35:52.341Z"
   },
   {
    "duration": 0,
    "start_time": "2025-01-27T23:35:52.343Z"
   },
   {
    "duration": 5,
    "start_time": "2025-01-27T23:46:18.973Z"
   },
   {
    "duration": 5,
    "start_time": "2025-01-27T23:46:39.129Z"
   },
   {
    "duration": 5,
    "start_time": "2025-01-27T23:46:54.749Z"
   },
   {
    "duration": 4,
    "start_time": "2025-01-27T23:52:17.089Z"
   },
   {
    "duration": 233,
    "start_time": "2025-01-27T23:53:00.791Z"
   },
   {
    "duration": 3,
    "start_time": "2025-01-27T23:54:47.147Z"
   },
   {
    "duration": 16,
    "start_time": "2025-01-27T23:54:55.437Z"
   },
   {
    "duration": 2147,
    "start_time": "2025-01-27T23:55:30.321Z"
   },
   {
    "duration": 967,
    "start_time": "2025-01-27T23:55:32.471Z"
   },
   {
    "duration": 7,
    "start_time": "2025-01-27T23:55:33.440Z"
   },
   {
    "duration": 3,
    "start_time": "2025-01-27T23:55:33.449Z"
   },
   {
    "duration": 10,
    "start_time": "2025-01-27T23:55:33.455Z"
   },
   {
    "duration": 8,
    "start_time": "2025-01-27T23:55:33.467Z"
   },
   {
    "duration": 4,
    "start_time": "2025-01-27T23:55:33.476Z"
   },
   {
    "duration": 8,
    "start_time": "2025-01-27T23:55:33.509Z"
   },
   {
    "duration": 3,
    "start_time": "2025-01-27T23:55:33.518Z"
   },
   {
    "duration": 16,
    "start_time": "2025-01-27T23:55:33.523Z"
   },
   {
    "duration": 1066,
    "start_time": "2025-01-27T23:55:33.540Z"
   },
   {
    "duration": 2540,
    "start_time": "2025-01-27T23:55:34.608Z"
   },
   {
    "duration": 3,
    "start_time": "2025-01-27T23:55:37.150Z"
   },
   {
    "duration": 4,
    "start_time": "2025-01-27T23:55:37.157Z"
   },
   {
    "duration": 9,
    "start_time": "2025-01-27T23:55:37.163Z"
   },
   {
    "duration": 2,
    "start_time": "2025-01-27T23:55:37.173Z"
   },
   {
    "duration": 3,
    "start_time": "2025-01-27T23:55:37.177Z"
   },
   {
    "duration": 3,
    "start_time": "2025-01-27T23:55:37.214Z"
   },
   {
    "duration": 230,
    "start_time": "2025-01-27T23:55:37.218Z"
   },
   {
    "duration": 242,
    "start_time": "2025-01-27T23:55:37.450Z"
   },
   {
    "duration": 0,
    "start_time": "2025-01-27T23:55:37.694Z"
   },
   {
    "duration": 0,
    "start_time": "2025-01-27T23:55:37.696Z"
   },
   {
    "duration": 0,
    "start_time": "2025-01-27T23:55:37.697Z"
   },
   {
    "duration": 0,
    "start_time": "2025-01-27T23:55:37.708Z"
   },
   {
    "duration": 0,
    "start_time": "2025-01-27T23:55:37.709Z"
   },
   {
    "duration": 0,
    "start_time": "2025-01-27T23:55:37.711Z"
   },
   {
    "duration": 0,
    "start_time": "2025-01-27T23:55:37.712Z"
   },
   {
    "duration": 0,
    "start_time": "2025-01-27T23:55:37.713Z"
   },
   {
    "duration": 0,
    "start_time": "2025-01-27T23:55:37.714Z"
   },
   {
    "duration": 0,
    "start_time": "2025-01-27T23:55:37.715Z"
   },
   {
    "duration": 0,
    "start_time": "2025-01-27T23:55:37.716Z"
   },
   {
    "duration": 3,
    "start_time": "2025-01-28T00:03:25.514Z"
   },
   {
    "duration": 19,
    "start_time": "2025-01-28T00:03:56.491Z"
   },
   {
    "duration": 18,
    "start_time": "2025-01-28T00:04:16.339Z"
   },
   {
    "duration": 3,
    "start_time": "2025-01-28T00:05:19.120Z"
   },
   {
    "duration": 22,
    "start_time": "2025-01-28T00:05:25.882Z"
   },
   {
    "duration": 2,
    "start_time": "2025-01-28T00:11:48.035Z"
   },
   {
    "duration": 22,
    "start_time": "2025-01-28T00:11:49.872Z"
   },
   {
    "duration": 38,
    "start_time": "2025-01-28T00:12:07.391Z"
   },
   {
    "duration": 26,
    "start_time": "2025-01-28T00:59:17.849Z"
   },
   {
    "duration": 28,
    "start_time": "2025-01-28T00:59:23.736Z"
   },
   {
    "duration": 50,
    "start_time": "2025-01-28T01:00:02.162Z"
   },
   {
    "duration": 2,
    "start_time": "2025-01-28T01:47:22.893Z"
   },
   {
    "duration": 79,
    "start_time": "2025-01-28T01:47:26.135Z"
   }
  ],
  "kernelspec": {
   "display_name": "Python 3 (ipykernel)",
   "language": "python",
   "name": "python3"
  },
  "language_info": {
   "codemirror_mode": {
    "name": "ipython",
    "version": 3
   },
   "file_extension": ".py",
   "mimetype": "text/x-python",
   "name": "python",
   "nbconvert_exporter": "python",
   "pygments_lexer": "ipython3",
   "version": "3.9.19"
  },
  "toc": {
   "base_numbering": 1,
   "nav_menu": {},
   "number_sections": true,
   "sideBar": true,
   "skip_h1_title": true,
   "title_cell": "Table of Contents",
   "title_sidebar": "Contents",
   "toc_cell": false,
   "toc_position": {},
   "toc_section_display": true,
   "toc_window_display": false
  }
 },
 "nbformat": 4,
 "nbformat_minor": 4
}
