{
 "cells": [
  {
   "cell_type": "markdown",
   "metadata": {},
   "source": [
    "\n",
    "**Comentario del Revisor**\n",
    "\n",
    "Hola!\n",
    "\n",
    "Soy Juan Manuel Romero, pero siéntete libre de llamarme Juanma. Soy code reviewer en Tripleten y hoy estaré revisando tu entrega.\n",
    "\n",
    "Para simular la dinámica de un ambiente de trabajo, si veo algún error, en primer instancia solo los señalaré, dándote la oportunidad de encontrarlos y corregirlos por tu cuenta. En un trabajo real, el líder de tu equipo hará una dinámica similar. En caso de que no puedas resolver la tarea, te daré una información más precisa en la próxima revisión. \n",
    "\n",
    "Solo un aviso rápido: cuando estés revisando el proyecto, por favor deja mis comentarios originales tal como están. De esta manera, podemos seguir fácilmente el progreso y asegurarnos de que no se nos pase nada por alto. Y, si realizas algún cambio basado en mis comentarios, sería genial si pudieras resaltar esas actualizaciones para que se destaquen.\n",
    "\n",
    "Puedes encontrar mis comentarios en cajas verdes, amarillas o rojas como estas:\n",
    "\n",
    "<div class=\"alert alert-block alert-success\"> \n",
    "<b>Comentario del Revisor</b> <a class=\"tocSkip\"></a>\n",
    "\n",
    "Éxito. Todo se ha hecho correctamente.\n",
    "\n",
    "</div>\n",
    "\n",
    "\n",
    "<div class=\"alert alert-block alert-warning\"> \n",
    "<b>Comentario del Revisor</b> <a class=\"tocSkip\"></a>\n",
    "\n",
    "Observaciones. Algunas recomendaciones.\n",
    "\n",
    "</div> \n",
    "\n",
    "\n",
    "<div class=\"alert alert-block alert-danger\">\n",
    "<b>Comentario del Revisor</b> <a class=\"tocSkip\"></a>\n",
    "\n",
    "Requiere corrección. El bloque requiere algunas correcciones. El trabajo no puede ser aceptado con los comentarios en rojo.\n",
    "\n",
    "</div>\n",
    "\n",
    "Puedes responderme usando esto:\n",
    "\n",
    "<div class=\"alert alert-block alert-info\"> <b>Respuesta del estudiante.</b> <a class=\"tocSkip\"></a> </div>º"
   ]
  },
  {
   "cell_type": "code",
   "execution_count": 1,
   "metadata": {},
   "outputs": [],
   "source": [
    "import pandas as pd\n",
    "import numpy as np\n",
    "from sklearn.metrics import mean_squared_error\n",
    "import math\n",
    "from sklearn.tree import DecisionTreeRegressor\n",
    "from sklearn.model_selection import train_test_split\n",
    "from sklearn.metrics import mean_squared_error\n",
    "from sklearn.preprocessing import StandardScaler\n",
    "from sklearn.linear_model import LogisticRegression\n",
    "from sklearn.ensemble import RandomForestClassifier\n",
    "from sklearn.tree import DecisionTreeClassifier\n",
    "from sklearn.metrics import f1_score\n",
    "from sklearn.metrics import roc_auc_score\n",
    "import matplotlib.pyplot as plt"
   ]
  },
  {
   "cell_type": "code",
   "execution_count": 2,
   "metadata": {},
   "outputs": [],
   "source": [
    "df=pd.read_csv(\"/datasets/Churn.csv\")"
   ]
  },
  {
   "cell_type": "code",
   "execution_count": 3,
   "metadata": {},
   "outputs": [
    {
     "name": "stdout",
     "output_type": "stream",
     "text": [
      "<class 'pandas.core.frame.DataFrame'>\n",
      "RangeIndex: 10000 entries, 0 to 9999\n",
      "Data columns (total 14 columns):\n",
      " #   Column           Non-Null Count  Dtype  \n",
      "---  ------           --------------  -----  \n",
      " 0   RowNumber        10000 non-null  int64  \n",
      " 1   CustomerId       10000 non-null  int64  \n",
      " 2   Surname          10000 non-null  object \n",
      " 3   CreditScore      10000 non-null  int64  \n",
      " 4   Geography        10000 non-null  object \n",
      " 5   Gender           10000 non-null  object \n",
      " 6   Age              10000 non-null  int64  \n",
      " 7   Tenure           9091 non-null   float64\n",
      " 8   Balance          10000 non-null  float64\n",
      " 9   NumOfProducts    10000 non-null  int64  \n",
      " 10  HasCrCard        10000 non-null  int64  \n",
      " 11  IsActiveMember   10000 non-null  int64  \n",
      " 12  EstimatedSalary  10000 non-null  float64\n",
      " 13  Exited           10000 non-null  int64  \n",
      "dtypes: float64(3), int64(8), object(3)\n",
      "memory usage: 1.1+ MB\n"
     ]
    }
   ],
   "source": [
    "df.info()"
   ]
  },
  {
   "cell_type": "markdown",
   "metadata": {},
   "source": [
    "La columna \"Tenure\" es la unica que tiene valores nulos"
   ]
  },
  {
   "cell_type": "code",
   "execution_count": 4,
   "metadata": {},
   "outputs": [],
   "source": [
    "mean = df['Tenure'].mean()"
   ]
  },
  {
   "cell_type": "code",
   "execution_count": 5,
   "metadata": {},
   "outputs": [
    {
     "name": "stdout",
     "output_type": "stream",
     "text": [
      "<class 'pandas.core.frame.DataFrame'>\n",
      "RangeIndex: 10000 entries, 0 to 9999\n",
      "Data columns (total 14 columns):\n",
      " #   Column           Non-Null Count  Dtype  \n",
      "---  ------           --------------  -----  \n",
      " 0   RowNumber        10000 non-null  int64  \n",
      " 1   CustomerId       10000 non-null  int64  \n",
      " 2   Surname          10000 non-null  object \n",
      " 3   CreditScore      10000 non-null  int64  \n",
      " 4   Geography        10000 non-null  object \n",
      " 5   Gender           10000 non-null  object \n",
      " 6   Age              10000 non-null  int64  \n",
      " 7   Tenure           10000 non-null  float64\n",
      " 8   Balance          10000 non-null  float64\n",
      " 9   NumOfProducts    10000 non-null  int64  \n",
      " 10  HasCrCard        10000 non-null  int64  \n",
      " 11  IsActiveMember   10000 non-null  int64  \n",
      " 12  EstimatedSalary  10000 non-null  float64\n",
      " 13  Exited           10000 non-null  int64  \n",
      "dtypes: float64(3), int64(8), object(3)\n",
      "memory usage: 1.1+ MB\n"
     ]
    }
   ],
   "source": [
    "#Para la columna de 'Tenure', llenamos los valores ausentes con la mediana\n",
    "\n",
    "\n",
    "df['Tenure'].fillna(df['Tenure'].median(), inplace=True)\n",
    "df.info()"
   ]
  },
  {
   "cell_type": "markdown",
   "metadata": {},
   "source": [
    "<div class=\"alert alert-block alert-success\"> \n",
    "<b>Comentario del Revisor #1</b> <a class=\"tocSkip\"></a>\n",
    "\n",
    "Buen trabajo eliminando los datos faltantes en la columna Tenure! El manejo adecuado de los valores ausentes es crucial para evitar problemas en el entrenamiento del modelo.\n",
    "\n",
    "</div>"
   ]
  },
  {
   "cell_type": "markdown",
   "metadata": {},
   "source": [
    "Los valores nulos de la columna \"Tenure\" se reemplazaron con la mediana"
   ]
  },
  {
   "cell_type": "code",
   "execution_count": 6,
   "metadata": {},
   "outputs": [
    {
     "data": {
      "text/plain": [
       "RowNumber          0\n",
       "CustomerId         0\n",
       "Surname            0\n",
       "CreditScore        0\n",
       "Geography          0\n",
       "Gender             0\n",
       "Age                0\n",
       "Tenure             0\n",
       "Balance            0\n",
       "NumOfProducts      0\n",
       "HasCrCard          0\n",
       "IsActiveMember     0\n",
       "EstimatedSalary    0\n",
       "Exited             0\n",
       "dtype: int64"
      ]
     },
     "execution_count": 6,
     "metadata": {},
     "output_type": "execute_result"
    }
   ],
   "source": [
    "#corroboramos si hay valores nulos \n",
    "df.isna().sum()"
   ]
  },
  {
   "cell_type": "code",
   "execution_count": 7,
   "metadata": {},
   "outputs": [
    {
     "name": "stdout",
     "output_type": "stream",
     "text": [
      "<class 'pandas.core.frame.DataFrame'>\n",
      "RangeIndex: 10000 entries, 0 to 9999\n",
      "Data columns (total 14 columns):\n",
      " #   Column           Non-Null Count  Dtype  \n",
      "---  ------           --------------  -----  \n",
      " 0   RowNumber        10000 non-null  int64  \n",
      " 1   CustomerId       10000 non-null  int64  \n",
      " 2   Surname          10000 non-null  object \n",
      " 3   CreditScore      10000 non-null  int64  \n",
      " 4   Geography        10000 non-null  object \n",
      " 5   Gender           10000 non-null  object \n",
      " 6   Age              10000 non-null  int64  \n",
      " 7   Tenure           10000 non-null  float64\n",
      " 8   Balance          10000 non-null  float64\n",
      " 9   NumOfProducts    10000 non-null  int64  \n",
      " 10  HasCrCard        10000 non-null  int64  \n",
      " 11  IsActiveMember   10000 non-null  int64  \n",
      " 12  EstimatedSalary  10000 non-null  float64\n",
      " 13  Exited           10000 non-null  int64  \n",
      "dtypes: float64(3), int64(8), object(3)\n",
      "memory usage: 1.1+ MB\n",
      "(10000, 14)\n"
     ]
    }
   ],
   "source": [
    "df.info()\n",
    "print(df.shape)"
   ]
  },
  {
   "cell_type": "code",
   "execution_count": 8,
   "metadata": {},
   "outputs": [
    {
     "data": {
      "text/html": [
       "<div>\n",
       "<style scoped>\n",
       "    .dataframe tbody tr th:only-of-type {\n",
       "        vertical-align: middle;\n",
       "    }\n",
       "\n",
       "    .dataframe tbody tr th {\n",
       "        vertical-align: top;\n",
       "    }\n",
       "\n",
       "    .dataframe thead th {\n",
       "        text-align: right;\n",
       "    }\n",
       "</style>\n",
       "<table border=\"1\" class=\"dataframe\">\n",
       "  <thead>\n",
       "    <tr style=\"text-align: right;\">\n",
       "      <th></th>\n",
       "      <th>0</th>\n",
       "    </tr>\n",
       "  </thead>\n",
       "  <tbody>\n",
       "    <tr>\n",
       "      <th>RowNumber</th>\n",
       "      <td>int64</td>\n",
       "    </tr>\n",
       "    <tr>\n",
       "      <th>CustomerId</th>\n",
       "      <td>int64</td>\n",
       "    </tr>\n",
       "    <tr>\n",
       "      <th>Surname</th>\n",
       "      <td>object</td>\n",
       "    </tr>\n",
       "    <tr>\n",
       "      <th>CreditScore</th>\n",
       "      <td>int64</td>\n",
       "    </tr>\n",
       "    <tr>\n",
       "      <th>Geography</th>\n",
       "      <td>object</td>\n",
       "    </tr>\n",
       "    <tr>\n",
       "      <th>Gender</th>\n",
       "      <td>object</td>\n",
       "    </tr>\n",
       "    <tr>\n",
       "      <th>Age</th>\n",
       "      <td>int64</td>\n",
       "    </tr>\n",
       "    <tr>\n",
       "      <th>Tenure</th>\n",
       "      <td>float64</td>\n",
       "    </tr>\n",
       "    <tr>\n",
       "      <th>Balance</th>\n",
       "      <td>float64</td>\n",
       "    </tr>\n",
       "    <tr>\n",
       "      <th>NumOfProducts</th>\n",
       "      <td>int64</td>\n",
       "    </tr>\n",
       "    <tr>\n",
       "      <th>HasCrCard</th>\n",
       "      <td>int64</td>\n",
       "    </tr>\n",
       "    <tr>\n",
       "      <th>IsActiveMember</th>\n",
       "      <td>int64</td>\n",
       "    </tr>\n",
       "    <tr>\n",
       "      <th>EstimatedSalary</th>\n",
       "      <td>float64</td>\n",
       "    </tr>\n",
       "    <tr>\n",
       "      <th>Exited</th>\n",
       "      <td>int64</td>\n",
       "    </tr>\n",
       "  </tbody>\n",
       "</table>\n",
       "</div>"
      ],
      "text/plain": [
       "                       0\n",
       "RowNumber          int64\n",
       "CustomerId         int64\n",
       "Surname           object\n",
       "CreditScore        int64\n",
       "Geography         object\n",
       "Gender            object\n",
       "Age                int64\n",
       "Tenure           float64\n",
       "Balance          float64\n",
       "NumOfProducts      int64\n",
       "HasCrCard          int64\n",
       "IsActiveMember     int64\n",
       "EstimatedSalary  float64\n",
       "Exited             int64"
      ]
     },
     "execution_count": 8,
     "metadata": {},
     "output_type": "execute_result"
    }
   ],
   "source": [
    "columns_= pd.DataFrame(df.dtypes)\n",
    "columns_ "
   ]
  },
  {
   "cell_type": "code",
   "execution_count": 9,
   "metadata": {},
   "outputs": [
    {
     "data": {
      "text/plain": [
       "['Geography', 'Gender']"
      ]
     },
     "execution_count": 9,
     "metadata": {},
     "output_type": "execute_result"
    }
   ],
   "source": [
    "categories= list(columns_[columns_[0] == 'object'].index[1:])\n",
    "categories"
   ]
  },
  {
   "cell_type": "code",
   "execution_count": 10,
   "metadata": {},
   "outputs": [
    {
     "data": {
      "text/plain": [
       "['CreditScore',\n",
       " 'Age',\n",
       " 'Tenure',\n",
       " 'Balance',\n",
       " 'NumOfProducts',\n",
       " 'HasCrCard',\n",
       " 'IsActiveMember',\n",
       " 'EstimatedSalary']"
      ]
     },
     "execution_count": 10,
     "metadata": {},
     "output_type": "execute_result"
    }
   ],
   "source": [
    "numerics=list(columns_[columns_[0] != 'object'].index[2:-1])\n",
    "numerics"
   ]
  },
  {
   "cell_type": "code",
   "execution_count": 11,
   "metadata": {},
   "outputs": [
    {
     "data": {
      "text/plain": [
       "['RowNumber', 'CustomerId', 'Surname']"
      ]
     },
     "execution_count": 11,
     "metadata": {},
     "output_type": "execute_result"
    }
   ],
   "source": [
    "no_information= ['RowNumber', 'CustomerId', 'Surname']\n",
    "no_information"
   ]
  },
  {
   "cell_type": "markdown",
   "metadata": {},
   "source": [
    "<div class=\"alert alert-block alert-success\"> \n",
    "<b>Comentario del Revisor #1</b> <a class=\"tocSkip\"></a>\n",
    "\n",
    "Buen ojo! Eliminaste las columnas innecesarias, lo que ayuda a reducir el ruido en los datos. Estas columnas, como RowNumber, CustomerId y Surname, no aportan información útil para el modelo, por lo que eliminarlas es una excelente decisión.\n",
    "\n",
    "</div>"
   ]
  },
  {
   "cell_type": "code",
   "execution_count": 12,
   "metadata": {},
   "outputs": [
    {
     "data": {
      "text/html": [
       "<div>\n",
       "<style scoped>\n",
       "    .dataframe tbody tr th:only-of-type {\n",
       "        vertical-align: middle;\n",
       "    }\n",
       "\n",
       "    .dataframe tbody tr th {\n",
       "        vertical-align: top;\n",
       "    }\n",
       "\n",
       "    .dataframe thead th {\n",
       "        text-align: right;\n",
       "    }\n",
       "</style>\n",
       "<table border=\"1\" class=\"dataframe\">\n",
       "  <thead>\n",
       "    <tr style=\"text-align: right;\">\n",
       "      <th></th>\n",
       "      <th>CreditScore</th>\n",
       "      <th>Geography</th>\n",
       "      <th>Gender</th>\n",
       "      <th>Age</th>\n",
       "      <th>Tenure</th>\n",
       "      <th>Balance</th>\n",
       "      <th>NumOfProducts</th>\n",
       "      <th>HasCrCard</th>\n",
       "      <th>IsActiveMember</th>\n",
       "      <th>EstimatedSalary</th>\n",
       "      <th>Exited</th>\n",
       "    </tr>\n",
       "  </thead>\n",
       "  <tbody>\n",
       "    <tr>\n",
       "      <th>0</th>\n",
       "      <td>619</td>\n",
       "      <td>France</td>\n",
       "      <td>Female</td>\n",
       "      <td>42</td>\n",
       "      <td>2.0</td>\n",
       "      <td>0.00</td>\n",
       "      <td>1</td>\n",
       "      <td>1</td>\n",
       "      <td>1</td>\n",
       "      <td>101348.88</td>\n",
       "      <td>1</td>\n",
       "    </tr>\n",
       "    <tr>\n",
       "      <th>1</th>\n",
       "      <td>608</td>\n",
       "      <td>Spain</td>\n",
       "      <td>Female</td>\n",
       "      <td>41</td>\n",
       "      <td>1.0</td>\n",
       "      <td>83807.86</td>\n",
       "      <td>1</td>\n",
       "      <td>0</td>\n",
       "      <td>1</td>\n",
       "      <td>112542.58</td>\n",
       "      <td>0</td>\n",
       "    </tr>\n",
       "    <tr>\n",
       "      <th>2</th>\n",
       "      <td>502</td>\n",
       "      <td>France</td>\n",
       "      <td>Female</td>\n",
       "      <td>42</td>\n",
       "      <td>8.0</td>\n",
       "      <td>159660.80</td>\n",
       "      <td>3</td>\n",
       "      <td>1</td>\n",
       "      <td>0</td>\n",
       "      <td>113931.57</td>\n",
       "      <td>1</td>\n",
       "    </tr>\n",
       "    <tr>\n",
       "      <th>3</th>\n",
       "      <td>699</td>\n",
       "      <td>France</td>\n",
       "      <td>Female</td>\n",
       "      <td>39</td>\n",
       "      <td>1.0</td>\n",
       "      <td>0.00</td>\n",
       "      <td>2</td>\n",
       "      <td>0</td>\n",
       "      <td>0</td>\n",
       "      <td>93826.63</td>\n",
       "      <td>0</td>\n",
       "    </tr>\n",
       "    <tr>\n",
       "      <th>4</th>\n",
       "      <td>850</td>\n",
       "      <td>Spain</td>\n",
       "      <td>Female</td>\n",
       "      <td>43</td>\n",
       "      <td>2.0</td>\n",
       "      <td>125510.82</td>\n",
       "      <td>1</td>\n",
       "      <td>1</td>\n",
       "      <td>1</td>\n",
       "      <td>79084.10</td>\n",
       "      <td>0</td>\n",
       "    </tr>\n",
       "    <tr>\n",
       "      <th>...</th>\n",
       "      <td>...</td>\n",
       "      <td>...</td>\n",
       "      <td>...</td>\n",
       "      <td>...</td>\n",
       "      <td>...</td>\n",
       "      <td>...</td>\n",
       "      <td>...</td>\n",
       "      <td>...</td>\n",
       "      <td>...</td>\n",
       "      <td>...</td>\n",
       "      <td>...</td>\n",
       "    </tr>\n",
       "    <tr>\n",
       "      <th>9995</th>\n",
       "      <td>771</td>\n",
       "      <td>France</td>\n",
       "      <td>Male</td>\n",
       "      <td>39</td>\n",
       "      <td>5.0</td>\n",
       "      <td>0.00</td>\n",
       "      <td>2</td>\n",
       "      <td>1</td>\n",
       "      <td>0</td>\n",
       "      <td>96270.64</td>\n",
       "      <td>0</td>\n",
       "    </tr>\n",
       "    <tr>\n",
       "      <th>9996</th>\n",
       "      <td>516</td>\n",
       "      <td>France</td>\n",
       "      <td>Male</td>\n",
       "      <td>35</td>\n",
       "      <td>10.0</td>\n",
       "      <td>57369.61</td>\n",
       "      <td>1</td>\n",
       "      <td>1</td>\n",
       "      <td>1</td>\n",
       "      <td>101699.77</td>\n",
       "      <td>0</td>\n",
       "    </tr>\n",
       "    <tr>\n",
       "      <th>9997</th>\n",
       "      <td>709</td>\n",
       "      <td>France</td>\n",
       "      <td>Female</td>\n",
       "      <td>36</td>\n",
       "      <td>7.0</td>\n",
       "      <td>0.00</td>\n",
       "      <td>1</td>\n",
       "      <td>0</td>\n",
       "      <td>1</td>\n",
       "      <td>42085.58</td>\n",
       "      <td>1</td>\n",
       "    </tr>\n",
       "    <tr>\n",
       "      <th>9998</th>\n",
       "      <td>772</td>\n",
       "      <td>Germany</td>\n",
       "      <td>Male</td>\n",
       "      <td>42</td>\n",
       "      <td>3.0</td>\n",
       "      <td>75075.31</td>\n",
       "      <td>2</td>\n",
       "      <td>1</td>\n",
       "      <td>0</td>\n",
       "      <td>92888.52</td>\n",
       "      <td>1</td>\n",
       "    </tr>\n",
       "    <tr>\n",
       "      <th>9999</th>\n",
       "      <td>792</td>\n",
       "      <td>France</td>\n",
       "      <td>Female</td>\n",
       "      <td>28</td>\n",
       "      <td>5.0</td>\n",
       "      <td>130142.79</td>\n",
       "      <td>1</td>\n",
       "      <td>1</td>\n",
       "      <td>0</td>\n",
       "      <td>38190.78</td>\n",
       "      <td>0</td>\n",
       "    </tr>\n",
       "  </tbody>\n",
       "</table>\n",
       "<p>10000 rows × 11 columns</p>\n",
       "</div>"
      ],
      "text/plain": [
       "      CreditScore Geography  Gender  Age  Tenure    Balance  NumOfProducts  \\\n",
       "0             619    France  Female   42     2.0       0.00              1   \n",
       "1             608     Spain  Female   41     1.0   83807.86              1   \n",
       "2             502    France  Female   42     8.0  159660.80              3   \n",
       "3             699    France  Female   39     1.0       0.00              2   \n",
       "4             850     Spain  Female   43     2.0  125510.82              1   \n",
       "...           ...       ...     ...  ...     ...        ...            ...   \n",
       "9995          771    France    Male   39     5.0       0.00              2   \n",
       "9996          516    France    Male   35    10.0   57369.61              1   \n",
       "9997          709    France  Female   36     7.0       0.00              1   \n",
       "9998          772   Germany    Male   42     3.0   75075.31              2   \n",
       "9999          792    France  Female   28     5.0  130142.79              1   \n",
       "\n",
       "      HasCrCard  IsActiveMember  EstimatedSalary  Exited  \n",
       "0             1               1        101348.88       1  \n",
       "1             0               1        112542.58       0  \n",
       "2             1               0        113931.57       1  \n",
       "3             0               0         93826.63       0  \n",
       "4             1               1         79084.10       0  \n",
       "...         ...             ...              ...     ...  \n",
       "9995          1               0         96270.64       0  \n",
       "9996          1               1        101699.77       0  \n",
       "9997          0               1         42085.58       1  \n",
       "9998          1               0         92888.52       1  \n",
       "9999          1               0         38190.78       0  \n",
       "\n",
       "[10000 rows x 11 columns]"
      ]
     },
     "execution_count": 12,
     "metadata": {},
     "output_type": "execute_result"
    }
   ],
   "source": [
    "data = df.drop(no_information, axis=1)\n",
    "data\n",
    "#features_train, features_valid, target_train, target_valid = train_test_split(features, target, test_size=0.25, random_state=12345)"
   ]
  },
  {
   "cell_type": "code",
   "execution_count": 13,
   "metadata": {},
   "outputs": [
    {
     "data": {
      "text/html": [
       "<div>\n",
       "<style scoped>\n",
       "    .dataframe tbody tr th:only-of-type {\n",
       "        vertical-align: middle;\n",
       "    }\n",
       "\n",
       "    .dataframe tbody tr th {\n",
       "        vertical-align: top;\n",
       "    }\n",
       "\n",
       "    .dataframe thead th {\n",
       "        text-align: right;\n",
       "    }\n",
       "</style>\n",
       "<table border=\"1\" class=\"dataframe\">\n",
       "  <thead>\n",
       "    <tr style=\"text-align: right;\">\n",
       "      <th></th>\n",
       "      <th>CreditScore</th>\n",
       "      <th>Age</th>\n",
       "      <th>Tenure</th>\n",
       "      <th>Balance</th>\n",
       "      <th>NumOfProducts</th>\n",
       "      <th>HasCrCard</th>\n",
       "      <th>IsActiveMember</th>\n",
       "      <th>EstimatedSalary</th>\n",
       "      <th>Exited</th>\n",
       "      <th>Geography_Germany</th>\n",
       "      <th>Geography_Spain</th>\n",
       "      <th>Gender_Male</th>\n",
       "    </tr>\n",
       "  </thead>\n",
       "  <tbody>\n",
       "    <tr>\n",
       "      <th>0</th>\n",
       "      <td>619</td>\n",
       "      <td>42</td>\n",
       "      <td>2.0</td>\n",
       "      <td>0.00</td>\n",
       "      <td>1</td>\n",
       "      <td>1</td>\n",
       "      <td>1</td>\n",
       "      <td>101348.88</td>\n",
       "      <td>1</td>\n",
       "      <td>0</td>\n",
       "      <td>0</td>\n",
       "      <td>0</td>\n",
       "    </tr>\n",
       "    <tr>\n",
       "      <th>1</th>\n",
       "      <td>608</td>\n",
       "      <td>41</td>\n",
       "      <td>1.0</td>\n",
       "      <td>83807.86</td>\n",
       "      <td>1</td>\n",
       "      <td>0</td>\n",
       "      <td>1</td>\n",
       "      <td>112542.58</td>\n",
       "      <td>0</td>\n",
       "      <td>0</td>\n",
       "      <td>1</td>\n",
       "      <td>0</td>\n",
       "    </tr>\n",
       "    <tr>\n",
       "      <th>2</th>\n",
       "      <td>502</td>\n",
       "      <td>42</td>\n",
       "      <td>8.0</td>\n",
       "      <td>159660.80</td>\n",
       "      <td>3</td>\n",
       "      <td>1</td>\n",
       "      <td>0</td>\n",
       "      <td>113931.57</td>\n",
       "      <td>1</td>\n",
       "      <td>0</td>\n",
       "      <td>0</td>\n",
       "      <td>0</td>\n",
       "    </tr>\n",
       "    <tr>\n",
       "      <th>3</th>\n",
       "      <td>699</td>\n",
       "      <td>39</td>\n",
       "      <td>1.0</td>\n",
       "      <td>0.00</td>\n",
       "      <td>2</td>\n",
       "      <td>0</td>\n",
       "      <td>0</td>\n",
       "      <td>93826.63</td>\n",
       "      <td>0</td>\n",
       "      <td>0</td>\n",
       "      <td>0</td>\n",
       "      <td>0</td>\n",
       "    </tr>\n",
       "    <tr>\n",
       "      <th>4</th>\n",
       "      <td>850</td>\n",
       "      <td>43</td>\n",
       "      <td>2.0</td>\n",
       "      <td>125510.82</td>\n",
       "      <td>1</td>\n",
       "      <td>1</td>\n",
       "      <td>1</td>\n",
       "      <td>79084.10</td>\n",
       "      <td>0</td>\n",
       "      <td>0</td>\n",
       "      <td>1</td>\n",
       "      <td>0</td>\n",
       "    </tr>\n",
       "    <tr>\n",
       "      <th>...</th>\n",
       "      <td>...</td>\n",
       "      <td>...</td>\n",
       "      <td>...</td>\n",
       "      <td>...</td>\n",
       "      <td>...</td>\n",
       "      <td>...</td>\n",
       "      <td>...</td>\n",
       "      <td>...</td>\n",
       "      <td>...</td>\n",
       "      <td>...</td>\n",
       "      <td>...</td>\n",
       "      <td>...</td>\n",
       "    </tr>\n",
       "    <tr>\n",
       "      <th>9995</th>\n",
       "      <td>771</td>\n",
       "      <td>39</td>\n",
       "      <td>5.0</td>\n",
       "      <td>0.00</td>\n",
       "      <td>2</td>\n",
       "      <td>1</td>\n",
       "      <td>0</td>\n",
       "      <td>96270.64</td>\n",
       "      <td>0</td>\n",
       "      <td>0</td>\n",
       "      <td>0</td>\n",
       "      <td>1</td>\n",
       "    </tr>\n",
       "    <tr>\n",
       "      <th>9996</th>\n",
       "      <td>516</td>\n",
       "      <td>35</td>\n",
       "      <td>10.0</td>\n",
       "      <td>57369.61</td>\n",
       "      <td>1</td>\n",
       "      <td>1</td>\n",
       "      <td>1</td>\n",
       "      <td>101699.77</td>\n",
       "      <td>0</td>\n",
       "      <td>0</td>\n",
       "      <td>0</td>\n",
       "      <td>1</td>\n",
       "    </tr>\n",
       "    <tr>\n",
       "      <th>9997</th>\n",
       "      <td>709</td>\n",
       "      <td>36</td>\n",
       "      <td>7.0</td>\n",
       "      <td>0.00</td>\n",
       "      <td>1</td>\n",
       "      <td>0</td>\n",
       "      <td>1</td>\n",
       "      <td>42085.58</td>\n",
       "      <td>1</td>\n",
       "      <td>0</td>\n",
       "      <td>0</td>\n",
       "      <td>0</td>\n",
       "    </tr>\n",
       "    <tr>\n",
       "      <th>9998</th>\n",
       "      <td>772</td>\n",
       "      <td>42</td>\n",
       "      <td>3.0</td>\n",
       "      <td>75075.31</td>\n",
       "      <td>2</td>\n",
       "      <td>1</td>\n",
       "      <td>0</td>\n",
       "      <td>92888.52</td>\n",
       "      <td>1</td>\n",
       "      <td>1</td>\n",
       "      <td>0</td>\n",
       "      <td>1</td>\n",
       "    </tr>\n",
       "    <tr>\n",
       "      <th>9999</th>\n",
       "      <td>792</td>\n",
       "      <td>28</td>\n",
       "      <td>5.0</td>\n",
       "      <td>130142.79</td>\n",
       "      <td>1</td>\n",
       "      <td>1</td>\n",
       "      <td>0</td>\n",
       "      <td>38190.78</td>\n",
       "      <td>0</td>\n",
       "      <td>0</td>\n",
       "      <td>0</td>\n",
       "      <td>0</td>\n",
       "    </tr>\n",
       "  </tbody>\n",
       "</table>\n",
       "<p>10000 rows × 12 columns</p>\n",
       "</div>"
      ],
      "text/plain": [
       "      CreditScore  Age  Tenure    Balance  NumOfProducts  HasCrCard  \\\n",
       "0             619   42     2.0       0.00              1          1   \n",
       "1             608   41     1.0   83807.86              1          0   \n",
       "2             502   42     8.0  159660.80              3          1   \n",
       "3             699   39     1.0       0.00              2          0   \n",
       "4             850   43     2.0  125510.82              1          1   \n",
       "...           ...  ...     ...        ...            ...        ...   \n",
       "9995          771   39     5.0       0.00              2          1   \n",
       "9996          516   35    10.0   57369.61              1          1   \n",
       "9997          709   36     7.0       0.00              1          0   \n",
       "9998          772   42     3.0   75075.31              2          1   \n",
       "9999          792   28     5.0  130142.79              1          1   \n",
       "\n",
       "      IsActiveMember  EstimatedSalary  Exited  Geography_Germany  \\\n",
       "0                  1        101348.88       1                  0   \n",
       "1                  1        112542.58       0                  0   \n",
       "2                  0        113931.57       1                  0   \n",
       "3                  0         93826.63       0                  0   \n",
       "4                  1         79084.10       0                  0   \n",
       "...              ...              ...     ...                ...   \n",
       "9995               0         96270.64       0                  0   \n",
       "9996               1        101699.77       0                  0   \n",
       "9997               1         42085.58       1                  0   \n",
       "9998               0         92888.52       1                  1   \n",
       "9999               0         38190.78       0                  0   \n",
       "\n",
       "      Geography_Spain  Gender_Male  \n",
       "0                   0            0  \n",
       "1                   1            0  \n",
       "2                   0            0  \n",
       "3                   0            0  \n",
       "4                   1            0  \n",
       "...               ...          ...  \n",
       "9995                0            1  \n",
       "9996                0            1  \n",
       "9997                0            0  \n",
       "9998                0            1  \n",
       "9999                0            0  \n",
       "\n",
       "[10000 rows x 12 columns]"
      ]
     },
     "execution_count": 13,
     "metadata": {},
     "output_type": "execute_result"
    }
   ],
   "source": [
    "clear_data=pd.get_dummies(data, drop_first=True, columns=categories)\n",
    "clear_data #datos limpios y organizados para ser usados"
   ]
  },
  {
   "cell_type": "code",
   "execution_count": null,
   "metadata": {},
   "outputs": [],
   "source": []
  },
  {
   "cell_type": "markdown",
   "metadata": {},
   "source": [
    "<div class=\"alert alert-block alert-success\"> \n",
    "<b>Comentario del Revisor #1</b> <a class=\"tocSkip\"></a>\n",
    "\n",
    "Excelente trabajo utilizando One-Hot Encoding (OHE)! Esta técnica es ideal para convertir variables categóricas en un formato numérico, permitiendo que los modelos de aprendizaje automático puedan procesarlas. OHE asegura que los datos categóricos no introduzcan relaciones ficticias entre variables.\n",
    "\n",
    "Además, usaste correctamente `drop_first=True`, lo que evita la multicolinealidad al eliminar una categoría redundante. Esto ayuda a reducir la dimensionalidad de los datos sin perder información.\n",
    "    \n",
    "</div>"
   ]
  },
  {
   "cell_type": "markdown",
   "metadata": {},
   "source": [
    "<div class=\"alert alert-block alert-warning\"> \n",
    "<b>Comentario del Revisor #1</b> <a class=\"tocSkip\"></a>\n",
    "\n",
    "Parece que no has dejado comentarios claros sobre las decisiones tomadas. Es importante explicar cada transformación o limpieza que hagas en los datos para que quede claro por qué se tomaron ciertas decisiones.\n",
    "\n",
    "También recuerda utilizar títulos para separar secciones.\n",
    "    \n",
    "</div>"
   ]
  },
  {
   "cell_type": "code",
   "execution_count": 14,
   "metadata": {},
   "outputs": [],
   "source": [
    "#division de datos para el entrenamiento de los modelos\n",
    "training_validation, test = train_test_split(clear_data, test_size=0.2, random_state=12345)"
   ]
  },
  {
   "cell_type": "code",
   "execution_count": 15,
   "metadata": {},
   "outputs": [],
   "source": [
    "training, validation = train_test_split(training_validation, test_size=0.25, random_state=12345)\n"
   ]
  },
  {
   "cell_type": "code",
   "execution_count": 16,
   "metadata": {},
   "outputs": [],
   "source": [
    "scaler = StandardScaler()"
   ]
  },
  {
   "cell_type": "code",
   "execution_count": 17,
   "metadata": {},
   "outputs": [],
   "source": [
    "training_target = training['Exited']\n",
    "training_features = training.drop(['Exited'], axis=1)\n",
    "training_features[numerics] = scaler.fit_transform(training_features[numerics])"
   ]
  },
  {
   "cell_type": "code",
   "execution_count": 18,
   "metadata": {},
   "outputs": [],
   "source": [
    "test_target = test['Exited']\n",
    "test_features = test.drop(['Exited'], axis=1)\n",
    "test_features[numerics] = scaler.transform(test_features[numerics])\n",
    "#test_features"
   ]
  },
  {
   "cell_type": "code",
   "execution_count": 19,
   "metadata": {},
   "outputs": [],
   "source": [
    "validation_target = validation['Exited']\n",
    "validation_features = validation.drop(['Exited'], axis=1)\n",
    "validation_features[numerics] = scaler.transform(validation_features[numerics])\n",
    "#validation_features"
   ]
  },
  {
   "cell_type": "markdown",
   "metadata": {},
   "source": [
    "# Análisis del balance de clases\n"
   ]
  },
  {
   "cell_type": "code",
   "execution_count": 20,
   "metadata": {},
   "outputs": [
    {
     "name": "stdout",
     "output_type": "stream",
     "text": [
      "0    4781\n",
      "1    1219\n",
      "Name: Exited, dtype: int64\n"
     ]
    },
    {
     "data": {
      "text/plain": [
       "<AxesSubplot:>"
      ]
     },
     "execution_count": 20,
     "metadata": {},
     "output_type": "execute_result"
    },
    {
     "data": {
      "image/png": "[encoded data removed]",
      "text/plain": [
       "<Figure size 640x480 with 1 Axes>"
      ]
     },
     "metadata": {},
     "output_type": "display_data"
    }
   ],
   "source": [
    "print(training_target.value_counts())\n",
    "\n",
    "# Porcentaje de clases\n",
    "training_target.value_counts(normalize=True).plot(kind='bar')\n"
   ]
  },
  {
   "cell_type": "markdown",
   "metadata": {},
   "source": [
    "Dada la relacion de valores 0 y 1, se tiene un desbalance de clases, por lo que es conveniente usar F1: util para conjuntos de datos desbalanceados."
   ]
  },
  {
   "cell_type": "markdown",
   "metadata": {},
   "source": [
    "<div class=\"alert alert-block alert-danger\"> \n",
    "<b>Comentario del Revisor #1</b> <a class=\"tocSkip\"></a>\n",
    "\n",
    "Parece que no consideraste el análisis del balance de clases, un aspecto crucial para evaluar si alguna clase está sobrerrepresentada o subrepresentada. Este desequilibrio puede impactar negativamente las predicciones del modelo, por lo que es fundamental revisar cuidadosamente la distribución de las clases.\n",
    "\n",
    "Además, es importante determinar la magnitud de este desbalance para decidir con precisión qué técnicas aplicar, como _oversampling_ o _downsampling_, y con qué peso emplearlas.\n",
    "</div>"
   ]
  },
  {
   "cell_type": "markdown",
   "metadata": {},
   "source": [
    "\n",
    "<div class=\"alert alert-block alert-info\"> <b>Corregido.</b> <a class=\"tocSkip\"></a> </div>"
   ]
  },
  {
   "cell_type": "markdown",
   "metadata": {},
   "source": [
    "<div class=\"alert alert-block alert-success\"> \n",
    "<b>Comentario del Revisor #2</b> <a class=\"tocSkip\"></a>\n",
    "\n",
    "Excelente! Has estudiado el balance de clases. Este es un paso crucial cuando las clases están desbalanceadas, ya que puede afectar el rendimiento del modelo. Al comprender la distribución de las clases, puedes aplicar técnicas para corregir el desequilibrio.\n",
    "\n",
    "</div>"
   ]
  },
  {
   "cell_type": "markdown",
   "metadata": {},
   "source": [
    "# Equilibrio de clases\n"
   ]
  },
  {
   "cell_type": "markdown",
   "metadata": {},
   "source": [
    "# upsample"
   ]
  },
  {
   "cell_type": "code",
   "execution_count": 21,
   "metadata": {},
   "outputs": [],
   "source": [
    "from sklearn.utils import shuffle\n",
    "def upsample(features, target, repeat):\n",
    "    features_zeros = features[target == 0]\n",
    "    features_ones = features[target == 1]\n",
    "    target_zeros = target[target == 0]\n",
    "    target_ones = target[target == 1]\n",
    "\n",
    "    features_upsampled = pd.concat([features_zeros] + [features_ones] * repeat)\n",
    "    target_upsampled = pd.concat([target_zeros] + [target_ones] * repeat)\n",
    "\n",
    "    features_upsampled, target_upsampled = shuffle(features_upsampled, target_upsampled, random_state=54321)\n",
    "\n",
    "    return features_upsampled, target_upsampled\n",
    "\n",
    "\n",
    "features_upsampled, target_upsampled = upsample(training_features, training_target, 2)\n"
   ]
  },
  {
   "cell_type": "markdown",
   "metadata": {},
   "source": [
    "# LogisticRegression"
   ]
  },
  {
   "cell_type": "code",
   "execution_count": 22,
   "metadata": {},
   "outputs": [
    {
     "name": "stdout",
     "output_type": "stream",
     "text": [
      "F1: 0.4839572192513369\n"
     ]
    }
   ],
   "source": [
    "model = LogisticRegression(random_state=54321)\n",
    "model.fit(features_upsampled, target_upsampled)\n",
    "predicted_valid = model.predict(validation_features)\n",
    "probabilities= model.predict_proba(validation_features)[:,1]\n",
    "print('F1:', f1_score(validation_target, predicted_valid))"
   ]
  },
  {
   "cell_type": "markdown",
   "metadata": {},
   "source": [
    "# downsample"
   ]
  },
  {
   "cell_type": "markdown",
   "metadata": {},
   "source": [
    "<div class=\"alert alert-block alert-success\"> \n",
    "<b>Comentario del Revisor #2</b> <a class=\"tocSkip\"></a>\n",
    "\n",
    "Muy bien! Usaste al menos dos técnicas para tratar el desbalanceo de clases, como el ajuste de pesos, upsampling o downsampling. Estas técnicas son fundamentales para que el modelo no favorezca la clase mayoritaria y tenga un mejor rendimiento en la clase minoritaria.\n",
    "\n",
    "</div>"
   ]
  },
  {
   "cell_type": "code",
   "execution_count": 23,
   "metadata": {},
   "outputs": [],
   "source": [
    "from sklearn.utils import shuffle\n",
    "def downsample(features, target, fraction):\n",
    "    features_zeros = features[target == 0]\n",
    "    features_ones = features[target == 1]\n",
    "    target_zeros = target[target == 0]\n",
    "    target_ones = target[target == 1]\n",
    "\n",
    "    features_downsampled = pd.concat([features_zeros.sample(frac=fraction, random_state=12345)] + [features_ones])\n",
    "    target_downsampled = pd.concat([target_zeros.sample(frac=fraction, random_state=12345)] + [target_ones])\n",
    "\n",
    "    features_downsampled, target_downsampled = shuffle(features_downsampled, target_downsampled, random_state=12345)\n",
    "    \n",
    "    return features_downsampled, target_downsampled\n",
    "\n",
    "\n",
    "features_downsampled, target_downsampled = downsample(training_features, training_target, 0.29)"
   ]
  },
  {
   "cell_type": "code",
   "execution_count": 24,
   "metadata": {},
   "outputs": [
    {
     "name": "stdout",
     "output_type": "stream",
     "text": [
      "F1: 0.48664122137404586\n"
     ]
    }
   ],
   "source": [
    "model = LogisticRegression(random_state=463523)\n",
    "model.fit(features_downsampled, target_downsampled)\n",
    "predicted_valid = model.predict(validation_features)\n",
    "probabilities= model.predict_proba(validation_features)[:,1]\n",
    "print('F1:', f1_score(validation_target, predicted_valid))"
   ]
  },
  {
   "cell_type": "markdown",
   "metadata": {},
   "source": [
    "# Modelo LogisticRegression()"
   ]
  },
  {
   "cell_type": "code",
   "execution_count": 25,
   "metadata": {},
   "outputs": [
    {
     "name": "stdout",
     "output_type": "stream",
     "text": [
      "F1: 0.30131826741996237\n"
     ]
    }
   ],
   "source": [
    "model = LogisticRegression(random_state=54321)\n",
    "model.fit(training_features, training_target)\n",
    "predicted_valid = model.predict(validation_features)\n",
    "probabilities= model.predict_proba(validation_features)[:,1]\n",
    "print('F1:', f1_score(validation_target, predicted_valid))"
   ]
  },
  {
   "cell_type": "code",
   "execution_count": null,
   "metadata": {},
   "outputs": [],
   "source": []
  },
  {
   "cell_type": "markdown",
   "metadata": {},
   "source": [
    "<div class=\"alert alert-block alert-danger\"> \n",
    "<b>Comentario del Revisor #1</b> <a class=\"tocSkip\"></a>\n",
    "\n",
    "La métrica F1 no ha alcanzado el 0.59. Esto puede deberse a un desequilibrio en las clases o a un ajuste inadecuado del modelo. Intenta ajustar los hiperparámetros o balancear mejor los datos para mejorar esta métrica clave.\n",
    "\n",
    "1. **Explora modelos más robustos:** Dedica tiempo a probar diferentes modelos además de la regresión logística que ya utilizaste. Por ejemplo, considera un modelo de Random Forest, que suele ser más robusto para este tipo de problemas. Asegúrate de realizar un ajuste de hiperparámetros (tuning) para optimizar su desempeño.\n",
    "\n",
    "2. **Preba/mejora las técnicas de muestreo:** Es fundamental aplicar buenas técnicas de muestreo (Por ejemplo, Sobremuestreo, Submuestreo o Métodos de balanceo integrados en el modelo). Esto no solo te permitirá comparar los resultados, sino que también es posible que una técnica sea más adecuada que otra para tu conjunto de datos.\n",
    "\n",
    "3. **Analiza el desbalanceo de los datos antes de muestrear:** Antes de aplicar las técnicas de muestreo, realiza un análisis del desbalanceo en las clases. Un buen enfoque es crear un gráfico, como un gráfico de barras, que muestre las proporciones de cada clase. Esto te permitirá identificar el grado de desbalanceo y decidir un ratio adecuado para el re-muestreo (por ejemplo, equilibrar las clases al 50%-50% o mantener cierta proporción original).\n",
    "\n",
    "4. **Valida el efecto del muestreo:** Una vez que apliques el muestreo, verifica si el problema de desbalanceo se ha resuelto. Esto puedes hacerlo imprimiendo las dimensiones del dataset resultante (con .shape) y revisando nuevamente las proporciones de las clases. Es crucial asegurarte de que el muestreo efectivamente haya corregido el desbalanceo y no haya generado un problema adicional, como un desbalanceo inverso.\n",
    "\n",
    "</div>"
   ]
  },
  {
   "cell_type": "markdown",
   "metadata": {},
   "source": [
    "# Modelo RandomForestClassifier"
   ]
  },
  {
   "cell_type": "code",
   "execution_count": 26,
   "metadata": {},
   "outputs": [
    {
     "name": "stdout",
     "output_type": "stream",
     "text": [
      "El valor F1 mas grande en el conjunto de validación (n_estimators = 50): 0.6080691642651297\n",
      "auc_roc: 0.8545362642043874\n"
     ]
    }
   ],
   "source": [
    "##---------------Usando upsampled\n",
    "from sklearn.metrics import f1_score\n",
    "from sklearn.metrics import roc_auc_score\n",
    "best_score = 0\n",
    "best_est = 0\n",
    "best_auc_roc = 0\n",
    "for est in range(10, 51, 10):\n",
    "    for depth in range (1, 11):\n",
    "        model = RandomForestClassifier(max_depth=depth, n_estimators=est, random_state=463523)# inicializa el constructor de modelos con los parámetros random_state=54321, n_estimators=est y max_depth=depth\n",
    "        model.fit(features_upsampled, target_upsampled)\n",
    "        predicted_valid = model.predict(validation_features)\n",
    "        score=f1_score(validation_target, predicted_valid)\n",
    "        probabilities_valid = model.predict_proba(validation_features)\n",
    "        probabilities_one_valid = probabilities_valid[:, 1]\n",
    "        if score > best_score:\n",
    "            best_score = score\n",
    "            best_est = est\n",
    "        auc_roc=roc_auc_score(validation_target, probabilities_one_valid)\n",
    "        if auc_roc > best_auc_roc:\n",
    "            best_auc_roc = auc_roc\n",
    "        \n",
    "          \n",
    "print(\"El valor F1 mas grande en el conjunto de validación (n_estimators = {}): {}\".format(best_est, best_score))\n",
    "print(\"auc_roc:\", best_auc_roc)"
   ]
  },
  {
   "cell_type": "code",
   "execution_count": 29,
   "metadata": {},
   "outputs": [],
   "source": [
    "#El modelo RandomForestClassifier en conjunto con la tecnica de muestreo  upsampled permiten un valor F1 =0.6 con auc_roc: 0.85"
   ]
  },
  {
   "cell_type": "code",
   "execution_count": 28,
   "metadata": {},
   "outputs": [
    {
     "name": "stdout",
     "output_type": "stream",
     "text": [
      "El valor F1 mas grande en el conjunto de validación (n_estimators = 30): 0.5802997858672377\n",
      "auc_roc: 0.8489967716759468\n"
     ]
    }
   ],
   "source": [
    "from sklearn.metrics import f1_score\n",
    "from sklearn.metrics import roc_auc_score\n",
    "best_score = 0\n",
    "best_est = 0\n",
    "best_auc_roc = 0\n",
    "for est in range(10, 51, 5):\n",
    "    for depth in range (1, 31):\n",
    "        model = RandomForestClassifier(max_depth=depth, n_estimators=est, random_state=463523)# inicializa el constructor de modelos con los parámetros random_state=54321, n_estimators=est y max_depth=depth\n",
    "        model.fit(features_downsampled, target_downsampled)\n",
    "        predicted_valid = model.predict(validation_features)\n",
    "        score=f1_score(validation_target, predicted_valid)\n",
    "        probabilities_valid = model.predict_proba(validation_features)\n",
    "        probabilities_one_valid = probabilities_valid[:, 1]\n",
    "        if score > best_score:\n",
    "            best_score = score\n",
    "            best_est = est\n",
    "        auc_roc=roc_auc_score(validation_target, probabilities_one_valid)\n",
    "        if auc_roc > best_auc_roc:\n",
    "            best_auc_roc = auc_roc\n",
    "        \n",
    "          \n",
    "print(\"El valor F1 mas grande en el conjunto de validación (n_estimators = {}): {}\".format(best_est, best_score))\n",
    "print(\"auc_roc:\", best_auc_roc)"
   ]
  },
  {
   "cell_type": "markdown",
   "metadata": {},
   "source": [
    "<div class=\"alert alert-block alert-success\"> \n",
    "<b>Comentario del Revisor #2</b> <a class=\"tocSkip\"></a>\n",
    "\n",
    "Excelente! Estudiaste la métrica AUC-ROC, que es una de las mejores métricas para evaluar modelos de clasificación binaria. Un buen AUC-ROC indica que el modelo es capaz de distinguir correctamente entre las clases.\n",
    "    \n",
    "Además, parece ser que el modelo RandomForestClassifier tiene buenos resultados con ciertos valores de hiperparámetros al validarlo con el conjunto de validación. \n",
    "   \n",
    "<div class=\"alert alert-block alert-danger\"> \n",
    "<b>Comentario del Revisor #2</b> <a class=\"tocSkip\"></a>\n",
    "\n",
    "Solo falta seleccionar los mejores hiperparámetros y testear el modelo final con el conjunto de test previamente separado para esto. De llegar al 0.59 solicitado, el trabajo estaría finalizado.\n",
    "\n",
    "</div>\n",
    "\n",
    "</div>"
   ]
  },
  {
   "cell_type": "markdown",
   "metadata": {},
   "source": [
    "<div class=\"alert alert-block alert-success\"> \n",
    "<b>Comentario del Revisor #1</b> <a class=\"tocSkip\"></a>\n",
    "\n",
    "Muy buen trabajo Ann! \n",
    "\n",
    "<div class=\"alert alert-block alert-danger\">\n",
    "<b>Comentario del Revisor #1</b> <a class=\"tocSkip\"></a>\n",
    "\n",
    "Te he dejado algunos comentarios, pero para poder darlo por aprobado debes completar los pasos de la siguiente lista que no estan marcados como completos:\n",
    "\n",
    "</div>\n",
    "\n",
    "- [ ]  Análisis de las clases.\n",
    "    - [ ]  Se ha estudiado el balance de clases.\n",
    "    - [ ]  Se han utilizado al menos 2 técnicas para combatir el desequilibrio de las clases (por ejemplo: weight adjustment, upsampling, downsampling).\n",
    "    - [ ]  Los resultados del estudio han sido documentados.\n",
    "- [ ]  Se ha estudiado la métrica *F1* con **al menos 0.59**.\n",
    "- [ ]  Se ha estudiado la métrica *AUC-ROC*.\n",
    "\n",
    "</div>"
   ]
  },
  {
   "cell_type": "markdown",
   "metadata": {},
   "source": [
    "\n",
    "<div class=\"alert alert-block alert-success\"> \n",
    "<b>Comentario del Revisor #2</b> <a class=\"tocSkip\"></a>\n",
    "\n",
    "Muy buen trabajo Ann! \n",
    "\n",
    "<div class=\"alert alert-block alert-danger\">\n",
    "<b>Comentario del Revisor #1</b> <a class=\"tocSkip\"></a>\n",
    "\n",
    "Solo quedaría testear el modelo con los mejores hiperparámetros y controlar que se alcanza un valor de 0.59 o más para la métrica F1. \n",
    "    \n",
    "También, no olvides dejar claramente tus conclusiones sobre los resultados.\n",
    "\n",
    "</div>\n",
    "    \n",
    "Sin duda, aplicando upsample y utilizando el modelo RandomForestClassifier pareces estar teniendo buenos resultados. \n",
    "\n",
    "</div>"
   ]
  },
  {
   "cell_type": "markdown",
   "metadata": {},
   "source": [
    "<div class=\"alert alert-block alert-warning\"> \n",
    "<b>Comentario del Revisor #3</b> <a class=\"tocSkip\"></a>\n",
    "\n",
    "Muy buen trabajo. Sin embargo, aún no veo la validación final con el conjunto TEST. Sin embargo, tu entrega está muy bien. \n",
    "    \n",
    "Recuerda siempre utilizar al final el conjunto test separado al comienzo para evaluar el modelo final.\n",
    "\n",
    "</div>"
   ]
  }
 ],
 "metadata": {
  "ExecuteTimeLog": [
   {
    "duration": 289,
    "start_time": "2024-12-21T19:36:23.479Z"
   },
   {
    "duration": 22,
    "start_time": "2024-12-21T19:36:25.626Z"
   },
   {
    "duration": 20,
    "start_time": "2024-12-21T19:39:20.435Z"
   },
   {
    "duration": 763,
    "start_time": "2024-12-21T20:21:33.638Z"
   },
   {
    "duration": 17,
    "start_time": "2024-12-21T20:21:34.403Z"
   },
   {
    "duration": 18,
    "start_time": "2024-12-21T20:21:34.422Z"
   },
   {
    "duration": 223,
    "start_time": "2024-12-21T20:21:34.442Z"
   },
   {
    "duration": 773,
    "start_time": "2024-12-21T20:22:11.261Z"
   },
   {
    "duration": 14,
    "start_time": "2024-12-21T20:22:12.037Z"
   },
   {
    "duration": 19,
    "start_time": "2024-12-21T20:22:12.053Z"
   },
   {
    "duration": 7,
    "start_time": "2024-12-21T20:22:12.073Z"
   },
   {
    "duration": 11,
    "start_time": "2024-12-21T22:15:35.926Z"
   },
   {
    "duration": 214,
    "start_time": "2024-12-21T22:20:10.570Z"
   },
   {
    "duration": 5,
    "start_time": "2024-12-21T22:21:59.679Z"
   },
   {
    "duration": 4,
    "start_time": "2024-12-21T22:22:59.802Z"
   },
   {
    "duration": 3,
    "start_time": "2024-12-21T22:27:37.311Z"
   },
   {
    "duration": 14,
    "start_time": "2024-12-21T22:27:39.217Z"
   },
   {
    "duration": 3,
    "start_time": "2024-12-21T22:27:44.208Z"
   },
   {
    "duration": 14,
    "start_time": "2024-12-21T22:27:53.643Z"
   },
   {
    "duration": 14,
    "start_time": "2024-12-21T22:29:20.491Z"
   },
   {
    "duration": 834,
    "start_time": "2024-12-21T22:29:47.009Z"
   },
   {
    "duration": 17,
    "start_time": "2024-12-21T22:29:47.846Z"
   },
   {
    "duration": 11,
    "start_time": "2024-12-21T22:29:47.864Z"
   },
   {
    "duration": 3,
    "start_time": "2024-12-21T22:29:47.877Z"
   },
   {
    "duration": 4,
    "start_time": "2024-12-21T22:29:47.881Z"
   },
   {
    "duration": 3,
    "start_time": "2024-12-21T22:29:47.887Z"
   },
   {
    "duration": 7,
    "start_time": "2024-12-21T22:29:47.909Z"
   },
   {
    "duration": 3,
    "start_time": "2024-12-21T22:30:05.209Z"
   },
   {
    "duration": 5,
    "start_time": "2024-12-21T22:30:07.141Z"
   },
   {
    "duration": 3,
    "start_time": "2024-12-21T22:30:09.224Z"
   },
   {
    "duration": 8,
    "start_time": "2024-12-21T22:30:21.699Z"
   },
   {
    "duration": 226,
    "start_time": "2024-12-21T22:31:18.454Z"
   },
   {
    "duration": 4,
    "start_time": "2024-12-21T22:31:49.411Z"
   },
   {
    "duration": 10,
    "start_time": "2024-12-21T23:39:43.726Z"
   },
   {
    "duration": 13,
    "start_time": "2024-12-21T23:40:13.078Z"
   },
   {
    "duration": 16,
    "start_time": "2024-12-21T23:40:18.944Z"
   },
   {
    "duration": 4,
    "start_time": "2024-12-21T23:40:42.962Z"
   },
   {
    "duration": 14,
    "start_time": "2024-12-22T00:00:09.011Z"
   },
   {
    "duration": 6,
    "start_time": "2024-12-22T00:00:36.091Z"
   },
   {
    "duration": 15,
    "start_time": "2024-12-22T00:00:52.362Z"
   },
   {
    "duration": 14,
    "start_time": "2024-12-22T00:01:01.098Z"
   },
   {
    "duration": 16,
    "start_time": "2024-12-22T00:01:11.158Z"
   },
   {
    "duration": 11,
    "start_time": "2024-12-22T00:01:19.924Z"
   },
   {
    "duration": 791,
    "start_time": "2024-12-22T00:01:42.439Z"
   },
   {
    "duration": 17,
    "start_time": "2024-12-22T00:01:43.233Z"
   },
   {
    "duration": 11,
    "start_time": "2024-12-22T00:01:43.251Z"
   },
   {
    "duration": 2,
    "start_time": "2024-12-22T00:01:43.265Z"
   },
   {
    "duration": 3,
    "start_time": "2024-12-22T00:01:43.269Z"
   },
   {
    "duration": 35,
    "start_time": "2024-12-22T00:01:43.274Z"
   },
   {
    "duration": 10,
    "start_time": "2024-12-22T00:01:43.311Z"
   },
   {
    "duration": 5,
    "start_time": "2024-12-22T00:01:43.322Z"
   },
   {
    "duration": 7,
    "start_time": "2024-12-22T00:01:43.329Z"
   },
   {
    "duration": 232,
    "start_time": "2024-12-22T00:01:43.339Z"
   },
   {
    "duration": 13,
    "start_time": "2024-12-22T00:02:50.226Z"
   },
   {
    "duration": 11,
    "start_time": "2024-12-22T00:03:04.236Z"
   },
   {
    "duration": 759,
    "start_time": "2024-12-22T00:03:17.967Z"
   },
   {
    "duration": 16,
    "start_time": "2024-12-22T00:03:18.728Z"
   },
   {
    "duration": 10,
    "start_time": "2024-12-22T00:03:18.745Z"
   },
   {
    "duration": 3,
    "start_time": "2024-12-22T00:03:18.756Z"
   },
   {
    "duration": 9,
    "start_time": "2024-12-22T00:03:18.761Z"
   },
   {
    "duration": 9,
    "start_time": "2024-12-22T00:03:18.772Z"
   },
   {
    "duration": 30,
    "start_time": "2024-12-22T00:03:18.783Z"
   },
   {
    "duration": 7,
    "start_time": "2024-12-22T00:03:18.815Z"
   },
   {
    "duration": 245,
    "start_time": "2024-12-22T00:03:18.824Z"
   },
   {
    "duration": 14,
    "start_time": "2024-12-22T00:04:52.885Z"
   },
   {
    "duration": 8,
    "start_time": "2024-12-22T00:05:00.486Z"
   },
   {
    "duration": 5,
    "start_time": "2024-12-22T00:15:59.063Z"
   },
   {
    "duration": 7,
    "start_time": "2024-12-22T00:16:53.833Z"
   },
   {
    "duration": 3,
    "start_time": "2024-12-22T00:20:17.846Z"
   },
   {
    "duration": 6,
    "start_time": "2024-12-22T00:20:28.346Z"
   },
   {
    "duration": 9,
    "start_time": "2024-12-22T00:22:57.334Z"
   },
   {
    "duration": 6,
    "start_time": "2024-12-22T00:25:46.825Z"
   },
   {
    "duration": 4,
    "start_time": "2024-12-22T00:27:32.878Z"
   },
   {
    "duration": 6,
    "start_time": "2024-12-22T00:27:41.600Z"
   },
   {
    "duration": 9,
    "start_time": "2024-12-22T03:11:29.554Z"
   },
   {
    "duration": 153,
    "start_time": "2024-12-22T03:12:09.626Z"
   },
   {
    "duration": 804,
    "start_time": "2024-12-22T03:12:56.641Z"
   },
   {
    "duration": 24,
    "start_time": "2024-12-22T03:12:57.447Z"
   },
   {
    "duration": 10,
    "start_time": "2024-12-22T03:12:57.472Z"
   },
   {
    "duration": 2,
    "start_time": "2024-12-22T03:12:57.484Z"
   },
   {
    "duration": 9,
    "start_time": "2024-12-22T03:12:57.489Z"
   },
   {
    "duration": 25,
    "start_time": "2024-12-22T03:12:57.500Z"
   },
   {
    "duration": 11,
    "start_time": "2024-12-22T03:12:57.534Z"
   },
   {
    "duration": 3,
    "start_time": "2024-12-22T03:12:57.547Z"
   },
   {
    "duration": 0,
    "start_time": "2024-12-22T03:12:57.552Z"
   },
   {
    "duration": 0,
    "start_time": "2024-12-22T03:12:57.553Z"
   },
   {
    "duration": 0,
    "start_time": "2024-12-22T03:12:57.554Z"
   },
   {
    "duration": 212,
    "start_time": "2024-12-22T03:13:22.806Z"
   },
   {
    "duration": 3,
    "start_time": "2024-12-22T03:13:31.514Z"
   },
   {
    "duration": 749,
    "start_time": "2024-12-22T03:13:34.091Z"
   },
   {
    "duration": 61,
    "start_time": "2024-12-22T03:13:55.066Z"
   },
   {
    "duration": 65,
    "start_time": "2024-12-22T03:14:07.571Z"
   },
   {
    "duration": 61,
    "start_time": "2024-12-22T03:14:20.264Z"
   },
   {
    "duration": 9,
    "start_time": "2024-12-22T03:14:41.466Z"
   },
   {
    "duration": 7,
    "start_time": "2024-12-22T03:14:53.571Z"
   },
   {
    "duration": 6,
    "start_time": "2024-12-22T03:15:04.055Z"
   },
   {
    "duration": 78,
    "start_time": "2024-12-22T03:15:17.482Z"
   },
   {
    "duration": 62,
    "start_time": "2024-12-22T03:20:23.033Z"
   },
   {
    "duration": 4,
    "start_time": "2024-12-22T03:21:09.377Z"
   },
   {
    "duration": 5,
    "start_time": "2024-12-22T03:22:37.999Z"
   },
   {
    "duration": 5,
    "start_time": "2024-12-22T03:22:47.370Z"
   },
   {
    "duration": 5,
    "start_time": "2024-12-22T03:23:05.110Z"
   },
   {
    "duration": 3,
    "start_time": "2024-12-22T03:30:06.447Z"
   },
   {
    "duration": 4,
    "start_time": "2024-12-22T03:30:11.452Z"
   },
   {
    "duration": 6,
    "start_time": "2024-12-22T03:30:40.288Z"
   },
   {
    "duration": 6,
    "start_time": "2024-12-22T03:31:19.066Z"
   },
   {
    "duration": 5,
    "start_time": "2024-12-22T03:31:27.107Z"
   },
   {
    "duration": 6,
    "start_time": "2024-12-22T03:32:15.319Z"
   },
   {
    "duration": 5,
    "start_time": "2024-12-22T03:43:03.610Z"
   },
   {
    "duration": 4,
    "start_time": "2024-12-22T03:43:22.219Z"
   },
   {
    "duration": 4,
    "start_time": "2024-12-22T03:45:52.971Z"
   },
   {
    "duration": 3,
    "start_time": "2024-12-22T03:46:00.240Z"
   },
   {
    "duration": 5,
    "start_time": "2024-12-22T03:46:07.142Z"
   },
   {
    "duration": 4,
    "start_time": "2024-12-22T03:46:39.669Z"
   },
   {
    "duration": 2,
    "start_time": "2024-12-22T03:52:48.981Z"
   },
   {
    "duration": 4,
    "start_time": "2024-12-22T03:52:52.481Z"
   },
   {
    "duration": 4,
    "start_time": "2024-12-22T03:58:20.751Z"
   },
   {
    "duration": 5,
    "start_time": "2024-12-22T03:59:17.204Z"
   },
   {
    "duration": 4,
    "start_time": "2024-12-22T04:00:20.709Z"
   },
   {
    "duration": 3,
    "start_time": "2024-12-22T04:00:30.983Z"
   },
   {
    "duration": 4,
    "start_time": "2024-12-22T04:05:20.474Z"
   },
   {
    "duration": 17,
    "start_time": "2024-12-22T04:06:41.896Z"
   },
   {
    "duration": 14,
    "start_time": "2024-12-22T04:28:18.367Z"
   },
   {
    "duration": 13,
    "start_time": "2024-12-22T04:28:38.081Z"
   },
   {
    "duration": 12,
    "start_time": "2024-12-22T04:28:41.901Z"
   },
   {
    "duration": 12,
    "start_time": "2024-12-22T04:30:02.595Z"
   },
   {
    "duration": 17,
    "start_time": "2024-12-22T04:30:36.487Z"
   },
   {
    "duration": 17,
    "start_time": "2024-12-22T04:39:12.483Z"
   },
   {
    "duration": 17,
    "start_time": "2024-12-22T04:39:19.053Z"
   },
   {
    "duration": 17,
    "start_time": "2024-12-22T04:39:44.768Z"
   },
   {
    "duration": 18,
    "start_time": "2024-12-22T04:39:56.152Z"
   },
   {
    "duration": 803,
    "start_time": "2024-12-22T23:36:59.619Z"
   },
   {
    "duration": 24,
    "start_time": "2024-12-22T23:37:00.425Z"
   },
   {
    "duration": 10,
    "start_time": "2024-12-22T23:37:00.450Z"
   },
   {
    "duration": 3,
    "start_time": "2024-12-22T23:37:00.462Z"
   },
   {
    "duration": 10,
    "start_time": "2024-12-22T23:37:00.467Z"
   },
   {
    "duration": 8,
    "start_time": "2024-12-22T23:37:00.478Z"
   },
   {
    "duration": 25,
    "start_time": "2024-12-22T23:37:00.487Z"
   },
   {
    "duration": 6,
    "start_time": "2024-12-22T23:37:00.514Z"
   },
   {
    "duration": 4,
    "start_time": "2024-12-22T23:37:00.523Z"
   },
   {
    "duration": 4,
    "start_time": "2024-12-22T23:37:00.529Z"
   },
   {
    "duration": 4,
    "start_time": "2024-12-22T23:37:00.534Z"
   },
   {
    "duration": 14,
    "start_time": "2024-12-22T23:37:00.540Z"
   },
   {
    "duration": 17,
    "start_time": "2024-12-22T23:37:00.555Z"
   },
   {
    "duration": 41,
    "start_time": "2024-12-22T23:37:00.574Z"
   },
   {
    "duration": 5,
    "start_time": "2024-12-22T23:49:37.752Z"
   },
   {
    "duration": 7,
    "start_time": "2024-12-22T23:49:49.876Z"
   },
   {
    "duration": 5,
    "start_time": "2024-12-23T00:04:10.774Z"
   },
   {
    "duration": 12,
    "start_time": "2024-12-23T00:04:18.083Z"
   },
   {
    "duration": 14,
    "start_time": "2024-12-23T00:04:24.736Z"
   },
   {
    "duration": 4,
    "start_time": "2024-12-23T00:04:30.197Z"
   },
   {
    "duration": 3,
    "start_time": "2024-12-23T00:04:44.964Z"
   },
   {
    "duration": 4,
    "start_time": "2024-12-23T00:05:36.504Z"
   },
   {
    "duration": 4,
    "start_time": "2024-12-23T00:05:45.603Z"
   },
   {
    "duration": 5,
    "start_time": "2024-12-23T00:05:54.715Z"
   },
   {
    "duration": 3,
    "start_time": "2024-12-23T00:20:16.468Z"
   },
   {
    "duration": 4,
    "start_time": "2024-12-23T00:20:19.853Z"
   },
   {
    "duration": 5,
    "start_time": "2024-12-23T00:20:33.049Z"
   },
   {
    "duration": 3,
    "start_time": "2024-12-23T00:20:35.470Z"
   },
   {
    "duration": 3,
    "start_time": "2024-12-23T00:24:11.560Z"
   },
   {
    "duration": 3,
    "start_time": "2024-12-23T00:24:23.366Z"
   },
   {
    "duration": 4,
    "start_time": "2024-12-23T01:00:59.850Z"
   },
   {
    "duration": 3,
    "start_time": "2024-12-23T01:01:02.876Z"
   },
   {
    "duration": 14,
    "start_time": "2024-12-23T01:24:57.115Z"
   },
   {
    "duration": 170,
    "start_time": "2024-12-23T03:57:06.063Z"
   },
   {
    "duration": 764,
    "start_time": "2024-12-23T03:57:35.208Z"
   },
   {
    "duration": 21,
    "start_time": "2024-12-23T03:57:35.975Z"
   },
   {
    "duration": 10,
    "start_time": "2024-12-23T03:57:35.998Z"
   },
   {
    "duration": 2,
    "start_time": "2024-12-23T03:57:36.010Z"
   },
   {
    "duration": 18,
    "start_time": "2024-12-23T03:57:36.015Z"
   },
   {
    "duration": 8,
    "start_time": "2024-12-23T03:57:36.034Z"
   },
   {
    "duration": 10,
    "start_time": "2024-12-23T03:57:36.044Z"
   },
   {
    "duration": 7,
    "start_time": "2024-12-23T03:57:36.055Z"
   },
   {
    "duration": 4,
    "start_time": "2024-12-23T03:57:36.064Z"
   },
   {
    "duration": 5,
    "start_time": "2024-12-23T03:57:36.070Z"
   },
   {
    "duration": 4,
    "start_time": "2024-12-23T03:57:36.076Z"
   },
   {
    "duration": 61,
    "start_time": "2024-12-23T03:57:36.082Z"
   },
   {
    "duration": 17,
    "start_time": "2024-12-23T03:57:36.145Z"
   },
   {
    "duration": 5,
    "start_time": "2024-12-23T03:57:36.165Z"
   },
   {
    "duration": 4,
    "start_time": "2024-12-23T03:57:36.172Z"
   },
   {
    "duration": 3,
    "start_time": "2024-12-23T03:57:36.179Z"
   },
   {
    "duration": 3,
    "start_time": "2024-12-23T03:57:36.184Z"
   },
   {
    "duration": 4,
    "start_time": "2024-12-23T03:57:36.189Z"
   },
   {
    "duration": 253,
    "start_time": "2024-12-23T03:57:36.194Z"
   },
   {
    "duration": 14,
    "start_time": "2024-12-23T04:01:02.854Z"
   },
   {
    "duration": 3,
    "start_time": "2024-12-23T04:01:08.362Z"
   },
   {
    "duration": 13,
    "start_time": "2024-12-23T04:01:16.952Z"
   },
   {
    "duration": 2,
    "start_time": "2024-12-23T04:01:47.312Z"
   },
   {
    "duration": 133,
    "start_time": "2024-12-23T04:01:50.076Z"
   },
   {
    "duration": 8,
    "start_time": "2024-12-23T04:02:22.789Z"
   },
   {
    "duration": 9,
    "start_time": "2024-12-23T04:02:31.840Z"
   },
   {
    "duration": 808,
    "start_time": "2024-12-24T01:26:49.106Z"
   },
   {
    "duration": 25,
    "start_time": "2024-12-24T01:26:49.916Z"
   },
   {
    "duration": 11,
    "start_time": "2024-12-24T01:26:49.943Z"
   },
   {
    "duration": 3,
    "start_time": "2024-12-24T01:26:49.955Z"
   },
   {
    "duration": 9,
    "start_time": "2024-12-24T01:26:49.961Z"
   },
   {
    "duration": 9,
    "start_time": "2024-12-24T01:26:49.972Z"
   },
   {
    "duration": 8,
    "start_time": "2024-12-24T01:26:49.983Z"
   },
   {
    "duration": 8,
    "start_time": "2024-12-24T01:26:49.993Z"
   },
   {
    "duration": 4,
    "start_time": "2024-12-24T01:26:50.032Z"
   },
   {
    "duration": 5,
    "start_time": "2024-12-24T01:26:50.038Z"
   },
   {
    "duration": 4,
    "start_time": "2024-12-24T01:26:50.044Z"
   },
   {
    "duration": 14,
    "start_time": "2024-12-24T01:26:50.050Z"
   },
   {
    "duration": 19,
    "start_time": "2024-12-24T01:26:50.066Z"
   },
   {
    "duration": 6,
    "start_time": "2024-12-24T01:26:50.088Z"
   },
   {
    "duration": 41,
    "start_time": "2024-12-24T01:26:50.095Z"
   },
   {
    "duration": 3,
    "start_time": "2024-12-24T01:26:50.138Z"
   },
   {
    "duration": 8,
    "start_time": "2024-12-24T01:26:50.142Z"
   },
   {
    "duration": 3,
    "start_time": "2024-12-24T01:26:50.152Z"
   },
   {
    "duration": 4,
    "start_time": "2024-12-24T01:26:50.157Z"
   },
   {
    "duration": 2,
    "start_time": "2024-12-24T01:26:50.163Z"
   },
   {
    "duration": 17,
    "start_time": "2024-12-24T01:32:07.158Z"
   },
   {
    "duration": 5,
    "start_time": "2024-12-24T01:32:13.196Z"
   },
   {
    "duration": 9,
    "start_time": "2024-12-24T01:32:24.937Z"
   },
   {
    "duration": 9,
    "start_time": "2024-12-24T01:32:44.774Z"
   },
   {
    "duration": 8,
    "start_time": "2024-12-24T01:32:48.863Z"
   },
   {
    "duration": 20,
    "start_time": "2024-12-24T01:33:04.991Z"
   },
   {
    "duration": 11,
    "start_time": "2024-12-24T01:33:19.075Z"
   },
   {
    "duration": 237,
    "start_time": "2024-12-24T01:43:12.921Z"
   },
   {
    "duration": 18,
    "start_time": "2024-12-24T01:45:07.403Z"
   },
   {
    "duration": 757,
    "start_time": "2024-12-24T01:45:30.009Z"
   },
   {
    "duration": 18,
    "start_time": "2024-12-24T01:45:30.768Z"
   },
   {
    "duration": 12,
    "start_time": "2024-12-24T01:45:30.787Z"
   },
   {
    "duration": 3,
    "start_time": "2024-12-24T01:45:30.801Z"
   },
   {
    "duration": 24,
    "start_time": "2024-12-24T01:45:30.807Z"
   },
   {
    "duration": 8,
    "start_time": "2024-12-24T01:45:30.834Z"
   },
   {
    "duration": 10,
    "start_time": "2024-12-24T01:45:30.843Z"
   },
   {
    "duration": 8,
    "start_time": "2024-12-24T01:45:30.854Z"
   },
   {
    "duration": 4,
    "start_time": "2024-12-24T01:45:30.864Z"
   },
   {
    "duration": 4,
    "start_time": "2024-12-24T01:45:30.870Z"
   },
   {
    "duration": 4,
    "start_time": "2024-12-24T01:45:30.876Z"
   },
   {
    "duration": 61,
    "start_time": "2024-12-24T01:45:30.881Z"
   },
   {
    "duration": 18,
    "start_time": "2024-12-24T01:45:30.944Z"
   },
   {
    "duration": 6,
    "start_time": "2024-12-24T01:45:30.965Z"
   },
   {
    "duration": 5,
    "start_time": "2024-12-24T01:45:30.972Z"
   },
   {
    "duration": 2,
    "start_time": "2024-12-24T01:45:30.979Z"
   },
   {
    "duration": 253,
    "start_time": "2024-12-24T01:45:30.983Z"
   },
   {
    "duration": 0,
    "start_time": "2024-12-24T01:45:31.238Z"
   },
   {
    "duration": 0,
    "start_time": "2024-12-24T01:45:31.239Z"
   },
   {
    "duration": 0,
    "start_time": "2024-12-24T01:45:31.240Z"
   },
   {
    "duration": 19,
    "start_time": "2024-12-24T01:46:00.830Z"
   },
   {
    "duration": 20,
    "start_time": "2024-12-24T01:46:14.402Z"
   },
   {
    "duration": 23,
    "start_time": "2024-12-24T01:48:23.804Z"
   },
   {
    "duration": 20,
    "start_time": "2024-12-24T01:48:38.549Z"
   },
   {
    "duration": 20,
    "start_time": "2024-12-24T01:57:48.450Z"
   },
   {
    "duration": 20,
    "start_time": "2024-12-24T01:58:07.667Z"
   },
   {
    "duration": 753,
    "start_time": "2024-12-24T01:59:23.796Z"
   },
   {
    "duration": 18,
    "start_time": "2024-12-24T01:59:24.552Z"
   },
   {
    "duration": 10,
    "start_time": "2024-12-24T01:59:24.572Z"
   },
   {
    "duration": 3,
    "start_time": "2024-12-24T01:59:24.583Z"
   },
   {
    "duration": 9,
    "start_time": "2024-12-24T01:59:24.589Z"
   },
   {
    "duration": 7,
    "start_time": "2024-12-24T01:59:24.600Z"
   },
   {
    "duration": 30,
    "start_time": "2024-12-24T01:59:24.609Z"
   },
   {
    "duration": 8,
    "start_time": "2024-12-24T01:59:24.641Z"
   },
   {
    "duration": 4,
    "start_time": "2024-12-24T01:59:24.651Z"
   },
   {
    "duration": 5,
    "start_time": "2024-12-24T01:59:24.657Z"
   },
   {
    "duration": 4,
    "start_time": "2024-12-24T01:59:24.663Z"
   },
   {
    "duration": 15,
    "start_time": "2024-12-24T01:59:24.669Z"
   },
   {
    "duration": 62,
    "start_time": "2024-12-24T01:59:24.686Z"
   },
   {
    "duration": 5,
    "start_time": "2024-12-24T01:59:24.751Z"
   },
   {
    "duration": 5,
    "start_time": "2024-12-24T01:59:24.757Z"
   },
   {
    "duration": 3,
    "start_time": "2024-12-24T01:59:24.763Z"
   },
   {
    "duration": 21,
    "start_time": "2024-12-24T01:59:24.767Z"
   },
   {
    "duration": 4,
    "start_time": "2024-12-24T01:59:24.789Z"
   },
   {
    "duration": 4,
    "start_time": "2024-12-24T01:59:24.794Z"
   },
   {
    "duration": 2,
    "start_time": "2024-12-24T01:59:24.832Z"
   },
   {
    "duration": 574,
    "start_time": "2024-12-24T02:00:10.976Z"
   },
   {
    "duration": 22,
    "start_time": "2024-12-24T02:00:22.691Z"
   },
   {
    "duration": 29,
    "start_time": "2024-12-24T02:00:29.311Z"
   },
   {
    "duration": 20,
    "start_time": "2024-12-24T02:00:44.061Z"
   },
   {
    "duration": 21,
    "start_time": "2024-12-24T02:00:55.000Z"
   },
   {
    "duration": 20,
    "start_time": "2024-12-24T02:00:59.365Z"
   },
   {
    "duration": 19,
    "start_time": "2024-12-24T02:01:03.404Z"
   },
   {
    "duration": 25,
    "start_time": "2024-12-24T02:01:08.168Z"
   },
   {
    "duration": 18,
    "start_time": "2024-12-24T02:03:52.916Z"
   },
   {
    "duration": 21,
    "start_time": "2024-12-24T02:04:08.779Z"
   },
   {
    "duration": 24,
    "start_time": "2024-12-24T02:05:28.966Z"
   },
   {
    "duration": 13,
    "start_time": "2024-12-24T02:13:08.518Z"
   },
   {
    "duration": 27,
    "start_time": "2024-12-24T02:27:56.963Z"
   },
   {
    "duration": 13,
    "start_time": "2024-12-24T02:28:07.056Z"
   },
   {
    "duration": 16,
    "start_time": "2024-12-24T02:28:21.067Z"
   },
   {
    "duration": 15,
    "start_time": "2024-12-24T02:28:39.564Z"
   },
   {
    "duration": 12,
    "start_time": "2024-12-24T02:36:49.619Z"
   },
   {
    "duration": 16,
    "start_time": "2024-12-24T02:38:18.166Z"
   },
   {
    "duration": 23,
    "start_time": "2024-12-24T02:38:27.300Z"
   },
   {
    "duration": 16,
    "start_time": "2024-12-24T03:47:25.078Z"
   },
   {
    "duration": 11,
    "start_time": "2024-12-24T03:48:16.526Z"
   },
   {
    "duration": 11,
    "start_time": "2024-12-24T03:49:02.932Z"
   },
   {
    "duration": 21,
    "start_time": "2024-12-24T03:49:18.187Z"
   },
   {
    "duration": 14,
    "start_time": "2024-12-24T03:49:24.218Z"
   },
   {
    "duration": 762,
    "start_time": "2024-12-24T18:29:04.868Z"
   },
   {
    "duration": 20,
    "start_time": "2024-12-24T18:29:05.633Z"
   },
   {
    "duration": 11,
    "start_time": "2024-12-24T18:29:05.654Z"
   },
   {
    "duration": 3,
    "start_time": "2024-12-24T18:29:05.666Z"
   },
   {
    "duration": 10,
    "start_time": "2024-12-24T18:29:05.671Z"
   },
   {
    "duration": 8,
    "start_time": "2024-12-24T18:29:05.682Z"
   },
   {
    "duration": 8,
    "start_time": "2024-12-24T18:29:05.709Z"
   },
   {
    "duration": 8,
    "start_time": "2024-12-24T18:29:05.718Z"
   },
   {
    "duration": 4,
    "start_time": "2024-12-24T18:29:05.727Z"
   },
   {
    "duration": 5,
    "start_time": "2024-12-24T18:29:05.732Z"
   },
   {
    "duration": 4,
    "start_time": "2024-12-24T18:29:05.738Z"
   },
   {
    "duration": 16,
    "start_time": "2024-12-24T18:29:05.743Z"
   },
   {
    "duration": 54,
    "start_time": "2024-12-24T18:29:05.760Z"
   },
   {
    "duration": 5,
    "start_time": "2024-12-24T18:29:05.817Z"
   },
   {
    "duration": 4,
    "start_time": "2024-12-24T18:29:05.823Z"
   },
   {
    "duration": 2,
    "start_time": "2024-12-24T18:29:05.829Z"
   },
   {
    "duration": 11,
    "start_time": "2024-12-24T18:29:05.833Z"
   },
   {
    "duration": 24,
    "start_time": "2024-12-24T18:29:05.846Z"
   },
   {
    "duration": 46,
    "start_time": "2024-12-24T18:29:05.871Z"
   },
   {
    "duration": 810,
    "start_time": "2024-12-24T18:54:00.908Z"
   },
   {
    "duration": 16,
    "start_time": "2024-12-24T18:54:01.720Z"
   },
   {
    "duration": 10,
    "start_time": "2024-12-24T18:54:01.738Z"
   },
   {
    "duration": 3,
    "start_time": "2024-12-24T18:54:01.749Z"
   },
   {
    "duration": 9,
    "start_time": "2024-12-24T18:54:01.756Z"
   },
   {
    "duration": 7,
    "start_time": "2024-12-24T18:54:01.767Z"
   },
   {
    "duration": 39,
    "start_time": "2024-12-24T18:54:01.776Z"
   },
   {
    "duration": 8,
    "start_time": "2024-12-24T18:54:01.817Z"
   },
   {
    "duration": 4,
    "start_time": "2024-12-24T18:54:01.826Z"
   },
   {
    "duration": 4,
    "start_time": "2024-12-24T18:54:01.832Z"
   },
   {
    "duration": 4,
    "start_time": "2024-12-24T18:54:01.837Z"
   },
   {
    "duration": 15,
    "start_time": "2024-12-24T18:54:01.843Z"
   },
   {
    "duration": 61,
    "start_time": "2024-12-24T18:54:01.860Z"
   },
   {
    "duration": 5,
    "start_time": "2024-12-24T18:54:01.924Z"
   },
   {
    "duration": 4,
    "start_time": "2024-12-24T18:54:01.930Z"
   },
   {
    "duration": 3,
    "start_time": "2024-12-24T18:54:01.936Z"
   },
   {
    "duration": 19,
    "start_time": "2024-12-24T18:54:01.941Z"
   },
   {
    "duration": 13,
    "start_time": "2024-12-24T18:54:01.961Z"
   },
   {
    "duration": 36,
    "start_time": "2024-12-24T18:54:01.976Z"
   },
   {
    "duration": 223,
    "start_time": "2024-12-24T18:54:02.014Z"
   },
   {
    "duration": 11,
    "start_time": "2024-12-24T18:57:51.220Z"
   },
   {
    "duration": 14,
    "start_time": "2024-12-24T19:33:08.790Z"
   },
   {
    "duration": 20,
    "start_time": "2024-12-24T19:34:16.225Z"
   },
   {
    "duration": 807,
    "start_time": "2024-12-24T22:35:17.534Z"
   },
   {
    "duration": 27,
    "start_time": "2024-12-24T22:35:18.343Z"
   },
   {
    "duration": 10,
    "start_time": "2024-12-24T22:35:18.372Z"
   },
   {
    "duration": 2,
    "start_time": "2024-12-24T22:35:18.384Z"
   },
   {
    "duration": 10,
    "start_time": "2024-12-24T22:35:18.389Z"
   },
   {
    "duration": 12,
    "start_time": "2024-12-24T22:35:18.400Z"
   },
   {
    "duration": 9,
    "start_time": "2024-12-24T22:35:18.414Z"
   },
   {
    "duration": 7,
    "start_time": "2024-12-24T22:35:18.425Z"
   },
   {
    "duration": 4,
    "start_time": "2024-12-24T22:35:18.433Z"
   },
   {
    "duration": 4,
    "start_time": "2024-12-24T22:35:18.441Z"
   },
   {
    "duration": 4,
    "start_time": "2024-12-24T22:35:18.446Z"
   },
   {
    "duration": 15,
    "start_time": "2024-12-24T22:35:18.451Z"
   },
   {
    "duration": 60,
    "start_time": "2024-12-24T22:35:18.467Z"
   },
   {
    "duration": 5,
    "start_time": "2024-12-24T22:35:18.528Z"
   },
   {
    "duration": 4,
    "start_time": "2024-12-24T22:35:18.535Z"
   },
   {
    "duration": 3,
    "start_time": "2024-12-24T22:35:18.540Z"
   },
   {
    "duration": 25,
    "start_time": "2024-12-24T22:35:18.545Z"
   },
   {
    "duration": 46,
    "start_time": "2024-12-24T22:35:18.571Z"
   },
   {
    "duration": 10,
    "start_time": "2024-12-24T22:35:18.618Z"
   },
   {
    "duration": 223,
    "start_time": "2024-12-24T22:35:18.629Z"
   },
   {
    "duration": 0,
    "start_time": "2024-12-24T22:35:18.854Z"
   },
   {
    "duration": 25,
    "start_time": "2024-12-24T22:35:32.206Z"
   },
   {
    "duration": 19,
    "start_time": "2024-12-24T22:35:35.780Z"
   },
   {
    "duration": 11,
    "start_time": "2024-12-24T23:47:00.825Z"
   },
   {
    "duration": 8,
    "start_time": "2024-12-24T23:47:27.407Z"
   },
   {
    "duration": 25,
    "start_time": "2024-12-24T23:47:39.135Z"
   },
   {
    "duration": 8,
    "start_time": "2024-12-24T23:50:36.783Z"
   },
   {
    "duration": 758,
    "start_time": "2024-12-24T23:51:18.066Z"
   },
   {
    "duration": 19,
    "start_time": "2024-12-24T23:51:18.826Z"
   },
   {
    "duration": 10,
    "start_time": "2024-12-24T23:51:18.846Z"
   },
   {
    "duration": 2,
    "start_time": "2024-12-24T23:51:18.858Z"
   },
   {
    "duration": 9,
    "start_time": "2024-12-24T23:51:18.862Z"
   },
   {
    "duration": 8,
    "start_time": "2024-12-24T23:51:18.873Z"
   },
   {
    "duration": 35,
    "start_time": "2024-12-24T23:51:18.882Z"
   },
   {
    "duration": 7,
    "start_time": "2024-12-24T23:51:18.918Z"
   },
   {
    "duration": 4,
    "start_time": "2024-12-24T23:51:18.926Z"
   },
   {
    "duration": 3,
    "start_time": "2024-12-24T23:51:18.933Z"
   },
   {
    "duration": 4,
    "start_time": "2024-12-24T23:51:18.938Z"
   },
   {
    "duration": 14,
    "start_time": "2024-12-24T23:51:18.944Z"
   },
   {
    "duration": 17,
    "start_time": "2024-12-24T23:51:18.959Z"
   },
   {
    "duration": 5,
    "start_time": "2024-12-24T23:51:19.012Z"
   },
   {
    "duration": 5,
    "start_time": "2024-12-24T23:51:19.018Z"
   },
   {
    "duration": 2,
    "start_time": "2024-12-24T23:51:19.024Z"
   },
   {
    "duration": 352,
    "start_time": "2024-12-24T23:51:19.028Z"
   },
   {
    "duration": 0,
    "start_time": "2024-12-24T23:51:19.382Z"
   },
   {
    "duration": 0,
    "start_time": "2024-12-24T23:51:19.383Z"
   },
   {
    "duration": 0,
    "start_time": "2024-12-24T23:51:19.384Z"
   },
   {
    "duration": 0,
    "start_time": "2024-12-24T23:51:19.384Z"
   },
   {
    "duration": 3,
    "start_time": "2024-12-24T23:51:33.139Z"
   },
   {
    "duration": 29,
    "start_time": "2024-12-24T23:51:37.625Z"
   },
   {
    "duration": 10,
    "start_time": "2024-12-24T23:52:19.910Z"
   },
   {
    "duration": 736,
    "start_time": "2024-12-25T00:09:35.680Z"
   },
   {
    "duration": 16,
    "start_time": "2024-12-25T00:09:36.418Z"
   },
   {
    "duration": 11,
    "start_time": "2024-12-25T00:09:36.435Z"
   },
   {
    "duration": 2,
    "start_time": "2024-12-25T00:09:36.448Z"
   },
   {
    "duration": 9,
    "start_time": "2024-12-25T00:09:36.452Z"
   },
   {
    "duration": 9,
    "start_time": "2024-12-25T00:09:36.462Z"
   },
   {
    "duration": 8,
    "start_time": "2024-12-25T00:09:36.472Z"
   },
   {
    "duration": 7,
    "start_time": "2024-12-25T00:09:36.511Z"
   },
   {
    "duration": 4,
    "start_time": "2024-12-25T00:09:36.519Z"
   },
   {
    "duration": 4,
    "start_time": "2024-12-25T00:09:36.526Z"
   },
   {
    "duration": 4,
    "start_time": "2024-12-25T00:09:36.532Z"
   },
   {
    "duration": 15,
    "start_time": "2024-12-25T00:09:36.538Z"
   },
   {
    "duration": 17,
    "start_time": "2024-12-25T00:09:36.554Z"
   },
   {
    "duration": 39,
    "start_time": "2024-12-25T00:09:36.573Z"
   },
   {
    "duration": 4,
    "start_time": "2024-12-25T00:09:36.614Z"
   },
   {
    "duration": 4,
    "start_time": "2024-12-25T00:09:36.619Z"
   },
   {
    "duration": 8,
    "start_time": "2024-12-25T00:09:36.625Z"
   },
   {
    "duration": 7,
    "start_time": "2024-12-25T00:09:36.634Z"
   },
   {
    "duration": 8,
    "start_time": "2024-12-25T00:09:36.643Z"
   },
   {
    "duration": 244,
    "start_time": "2024-12-25T00:09:36.652Z"
   },
   {
    "duration": 0,
    "start_time": "2024-12-25T00:09:36.897Z"
   },
   {
    "duration": 14,
    "start_time": "2024-12-25T00:28:43.245Z"
   },
   {
    "duration": 16,
    "start_time": "2024-12-25T00:28:58.842Z"
   },
   {
    "duration": 8,
    "start_time": "2024-12-25T00:29:02.276Z"
   },
   {
    "duration": 9,
    "start_time": "2024-12-25T00:29:04.853Z"
   },
   {
    "duration": 8,
    "start_time": "2024-12-25T00:29:19.013Z"
   },
   {
    "duration": 17,
    "start_time": "2024-12-25T00:29:29.834Z"
   },
   {
    "duration": 9,
    "start_time": "2024-12-25T00:29:41.377Z"
   },
   {
    "duration": 13,
    "start_time": "2024-12-25T00:44:20.417Z"
   },
   {
    "duration": 5,
    "start_time": "2024-12-25T00:45:00.658Z"
   },
   {
    "duration": 3,
    "start_time": "2024-12-25T00:45:20.809Z"
   },
   {
    "duration": 27,
    "start_time": "2024-12-25T00:45:26.274Z"
   },
   {
    "duration": 3,
    "start_time": "2024-12-25T00:45:48.191Z"
   },
   {
    "duration": 14,
    "start_time": "2024-12-25T00:45:51.935Z"
   },
   {
    "duration": 14,
    "start_time": "2024-12-25T00:48:07.555Z"
   },
   {
    "duration": 8,
    "start_time": "2024-12-26T00:07:20.873Z"
   },
   {
    "duration": 153,
    "start_time": "2024-12-26T00:11:28.332Z"
   },
   {
    "duration": 779,
    "start_time": "2024-12-26T00:11:38.139Z"
   },
   {
    "duration": 28,
    "start_time": "2024-12-26T00:11:38.920Z"
   },
   {
    "duration": 11,
    "start_time": "2024-12-26T00:11:38.950Z"
   },
   {
    "duration": 3,
    "start_time": "2024-12-26T00:11:38.962Z"
   },
   {
    "duration": 10,
    "start_time": "2024-12-26T00:11:38.967Z"
   },
   {
    "duration": 14,
    "start_time": "2024-12-26T00:11:38.978Z"
   },
   {
    "duration": 10,
    "start_time": "2024-12-26T00:11:38.993Z"
   },
   {
    "duration": 6,
    "start_time": "2024-12-26T00:11:39.005Z"
   },
   {
    "duration": 4,
    "start_time": "2024-12-26T00:11:39.013Z"
   },
   {
    "duration": 7,
    "start_time": "2024-12-26T00:11:39.019Z"
   },
   {
    "duration": 4,
    "start_time": "2024-12-26T00:11:39.028Z"
   },
   {
    "duration": 53,
    "start_time": "2024-12-26T00:11:39.034Z"
   },
   {
    "duration": 18,
    "start_time": "2024-12-26T00:11:39.088Z"
   },
   {
    "duration": 6,
    "start_time": "2024-12-26T00:11:39.109Z"
   },
   {
    "duration": 4,
    "start_time": "2024-12-26T00:11:39.116Z"
   },
   {
    "duration": 2,
    "start_time": "2024-12-26T00:11:39.122Z"
   },
   {
    "duration": 14,
    "start_time": "2024-12-26T00:11:39.125Z"
   },
   {
    "duration": 9,
    "start_time": "2024-12-26T00:11:39.140Z"
   },
   {
    "duration": 43,
    "start_time": "2024-12-26T00:11:39.150Z"
   },
   {
    "duration": 5,
    "start_time": "2024-12-26T00:11:39.195Z"
   },
   {
    "duration": 17,
    "start_time": "2024-12-26T00:11:39.202Z"
   },
   {
    "duration": 219,
    "start_time": "2024-12-26T00:17:27.054Z"
   },
   {
    "duration": 1907,
    "start_time": "2024-12-26T00:17:55.574Z"
   },
   {
    "duration": 24,
    "start_time": "2024-12-26T00:18:02.375Z"
   },
   {
    "duration": 6,
    "start_time": "2024-12-26T00:18:10.055Z"
   },
   {
    "duration": 15,
    "start_time": "2024-12-26T00:18:11.653Z"
   },
   {
    "duration": 100,
    "start_time": "2024-12-26T00:19:59.059Z"
   },
   {
    "duration": 16,
    "start_time": "2024-12-26T01:00:08.181Z"
   },
   {
    "duration": 21,
    "start_time": "2024-12-26T04:24:43.099Z"
   },
   {
    "duration": 9,
    "start_time": "2025-01-03T04:40:25.356Z"
   },
   {
    "duration": 4,
    "start_time": "2025-01-03T04:40:32.962Z"
   },
   {
    "duration": 4,
    "start_time": "2025-01-03T04:40:40.923Z"
   },
   {
    "duration": 249,
    "start_time": "2025-01-03T18:36:56.595Z"
   },
   {
    "duration": 2970,
    "start_time": "2025-01-03T18:37:04.665Z"
   },
   {
    "duration": 31,
    "start_time": "2025-01-03T18:37:07.637Z"
   },
   {
    "duration": 11,
    "start_time": "2025-01-03T18:37:07.670Z"
   },
   {
    "duration": 22,
    "start_time": "2025-01-03T18:37:07.683Z"
   },
   {
    "duration": 11,
    "start_time": "2025-01-03T18:37:07.715Z"
   },
   {
    "duration": 6,
    "start_time": "2025-01-03T18:37:07.729Z"
   },
   {
    "duration": 8,
    "start_time": "2025-01-03T18:37:07.737Z"
   },
   {
    "duration": 8,
    "start_time": "2025-01-03T18:37:07.746Z"
   },
   {
    "duration": 4,
    "start_time": "2025-01-03T18:37:07.755Z"
   },
   {
    "duration": 4,
    "start_time": "2025-01-03T18:37:07.761Z"
   },
   {
    "duration": 3,
    "start_time": "2025-01-03T18:37:07.767Z"
   },
   {
    "duration": 23,
    "start_time": "2025-01-03T18:37:07.794Z"
   },
   {
    "duration": 17,
    "start_time": "2025-01-03T18:37:07.819Z"
   },
   {
    "duration": 6,
    "start_time": "2025-01-03T18:37:07.840Z"
   },
   {
    "duration": 6,
    "start_time": "2025-01-03T18:37:07.847Z"
   },
   {
    "duration": 3,
    "start_time": "2025-01-03T18:37:07.855Z"
   },
   {
    "duration": 37,
    "start_time": "2025-01-03T18:37:07.860Z"
   },
   {
    "duration": 9,
    "start_time": "2025-01-03T18:37:07.911Z"
   },
   {
    "duration": 9,
    "start_time": "2025-01-03T18:37:07.922Z"
   },
   {
    "duration": 116,
    "start_time": "2025-01-03T18:37:07.933Z"
   },
   {
    "duration": 5,
    "start_time": "2025-01-03T18:37:08.051Z"
   },
   {
    "duration": 0,
    "start_time": "2025-01-03T18:37:08.058Z"
   },
   {
    "duration": 10,
    "start_time": "2025-01-03T18:37:49.220Z"
   },
   {
    "duration": 6,
    "start_time": "2025-01-03T18:38:35.216Z"
   },
   {
    "duration": 5,
    "start_time": "2025-01-03T19:22:01.954Z"
   },
   {
    "duration": 15,
    "start_time": "2025-01-03T19:22:20.338Z"
   },
   {
    "duration": 281,
    "start_time": "2025-01-03T19:24:47.478Z"
   },
   {
    "duration": 10,
    "start_time": "2025-01-03T19:25:44.607Z"
   },
   {
    "duration": 402,
    "start_time": "2025-01-03T19:25:50.936Z"
   },
   {
    "duration": 1020,
    "start_time": "2025-01-03T19:26:18.612Z"
   },
   {
    "duration": 16,
    "start_time": "2025-01-03T19:26:19.635Z"
   },
   {
    "duration": 13,
    "start_time": "2025-01-03T19:26:19.652Z"
   },
   {
    "duration": 5,
    "start_time": "2025-01-03T19:26:19.666Z"
   },
   {
    "duration": 9,
    "start_time": "2025-01-03T19:26:19.674Z"
   },
   {
    "duration": 18,
    "start_time": "2025-01-03T19:26:19.694Z"
   },
   {
    "duration": 10,
    "start_time": "2025-01-03T19:26:19.713Z"
   },
   {
    "duration": 8,
    "start_time": "2025-01-03T19:26:19.724Z"
   },
   {
    "duration": 5,
    "start_time": "2025-01-03T19:26:19.733Z"
   },
   {
    "duration": 5,
    "start_time": "2025-01-03T19:26:19.739Z"
   },
   {
    "duration": 4,
    "start_time": "2025-01-03T19:26:19.745Z"
   },
   {
    "duration": 14,
    "start_time": "2025-01-03T19:26:19.750Z"
   },
   {
    "duration": 41,
    "start_time": "2025-01-03T19:26:19.766Z"
   },
   {
    "duration": 12,
    "start_time": "2025-01-03T19:26:19.810Z"
   },
   {
    "duration": 4,
    "start_time": "2025-01-03T19:26:19.824Z"
   },
   {
    "duration": 2,
    "start_time": "2025-01-03T19:26:19.831Z"
   },
   {
    "duration": 17,
    "start_time": "2025-01-03T19:26:19.835Z"
   },
   {
    "duration": 9,
    "start_time": "2025-01-03T19:26:19.854Z"
   },
   {
    "duration": 20,
    "start_time": "2025-01-03T19:26:19.898Z"
   },
   {
    "duration": 164,
    "start_time": "2025-01-03T19:26:19.919Z"
   },
   {
    "duration": 36,
    "start_time": "2025-01-03T19:26:20.084Z"
   },
   {
    "duration": 656,
    "start_time": "2025-01-03T19:26:20.122Z"
   },
   {
    "duration": 0,
    "start_time": "2025-01-03T19:26:20.780Z"
   },
   {
    "duration": 232,
    "start_time": "2025-01-03T19:31:18.630Z"
   },
   {
    "duration": 169,
    "start_time": "2025-01-03T19:48:29.413Z"
   },
   {
    "duration": 4,
    "start_time": "2025-01-03T19:49:58.451Z"
   },
   {
    "duration": 158,
    "start_time": "2025-01-03T19:50:14.803Z"
   },
   {
    "duration": 162,
    "start_time": "2025-01-03T19:50:37.333Z"
   },
   {
    "duration": 1021,
    "start_time": "2025-01-03T20:07:24.711Z"
   },
   {
    "duration": 15,
    "start_time": "2025-01-03T20:07:28.056Z"
   },
   {
    "duration": 28,
    "start_time": "2025-01-03T20:07:29.787Z"
   },
   {
    "duration": 3,
    "start_time": "2025-01-03T20:07:33.129Z"
   },
   {
    "duration": 15,
    "start_time": "2025-01-03T20:07:34.803Z"
   },
   {
    "duration": 9,
    "start_time": "2025-01-03T20:07:38.312Z"
   },
   {
    "duration": 10,
    "start_time": "2025-01-03T20:07:42.440Z"
   },
   {
    "duration": 8,
    "start_time": "2025-01-03T20:07:45.455Z"
   },
   {
    "duration": 5,
    "start_time": "2025-01-03T20:07:48.636Z"
   },
   {
    "duration": 4,
    "start_time": "2025-01-03T20:07:50.874Z"
   },
   {
    "duration": 327,
    "start_time": "2025-01-03T20:07:57.683Z"
   },
   {
    "duration": 7,
    "start_time": "2025-01-03T20:08:03.148Z"
   },
   {
    "duration": 15,
    "start_time": "2025-01-03T20:08:05.809Z"
   },
   {
    "duration": 30,
    "start_time": "2025-01-03T20:08:09.799Z"
   },
   {
    "duration": 6,
    "start_time": "2025-01-03T20:08:15.124Z"
   },
   {
    "duration": 5,
    "start_time": "2025-01-03T20:08:17.061Z"
   },
   {
    "duration": 17,
    "start_time": "2025-01-03T20:08:18.992Z"
   },
   {
    "duration": 15,
    "start_time": "2025-01-03T20:08:20.847Z"
   },
   {
    "duration": 10,
    "start_time": "2025-01-03T20:08:22.710Z"
   },
   {
    "duration": 10,
    "start_time": "2025-01-03T20:08:25.139Z"
   },
   {
    "duration": 109,
    "start_time": "2025-01-03T20:08:27.738Z"
   },
   {
    "duration": 187,
    "start_time": "2025-01-03T20:08:34.562Z"
   },
   {
    "duration": 339,
    "start_time": "2025-01-03T20:08:43.169Z"
   },
   {
    "duration": 214,
    "start_time": "2025-01-03T20:09:57.960Z"
   },
   {
    "duration": 15,
    "start_time": "2025-01-03T20:12:42.131Z"
   },
   {
    "duration": 36,
    "start_time": "2025-01-03T20:13:52.783Z"
   },
   {
    "duration": 21,
    "start_time": "2025-01-03T20:15:30.739Z"
   },
   {
    "duration": 16,
    "start_time": "2025-01-03T20:17:07.222Z"
   },
   {
    "duration": 3,
    "start_time": "2025-01-03T20:18:26.916Z"
   },
   {
    "duration": 3459,
    "start_time": "2025-01-03T20:18:31.512Z"
   },
   {
    "duration": 3350,
    "start_time": "2025-01-03T20:18:54.088Z"
   },
   {
    "duration": 12721,
    "start_time": "2025-01-03T20:19:11.032Z"
   },
   {
    "duration": 2081,
    "start_time": "2025-01-03T20:20:47.595Z"
   },
   {
    "duration": 12844,
    "start_time": "2025-01-03T20:21:50.915Z"
   },
   {
    "duration": 33008,
    "start_time": "2025-01-03T20:27:50.814Z"
   },
   {
    "duration": 5135,
    "start_time": "2025-01-03T20:29:00.144Z"
   },
   {
    "duration": 4939,
    "start_time": "2025-01-03T20:29:18.119Z"
   },
   {
    "duration": 4746,
    "start_time": "2025-01-03T20:29:29.395Z"
   },
   {
    "duration": 906,
    "start_time": "2025-01-03T20:29:50.355Z"
   },
   {
    "duration": 5840,
    "start_time": "2025-01-03T20:30:00.007Z"
   },
   {
    "duration": 5641,
    "start_time": "2025-01-03T22:07:11.584Z"
   },
   {
    "duration": 24017,
    "start_time": "2025-01-03T22:10:03.236Z"
   },
   {
    "duration": 1015,
    "start_time": "2025-01-03T22:12:45.830Z"
   },
   {
    "duration": 17,
    "start_time": "2025-01-03T22:12:46.847Z"
   },
   {
    "duration": 31,
    "start_time": "2025-01-03T22:12:46.866Z"
   },
   {
    "duration": 4,
    "start_time": "2025-01-03T22:12:46.903Z"
   },
   {
    "duration": 16,
    "start_time": "2025-01-03T22:12:46.918Z"
   },
   {
    "duration": 6,
    "start_time": "2025-01-03T22:12:46.936Z"
   },
   {
    "duration": 9,
    "start_time": "2025-01-03T22:12:46.944Z"
   },
   {
    "duration": 7,
    "start_time": "2025-01-03T22:12:46.954Z"
   },
   {
    "duration": 4,
    "start_time": "2025-01-03T22:12:46.963Z"
   },
   {
    "duration": 4,
    "start_time": "2025-01-03T22:12:46.970Z"
   },
   {
    "duration": 5,
    "start_time": "2025-01-03T22:12:46.995Z"
   },
   {
    "duration": 15,
    "start_time": "2025-01-03T22:12:47.002Z"
   },
   {
    "duration": 22,
    "start_time": "2025-01-03T22:12:47.019Z"
   },
   {
    "duration": 5,
    "start_time": "2025-01-03T22:12:47.045Z"
   },
   {
    "duration": 6,
    "start_time": "2025-01-03T22:12:47.055Z"
   },
   {
    "duration": 2,
    "start_time": "2025-01-03T22:12:47.063Z"
   },
   {
    "duration": 34,
    "start_time": "2025-01-03T22:12:47.067Z"
   },
   {
    "duration": 18,
    "start_time": "2025-01-03T22:12:47.103Z"
   },
   {
    "duration": 15,
    "start_time": "2025-01-03T22:12:47.123Z"
   },
   {
    "duration": 200,
    "start_time": "2025-01-03T22:12:47.140Z"
   },
   {
    "duration": 52,
    "start_time": "2025-01-03T22:12:47.341Z"
   },
   {
    "duration": 953,
    "start_time": "2025-01-03T22:14:23.516Z"
   },
   {
    "duration": 24,
    "start_time": "2025-01-03T22:14:24.473Z"
   },
   {
    "duration": 12,
    "start_time": "2025-01-03T22:14:24.510Z"
   },
   {
    "duration": 3,
    "start_time": "2025-01-03T22:14:24.524Z"
   },
   {
    "duration": 9,
    "start_time": "2025-01-03T22:14:24.530Z"
   },
   {
    "duration": 6,
    "start_time": "2025-01-03T22:14:24.541Z"
   },
   {
    "duration": 10,
    "start_time": "2025-01-03T22:14:24.548Z"
   },
   {
    "duration": 8,
    "start_time": "2025-01-03T22:14:24.559Z"
   },
   {
    "duration": 43,
    "start_time": "2025-01-03T22:14:24.568Z"
   },
   {
    "duration": 5,
    "start_time": "2025-01-03T22:14:24.613Z"
   },
   {
    "duration": 4,
    "start_time": "2025-01-03T22:14:24.619Z"
   },
   {
    "duration": 15,
    "start_time": "2025-01-03T22:14:24.625Z"
   },
   {
    "duration": 18,
    "start_time": "2025-01-03T22:14:24.641Z"
   },
   {
    "duration": 6,
    "start_time": "2025-01-03T22:14:24.664Z"
   },
   {
    "duration": 30,
    "start_time": "2025-01-03T22:14:24.671Z"
   },
   {
    "duration": 3,
    "start_time": "2025-01-03T22:14:24.715Z"
   },
   {
    "duration": 14,
    "start_time": "2025-01-03T22:14:24.719Z"
   },
   {
    "duration": 8,
    "start_time": "2025-01-03T22:14:24.735Z"
   },
   {
    "duration": 8,
    "start_time": "2025-01-03T22:14:24.745Z"
   },
   {
    "duration": 175,
    "start_time": "2025-01-03T22:14:24.755Z"
   },
   {
    "duration": 61,
    "start_time": "2025-01-03T22:14:24.932Z"
   },
   {
    "duration": 16585,
    "start_time": "2025-01-03T22:14:24.999Z"
   },
   {
    "duration": 37,
    "start_time": "2025-01-03T22:14:41.593Z"
   },
   {
    "duration": 342,
    "start_time": "2025-01-03T22:14:41.632Z"
   },
   {
    "duration": 1072,
    "start_time": "2025-01-03T22:16:28.808Z"
   },
   {
    "duration": 32,
    "start_time": "2025-01-03T22:16:29.882Z"
   },
   {
    "duration": 11,
    "start_time": "2025-01-03T22:16:29.917Z"
   },
   {
    "duration": 9,
    "start_time": "2025-01-03T22:16:29.933Z"
   },
   {
    "duration": 12,
    "start_time": "2025-01-03T22:16:29.944Z"
   },
   {
    "duration": 6,
    "start_time": "2025-01-03T22:16:29.958Z"
   },
   {
    "duration": 13,
    "start_time": "2025-01-03T22:16:29.967Z"
   },
   {
    "duration": 8,
    "start_time": "2025-01-03T22:16:29.981Z"
   },
   {
    "duration": 4,
    "start_time": "2025-01-03T22:16:29.990Z"
   },
   {
    "duration": 5,
    "start_time": "2025-01-03T22:16:29.997Z"
   },
   {
    "duration": 3,
    "start_time": "2025-01-03T22:16:30.004Z"
   },
   {
    "duration": 18,
    "start_time": "2025-01-03T22:16:30.009Z"
   },
   {
    "duration": 24,
    "start_time": "2025-01-03T22:16:30.029Z"
   },
   {
    "duration": 42,
    "start_time": "2025-01-03T22:16:30.056Z"
   },
   {
    "duration": 26,
    "start_time": "2025-01-03T22:16:30.100Z"
   },
   {
    "duration": 9,
    "start_time": "2025-01-03T22:16:30.128Z"
   },
   {
    "duration": 18,
    "start_time": "2025-01-03T22:16:30.140Z"
   },
   {
    "duration": 8,
    "start_time": "2025-01-03T22:16:30.160Z"
   },
   {
    "duration": 9,
    "start_time": "2025-01-03T22:16:30.169Z"
   },
   {
    "duration": 234,
    "start_time": "2025-01-03T22:16:30.179Z"
   },
   {
    "duration": 30,
    "start_time": "2025-01-03T22:16:30.416Z"
   },
   {
    "duration": 286712,
    "start_time": "2025-01-03T22:16:30.448Z"
   },
   {
    "duration": 43,
    "start_time": "2025-01-03T22:21:17.162Z"
   },
   {
    "duration": 342,
    "start_time": "2025-01-03T22:21:17.222Z"
   },
   {
    "duration": 982,
    "start_time": "2025-01-03T22:52:19.499Z"
   },
   {
    "duration": 32,
    "start_time": "2025-01-03T22:52:20.490Z"
   },
   {
    "duration": 11,
    "start_time": "2025-01-03T22:52:20.524Z"
   },
   {
    "duration": 3,
    "start_time": "2025-01-03T22:52:20.536Z"
   },
   {
    "duration": 9,
    "start_time": "2025-01-03T22:52:20.542Z"
   },
   {
    "duration": 7,
    "start_time": "2025-01-03T22:52:20.553Z"
   },
   {
    "duration": 9,
    "start_time": "2025-01-03T22:52:20.561Z"
   },
   {
    "duration": 15,
    "start_time": "2025-01-03T22:52:20.596Z"
   },
   {
    "duration": 4,
    "start_time": "2025-01-03T22:52:20.613Z"
   },
   {
    "duration": 4,
    "start_time": "2025-01-03T22:52:20.619Z"
   },
   {
    "duration": 4,
    "start_time": "2025-01-03T22:52:20.624Z"
   },
   {
    "duration": 15,
    "start_time": "2025-01-03T22:52:20.630Z"
   },
   {
    "duration": 17,
    "start_time": "2025-01-03T22:52:20.647Z"
   },
   {
    "duration": 34,
    "start_time": "2025-01-03T22:52:20.667Z"
   },
   {
    "duration": 4,
    "start_time": "2025-01-03T22:52:20.708Z"
   },
   {
    "duration": 3,
    "start_time": "2025-01-03T22:52:20.714Z"
   },
   {
    "duration": 14,
    "start_time": "2025-01-03T22:52:20.718Z"
   },
   {
    "duration": 9,
    "start_time": "2025-01-03T22:52:20.733Z"
   },
   {
    "duration": 8,
    "start_time": "2025-01-03T22:52:20.744Z"
   },
   {
    "duration": 197,
    "start_time": "2025-01-03T22:52:20.753Z"
   },
   {
    "duration": 17,
    "start_time": "2025-01-03T22:52:20.952Z"
   },
   {
    "duration": 151883,
    "start_time": "2025-01-03T22:52:20.970Z"
   },
   {
    "duration": 32,
    "start_time": "2025-01-03T22:54:52.855Z"
   },
   {
    "duration": 329,
    "start_time": "2025-01-03T22:54:52.889Z"
   },
   {
    "duration": 864,
    "start_time": "2025-01-03T22:55:45.181Z"
   },
   {
    "duration": 15,
    "start_time": "2025-01-03T22:55:46.048Z"
   },
   {
    "duration": 10,
    "start_time": "2025-01-03T22:55:46.064Z"
   },
   {
    "duration": 10,
    "start_time": "2025-01-03T22:55:46.076Z"
   },
   {
    "duration": 9,
    "start_time": "2025-01-03T22:55:46.088Z"
   },
   {
    "duration": 6,
    "start_time": "2025-01-03T22:55:46.099Z"
   },
   {
    "duration": 9,
    "start_time": "2025-01-03T22:55:46.107Z"
   },
   {
    "duration": 8,
    "start_time": "2025-01-03T22:55:46.117Z"
   },
   {
    "duration": 4,
    "start_time": "2025-01-03T22:55:46.127Z"
   },
   {
    "duration": 4,
    "start_time": "2025-01-03T22:55:46.135Z"
   },
   {
    "duration": 4,
    "start_time": "2025-01-03T22:55:46.140Z"
   },
   {
    "duration": 56,
    "start_time": "2025-01-03T22:55:46.145Z"
   },
   {
    "duration": 16,
    "start_time": "2025-01-03T22:55:46.203Z"
   },
   {
    "duration": 6,
    "start_time": "2025-01-03T22:55:46.221Z"
   },
   {
    "duration": 5,
    "start_time": "2025-01-03T22:55:46.228Z"
   },
   {
    "duration": 2,
    "start_time": "2025-01-03T22:55:46.235Z"
   },
   {
    "duration": 12,
    "start_time": "2025-01-03T22:55:46.240Z"
   },
   {
    "duration": 8,
    "start_time": "2025-01-03T22:55:46.286Z"
   },
   {
    "duration": 8,
    "start_time": "2025-01-03T22:55:46.295Z"
   },
   {
    "duration": 157,
    "start_time": "2025-01-03T22:55:46.304Z"
   },
   {
    "duration": 35,
    "start_time": "2025-01-03T22:55:46.463Z"
   },
   {
    "duration": 107991,
    "start_time": "2025-01-03T22:55:46.499Z"
   },
   {
    "duration": 15,
    "start_time": "2025-01-03T22:57:34.492Z"
   },
   {
    "duration": 362,
    "start_time": "2025-01-03T22:57:34.509Z"
   },
   {
    "duration": 30,
    "start_time": "2025-01-04T04:00:32.707Z"
   },
   {
    "duration": 17,
    "start_time": "2025-01-04T04:00:53.798Z"
   },
   {
    "duration": 79,
    "start_time": "2025-01-04T04:01:49.450Z"
   },
   {
    "duration": 11,
    "start_time": "2025-01-04T04:54:48.330Z"
   },
   {
    "duration": 42,
    "start_time": "2025-01-04T04:54:50.186Z"
   },
   {
    "duration": 46,
    "start_time": "2025-01-04T04:55:03.655Z"
   },
   {
    "duration": 13,
    "start_time": "2025-01-04T04:55:12.904Z"
   },
   {
    "duration": 56,
    "start_time": "2025-01-04T04:55:14.719Z"
   },
   {
    "duration": 11,
    "start_time": "2025-01-04T04:55:20.886Z"
   },
   {
    "duration": 41,
    "start_time": "2025-01-04T04:55:22.834Z"
   },
   {
    "duration": 9,
    "start_time": "2025-01-04T04:55:27.944Z"
   },
   {
    "duration": 27,
    "start_time": "2025-01-04T04:55:29.703Z"
   },
   {
    "duration": 11,
    "start_time": "2025-01-04T04:55:36.912Z"
   },
   {
    "duration": 22,
    "start_time": "2025-01-04T04:55:38.601Z"
   },
   {
    "duration": 7,
    "start_time": "2025-01-04T04:55:45.689Z"
   },
   {
    "duration": 17,
    "start_time": "2025-01-04T04:55:47.584Z"
   },
   {
    "duration": 8,
    "start_time": "2025-01-04T04:55:55.340Z"
   },
   {
    "duration": 15,
    "start_time": "2025-01-04T04:55:57.630Z"
   },
   {
    "duration": 27,
    "start_time": "2025-01-04T04:56:05.428Z"
   },
   {
    "duration": 8,
    "start_time": "2025-01-04T04:56:10.104Z"
   },
   {
    "duration": 19,
    "start_time": "2025-01-04T04:56:11.875Z"
   },
   {
    "duration": 8,
    "start_time": "2025-01-04T04:56:17.352Z"
   },
   {
    "duration": 17,
    "start_time": "2025-01-04T04:56:19.356Z"
   },
   {
    "duration": 8,
    "start_time": "2025-01-04T04:56:26.472Z"
   },
   {
    "duration": 18,
    "start_time": "2025-01-04T04:56:28.393Z"
   },
   {
    "duration": 17,
    "start_time": "2025-01-04T04:56:49.676Z"
   },
   {
    "duration": 11,
    "start_time": "2025-01-04T04:56:57.196Z"
   },
   {
    "duration": 43,
    "start_time": "2025-01-04T04:56:59.270Z"
   },
   {
    "duration": 13,
    "start_time": "2025-01-04T04:57:08.200Z"
   },
   {
    "duration": 89,
    "start_time": "2025-01-04T04:57:09.830Z"
   },
   {
    "duration": 15,
    "start_time": "2025-01-04T04:57:14.204Z"
   },
   {
    "duration": 86,
    "start_time": "2025-01-04T04:57:16.503Z"
   },
   {
    "duration": 8,
    "start_time": "2025-01-04T04:57:21.617Z"
   },
   {
    "duration": 18,
    "start_time": "2025-01-04T04:57:23.904Z"
   },
   {
    "duration": 17,
    "start_time": "2025-01-04T04:57:34.622Z"
   },
   {
    "duration": 8,
    "start_time": "2025-01-04T04:57:54.892Z"
   },
   {
    "duration": 18,
    "start_time": "2025-01-04T04:57:57.646Z"
   },
   {
    "duration": 9,
    "start_time": "2025-01-04T04:58:12.120Z"
   },
   {
    "duration": 19,
    "start_time": "2025-01-04T04:58:14.624Z"
   },
   {
    "duration": 9,
    "start_time": "2025-01-04T04:58:30.049Z"
   },
   {
    "duration": 23,
    "start_time": "2025-01-04T04:58:33.225Z"
   },
   {
    "duration": 2692,
    "start_time": "2025-01-04T19:24:02.716Z"
   },
   {
    "duration": 25,
    "start_time": "2025-01-04T19:24:05.410Z"
   },
   {
    "duration": 10,
    "start_time": "2025-01-04T19:24:05.436Z"
   },
   {
    "duration": 3,
    "start_time": "2025-01-04T19:24:05.448Z"
   },
   {
    "duration": 9,
    "start_time": "2025-01-04T19:24:05.453Z"
   },
   {
    "duration": 7,
    "start_time": "2025-01-04T19:24:05.463Z"
   },
   {
    "duration": 8,
    "start_time": "2025-01-04T19:24:05.472Z"
   },
   {
    "duration": 30,
    "start_time": "2025-01-04T19:24:05.482Z"
   },
   {
    "duration": 4,
    "start_time": "2025-01-04T19:24:05.514Z"
   },
   {
    "duration": 4,
    "start_time": "2025-01-04T19:24:05.521Z"
   },
   {
    "duration": 4,
    "start_time": "2025-01-04T19:24:05.526Z"
   },
   {
    "duration": 15,
    "start_time": "2025-01-04T19:24:05.532Z"
   },
   {
    "duration": 17,
    "start_time": "2025-01-04T19:24:05.549Z"
   },
   {
    "duration": 42,
    "start_time": "2025-01-04T19:24:05.567Z"
   },
   {
    "duration": 5,
    "start_time": "2025-01-04T19:24:05.610Z"
   },
   {
    "duration": 3,
    "start_time": "2025-01-04T19:24:05.616Z"
   },
   {
    "duration": 12,
    "start_time": "2025-01-04T19:24:05.621Z"
   },
   {
    "duration": 8,
    "start_time": "2025-01-04T19:24:05.635Z"
   },
   {
    "duration": 7,
    "start_time": "2025-01-04T19:24:05.644Z"
   },
   {
    "duration": 128,
    "start_time": "2025-01-04T19:24:05.653Z"
   },
   {
    "duration": 9,
    "start_time": "2025-01-04T19:24:05.783Z"
   },
   {
    "duration": 17,
    "start_time": "2025-01-04T19:24:05.805Z"
   },
   {
    "duration": 402,
    "start_time": "2025-01-04T19:24:05.823Z"
   },
   {
    "duration": 0,
    "start_time": "2025-01-04T19:24:06.227Z"
   },
   {
    "duration": 0,
    "start_time": "2025-01-04T19:24:06.228Z"
   },
   {
    "duration": 0,
    "start_time": "2025-01-04T19:24:06.229Z"
   },
   {
    "duration": 382,
    "start_time": "2025-01-04T19:39:52.339Z"
   },
   {
    "duration": 18,
    "start_time": "2025-01-04T19:39:52.723Z"
   },
   {
    "duration": 12,
    "start_time": "2025-01-04T19:39:52.743Z"
   },
   {
    "duration": 3,
    "start_time": "2025-01-04T19:39:52.756Z"
   },
   {
    "duration": 9,
    "start_time": "2025-01-04T19:39:52.761Z"
   },
   {
    "duration": 6,
    "start_time": "2025-01-04T19:39:52.771Z"
   },
   {
    "duration": 35,
    "start_time": "2025-01-04T19:39:52.779Z"
   },
   {
    "duration": 10,
    "start_time": "2025-01-04T19:39:52.816Z"
   },
   {
    "duration": 4,
    "start_time": "2025-01-04T19:39:52.828Z"
   },
   {
    "duration": 5,
    "start_time": "2025-01-04T19:39:52.834Z"
   },
   {
    "duration": 4,
    "start_time": "2025-01-04T19:39:52.840Z"
   },
   {
    "duration": 15,
    "start_time": "2025-01-04T19:39:52.846Z"
   },
   {
    "duration": 59,
    "start_time": "2025-01-04T19:39:52.863Z"
   },
   {
    "duration": 5,
    "start_time": "2025-01-04T19:39:52.925Z"
   },
   {
    "duration": 4,
    "start_time": "2025-01-04T19:39:52.932Z"
   },
   {
    "duration": 2,
    "start_time": "2025-01-04T19:39:52.938Z"
   },
   {
    "duration": 14,
    "start_time": "2025-01-04T19:39:52.941Z"
   },
   {
    "duration": 8,
    "start_time": "2025-01-04T19:39:52.956Z"
   },
   {
    "duration": 41,
    "start_time": "2025-01-04T19:39:52.967Z"
   },
   {
    "duration": 108,
    "start_time": "2025-01-04T19:39:53.009Z"
   },
   {
    "duration": 61,
    "start_time": "2025-01-04T19:39:53.119Z"
   },
   {
    "duration": 0,
    "start_time": "2025-01-04T19:39:53.182Z"
   },
   {
    "duration": 0,
    "start_time": "2025-01-04T19:39:53.183Z"
   },
   {
    "duration": 0,
    "start_time": "2025-01-04T19:39:53.185Z"
   },
   {
    "duration": 0,
    "start_time": "2025-01-04T19:39:53.186Z"
   },
   {
    "duration": 0,
    "start_time": "2025-01-04T19:39:53.205Z"
   },
   {
    "duration": 8,
    "start_time": "2025-01-04T19:40:08.701Z"
   },
   {
    "duration": 17,
    "start_time": "2025-01-04T19:40:13.652Z"
   },
   {
    "duration": 25,
    "start_time": "2025-01-04T19:40:21.983Z"
   },
   {
    "duration": 7,
    "start_time": "2025-01-04T19:40:49.175Z"
   },
   {
    "duration": 21,
    "start_time": "2025-01-04T19:40:52.579Z"
   },
   {
    "duration": 2779,
    "start_time": "2025-01-04T22:58:47.313Z"
   },
   {
    "duration": 26,
    "start_time": "2025-01-04T22:58:50.094Z"
   },
   {
    "duration": 11,
    "start_time": "2025-01-04T22:58:50.121Z"
   },
   {
    "duration": 3,
    "start_time": "2025-01-04T22:58:50.134Z"
   },
   {
    "duration": 10,
    "start_time": "2025-01-04T22:58:50.139Z"
   },
   {
    "duration": 8,
    "start_time": "2025-01-04T22:58:50.150Z"
   },
   {
    "duration": 30,
    "start_time": "2025-01-04T22:58:50.159Z"
   },
   {
    "duration": 8,
    "start_time": "2025-01-04T22:58:50.191Z"
   },
   {
    "duration": 4,
    "start_time": "2025-01-04T22:58:50.201Z"
   },
   {
    "duration": 4,
    "start_time": "2025-01-04T22:58:50.209Z"
   },
   {
    "duration": 4,
    "start_time": "2025-01-04T22:58:50.214Z"
   },
   {
    "duration": 15,
    "start_time": "2025-01-04T22:58:50.220Z"
   },
   {
    "duration": 59,
    "start_time": "2025-01-04T22:58:50.237Z"
   },
   {
    "duration": 6,
    "start_time": "2025-01-04T22:58:50.299Z"
   },
   {
    "duration": 5,
    "start_time": "2025-01-04T22:58:50.306Z"
   },
   {
    "duration": 2,
    "start_time": "2025-01-04T22:58:50.313Z"
   },
   {
    "duration": 14,
    "start_time": "2025-01-04T22:58:50.317Z"
   },
   {
    "duration": 9,
    "start_time": "2025-01-04T22:58:50.332Z"
   },
   {
    "duration": 45,
    "start_time": "2025-01-04T22:58:50.343Z"
   },
   {
    "duration": 112,
    "start_time": "2025-01-04T22:58:50.390Z"
   },
   {
    "duration": 8,
    "start_time": "2025-01-04T22:58:50.504Z"
   },
   {
    "duration": 28,
    "start_time": "2025-01-04T22:58:50.513Z"
   },
   {
    "duration": 12,
    "start_time": "2025-01-04T22:58:50.588Z"
   },
   {
    "duration": 94,
    "start_time": "2025-01-04T22:58:50.605Z"
   },
   {
    "duration": 880,
    "start_time": "2025-01-04T22:59:41.251Z"
   },
   {
    "duration": 16,
    "start_time": "2025-01-04T22:59:42.133Z"
   },
   {
    "duration": 11,
    "start_time": "2025-01-04T22:59:42.150Z"
   },
   {
    "duration": 3,
    "start_time": "2025-01-04T22:59:42.163Z"
   },
   {
    "duration": 9,
    "start_time": "2025-01-04T22:59:42.187Z"
   },
   {
    "duration": 6,
    "start_time": "2025-01-04T22:59:42.198Z"
   },
   {
    "duration": 8,
    "start_time": "2025-01-04T22:59:42.206Z"
   },
   {
    "duration": 8,
    "start_time": "2025-01-04T22:59:42.216Z"
   },
   {
    "duration": 4,
    "start_time": "2025-01-04T22:59:42.225Z"
   },
   {
    "duration": 4,
    "start_time": "2025-01-04T22:59:42.233Z"
   },
   {
    "duration": 4,
    "start_time": "2025-01-04T22:59:42.238Z"
   },
   {
    "duration": 14,
    "start_time": "2025-01-04T22:59:42.286Z"
   },
   {
    "duration": 18,
    "start_time": "2025-01-04T22:59:42.302Z"
   },
   {
    "duration": 6,
    "start_time": "2025-01-04T22:59:42.321Z"
   },
   {
    "duration": 4,
    "start_time": "2025-01-04T22:59:42.328Z"
   },
   {
    "duration": 3,
    "start_time": "2025-01-04T22:59:42.333Z"
   },
   {
    "duration": 13,
    "start_time": "2025-01-04T22:59:42.337Z"
   },
   {
    "duration": 41,
    "start_time": "2025-01-04T22:59:42.352Z"
   },
   {
    "duration": 8,
    "start_time": "2025-01-04T22:59:42.395Z"
   },
   {
    "duration": 165,
    "start_time": "2025-01-04T22:59:42.405Z"
   },
   {
    "duration": 16,
    "start_time": "2025-01-04T22:59:42.572Z"
   },
   {
    "duration": 17,
    "start_time": "2025-01-04T22:59:42.589Z"
   },
   {
    "duration": 277,
    "start_time": "2025-01-04T22:59:42.608Z"
   },
   {
    "duration": 0,
    "start_time": "2025-01-04T22:59:42.887Z"
   },
   {
    "duration": 0,
    "start_time": "2025-01-04T22:59:42.888Z"
   },
   {
    "duration": 0,
    "start_time": "2025-01-04T22:59:42.890Z"
   },
   {
    "duration": 12,
    "start_time": "2025-01-04T22:59:54.117Z"
   },
   {
    "duration": 103,
    "start_time": "2025-01-04T22:59:56.395Z"
   },
   {
    "duration": 42,
    "start_time": "2025-01-04T23:00:00.414Z"
   },
   {
    "duration": 735,
    "start_time": "2025-01-04T23:00:02.367Z"
   },
   {
    "duration": 9,
    "start_time": "2025-01-04T23:00:13.476Z"
   },
   {
    "duration": 27,
    "start_time": "2025-01-04T23:00:15.259Z"
   },
   {
    "duration": 8,
    "start_time": "2025-01-04T23:00:22.572Z"
   },
   {
    "duration": 27,
    "start_time": "2025-01-04T23:00:24.161Z"
   },
   {
    "duration": 7,
    "start_time": "2025-01-04T23:00:30.322Z"
   },
   {
    "duration": 17,
    "start_time": "2025-01-04T23:00:32.188Z"
   },
   {
    "duration": 9,
    "start_time": "2025-01-04T23:00:36.371Z"
   },
   {
    "duration": 82,
    "start_time": "2025-01-04T23:00:38.108Z"
   },
   {
    "duration": 8,
    "start_time": "2025-01-04T23:00:45.996Z"
   },
   {
    "duration": 38,
    "start_time": "2025-01-04T23:00:47.851Z"
   },
   {
    "duration": 9,
    "start_time": "2025-01-04T23:00:53.358Z"
   },
   {
    "duration": 21,
    "start_time": "2025-01-04T23:00:55.616Z"
   },
   {
    "duration": 8,
    "start_time": "2025-01-04T23:00:59.851Z"
   },
   {
    "duration": 28,
    "start_time": "2025-01-04T23:01:01.436Z"
   },
   {
    "duration": 2881,
    "start_time": "2025-01-04T23:54:39.318Z"
   },
   {
    "duration": 23,
    "start_time": "2025-01-04T23:54:42.206Z"
   },
   {
    "duration": 11,
    "start_time": "2025-01-04T23:54:42.232Z"
   },
   {
    "duration": 3,
    "start_time": "2025-01-04T23:54:42.246Z"
   },
   {
    "duration": 10,
    "start_time": "2025-01-04T23:54:42.251Z"
   },
   {
    "duration": 8,
    "start_time": "2025-01-04T23:54:42.262Z"
   },
   {
    "duration": 8,
    "start_time": "2025-01-04T23:54:42.273Z"
   },
   {
    "duration": 9,
    "start_time": "2025-01-04T23:54:42.306Z"
   },
   {
    "duration": 5,
    "start_time": "2025-01-04T23:54:42.317Z"
   },
   {
    "duration": 4,
    "start_time": "2025-01-04T23:54:42.323Z"
   },
   {
    "duration": 4,
    "start_time": "2025-01-04T23:54:42.329Z"
   },
   {
    "duration": 17,
    "start_time": "2025-01-04T23:54:42.335Z"
   },
   {
    "duration": 57,
    "start_time": "2025-01-04T23:54:42.353Z"
   },
   {
    "duration": 6,
    "start_time": "2025-01-04T23:54:42.414Z"
   },
   {
    "duration": 5,
    "start_time": "2025-01-04T23:54:42.424Z"
   },
   {
    "duration": 8,
    "start_time": "2025-01-04T23:54:42.431Z"
   },
   {
    "duration": 21,
    "start_time": "2025-01-04T23:54:42.440Z"
   },
   {
    "duration": 9,
    "start_time": "2025-01-04T23:54:42.463Z"
   },
   {
    "duration": 8,
    "start_time": "2025-01-04T23:54:42.475Z"
   },
   {
    "duration": 111,
    "start_time": "2025-01-04T23:54:42.509Z"
   },
   {
    "duration": 9,
    "start_time": "2025-01-04T23:54:42.623Z"
   },
   {
    "duration": 74,
    "start_time": "2025-01-04T23:54:42.634Z"
   },
   {
    "duration": 274,
    "start_time": "2025-01-04T23:54:42.710Z"
   },
   {
    "duration": 0,
    "start_time": "2025-01-04T23:54:42.986Z"
   },
   {
    "duration": 0,
    "start_time": "2025-01-04T23:54:42.987Z"
   },
   {
    "duration": 0,
    "start_time": "2025-01-04T23:54:42.988Z"
   },
   {
    "duration": 9,
    "start_time": "2025-01-04T23:57:03.645Z"
   },
   {
    "duration": 15,
    "start_time": "2025-01-04T23:57:46.621Z"
   },
   {
    "duration": 176,
    "start_time": "2025-01-04T23:58:20.627Z"
   },
   {
    "duration": 19,
    "start_time": "2025-01-04T23:58:39.004Z"
   },
   {
    "duration": 9,
    "start_time": "2025-01-04T23:58:46.794Z"
   },
   {
    "duration": 15,
    "start_time": "2025-01-04T23:58:50.603Z"
   },
   {
    "duration": 9,
    "start_time": "2025-01-04T23:58:55.883Z"
   },
   {
    "duration": 16,
    "start_time": "2025-01-04T23:58:57.799Z"
   },
   {
    "duration": 8,
    "start_time": "2025-01-04T23:59:02.756Z"
   },
   {
    "duration": 16,
    "start_time": "2025-01-04T23:59:04.727Z"
   },
   {
    "duration": 10,
    "start_time": "2025-01-04T23:59:09.176Z"
   },
   {
    "duration": 15,
    "start_time": "2025-01-04T23:59:11.065Z"
   },
   {
    "duration": 8,
    "start_time": "2025-01-04T23:59:22.772Z"
   },
   {
    "duration": 14,
    "start_time": "2025-01-04T23:59:24.654Z"
   },
   {
    "duration": 10,
    "start_time": "2025-01-04T23:59:33.978Z"
   },
   {
    "duration": 17,
    "start_time": "2025-01-04T23:59:35.617Z"
   },
   {
    "duration": 9,
    "start_time": "2025-01-04T23:59:42.219Z"
   },
   {
    "duration": 17,
    "start_time": "2025-01-04T23:59:44.477Z"
   },
   {
    "duration": 10,
    "start_time": "2025-01-04T23:59:49.696Z"
   },
   {
    "duration": 17,
    "start_time": "2025-01-04T23:59:51.532Z"
   },
   {
    "duration": 9,
    "start_time": "2025-01-04T23:59:58.816Z"
   },
   {
    "duration": 17,
    "start_time": "2025-01-05T00:00:00.447Z"
   },
   {
    "duration": 7,
    "start_time": "2025-01-05T00:00:06.597Z"
   },
   {
    "duration": 16,
    "start_time": "2025-01-05T00:00:08.933Z"
   },
   {
    "duration": 9,
    "start_time": "2025-01-05T00:00:14.070Z"
   },
   {
    "duration": 15,
    "start_time": "2025-01-05T00:00:16.625Z"
   },
   {
    "duration": 12,
    "start_time": "2025-01-05T00:00:25.530Z"
   },
   {
    "duration": 22,
    "start_time": "2025-01-05T00:00:27.150Z"
   },
   {
    "duration": 8,
    "start_time": "2025-01-05T00:00:36.390Z"
   },
   {
    "duration": 14,
    "start_time": "2025-01-05T00:00:38.041Z"
   },
   {
    "duration": 8,
    "start_time": "2025-01-05T00:00:44.661Z"
   },
   {
    "duration": 16,
    "start_time": "2025-01-05T00:00:46.484Z"
   },
   {
    "duration": 9,
    "start_time": "2025-01-05T00:00:51.179Z"
   },
   {
    "duration": 17,
    "start_time": "2025-01-05T00:00:53.424Z"
   },
   {
    "duration": 8,
    "start_time": "2025-01-05T00:00:58.080Z"
   },
   {
    "duration": 25,
    "start_time": "2025-01-05T00:00:59.578Z"
   },
   {
    "duration": 8,
    "start_time": "2025-01-05T00:01:05.297Z"
   },
   {
    "duration": 17,
    "start_time": "2025-01-05T00:01:06.767Z"
   },
   {
    "duration": 8,
    "start_time": "2025-01-05T01:02:56.434Z"
   },
   {
    "duration": 21,
    "start_time": "2025-01-05T01:02:58.412Z"
   },
   {
    "duration": 7,
    "start_time": "2025-01-05T01:04:52.877Z"
   },
   {
    "duration": 32,
    "start_time": "2025-01-05T01:04:54.530Z"
   },
   {
    "duration": 925,
    "start_time": "2025-01-05T01:53:17.938Z"
   },
   {
    "duration": 17,
    "start_time": "2025-01-05T01:53:18.865Z"
   },
   {
    "duration": 10,
    "start_time": "2025-01-05T01:53:18.884Z"
   },
   {
    "duration": 3,
    "start_time": "2025-01-05T01:53:18.906Z"
   },
   {
    "duration": 11,
    "start_time": "2025-01-05T01:53:18.912Z"
   },
   {
    "duration": 6,
    "start_time": "2025-01-05T01:53:18.925Z"
   },
   {
    "duration": 9,
    "start_time": "2025-01-05T01:53:18.933Z"
   },
   {
    "duration": 7,
    "start_time": "2025-01-05T01:53:18.943Z"
   },
   {
    "duration": 4,
    "start_time": "2025-01-05T01:53:18.952Z"
   },
   {
    "duration": 4,
    "start_time": "2025-01-05T01:53:18.958Z"
   },
   {
    "duration": 44,
    "start_time": "2025-01-05T01:53:18.963Z"
   },
   {
    "duration": 16,
    "start_time": "2025-01-05T01:53:19.010Z"
   },
   {
    "duration": 17,
    "start_time": "2025-01-05T01:53:19.027Z"
   },
   {
    "duration": 4,
    "start_time": "2025-01-05T01:53:19.048Z"
   },
   {
    "duration": 4,
    "start_time": "2025-01-05T01:53:19.053Z"
   },
   {
    "duration": 2,
    "start_time": "2025-01-05T01:53:19.059Z"
   },
   {
    "duration": 46,
    "start_time": "2025-01-05T01:53:19.063Z"
   },
   {
    "duration": 10,
    "start_time": "2025-01-05T01:53:19.111Z"
   },
   {
    "duration": 7,
    "start_time": "2025-01-05T01:53:19.123Z"
   },
   {
    "duration": 163,
    "start_time": "2025-01-05T01:53:19.132Z"
   },
   {
    "duration": 12,
    "start_time": "2025-01-05T01:53:19.297Z"
   },
   {
    "duration": 23,
    "start_time": "2025-01-05T01:53:19.311Z"
   },
   {
    "duration": 73,
    "start_time": "2025-01-05T01:53:19.336Z"
   },
   {
    "duration": 15,
    "start_time": "2025-01-05T01:53:19.411Z"
   },
   {
    "duration": 20,
    "start_time": "2025-01-05T01:53:19.507Z"
   },
   {
    "duration": 247,
    "start_time": "2025-01-05T01:54:15.277Z"
   },
   {
    "duration": 0,
    "start_time": "2025-01-05T01:54:15.526Z"
   },
   {
    "duration": 123577,
    "start_time": "2025-01-05T01:54:19.148Z"
   },
   {
    "duration": 873,
    "start_time": "2025-01-05T02:08:15.378Z"
   },
   {
    "duration": 16,
    "start_time": "2025-01-05T02:08:16.253Z"
   },
   {
    "duration": 10,
    "start_time": "2025-01-05T02:08:16.271Z"
   },
   {
    "duration": 2,
    "start_time": "2025-01-05T02:08:16.282Z"
   },
   {
    "duration": 23,
    "start_time": "2025-01-05T02:08:16.287Z"
   },
   {
    "duration": 7,
    "start_time": "2025-01-05T02:08:16.311Z"
   },
   {
    "duration": 9,
    "start_time": "2025-01-05T02:08:16.319Z"
   },
   {
    "duration": 7,
    "start_time": "2025-01-05T02:08:16.329Z"
   },
   {
    "duration": 4,
    "start_time": "2025-01-05T02:08:16.338Z"
   },
   {
    "duration": 4,
    "start_time": "2025-01-05T02:08:16.344Z"
   },
   {
    "duration": 3,
    "start_time": "2025-01-05T02:08:16.350Z"
   },
   {
    "duration": 58,
    "start_time": "2025-01-05T02:08:16.355Z"
   },
   {
    "duration": 18,
    "start_time": "2025-01-05T02:08:16.414Z"
   },
   {
    "duration": 4,
    "start_time": "2025-01-05T02:08:16.435Z"
   },
   {
    "duration": 4,
    "start_time": "2025-01-05T02:08:16.440Z"
   },
   {
    "duration": 3,
    "start_time": "2025-01-05T02:08:16.446Z"
   },
   {
    "duration": 12,
    "start_time": "2025-01-05T02:08:16.451Z"
   },
   {
    "duration": 7,
    "start_time": "2025-01-05T02:08:16.465Z"
   },
   {
    "duration": 8,
    "start_time": "2025-01-05T02:08:16.504Z"
   },
   {
    "duration": 162,
    "start_time": "2025-01-05T02:08:16.513Z"
   },
   {
    "duration": 7,
    "start_time": "2025-01-05T02:08:16.677Z"
   },
   {
    "duration": 46,
    "start_time": "2025-01-05T02:08:16.686Z"
   },
   {
    "duration": 79,
    "start_time": "2025-01-05T02:08:16.734Z"
   },
   {
    "duration": 17,
    "start_time": "2025-01-05T02:08:16.814Z"
   },
   {
    "duration": 17,
    "start_time": "2025-01-05T02:08:16.906Z"
   },
   {
    "duration": 7396,
    "start_time": "2025-01-05T02:08:16.925Z"
   },
   {
    "duration": 241,
    "start_time": "2025-01-05T02:08:24.323Z"
   },
   {
    "duration": 5608,
    "start_time": "2025-01-05T02:08:55.335Z"
   },
   {
    "duration": 14,
    "start_time": "2025-01-05T02:09:00.945Z"
   },
   {
    "duration": 39,
    "start_time": "2025-01-05T02:17:56.339Z"
   },
   {
    "duration": 38,
    "start_time": "2025-01-05T02:18:26.556Z"
   },
   {
    "duration": 40,
    "start_time": "2025-01-05T03:21:48.324Z"
   },
   {
    "duration": 118,
    "start_time": "2025-01-05T03:35:45.455Z"
   },
   {
    "duration": 5946,
    "start_time": "2025-01-05T03:41:55.153Z"
   },
   {
    "duration": 5974,
    "start_time": "2025-01-05T03:43:10.408Z"
   },
   {
    "duration": 10,
    "start_time": "2025-01-06T18:19:45.690Z"
   },
   {
    "duration": 3,
    "start_time": "2025-01-07T23:03:32.229Z"
   },
   {
    "duration": 2770,
    "start_time": "2025-01-07T23:09:10.372Z"
   },
   {
    "duration": 22,
    "start_time": "2025-01-07T23:09:13.144Z"
   },
   {
    "duration": 13,
    "start_time": "2025-01-07T23:09:13.167Z"
   },
   {
    "duration": 4,
    "start_time": "2025-01-07T23:09:13.181Z"
   },
   {
    "duration": 25,
    "start_time": "2025-01-07T23:09:13.188Z"
   },
   {
    "duration": 21,
    "start_time": "2025-01-07T23:09:13.215Z"
   },
   {
    "duration": 10,
    "start_time": "2025-01-07T23:09:13.238Z"
   },
   {
    "duration": 8,
    "start_time": "2025-01-07T23:09:13.250Z"
   },
   {
    "duration": 5,
    "start_time": "2025-01-07T23:09:13.260Z"
   },
   {
    "duration": 4,
    "start_time": "2025-01-07T23:09:13.267Z"
   },
   {
    "duration": 4,
    "start_time": "2025-01-07T23:09:13.272Z"
   },
   {
    "duration": 15,
    "start_time": "2025-01-07T23:09:13.278Z"
   },
   {
    "duration": 51,
    "start_time": "2025-01-07T23:09:13.295Z"
   },
   {
    "duration": 5,
    "start_time": "2025-01-07T23:09:13.349Z"
   },
   {
    "duration": 4,
    "start_time": "2025-01-07T23:09:13.355Z"
   },
   {
    "duration": 2,
    "start_time": "2025-01-07T23:09:13.361Z"
   },
   {
    "duration": 15,
    "start_time": "2025-01-07T23:09:13.365Z"
   },
   {
    "duration": 9,
    "start_time": "2025-01-07T23:09:13.381Z"
   },
   {
    "duration": 41,
    "start_time": "2025-01-07T23:09:13.392Z"
   },
   {
    "duration": 106,
    "start_time": "2025-01-07T23:09:13.434Z"
   },
   {
    "duration": 8,
    "start_time": "2025-01-07T23:09:13.542Z"
   },
   {
    "duration": 18,
    "start_time": "2025-01-07T23:09:13.553Z"
   },
   {
    "duration": 70,
    "start_time": "2025-01-07T23:09:13.573Z"
   },
   {
    "duration": 94,
    "start_time": "2025-01-07T23:09:13.648Z"
   },
   {
    "duration": 96,
    "start_time": "2025-01-07T23:09:13.747Z"
   },
   {
    "duration": 83,
    "start_time": "2025-01-07T23:09:13.848Z"
   },
   {
    "duration": 0,
    "start_time": "2025-01-07T23:09:13.934Z"
   },
   {
    "duration": 0,
    "start_time": "2025-01-07T23:09:13.935Z"
   },
   {
    "duration": 5993,
    "start_time": "2025-01-07T23:10:24.567Z"
   },
   {
    "duration": 6,
    "start_time": "2025-01-07T23:20:40.824Z"
   },
   {
    "duration": 5996,
    "start_time": "2025-01-07T23:21:09.139Z"
   },
   {
    "duration": 5900,
    "start_time": "2025-01-07T23:27:51.966Z"
   },
   {
    "duration": 5917,
    "start_time": "2025-01-07T23:28:58.108Z"
   },
   {
    "duration": 3303,
    "start_time": "2025-01-07T23:40:50.243Z"
   },
   {
    "duration": 11725,
    "start_time": "2025-01-07T23:41:09.781Z"
   },
   {
    "duration": 28993,
    "start_time": "2025-01-07T23:41:30.309Z"
   },
   {
    "duration": 878,
    "start_time": "2025-01-07T23:43:01.423Z"
   },
   {
    "duration": 16,
    "start_time": "2025-01-07T23:43:02.303Z"
   },
   {
    "duration": 16,
    "start_time": "2025-01-07T23:43:02.321Z"
   },
   {
    "duration": 3,
    "start_time": "2025-01-07T23:43:02.340Z"
   },
   {
    "duration": 9,
    "start_time": "2025-01-07T23:43:02.344Z"
   },
   {
    "duration": 7,
    "start_time": "2025-01-07T23:43:02.355Z"
   },
   {
    "duration": 9,
    "start_time": "2025-01-07T23:43:02.363Z"
   },
   {
    "duration": 8,
    "start_time": "2025-01-07T23:43:02.374Z"
   },
   {
    "duration": 5,
    "start_time": "2025-01-07T23:43:02.383Z"
   },
   {
    "duration": 5,
    "start_time": "2025-01-07T23:43:02.432Z"
   },
   {
    "duration": 3,
    "start_time": "2025-01-07T23:43:02.439Z"
   },
   {
    "duration": 15,
    "start_time": "2025-01-07T23:43:02.444Z"
   },
   {
    "duration": 18,
    "start_time": "2025-01-07T23:43:02.461Z"
   },
   {
    "duration": 4,
    "start_time": "2025-01-07T23:43:02.481Z"
   },
   {
    "duration": 4,
    "start_time": "2025-01-07T23:43:02.487Z"
   },
   {
    "duration": 38,
    "start_time": "2025-01-07T23:43:02.493Z"
   },
   {
    "duration": 16,
    "start_time": "2025-01-07T23:43:02.533Z"
   },
   {
    "duration": 9,
    "start_time": "2025-01-07T23:43:02.550Z"
   },
   {
    "duration": 9,
    "start_time": "2025-01-07T23:43:02.561Z"
   },
   {
    "duration": 165,
    "start_time": "2025-01-07T23:43:02.571Z"
   },
   {
    "duration": 8,
    "start_time": "2025-01-07T23:43:02.737Z"
   },
   {
    "duration": 17,
    "start_time": "2025-01-07T23:43:02.746Z"
   },
   {
    "duration": 67,
    "start_time": "2025-01-07T23:43:02.765Z"
   },
   {
    "duration": 23,
    "start_time": "2025-01-07T23:43:02.834Z"
   },
   {
    "duration": 19,
    "start_time": "2025-01-07T23:43:02.934Z"
   },
   {
    "duration": 6067,
    "start_time": "2025-01-07T23:43:02.956Z"
   },
   {
    "duration": 64904,
    "start_time": "2025-01-07T23:43:09.025Z"
   },
   {
    "duration": 913,
    "start_time": "2025-01-07T23:47:20.097Z"
   },
   {
    "duration": 16,
    "start_time": "2025-01-07T23:47:21.011Z"
   },
   {
    "duration": 10,
    "start_time": "2025-01-07T23:47:21.031Z"
   },
   {
    "duration": 2,
    "start_time": "2025-01-07T23:47:21.043Z"
   },
   {
    "duration": 10,
    "start_time": "2025-01-07T23:47:21.047Z"
   },
   {
    "duration": 7,
    "start_time": "2025-01-07T23:47:21.059Z"
   },
   {
    "duration": 9,
    "start_time": "2025-01-07T23:47:21.067Z"
   },
   {
    "duration": 7,
    "start_time": "2025-01-07T23:47:21.077Z"
   },
   {
    "duration": 4,
    "start_time": "2025-01-07T23:47:21.086Z"
   },
   {
    "duration": 4,
    "start_time": "2025-01-07T23:47:21.131Z"
   },
   {
    "duration": 3,
    "start_time": "2025-01-07T23:47:21.137Z"
   },
   {
    "duration": 15,
    "start_time": "2025-01-07T23:47:21.142Z"
   },
   {
    "duration": 17,
    "start_time": "2025-01-07T23:47:21.159Z"
   },
   {
    "duration": 6,
    "start_time": "2025-01-07T23:47:21.177Z"
   },
   {
    "duration": 5,
    "start_time": "2025-01-07T23:47:21.184Z"
   },
   {
    "duration": 43,
    "start_time": "2025-01-07T23:47:21.190Z"
   },
   {
    "duration": 15,
    "start_time": "2025-01-07T23:47:21.235Z"
   },
   {
    "duration": 10,
    "start_time": "2025-01-07T23:47:21.251Z"
   },
   {
    "duration": 8,
    "start_time": "2025-01-07T23:47:21.262Z"
   },
   {
    "duration": 175,
    "start_time": "2025-01-07T23:47:21.272Z"
   },
   {
    "duration": 8,
    "start_time": "2025-01-07T23:47:21.449Z"
   },
   {
    "duration": 18,
    "start_time": "2025-01-07T23:47:21.459Z"
   },
   {
    "duration": 10,
    "start_time": "2025-01-07T23:47:21.531Z"
   },
   {
    "duration": 93,
    "start_time": "2025-01-07T23:47:21.543Z"
   },
   {
    "duration": 94,
    "start_time": "2025-01-07T23:47:21.638Z"
   },
   {
    "duration": 5999,
    "start_time": "2025-01-07T23:47:21.734Z"
   },
   {
    "duration": 176487,
    "start_time": "2025-01-07T23:47:27.736Z"
   },
   {
    "duration": 23607,
    "start_time": "2025-01-07T23:58:41.879Z"
   },
   {
    "duration": 2,
    "start_time": "2025-01-08T00:04:20.527Z"
   }
  ],
  "kernelspec": {
   "display_name": "Python 3 (ipykernel)",
   "language": "python",
   "name": "python3"
  },
  "language_info": {
   "codemirror_mode": {
    "name": "ipython",
    "version": 3
   },
   "file_extension": ".py",
   "mimetype": "text/x-python",
   "name": "python",
   "nbconvert_exporter": "python",
   "pygments_lexer": "ipython3",
   "version": "3.9.19"
  },
  "toc": {
   "base_numbering": 1,
   "nav_menu": {},
   "number_sections": true,
   "sideBar": true,
   "skip_h1_title": true,
   "title_cell": "Table of Contents",
   "title_sidebar": "Contents",
   "toc_cell": false,
   "toc_position": {},
   "toc_section_display": true,
   "toc_window_display": false
  }
 },
 "nbformat": 4,
 "nbformat_minor": 2
}
