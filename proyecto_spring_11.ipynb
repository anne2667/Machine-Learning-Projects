{
 "cells": [
  {
   "cell_type": "markdown",
   "metadata": {},
   "source": [
    "# Hola &#x1F600;,\n",
    "\n",
    "Soy **Hesus Garcia** – , tu revisor de confianza, también conocido como **\"El Hesus que lleva la H de 'héroe' del código\" 🦸‍♂️**. Sí, soy el único Hesus con H que te ayudará a llevar tu trabajo al siguiente nivel. Estoy preparado con observaciones y sugerencias que harán que tu proyecto destaque y esté a la altura de las mejores prácticas en desarrollo. ¡Prepárate para mejorar y brillar en el mundo del código! 🚀\n",
    "\n",
    "Cada vez que encuentre un detalle importante en tu código, te lo señalaré para que puedas corregirlo y así te prepares para un ambiente de trabajo real, donde el líder de tu equipo actuaría de manera similar. Si en algún momento no logras solucionar el problema, te daré más detalles para ayudarte en nuestra próxima oportunidad de revisión.\n",
    "\n",
    "Es importante que cuando encuentres un comentario, **no los muevas, no los modifiques, ni los borres**.\n",
    "\n",
    "---\n",
    "\n",
    "### Formato de Comentarios\n",
    "\n",
    "Revisaré cuidadosamente cada implementación en tu notebook para asegurar que cumpla con los requisitos y te daré comentarios de acuerdo al siguiente formato:\n",
    "\n",
    "\n",
    "<div class=\"alert alert-block alert-success\">\n",
    "<b>Comentario del revisor</b> <a class=\"tocSkip\"></a><br>\n",
    "    \n",
    "<b>Éxito</b> - ¡Excelente trabajo! Esta parte está bien implementada y contribuye significativamente al análisis de datos o al proyecto. Continúa aplicando estas buenas prácticas en futuras secciones.\n",
    "    \n",
    "</div>\n",
    "\n",
    "<div class=\"alert alert-block alert-warning\">\n",
    "<b>Comentario del revisor</b> <a class=\"tocSkip\"></a><br>\n",
    "    \n",
    "<b>Atención</b> ⚠️ - Este código está correcto, pero se puede optimizar. Considera implementar mejoras para que sea más eficiente y fácil de leer. Esto fortalecerá la calidad de tu proyecto.\n",
    "    \n",
    "</div>\n",
    "\n",
    "<div class=\"alert alert-block alert-danger\">\n",
    "<b>Comentario del revisor</b> <a class=\"tocSkip\"></a><br>\n",
    "    \n",
    "<b>A resolver</b> ❗ - Aquí hay un problema o error en el código que es necesario corregir para aprobar esta sección. Por favor, revisa y corrige este punto, ya que es fundamental para la validez del análisis y la precisión de los resultados.\n",
    "    \n",
    "</div>\n",
    "\n",
    "---\n",
    "\n",
    "Al final de cada revisión, recibirás un **Comentario General del Revisor** que incluirá:\n",
    "\n",
    "- **Aspectos positivos:** Un resumen de los puntos fuertes de tu proyecto.\n",
    "- **Áreas de mejora:** Sugerencias sobre aspectos donde puedes mejorar.\n",
    "- **Temas adicionales para investigar:** Ideas de temas opcionales que puedes explorar por tu cuenta para desarrollar aún más tus habilidades.\n",
    "\n",
    "Estos temas adicionales no son obligatorios en esta etapa, pero pueden serte útiles para profundizar en el futuro.\n",
    "\n",
    "--- \n",
    "\n",
    "Esta estructura en viñetas facilita la lectura y comprensión de cada parte del comentario final.\n",
    "\n",
    "También puedes responderme de la siguiente manera si tienes alguna duda o quieres aclarar algo específico:\n",
    "\n",
    "\n",
    "<div class=\"alert alert-block alert-info\">\n",
    "<b>Respuesta del estudiante</b> <a class=\"tocSkip\"></a>\n",
    "    \n",
    "Aquí puedes escribir tu respuesta o pregunta sobre el comentario.\n",
    "    \n",
    "</div>\n"
   ]
  },
  {
   "cell_type": "code",
   "execution_count": 1,
   "metadata": {},
   "outputs": [],
   "source": [
    "#----------------------Importacion de todas las librerías necesarias\n",
    "import pandas as pd\n",
    "import numpy as np\n",
    "from sklearn.metrics import mean_squared_error\n",
    "import math\n",
    "from sklearn.tree import DecisionTreeRegressor\n",
    "from sklearn.model_selection import train_test_split\n",
    "from sklearn.metrics import mean_squared_error\n",
    "from sklearn.preprocessing import StandardScaler\n",
    "from sklearn.linear_model import LinearRegression\n",
    "from sklearn.ensemble import RandomForestClassifier\n",
    "from sklearn.tree import DecisionTreeClassifier\n",
    "from sklearn.metrics import f1_score\n",
    "from sklearn.metrics import roc_auc_score\n",
    "import matplotlib.pyplot as plt"
   ]
  },
  {
   "cell_type": "markdown",
   "metadata": {},
   "source": [
    "# Revision y limpieza de los datos"
   ]
  },
  {
   "cell_type": "markdown",
   "metadata": {},
   "source": [
    "Se hara la carga de los tres archivos de datos: data_0, data_1 y data_2, nombrados aqui como geo_0, geo_1 y geo_2, que n referencia a los datos de las tres regiones de la compañía de extracción de petróleo OilyGiant. Cada uno de los archivos contiene cuatro columnas: id, f0,f1 yf2. Id no da informacion especifica, solo es la etiqueta a cada descripcion. Las columnas f1 son caracteristicas de cada uno de los pozos, sin informacion estra."
   ]
  },
  {
   "cell_type": "code",
   "execution_count": 2,
   "metadata": {},
   "outputs": [],
   "source": [
    "#-------------------------Carga de los datos\n",
    "geo_0 = pd.read_csv('/datasets/geo_data_0.csv')\n",
    "geo_1 = pd.read_csv('/datasets/geo_data_1.csv')\n",
    "geo_2 = pd.read_csv('/datasets/geo_data_2.csv')"
   ]
  },
  {
   "cell_type": "markdown",
   "metadata": {},
   "source": [
    "Se hara una revison del estado de los datos, para determinar si hay valores nulos, duplicados, tipos incorrectos. De la misma manera, se analizara la distribicion de los datos de cada region "
   ]
  },
  {
   "cell_type": "code",
   "execution_count": 3,
   "metadata": {},
   "outputs": [
    {
     "name": "stdout",
     "output_type": "stream",
     "text": [
      "Region 1\n",
      "<class 'pandas.core.frame.DataFrame'>\n",
      "RangeIndex: 100000 entries, 0 to 99999\n",
      "Data columns (total 5 columns):\n",
      " #   Column   Non-Null Count   Dtype  \n",
      "---  ------   --------------   -----  \n",
      " 0   id       100000 non-null  object \n",
      " 1   f0       100000 non-null  float64\n",
      " 2   f1       100000 non-null  float64\n",
      " 3   f2       100000 non-null  float64\n",
      " 4   product  100000 non-null  float64\n",
      "dtypes: float64(4), object(1)\n",
      "memory usage: 3.8+ MB\n",
      "--------------------------------------------------------------------------\n",
      "Region 2\n",
      "<class 'pandas.core.frame.DataFrame'>\n",
      "RangeIndex: 100000 entries, 0 to 99999\n",
      "Data columns (total 5 columns):\n",
      " #   Column   Non-Null Count   Dtype  \n",
      "---  ------   --------------   -----  \n",
      " 0   id       100000 non-null  object \n",
      " 1   f0       100000 non-null  float64\n",
      " 2   f1       100000 non-null  float64\n",
      " 3   f2       100000 non-null  float64\n",
      " 4   product  100000 non-null  float64\n",
      "dtypes: float64(4), object(1)\n",
      "memory usage: 3.8+ MB\n",
      "--------------------------------------------------------------------------\n",
      "Region 3\n",
      "<class 'pandas.core.frame.DataFrame'>\n",
      "RangeIndex: 100000 entries, 0 to 99999\n",
      "Data columns (total 5 columns):\n",
      " #   Column   Non-Null Count   Dtype  \n",
      "---  ------   --------------   -----  \n",
      " 0   id       100000 non-null  object \n",
      " 1   f0       100000 non-null  float64\n",
      " 2   f1       100000 non-null  float64\n",
      " 3   f2       100000 non-null  float64\n",
      " 4   product  100000 non-null  float64\n",
      "dtypes: float64(4), object(1)\n",
      "memory usage: 3.8+ MB\n"
     ]
    }
   ],
   "source": [
    "#---------------------Exploracion de los datos\n",
    "print('Region 1')\n",
    "geo_0.info()\n",
    "print('--------------------------------------------------------------------------')\n",
    "print('Region 2')\n",
    "geo_1.info()\n",
    "print('--------------------------------------------------------------------------')\n",
    "print('Region 3')\n",
    "geo_2.info()"
   ]
  },
  {
   "cell_type": "markdown",
   "metadata": {},
   "source": [
    "En cada una de las regiones, los tipos de datos corresponden con lo esperado."
   ]
  },
  {
   "cell_type": "code",
   "execution_count": 4,
   "metadata": {},
   "outputs": [
    {
     "name": "stdout",
     "output_type": "stream",
     "text": [
      "Region 1\n"
     ]
    },
    {
     "data": {
      "text/html": [
       "<div>\n",
       "<style scoped>\n",
       "    .dataframe tbody tr th:only-of-type {\n",
       "        vertical-align: middle;\n",
       "    }\n",
       "\n",
       "    .dataframe tbody tr th {\n",
       "        vertical-align: top;\n",
       "    }\n",
       "\n",
       "    .dataframe thead th {\n",
       "        text-align: right;\n",
       "    }\n",
       "</style>\n",
       "<table border=\"1\" class=\"dataframe\">\n",
       "  <thead>\n",
       "    <tr style=\"text-align: right;\">\n",
       "      <th></th>\n",
       "      <th>f0</th>\n",
       "      <th>f1</th>\n",
       "      <th>f2</th>\n",
       "      <th>product</th>\n",
       "    </tr>\n",
       "  </thead>\n",
       "  <tbody>\n",
       "    <tr>\n",
       "      <th>count</th>\n",
       "      <td>100000.000000</td>\n",
       "      <td>100000.000000</td>\n",
       "      <td>100000.000000</td>\n",
       "      <td>100000.000000</td>\n",
       "    </tr>\n",
       "    <tr>\n",
       "      <th>mean</th>\n",
       "      <td>0.500419</td>\n",
       "      <td>0.250143</td>\n",
       "      <td>2.502647</td>\n",
       "      <td>92.500000</td>\n",
       "    </tr>\n",
       "    <tr>\n",
       "      <th>std</th>\n",
       "      <td>0.871832</td>\n",
       "      <td>0.504433</td>\n",
       "      <td>3.248248</td>\n",
       "      <td>44.288691</td>\n",
       "    </tr>\n",
       "    <tr>\n",
       "      <th>min</th>\n",
       "      <td>-1.408605</td>\n",
       "      <td>-0.848218</td>\n",
       "      <td>-12.088328</td>\n",
       "      <td>0.000000</td>\n",
       "    </tr>\n",
       "    <tr>\n",
       "      <th>25%</th>\n",
       "      <td>-0.072580</td>\n",
       "      <td>-0.200881</td>\n",
       "      <td>0.287748</td>\n",
       "      <td>56.497507</td>\n",
       "    </tr>\n",
       "    <tr>\n",
       "      <th>50%</th>\n",
       "      <td>0.502360</td>\n",
       "      <td>0.250252</td>\n",
       "      <td>2.515969</td>\n",
       "      <td>91.849972</td>\n",
       "    </tr>\n",
       "    <tr>\n",
       "      <th>75%</th>\n",
       "      <td>1.073581</td>\n",
       "      <td>0.700646</td>\n",
       "      <td>4.715088</td>\n",
       "      <td>128.564089</td>\n",
       "    </tr>\n",
       "    <tr>\n",
       "      <th>max</th>\n",
       "      <td>2.362331</td>\n",
       "      <td>1.343769</td>\n",
       "      <td>16.003790</td>\n",
       "      <td>185.364347</td>\n",
       "    </tr>\n",
       "  </tbody>\n",
       "</table>\n",
       "</div>"
      ],
      "text/plain": [
       "                  f0             f1             f2        product\n",
       "count  100000.000000  100000.000000  100000.000000  100000.000000\n",
       "mean        0.500419       0.250143       2.502647      92.500000\n",
       "std         0.871832       0.504433       3.248248      44.288691\n",
       "min        -1.408605      -0.848218     -12.088328       0.000000\n",
       "25%        -0.072580      -0.200881       0.287748      56.497507\n",
       "50%         0.502360       0.250252       2.515969      91.849972\n",
       "75%         1.073581       0.700646       4.715088     128.564089\n",
       "max         2.362331       1.343769      16.003790     185.364347"
      ]
     },
     "execution_count": 4,
     "metadata": {},
     "output_type": "execute_result"
    }
   ],
   "source": [
    "print('Region 1')\n",
    "geo_0.describe()"
   ]
  },
  {
   "cell_type": "code",
   "execution_count": 5,
   "metadata": {},
   "outputs": [
    {
     "data": {
      "image/png": "[encoded data removed]",
      "text/plain": [
       "<Figure size 800x600 with 4 Axes>"
      ]
     },
     "metadata": {},
     "output_type": "display_data"
    }
   ],
   "source": [
    "geo_0.hist(figsize=(8, 6), bins=10, color='skyblue', alpha=0.7)\n",
    "plt.suptitle('Matriz de histogramas de la region 1', fontsize=16)  # Título global\n",
    "plt.show()"
   ]
  },
  {
   "cell_type": "markdown",
   "metadata": {},
   "source": [
    "En un analisis exploratorio de un histograma de frecuencias de las columnas f0, f1, f2 y product, de cada una de las regiones,  la region 1, en las cuatro graficas. Hay un ligero sesgo positivo en todas las variables, excepto en f1. Las distribuciones de f2 y product, son similares a la normal."
   ]
  },
  {
   "cell_type": "code",
   "execution_count": 6,
   "metadata": {
    "scrolled": true
   },
   "outputs": [
    {
     "name": "stdout",
     "output_type": "stream",
     "text": [
      "Region 2\n"
     ]
    },
    {
     "data": {
      "text/html": [
       "<div>\n",
       "<style scoped>\n",
       "    .dataframe tbody tr th:only-of-type {\n",
       "        vertical-align: middle;\n",
       "    }\n",
       "\n",
       "    .dataframe tbody tr th {\n",
       "        vertical-align: top;\n",
       "    }\n",
       "\n",
       "    .dataframe thead th {\n",
       "        text-align: right;\n",
       "    }\n",
       "</style>\n",
       "<table border=\"1\" class=\"dataframe\">\n",
       "  <thead>\n",
       "    <tr style=\"text-align: right;\">\n",
       "      <th></th>\n",
       "      <th>f0</th>\n",
       "      <th>f1</th>\n",
       "      <th>f2</th>\n",
       "      <th>product</th>\n",
       "    </tr>\n",
       "  </thead>\n",
       "  <tbody>\n",
       "    <tr>\n",
       "      <th>count</th>\n",
       "      <td>100000.000000</td>\n",
       "      <td>100000.000000</td>\n",
       "      <td>100000.000000</td>\n",
       "      <td>100000.000000</td>\n",
       "    </tr>\n",
       "    <tr>\n",
       "      <th>mean</th>\n",
       "      <td>1.141296</td>\n",
       "      <td>-4.796579</td>\n",
       "      <td>2.494541</td>\n",
       "      <td>68.825000</td>\n",
       "    </tr>\n",
       "    <tr>\n",
       "      <th>std</th>\n",
       "      <td>8.965932</td>\n",
       "      <td>5.119872</td>\n",
       "      <td>1.703572</td>\n",
       "      <td>45.944423</td>\n",
       "    </tr>\n",
       "    <tr>\n",
       "      <th>min</th>\n",
       "      <td>-31.609576</td>\n",
       "      <td>-26.358598</td>\n",
       "      <td>-0.018144</td>\n",
       "      <td>0.000000</td>\n",
       "    </tr>\n",
       "    <tr>\n",
       "      <th>25%</th>\n",
       "      <td>-6.298551</td>\n",
       "      <td>-8.267985</td>\n",
       "      <td>1.000021</td>\n",
       "      <td>26.953261</td>\n",
       "    </tr>\n",
       "    <tr>\n",
       "      <th>50%</th>\n",
       "      <td>1.153055</td>\n",
       "      <td>-4.813172</td>\n",
       "      <td>2.011479</td>\n",
       "      <td>57.085625</td>\n",
       "    </tr>\n",
       "    <tr>\n",
       "      <th>75%</th>\n",
       "      <td>8.621015</td>\n",
       "      <td>-1.332816</td>\n",
       "      <td>3.999904</td>\n",
       "      <td>107.813044</td>\n",
       "    </tr>\n",
       "    <tr>\n",
       "      <th>max</th>\n",
       "      <td>29.421755</td>\n",
       "      <td>18.734063</td>\n",
       "      <td>5.019721</td>\n",
       "      <td>137.945408</td>\n",
       "    </tr>\n",
       "  </tbody>\n",
       "</table>\n",
       "</div>"
      ],
      "text/plain": [
       "                  f0             f1             f2        product\n",
       "count  100000.000000  100000.000000  100000.000000  100000.000000\n",
       "mean        1.141296      -4.796579       2.494541      68.825000\n",
       "std         8.965932       5.119872       1.703572      45.944423\n",
       "min       -31.609576     -26.358598      -0.018144       0.000000\n",
       "25%        -6.298551      -8.267985       1.000021      26.953261\n",
       "50%         1.153055      -4.813172       2.011479      57.085625\n",
       "75%         8.621015      -1.332816       3.999904     107.813044\n",
       "max        29.421755      18.734063       5.019721     137.945408"
      ]
     },
     "execution_count": 6,
     "metadata": {},
     "output_type": "execute_result"
    }
   ],
   "source": [
    "print('Region 2')\n",
    "geo_1.describe()"
   ]
  },
  {
   "cell_type": "code",
   "execution_count": 7,
   "metadata": {},
   "outputs": [
    {
     "data": {
      "image/png": "[encoded data removed]",
      "text/plain": [
       "<Figure size 800x600 with 4 Axes>"
      ]
     },
     "metadata": {},
     "output_type": "display_data"
    }
   ],
   "source": [
    "geo_1.hist(figsize=(8, 6), bins=10, color='skyblue', alpha=0.7)\n",
    "plt.suptitle('Matriz de histogramas de la region 2', fontsize=16)  # Título global\n",
    "plt.show()"
   ]
  },
  {
   "cell_type": "markdown",
   "metadata": {},
   "source": [
    " La distribucion f1, de la region 2, es similar a distribucion normal. En f2, hay un ligero sesgo negativo."
   ]
  },
  {
   "cell_type": "code",
   "execution_count": 8,
   "metadata": {},
   "outputs": [
    {
     "name": "stdout",
     "output_type": "stream",
     "text": [
      "Region 3\n"
     ]
    },
    {
     "data": {
      "text/html": [
       "<div>\n",
       "<style scoped>\n",
       "    .dataframe tbody tr th:only-of-type {\n",
       "        vertical-align: middle;\n",
       "    }\n",
       "\n",
       "    .dataframe tbody tr th {\n",
       "        vertical-align: top;\n",
       "    }\n",
       "\n",
       "    .dataframe thead th {\n",
       "        text-align: right;\n",
       "    }\n",
       "</style>\n",
       "<table border=\"1\" class=\"dataframe\">\n",
       "  <thead>\n",
       "    <tr style=\"text-align: right;\">\n",
       "      <th></th>\n",
       "      <th>f0</th>\n",
       "      <th>f1</th>\n",
       "      <th>f2</th>\n",
       "      <th>product</th>\n",
       "    </tr>\n",
       "  </thead>\n",
       "  <tbody>\n",
       "    <tr>\n",
       "      <th>count</th>\n",
       "      <td>100000.000000</td>\n",
       "      <td>100000.000000</td>\n",
       "      <td>100000.000000</td>\n",
       "      <td>100000.000000</td>\n",
       "    </tr>\n",
       "    <tr>\n",
       "      <th>mean</th>\n",
       "      <td>0.002023</td>\n",
       "      <td>-0.002081</td>\n",
       "      <td>2.495128</td>\n",
       "      <td>95.000000</td>\n",
       "    </tr>\n",
       "    <tr>\n",
       "      <th>std</th>\n",
       "      <td>1.732045</td>\n",
       "      <td>1.730417</td>\n",
       "      <td>3.473445</td>\n",
       "      <td>44.749921</td>\n",
       "    </tr>\n",
       "    <tr>\n",
       "      <th>min</th>\n",
       "      <td>-8.760004</td>\n",
       "      <td>-7.084020</td>\n",
       "      <td>-11.970335</td>\n",
       "      <td>0.000000</td>\n",
       "    </tr>\n",
       "    <tr>\n",
       "      <th>25%</th>\n",
       "      <td>-1.162288</td>\n",
       "      <td>-1.174820</td>\n",
       "      <td>0.130359</td>\n",
       "      <td>59.450441</td>\n",
       "    </tr>\n",
       "    <tr>\n",
       "      <th>50%</th>\n",
       "      <td>0.009424</td>\n",
       "      <td>-0.009482</td>\n",
       "      <td>2.484236</td>\n",
       "      <td>94.925613</td>\n",
       "    </tr>\n",
       "    <tr>\n",
       "      <th>75%</th>\n",
       "      <td>1.158535</td>\n",
       "      <td>1.163678</td>\n",
       "      <td>4.858794</td>\n",
       "      <td>130.595027</td>\n",
       "    </tr>\n",
       "    <tr>\n",
       "      <th>max</th>\n",
       "      <td>7.238262</td>\n",
       "      <td>7.844801</td>\n",
       "      <td>16.739402</td>\n",
       "      <td>190.029838</td>\n",
       "    </tr>\n",
       "  </tbody>\n",
       "</table>\n",
       "</div>"
      ],
      "text/plain": [
       "                  f0             f1             f2        product\n",
       "count  100000.000000  100000.000000  100000.000000  100000.000000\n",
       "mean        0.002023      -0.002081       2.495128      95.000000\n",
       "std         1.732045       1.730417       3.473445      44.749921\n",
       "min        -8.760004      -7.084020     -11.970335       0.000000\n",
       "25%        -1.162288      -1.174820       0.130359      59.450441\n",
       "50%         0.009424      -0.009482       2.484236      94.925613\n",
       "75%         1.158535       1.163678       4.858794     130.595027\n",
       "max         7.238262       7.844801      16.739402     190.029838"
      ]
     },
     "execution_count": 8,
     "metadata": {},
     "output_type": "execute_result"
    }
   ],
   "source": [
    "print('Region 3')\n",
    "geo_2.describe()"
   ]
  },
  {
   "cell_type": "code",
   "execution_count": 9,
   "metadata": {},
   "outputs": [
    {
     "data": {
      "image/png": "[encoded data removed]",
      "text/plain": [
       "<Figure size 800x600 with 4 Axes>"
      ]
     },
     "metadata": {},
     "output_type": "display_data"
    }
   ],
   "source": [
    "geo_2.hist(figsize=(8, 6), bins=10, color='skyblue', alpha=0.7)\n",
    "plt.suptitle('Matriz de histogramas de la region 3', fontsize=16)  # Título global\n",
    "plt.show()"
   ]
  },
  {
   "cell_type": "markdown",
   "metadata": {},
   "source": [
    "En esta region, las cuatro variables muestran una distribucion  similar a la normal, con un pequeno sesgo negativo para f1 y f2. "
   ]
  },
  {
   "cell_type": "code",
   "execution_count": 10,
   "metadata": {},
   "outputs": [
    {
     "name": "stdout",
     "output_type": "stream",
     "text": [
      "--------------------------------------------------------------------------\n",
      "Region 1\n",
      "id         0\n",
      "f0         0\n",
      "f1         0\n",
      "f2         0\n",
      "product    0\n",
      "dtype: int64\n",
      "--------------------------------------------------------------------------\n",
      "Region 2\n",
      "id         0\n",
      "f0         0\n",
      "f1         0\n",
      "f2         0\n",
      "product    0\n",
      "dtype: int64\n",
      "--------------------------------------------------------------------------\n",
      "Region 3\n",
      "id         0\n",
      "f0         0\n",
      "f1         0\n",
      "f2         0\n",
      "product    0\n",
      "dtype: int64\n"
     ]
    }
   ],
   "source": [
    "#------------Revision de valores nulos\n",
    "print('--------------------------------------------------------------------------')\n",
    "print('Region 1')\n",
    "print(geo_0.isna().sum())\n",
    "print('--------------------------------------------------------------------------')\n",
    "print('Region 2')\n",
    "print(geo_1.isna().sum())\n",
    "print('--------------------------------------------------------------------------')\n",
    "print('Region 3')\n",
    "print(geo_2.isna().sum())"
   ]
  },
  {
   "cell_type": "code",
   "execution_count": 11,
   "metadata": {},
   "outputs": [
    {
     "name": "stdout",
     "output_type": "stream",
     "text": [
      "--------------------------------------------------------------------------\n",
      "Suma de valores diplicados de la Region 1\n",
      "0\n",
      "--------------------------------------------------------------------------\n",
      "Suma de valores diplicados de la Region 2\n",
      "0\n",
      "--------------------------------------------------------------------------\n",
      "Suma de valores diplicados de la Region 3\n",
      "0\n"
     ]
    }
   ],
   "source": [
    "#---------------------------Revision de valores duplicados\n",
    "print('--------------------------------------------------------------------------')\n",
    "print('Suma de valores diplicados de la Region 1')\n",
    "print(geo_0.duplicated().sum())\n",
    "print('--------------------------------------------------------------------------')\n",
    "print('Suma de valores diplicados de la Region 2')\n",
    "print(geo_1.duplicated().sum())\n",
    "print('--------------------------------------------------------------------------')\n",
    "print('Suma de valores diplicados de la Region 3')\n",
    "print(geo_2.duplicated().sum())"
   ]
  },
  {
   "cell_type": "markdown",
   "metadata": {},
   "source": [
    "En el analisis de cada region, no se encontro algun valor nulo, ni duplicado para alguna variable o fila."
   ]
  },
  {
   "cell_type": "markdown",
   "metadata": {},
   "source": [
    "<div class=\"alert alert-block alert-success\">\n",
    "<b>Comentario del revisor</b> <a class=\"tocSkip\"></a>\n",
    "\n",
    "¡Gran trabajo con la exploración inicial de los datos! Has incluido una revisión detallada del estado de los datos, abordando puntos clave como la detección de valores nulos, duplicados y la validación de tipos de datos. A continuación, destaco lo que hiciste bien:\n",
    "\n",
    "- **Análisis Exploratorio:** El uso de `info()`, `describe()`, y la generación de histogramas proporcionan un panorama claro de la distribución y estructura de los datos en las tres regiones.\n",
    "- **Validación de Calidad de Datos:** Confirmar que no hay valores nulos ni duplicados es un paso esencial para garantizar la calidad del análisis posterior.\n",
    "- **Visualización de Distribuciones:** Los histogramas ayudan a identificar sesgos y similitudes con distribuciones normales, lo que es útil para decidir los próximos pasos en el análisis.\n",
    "\n",
    "¡Excelente inicio para estructurar tu análisis y garantizar datos confiables! 😊\n",
    "</div>\n"
   ]
  },
  {
   "cell_type": "markdown",
   "metadata": {},
   "source": [
    "# Análisis de correlación entre las cuatro variables"
   ]
  },
  {
   "cell_type": "code",
   "execution_count": 12,
   "metadata": {},
   "outputs": [
    {
     "name": "stdout",
     "output_type": "stream",
     "text": [
      "Correlacion de las variables de la region 1:\n",
      "               f0        f1        f2   product\n",
      "f0       1.000000 -0.440723 -0.003153  0.143536\n",
      "f1      -0.440723  1.000000  0.001724 -0.192356\n",
      "f2      -0.003153  0.001724  1.000000  0.483663\n",
      "product  0.143536 -0.192356  0.483663  1.000000\n"
     ]
    }
   ],
   "source": [
    "correlacion = geo_0.corr()\n",
    "print('Correlacion de las variables de la region 1:')\n",
    "print(correlacion)"
   ]
  },
  {
   "cell_type": "code",
   "execution_count": 13,
   "metadata": {},
   "outputs": [
    {
     "name": "stdout",
     "output_type": "stream",
     "text": [
      "Correlacion de las variables de la region 2:\n",
      "               f0        f1        f2   product\n",
      "f0       1.000000  0.182287 -0.001777 -0.030491\n",
      "f1       0.182287  1.000000 -0.002595 -0.010155\n",
      "f2      -0.001777 -0.002595  1.000000  0.999397\n",
      "product -0.030491 -0.010155  0.999397  1.000000\n"
     ]
    }
   ],
   "source": [
    "correlacion = geo_1.corr()\n",
    "print('Correlacion de las variables de la region 2:')\n",
    "print(correlacion)"
   ]
  },
  {
   "cell_type": "code",
   "execution_count": 14,
   "metadata": {},
   "outputs": [
    {
     "name": "stdout",
     "output_type": "stream",
     "text": [
      "Correlacion de las variables de la region 3:\n",
      "               f0        f1        f2   product\n",
      "f0       1.000000  0.000528 -0.000448 -0.001987\n",
      "f1       0.000528  1.000000  0.000779 -0.001012\n",
      "f2      -0.000448  0.000779  1.000000  0.445871\n",
      "product -0.001987 -0.001012  0.445871  1.000000\n"
     ]
    }
   ],
   "source": [
    "correlacion = geo_2.corr()\n",
    "print('Correlacion de las variables de la region 3:')\n",
    "print(correlacion)"
   ]
  },
  {
   "cell_type": "markdown",
   "metadata": {},
   "source": [
    "En la region 2, la variable product muestra una fuerte correlacion positiva con f2, mientras que en las demas regiones es moderada potitiva. De la misma manera, f1 y f0, en la region 1 muestran una correlacion moderada negativa"
   ]
  },
  {
   "cell_type": "markdown",
   "metadata": {},
   "source": [
    "## Estandarizacion de los datos"
   ]
  },
  {
   "cell_type": "markdown",
   "metadata": {},
   "source": []
  },
  {
   "cell_type": "code",
   "execution_count": 15,
   "metadata": {},
   "outputs": [],
   "source": [
    "from sklearn.preprocessing import StandardScaler\n",
    "\n",
    "# Crear el objeto StandardScaler\n",
    "scaler = StandardScaler()\n",
    "\n",
    "# Ajustar y transformar los datos\n",
    "#geo_0[['f0', 'f1', 'f2', 'product']] = scaler.fit_transform(geo_0[['f0', 'f1', 'f2', 'product']])\n",
    "#geo_1[['f0', 'f1', 'f2', 'product']] = scaler.fit_transform(geo_1[['f0', 'f1', 'f2', 'product']])\n",
    "#geo_2[['f0', 'f1', 'f2', 'product']] = scaler.fit_transform(geo_2[['f0', 'f1', 'f2', 'product']])"
   ]
  },
  {
   "cell_type": "code",
   "execution_count": 16,
   "metadata": {},
   "outputs": [
    {
     "data": {
      "text/html": [
       "<div>\n",
       "<style scoped>\n",
       "    .dataframe tbody tr th:only-of-type {\n",
       "        vertical-align: middle;\n",
       "    }\n",
       "\n",
       "    .dataframe tbody tr th {\n",
       "        vertical-align: top;\n",
       "    }\n",
       "\n",
       "    .dataframe thead th {\n",
       "        text-align: right;\n",
       "    }\n",
       "</style>\n",
       "<table border=\"1\" class=\"dataframe\">\n",
       "  <thead>\n",
       "    <tr style=\"text-align: right;\">\n",
       "      <th></th>\n",
       "      <th>f0</th>\n",
       "      <th>f1</th>\n",
       "      <th>f2</th>\n",
       "      <th>product</th>\n",
       "    </tr>\n",
       "  </thead>\n",
       "  <tbody>\n",
       "    <tr>\n",
       "      <th>count</th>\n",
       "      <td>100000.000000</td>\n",
       "      <td>100000.000000</td>\n",
       "      <td>100000.000000</td>\n",
       "      <td>100000.000000</td>\n",
       "    </tr>\n",
       "    <tr>\n",
       "      <th>mean</th>\n",
       "      <td>1.141296</td>\n",
       "      <td>-4.796579</td>\n",
       "      <td>2.494541</td>\n",
       "      <td>68.825000</td>\n",
       "    </tr>\n",
       "    <tr>\n",
       "      <th>std</th>\n",
       "      <td>8.965932</td>\n",
       "      <td>5.119872</td>\n",
       "      <td>1.703572</td>\n",
       "      <td>45.944423</td>\n",
       "    </tr>\n",
       "    <tr>\n",
       "      <th>min</th>\n",
       "      <td>-31.609576</td>\n",
       "      <td>-26.358598</td>\n",
       "      <td>-0.018144</td>\n",
       "      <td>0.000000</td>\n",
       "    </tr>\n",
       "    <tr>\n",
       "      <th>25%</th>\n",
       "      <td>-6.298551</td>\n",
       "      <td>-8.267985</td>\n",
       "      <td>1.000021</td>\n",
       "      <td>26.953261</td>\n",
       "    </tr>\n",
       "    <tr>\n",
       "      <th>50%</th>\n",
       "      <td>1.153055</td>\n",
       "      <td>-4.813172</td>\n",
       "      <td>2.011479</td>\n",
       "      <td>57.085625</td>\n",
       "    </tr>\n",
       "    <tr>\n",
       "      <th>75%</th>\n",
       "      <td>8.621015</td>\n",
       "      <td>-1.332816</td>\n",
       "      <td>3.999904</td>\n",
       "      <td>107.813044</td>\n",
       "    </tr>\n",
       "    <tr>\n",
       "      <th>max</th>\n",
       "      <td>29.421755</td>\n",
       "      <td>18.734063</td>\n",
       "      <td>5.019721</td>\n",
       "      <td>137.945408</td>\n",
       "    </tr>\n",
       "  </tbody>\n",
       "</table>\n",
       "</div>"
      ],
      "text/plain": [
       "                  f0             f1             f2        product\n",
       "count  100000.000000  100000.000000  100000.000000  100000.000000\n",
       "mean        1.141296      -4.796579       2.494541      68.825000\n",
       "std         8.965932       5.119872       1.703572      45.944423\n",
       "min       -31.609576     -26.358598      -0.018144       0.000000\n",
       "25%        -6.298551      -8.267985       1.000021      26.953261\n",
       "50%         1.153055      -4.813172       2.011479      57.085625\n",
       "75%         8.621015      -1.332816       3.999904     107.813044\n",
       "max        29.421755      18.734063       5.019721     137.945408"
      ]
     },
     "execution_count": 16,
     "metadata": {},
     "output_type": "execute_result"
    }
   ],
   "source": [
    "geo_1.describe()"
   ]
  },
  {
   "cell_type": "code",
   "execution_count": 17,
   "metadata": {},
   "outputs": [],
   "source": [
    "state=np.random.RandomState(54321)"
   ]
  },
  {
   "cell_type": "markdown",
   "metadata": {},
   "source": [
    "# Entrenamiento de los datos con el modelo LinearRegression()"
   ]
  },
  {
   "cell_type": "markdown",
   "metadata": {},
   "source": [
    "A continuacion, se construye la funcion entrenamiento, con la cual se segmentaran los datos fuente en  una proporcion 0.75 y 0.25 para las variables target y features, respectivamente. Para enseguida entrenarlos en el metodo LinearRegression(), calculando el rmse y volumen de los pozos de cada region, guardando los datos de la prediccion del modelo y el valor real como val_prediccion, val_real, respectivamente, en un Dataframe para cada region."
   ]
  },
  {
   "cell_type": "code",
   "execution_count": 18,
   "metadata": {},
   "outputs": [],
   "source": [
    "#declaracion de la funcion \n",
    "def entrenamiento(data, random=state):\n",
    "    features = data.drop(columns=['product', 'id'])\n",
    "    target = data['product']\n",
    "    \n",
    "    features_train, features_valid, target_train, target_valid =train_test_split(features, target, test_size=0.25, random_state=12345)\n",
    "    \n",
    "    model = LinearRegression()# inicializa el modelo\n",
    "    model.fit(features_train, target_train) # entrena el modelo en el conjunto de entrenamiento\n",
    "    predictions_valid = model.predict(features_valid) # obtén las predicciones del modelo en el conjunto de validación\n",
    "\n",
    "    rmse = mean_squared_error(target_valid, predictions_valid, squared=False)\n",
    "    print(\"RECM del modelo de regresión lineal en el conjunto de validación:\", rmse)\n",
    "    \n",
    "    volume_mean = predictions_valid.mean()\n",
    "    print('El volumen promedio es:', volume_mean)\n",
    "    print('------------------------------------------------------------------------------------')\n",
    "    \n",
    "    print(features_train.shape, features_valid.shape)\n",
    "    print(target_train.shape, target_valid.shape)\n",
    "    print()\n",
    "    \n",
    "    \n",
    "    result = pd.DataFrame(dict(val_prediccion=predictions_valid, val_real=target_valid))\n",
    "    return result\n",
    "    \n"
   ]
  },
  {
   "cell_type": "code",
   "execution_count": null,
   "metadata": {},
   "outputs": [],
   "source": []
  },
  {
   "cell_type": "code",
   "execution_count": 19,
   "metadata": {},
   "outputs": [],
   "source": [
    "region=['region_1', 'region_2', 'region_3']\n",
    "dt=[geo_0, geo_1, geo_2]\n",
    "predic_region= {}"
   ]
  },
  {
   "cell_type": "code",
   "execution_count": 20,
   "metadata": {},
   "outputs": [
    {
     "name": "stdout",
     "output_type": "stream",
     "text": [
      "RECM del modelo de regresión lineal en el conjunto de validación: 37.5794217150813\n",
      "El volumen promedio es: 92.59256778438035\n",
      "------------------------------------------------------------------------------------\n",
      "(75000, 3) (25000, 3)\n",
      "(75000,) (25000,)\n",
      "\n",
      "RECM del modelo de regresión lineal en el conjunto de validación: 0.893099286775617\n",
      "El volumen promedio es: 68.728546895446\n",
      "------------------------------------------------------------------------------------\n",
      "(75000, 3) (25000, 3)\n",
      "(75000,) (25000,)\n",
      "\n",
      "RECM del modelo de regresión lineal en el conjunto de validación: 40.02970873393434\n",
      "El volumen promedio es: 94.96504596800489\n",
      "------------------------------------------------------------------------------------\n",
      "(75000, 3) (25000, 3)\n",
      "(75000,) (25000,)\n",
      "\n"
     ]
    }
   ],
   "source": [
    "for i, reg in zip(dt,region):\n",
    "    predic_region[reg]= entrenamiento(i)"
   ]
  },
  {
   "cell_type": "code",
   "execution_count": 21,
   "metadata": {},
   "outputs": [
    {
     "data": {
      "text/plain": [
       "{'region_1':        val_prediccion    val_real\n",
       " 71751       95.894952   10.038645\n",
       " 80493       77.572583  114.551489\n",
       " 2655        77.892640  132.603635\n",
       " 53233       90.175134  169.072125\n",
       " 91141       70.510088  122.325180\n",
       " ...               ...         ...\n",
       " 12581      103.037104  170.116726\n",
       " 18456       85.403255   93.632175\n",
       " 73035       61.509833  127.352259\n",
       " 63834      118.180397   99.782700\n",
       " 43558      118.169392  177.821022\n",
       " \n",
       " [25000 rows x 2 columns],\n",
       " 'region_2':        val_prediccion    val_real\n",
       " 71751       82.663314   80.859783\n",
       " 80493       54.431786   53.906522\n",
       " 2655        29.748760   30.132364\n",
       " 53233       53.552133   53.906522\n",
       " 91141        1.243856    0.000000\n",
       " ...               ...         ...\n",
       " 12581      136.869211  137.945408\n",
       " 18456      110.693465  110.992147\n",
       " 73035      137.879341  137.945408\n",
       " 63834       83.761966   84.038886\n",
       " 43558       53.958466   53.906522\n",
       " \n",
       " [25000 rows x 2 columns],\n",
       " 'region_3':        val_prediccion    val_real\n",
       " 71751       93.599633   61.212375\n",
       " 80493       75.105159   41.850118\n",
       " 2655        90.066809   57.776581\n",
       " 53233      105.162375  100.053761\n",
       " 91141      115.303310  109.897122\n",
       " ...               ...         ...\n",
       " 12581       78.765887   28.492402\n",
       " 18456       95.603394   21.431303\n",
       " 73035       99.407281  125.487229\n",
       " 63834       77.779912   99.422903\n",
       " 43558      129.032417  127.445075\n",
       " \n",
       " [25000 rows x 2 columns]}"
      ]
     },
     "execution_count": 21,
     "metadata": {},
     "output_type": "execute_result"
    }
   ],
   "source": [
    "predic_region "
   ]
  },
  {
   "cell_type": "markdown",
   "metadata": {},
   "source": [
    "A continuacion se muestran los volumenes promedio reales y los obtenidos de la prediccion del modelo, enlistanlo los 200 primeros de cada region."
   ]
  },
  {
   "cell_type": "code",
   "execution_count": 22,
   "metadata": {},
   "outputs": [
    {
     "data": {
      "text/plain": [
       "1054      25.069622\n",
       "89454     11.018692\n",
       "232       46.546824\n",
       "36172     25.956984\n",
       "88683     49.374929\n",
       "            ...    \n",
       "38164     40.514170\n",
       "8281      86.888107\n",
       "79578    122.167315\n",
       "80618     75.079435\n",
       "83893     21.287112\n",
       "Name: val_real, Length: 200, dtype: float64"
      ]
     },
     "execution_count": 22,
     "metadata": {},
     "output_type": "execute_result"
    }
   ],
   "source": [
    "predic_region['region_1'].sort_values(by='val_prediccion')['val_real'].head(200)"
   ]
  },
  {
   "cell_type": "code",
   "execution_count": 23,
   "metadata": {},
   "outputs": [
    {
     "data": {
      "text/plain": [
       "91386    0.0\n",
       "1411     0.0\n",
       "92993    0.0\n",
       "97894    0.0\n",
       "21570    0.0\n",
       "        ... \n",
       "18705    0.0\n",
       "61346    0.0\n",
       "56488    0.0\n",
       "45163    0.0\n",
       "86121    0.0\n",
       "Name: val_real, Length: 200, dtype: float64"
      ]
     },
     "execution_count": 23,
     "metadata": {},
     "output_type": "execute_result"
    }
   ],
   "source": [
    "predic_region['region_2'].sort_values(by='val_prediccion')['val_real'].head(200)"
   ]
  },
  {
   "cell_type": "code",
   "execution_count": 24,
   "metadata": {},
   "outputs": [
    {
     "data": {
      "text/plain": [
       "64669     32.496867\n",
       "43845     57.022698\n",
       "63325     62.903882\n",
       "36323     60.244891\n",
       "71479     33.411204\n",
       "            ...    \n",
       "26180     68.970048\n",
       "268       62.572254\n",
       "88383     27.796523\n",
       "41304    130.227327\n",
       "17018     64.279939\n",
       "Name: val_real, Length: 200, dtype: float64"
      ]
     },
     "execution_count": 24,
     "metadata": {},
     "output_type": "execute_result"
    }
   ],
   "source": [
    "predic_region['region_3'].sort_values(by='val_prediccion')['val_real'].head(200)"
   ]
  },
  {
   "cell_type": "markdown",
   "metadata": {},
   "source": [
    "# Volumen de reservas en un pozo"
   ]
  },
  {
   "cell_type": "markdown",
   "metadata": {},
   "source": [
    "A continuacion se calcula el beneficio minimo que debe generar cada pozo. Para calcular las ganancias, seguiremos las condiciones establecidas por la empresa OilyGiant: durante la exploración de la región se realiza un estudio en 500 puntos, de los cuales se seleccionan los mejores 200 para el cálculo del beneficio; el presupuesto para desarrollar estos 200 pozos petroleros es de 100 millones de dólares; además, cada barril de materia prima genera ingresos de 4.5 USD, y el ingreso por unidad de producto es de 4500 dólares, considerando que el volumen de reservas se expresa en miles de barriles.\n",
    "Las variables usadas son:\n",
    "budget- el presupuesto total para los 200 barriles\n",
    "income- ingreso por unidad de producto\n",
    "quantity - cantidad de pozos \n",
    "revenue_min-ganancia por unidad de producto (en dólares)\n",
    "vol_min_ind-volumen minimo por pozo"
   ]
  },
  {
   "cell_type": "markdown",
   "metadata": {},
   "source": [
    "Calculo del volumen minimo que debe tener cada pozo"
   ]
  },
  {
   "cell_type": "code",
   "execution_count": 25,
   "metadata": {},
   "outputs": [],
   "source": [
    "budget=100_000_000\n",
    "income=4500\n",
    "quantity =200"
   ]
  },
  {
   "cell_type": "code",
   "execution_count": 26,
   "metadata": {},
   "outputs": [
    {
     "data": {
      "text/plain": [
       "500000.0"
      ]
     },
     "execution_count": 26,
     "metadata": {},
     "output_type": "execute_result"
    }
   ],
   "source": [
    "revenue_min=budget/quantity # beneficio minimo que debe tenerse por pozo\n",
    "revenue_min"
   ]
  },
  {
   "cell_type": "code",
   "execution_count": 27,
   "metadata": {},
   "outputs": [
    {
     "name": "stdout",
     "output_type": "stream",
     "text": [
      "El volumen minimo que debe tener cada pozo es:  111.11111111111111\n"
     ]
    }
   ],
   "source": [
    "vol_min_ind=revenue_min/income    #volumen minimo que debe tener cada pozo\n",
    "print('El volumen minimo que debe tener cada pozo es: ', vol_min_ind)"
   ]
  },
  {
   "cell_type": "markdown",
   "metadata": {},
   "source": [
    "A continuacion se seleccionaran las mejores 200 predicciones del modelo para cada una de las regiones. La funcion best_options ordena los resultados del volumen de la prediccion, seleccionando los 200 mas grandes, suma los ingresos totales restando el presupuesto total para obtener la ganancia total por los 200 pozos en cada region."
   ]
  },
  {
   "cell_type": "code",
   "execution_count": 28,
   "metadata": {},
   "outputs": [],
   "source": [
    "\n",
    "def best_options(resuls_model):\n",
    "    best_results=resuls_model.sort_values(by='val_prediccion', ascending=False)['val_real'].head(200)\n",
    "    best_results_total = best_results.sum()\n",
    "    gain_total=(best_results_total*income)-budget\n",
    "    return gain_total"
   ]
  },
  {
   "cell_type": "code",
   "execution_count": 29,
   "metadata": {},
   "outputs": [
    {
     "name": "stdout",
     "output_type": "stream",
     "text": [
      "El mayor beneficio por pozo, de la region 1 es: 33208260.43139851\n"
     ]
    }
   ],
   "source": [
    "print('El mayor beneficio por pozo, de la region 1 es:', best_options(predic_region['region_1']))"
   ]
  },
  {
   "cell_type": "code",
   "execution_count": 30,
   "metadata": {},
   "outputs": [
    {
     "name": "stdout",
     "output_type": "stream",
     "text": [
      "El mayor beneficio por pozo, de la region 2 es: 24150866.966815114\n"
     ]
    }
   ],
   "source": [
    "print('El mayor beneficio por pozo, de la region 2 es:', best_options(predic_region['region_2']))"
   ]
  },
  {
   "cell_type": "code",
   "execution_count": 31,
   "metadata": {},
   "outputs": [
    {
     "name": "stdout",
     "output_type": "stream",
     "text": [
      "El mayor beneficio  por pozo, de la region 3 es: 27103499.635998324\n"
     ]
    }
   ],
   "source": [
    "print('El mayor beneficio  por pozo, de la region 3 es:', best_options(predic_region['region_3']))"
   ]
  },
  {
   "cell_type": "markdown",
   "metadata": {},
   "source": [
    "Hasta aqui, se ha calculado el beneficion que se tendria de cada region por los 200 pozos. De acuerdo con los resultados anteriores, la region 1 tiene un mayor beneficio. Tambien, las tres regiones, en promedio, superan el valor minimo del volumen minimo que debe tener cada uno."
   ]
  },
  {
   "cell_type": "markdown",
   "metadata": {},
   "source": [
    "con la funcion stress_model vamos a estresar los resultados anteriores. Será necesario calcular el beneficio total de cada region, utilizando submuestras (con reemplazo) y considerando 500 puntos analizados durante la exploración de cada región."
   ]
  },
  {
   "cell_type": "code",
   "execution_count": 32,
   "metadata": {},
   "outputs": [],
   "source": [
    "def stress_model(resuls_model, count=1000):\n",
    "    values_localization = []\n",
    "    for i in range(count):\n",
    "        local = resuls_model.sample(n=500, replace = True, random_state=state)\n",
    "        values_localization.append(best_options(local))\n",
    "        \n",
    "    values_localization= pd.Series(values_localization)\n",
    "    \n",
    "    return values_localization"
   ]
  },
  {
   "cell_type": "code",
   "execution_count": 33,
   "metadata": {
    "scrolled": true
   },
   "outputs": [],
   "source": [
    "stress_model_1 = stress_model(predic_region['region_1'])"
   ]
  },
  {
   "cell_type": "code",
   "execution_count": 34,
   "metadata": {},
   "outputs": [],
   "source": [
    "stress_model_2 = stress_model(predic_region['region_2'])"
   ]
  },
  {
   "cell_type": "code",
   "execution_count": 35,
   "metadata": {},
   "outputs": [],
   "source": [
    "stress_model_3 = stress_model(predic_region['region_3'])"
   ]
  },
  {
   "cell_type": "markdown",
   "metadata": {},
   "source": [
    "Los valores promedio del revenue de las tres regiones son:"
   ]
  },
  {
   "cell_type": "code",
   "execution_count": 36,
   "metadata": {},
   "outputs": [
    {
     "name": "stdout",
     "output_type": "stream",
     "text": [
      "Reserva 1: 3920829.088547083\n",
      "Reserva 2: 4604869.8247138085\n",
      "Reserva 3: 3964626.5656833537\n"
     ]
    }
   ],
   "source": [
    "print('Reserva 1:', stress_model_1.mean())\n",
    "print('Reserva 2:', stress_model_2.mean())\n",
    "print('Reserva 3:', stress_model_3.mean())"
   ]
  },
  {
   "cell_type": "markdown",
   "metadata": {},
   "source": [
    "Luego del analisis, observamos que, la Región 2 tiene el beneficio promedio mayor, registrando 4.6 millones de dólares en ganancias"
   ]
  },
  {
   "cell_type": "code",
   "execution_count": 37,
   "metadata": {},
   "outputs": [
    {
     "data": {
      "image/png": "[encoded data removed]",
      "text/plain": [
       "<Figure size 640x480 with 1 Axes>"
      ]
     },
     "metadata": {},
     "output_type": "display_data"
    }
   ],
   "source": [
    "plt.hist(stress_model_1, bins=20, color='skyblue', edgecolor='black', alpha=0.7)\n",
    "\n",
    "# Agregar etiquetas y título\n",
    "plt.xlabel('Valores')\n",
    "plt.ylabel('Frecuencia')\n",
    "plt.title('Histograma de Datos de la region 1')\n",
    "\n",
    "# Mostrar el gráfico\n",
    "plt.show()"
   ]
  },
  {
   "cell_type": "code",
   "execution_count": 38,
   "metadata": {},
   "outputs": [
    {
     "data": {
      "image/png": "[encoded data removed]",
      "text/plain": [
       "<Figure size 640x480 with 1 Axes>"
      ]
     },
     "metadata": {},
     "output_type": "display_data"
    }
   ],
   "source": [
    "plt.hist(stress_model_2, bins=20, color='skyblue', edgecolor='black', alpha=0.7)\n",
    "\n",
    "# Agregar etiquetas y título\n",
    "plt.xlabel('Valores')\n",
    "plt.ylabel('Frecuencia')\n",
    "plt.title('Histograma de Datos de la region 2')\n",
    "\n",
    "# Mostrar el gráfico\n",
    "plt.show()"
   ]
  },
  {
   "cell_type": "code",
   "execution_count": 39,
   "metadata": {},
   "outputs": [
    {
     "data": {
      "image/png": "[encoded data removed]",
      "text/plain": [
       "<Figure size 640x480 with 1 Axes>"
      ]
     },
     "metadata": {},
     "output_type": "display_data"
    }
   ],
   "source": [
    "plt.hist(stress_model_3, bins=20, color='skyblue', edgecolor='black', alpha=0.7)\n",
    "\n",
    "# Agregar etiquetas y título\n",
    "plt.xlabel('Valores')\n",
    "plt.ylabel('Frecuencia')\n",
    "plt.title('Histograma de Datos de la region 3')\n",
    "\n",
    "# Mostrar el gráfico\n",
    "plt.show()"
   ]
  },
  {
   "cell_type": "markdown",
   "metadata": {},
   "source": [
    "Conforme a lo hallado en los histogramas, las regiones 1 y 3 muestran mas ganancias negativas que la region 2."
   ]
  },
  {
   "cell_type": "markdown",
   "metadata": {},
   "source": [
    "<div class=\"alert alert-block alert-danger\">\n",
    "<b>Comentario del revisor</b> <a class=\"tocSkip\"></a><br>\n",
    "<s>\n",
    "<b>A resolver</b> ❗ - Hola Ann, gracias por tu esfuerzo en realizar este proyecto. Sin embargo, al revisar tu trabajo, he notado que no se siguieron las instrucciones del brief de manera adecuada. Es importante que revises cuidadosamente el brief, ya que proporciona una guía estructurada para completar el proyecto.\n",
    "\n",
    "### Resumen del brief:\n",
    "1. **Preparación de los datos:** Cargar, limpiar y analizar los datos de tres regiones.\n",
    "2. **Entrenamiento del modelo:** Utilizar regresión lineal exclusivamente para predecir el volumen de reservas en los pozos.\n",
    "3. **Evaluación de resultados:** Dividir los datos en entrenamiento y validación, calcular el RMSE y analizar los volúmenes promedio predichos.\n",
    "4. **Cálculo de beneficios:** Seleccionar los 200 pozos con mayores predicciones y calcular el beneficio total por región.\n",
    "5. **Análisis de riesgos:** Implementar la técnica de bootstrapping para calcular el beneficio promedio, intervalos de confianza del 95%, y el riesgo de pérdidas.\n",
    "6. **Conclusión:** Seleccionar la región más rentable considerando el beneficio y el riesgo (riesgo de pérdida <2.5%).\n",
    "\n",
    "### Observaciones sobre tu proyecto:\n",
    "- **Faltaron pasos clave:** No se realizaron los cálculos de beneficios de manera completa ni se implementó el análisis de riesgos con bootstrapping.\n",
    "- **Análisis incompleto:** El proyecto no incluye intervalos de confianza ni evaluación del riesgo de pérdida, puntos esenciales para la selección de la región.\n",
    "- **Estructura:** El proyecto no está organizado ni se alinea con los pasos descritos en el brief.\n",
    "\n",
    "### Próximos pasos:\n",
    "Para apoyarte en este proceso, te muestro un proyecto completado (sin código) para que tengas una idea clara de lo que se espera. Te recomiendo revisar el brief con calma y reorganizar tu trabajo siguiendo las instrucciones. ¡Estoy seguro de que puedes hacerlo!\n",
    "\n",
    "                                                                                                                 Muestra del proyecto: https://iridescent-hummingbird-8fa9b3.netlify.app\n",
    "                                                                                                                       \n",
    "                                                                                                                       \n",
    "</div>"
   ]
  },
  {
   "cell_type": "code",
   "execution_count": 53,
   "metadata": {},
   "outputs": [],
   "source": [
    "#calculo del porcentaje de error de cada region\n",
    "def metricas(beneficios, region):\n",
    "    nivel_confianza = 0.99\n",
    "    alpha = 1 - nivel_confianza\n",
    "    interv_minimo = beneficios.quantile(alpha/2)\n",
    "    interv_maximo = beneficios.quantile(1-alpha/2)\n",
    "    promedio_beneficio = beneficios.mean()\n",
    "    perdida = ((beneficios < 0).mean()) * 100\n",
    "    print(f'Mi intervalo de confianza al {nivel_confianza} % tiene un rango de: {interv_minimo}-{interv_maximo}') \n",
    "    print (f'El margen bruto promedido de la region {region} es de: {promedio_beneficio}')\n",
    "    print(f'El % riesgo o perdida de {region} es de: {perdida}%')\n",
    "          "
   ]
  },
  {
   "cell_type": "code",
   "execution_count": 54,
   "metadata": {},
   "outputs": [
    {
     "name": "stdout",
     "output_type": "stream",
     "text": [
      "Mi intervalo de confianza al 0.99 % tiene un rango de: -2454176.4015568984-11094780.611411288\n",
      "El margen bruto promedido de la region region_1 es de: 3920829.088547083\n",
      "El % riesgo o perdida de region_1 es de: 6.4%\n"
     ]
    }
   ],
   "source": [
    "metricas(stress_model_1, 'region_1')"
   ]
  },
  {
   "cell_type": "code",
   "execution_count": 55,
   "metadata": {},
   "outputs": [
    {
     "name": "stdout",
     "output_type": "stream",
     "text": [
      "Mi intervalo de confianza al 0.99 % tiene un rango de: -511323.33716050256-10056384.775091514\n",
      "El margen bruto promedido de la region region_2 es de: 4604869.8247138085\n",
      "El % riesgo o perdida de region_2 es de: 1.3%\n"
     ]
    }
   ],
   "source": [
    "metricas(stress_model_2, 'region_2')"
   ]
  },
  {
   "cell_type": "code",
   "execution_count": 56,
   "metadata": {},
   "outputs": [
    {
     "name": "stdout",
     "output_type": "stream",
     "text": [
      "Mi intervalo de confianza al 0.99 % tiene un rango de: -2870533.3172077183-10573061.385765284\n",
      "El margen bruto promedido de la region region_3 es de: 3964626.5656833537\n",
      "El % riesgo o perdida de region_3 es de: 6.3%\n"
     ]
    }
   ],
   "source": [
    "metricas(stress_model_3, 'region_3')"
   ]
  },
  {
   "cell_type": "markdown",
   "metadata": {},
   "source": [
    "Finalmente, con base en el analisis realizado, la region 2 tiene el menor porcentaje de perdida, con una ganancia de 4.6 millones de dolares. "
   ]
  },
  {
   "cell_type": "markdown",
   "metadata": {},
   "source": [
    "<div class=\"alert alert-block alert-success\">\n",
    "<b>Comentario del revisor</b> <a class=\"tocSkip\"></a>\n",
    "\n",
    "¡Felicidades! Tu proyecto está **aprobado**. Has demostrado un excelente manejo de los datos, análisis exploratorio, y creación de modelos predictivos. A continuación, destaco los puntos positivos y algunas áreas interesantes para seguir investigando:\n",
    "\n",
    "### **Puntos Positivos:**\n",
    "- **Análisis Exploratorio:** Has realizado una exploración detallada de los datos, incluyendo histogramas y correlaciones, lo cual permite una buena comprensión de las variables.\n",
    "- **Entrenamiento del Modelo:** La implementación de la regresión lineal y los cálculos de RMSE están correctamente realizados, mostrando un entendimiento sólido de los conceptos.\n",
    "- **Estandarización y Funciones:** Las funciones creadas para el entrenamiento y análisis de datos están bien estructuradas y organizadas, lo cual es una práctica clave en proyectos escalables.\n",
    "\n",
    "### **Áreas para Seguir Investigando:**\n",
    "- **Intervalos de Confianza:** Aunque aplicaste técnicas de estrés, sería interesante incluir intervalos de confianza detallados para respaldar mejor las decisiones de inversión.\n",
    "- **Visualización:** Incorporar gráficos adicionales como boxplots o heatmaps podría enriquecer el análisis y la interpretación de los resultados.\n",
    "- **Optimización de Código:** Algunos bloques de código pueden refactorizarse para mayor eficiencia, como el cálculo de métricas y la evaluación de modelos.\n",
    "\n",
    "### **Recomendación Extra:**\n",
    "Considera integrar técnicas avanzadas como Regularización (Ridge o Lasso) en futuros proyectos para mejorar la robustez de las predicciones.\n",
    "\n",
    "¡Sigue así, estás haciendo un gran trabajo! 💪🚀😊\n",
    "</div>"
   ]
  },
  {
   "cell_type": "code",
   "execution_count": null,
   "metadata": {},
   "outputs": [],
   "source": []
  }
 ],
 "metadata": {
  "ExecuteTimeLog": [
   {
    "duration": 2687,
    "start_time": "2025-01-08T22:34:30.423Z"
   },
   {
    "duration": 102,
    "start_time": "2025-01-08T22:34:33.112Z"
   },
   {
    "duration": 12,
    "start_time": "2025-01-08T22:35:15.294Z"
   },
   {
    "duration": 12,
    "start_time": "2025-01-08T22:35:30.039Z"
   },
   {
    "duration": 10,
    "start_time": "2025-01-08T22:35:45.808Z"
   },
   {
    "duration": 379,
    "start_time": "2025-01-08T22:45:06.982Z"
   },
   {
    "duration": 36,
    "start_time": "2025-01-08T22:45:31.559Z"
   },
   {
    "duration": 14,
    "start_time": "2025-01-08T22:45:57.035Z"
   },
   {
    "duration": 10,
    "start_time": "2025-01-08T22:50:01.447Z"
   },
   {
    "duration": 12,
    "start_time": "2025-01-08T22:50:09.496Z"
   },
   {
    "duration": 3,
    "start_time": "2025-01-08T22:50:46.841Z"
   },
   {
    "duration": 4,
    "start_time": "2025-01-08T22:50:57.639Z"
   },
   {
    "duration": 14,
    "start_time": "2025-01-08T22:51:42.677Z"
   },
   {
    "duration": 9,
    "start_time": "2025-01-08T22:51:47.587Z"
   },
   {
    "duration": 37,
    "start_time": "2025-01-08T22:52:34.212Z"
   },
   {
    "duration": 35,
    "start_time": "2025-01-08T22:52:41.131Z"
   },
   {
    "duration": 10,
    "start_time": "2025-01-08T22:53:15.582Z"
   },
   {
    "duration": 10,
    "start_time": "2025-01-08T22:53:35.241Z"
   },
   {
    "duration": 10,
    "start_time": "2025-01-08T22:53:49.128Z"
   },
   {
    "duration": 10,
    "start_time": "2025-01-08T22:54:01.969Z"
   },
   {
    "duration": 294,
    "start_time": "2025-01-09T00:19:35.745Z"
   },
   {
    "duration": 36,
    "start_time": "2025-01-09T00:19:50.560Z"
   },
   {
    "duration": 20,
    "start_time": "2025-01-09T00:20:14.391Z"
   },
   {
    "duration": 14,
    "start_time": "2025-01-09T00:20:32.363Z"
   },
   {
    "duration": 20,
    "start_time": "2025-01-09T00:20:37.761Z"
   },
   {
    "duration": 18,
    "start_time": "2025-01-09T00:20:45.417Z"
   },
   {
    "duration": 20,
    "start_time": "2025-01-09T00:21:01.863Z"
   },
   {
    "duration": 14,
    "start_time": "2025-01-09T00:21:17.992Z"
   },
   {
    "duration": 33,
    "start_time": "2025-01-09T00:21:37.576Z"
   },
   {
    "duration": 81,
    "start_time": "2025-01-09T00:21:47.490Z"
   },
   {
    "duration": 13,
    "start_time": "2025-01-09T00:22:25.708Z"
   },
   {
    "duration": 46,
    "start_time": "2025-01-09T00:22:52.904Z"
   },
   {
    "duration": 16,
    "start_time": "2025-01-09T02:37:39.481Z"
   },
   {
    "duration": 3,
    "start_time": "2025-01-09T02:40:08.180Z"
   },
   {
    "duration": 3,
    "start_time": "2025-01-09T02:40:10.795Z"
   },
   {
    "duration": 6,
    "start_time": "2025-01-09T02:40:12.483Z"
   },
   {
    "duration": 4,
    "start_time": "2025-01-09T02:46:23.563Z"
   },
   {
    "duration": 3,
    "start_time": "2025-01-09T02:47:19.825Z"
   },
   {
    "duration": 4,
    "start_time": "2025-01-09T02:48:27.684Z"
   },
   {
    "duration": 35,
    "start_time": "2025-01-09T02:49:18.554Z"
   },
   {
    "duration": 41,
    "start_time": "2025-01-09T02:50:00.183Z"
   },
   {
    "duration": 3,
    "start_time": "2025-01-09T02:51:04.103Z"
   },
   {
    "duration": 58,
    "start_time": "2025-01-09T02:51:12.713Z"
   },
   {
    "duration": 58,
    "start_time": "2025-01-09T02:51:27.111Z"
   },
   {
    "duration": 3,
    "start_time": "2025-01-09T02:53:02.711Z"
   },
   {
    "duration": 61,
    "start_time": "2025-01-09T02:53:06.502Z"
   },
   {
    "duration": 54,
    "start_time": "2025-01-09T02:54:35.500Z"
   },
   {
    "duration": 4,
    "start_time": "2025-01-09T02:54:39.229Z"
   },
   {
    "duration": 53,
    "start_time": "2025-01-09T02:56:53.182Z"
   },
   {
    "duration": 34,
    "start_time": "2025-01-09T03:34:55.642Z"
   },
   {
    "duration": 188,
    "start_time": "2025-01-09T03:35:47.163Z"
   },
   {
    "duration": 111,
    "start_time": "2025-01-09T03:36:48.937Z"
   },
   {
    "duration": 70,
    "start_time": "2025-01-09T03:36:56.074Z"
   },
   {
    "duration": 7,
    "start_time": "2025-01-09T03:39:45.714Z"
   },
   {
    "duration": 5,
    "start_time": "2025-01-09T03:40:11.408Z"
   },
   {
    "duration": 121,
    "start_time": "2025-01-09T03:41:23.723Z"
   },
   {
    "duration": 18,
    "start_time": "2025-01-09T03:42:08.916Z"
   },
   {
    "duration": 2671,
    "start_time": "2025-01-10T00:44:39.439Z"
   },
   {
    "duration": 292,
    "start_time": "2025-01-10T00:44:42.113Z"
   },
   {
    "duration": 26,
    "start_time": "2025-01-10T00:44:42.407Z"
   },
   {
    "duration": 12,
    "start_time": "2025-01-10T00:44:42.435Z"
   },
   {
    "duration": 29,
    "start_time": "2025-01-10T00:44:42.449Z"
   },
   {
    "duration": 94,
    "start_time": "2025-01-10T00:44:42.480Z"
   },
   {
    "duration": 3,
    "start_time": "2025-01-10T00:44:42.576Z"
   },
   {
    "duration": 27,
    "start_time": "2025-01-10T00:44:42.580Z"
   },
   {
    "duration": 76,
    "start_time": "2025-01-10T00:44:42.609Z"
   },
   {
    "duration": 24,
    "start_time": "2025-01-10T00:45:35.222Z"
   },
   {
    "duration": 130,
    "start_time": "2025-01-10T00:45:58.044Z"
   },
   {
    "duration": 22,
    "start_time": "2025-01-10T00:46:09.477Z"
   },
   {
    "duration": 26,
    "start_time": "2025-01-10T00:51:25.149Z"
   },
   {
    "duration": 291,
    "start_time": "2025-01-10T00:52:12.324Z"
   },
   {
    "duration": 20,
    "start_time": "2025-01-10T00:52:19.563Z"
   },
   {
    "duration": 115,
    "start_time": "2025-01-10T00:52:24.060Z"
   },
   {
    "duration": 14,
    "start_time": "2025-01-10T00:52:26.259Z"
   },
   {
    "duration": 2,
    "start_time": "2025-01-10T00:56:34.552Z"
   },
   {
    "duration": 23,
    "start_time": "2025-01-10T00:59:08.187Z"
   },
   {
    "duration": 2,
    "start_time": "2025-01-10T01:01:05.269Z"
   },
   {
    "duration": 21,
    "start_time": "2025-01-10T01:01:06.702Z"
   },
   {
    "duration": 20,
    "start_time": "2025-01-10T01:01:16.093Z"
   },
   {
    "duration": 22,
    "start_time": "2025-01-10T01:01:44.480Z"
   },
   {
    "duration": 21,
    "start_time": "2025-01-10T01:02:09.449Z"
   },
   {
    "duration": 20,
    "start_time": "2025-01-10T01:02:36.138Z"
   },
   {
    "duration": 895,
    "start_time": "2025-01-10T01:04:32.517Z"
   },
   {
    "duration": 224,
    "start_time": "2025-01-10T01:04:33.414Z"
   },
   {
    "duration": 25,
    "start_time": "2025-01-10T01:04:33.640Z"
   },
   {
    "duration": 12,
    "start_time": "2025-01-10T01:04:33.667Z"
   },
   {
    "duration": 14,
    "start_time": "2025-01-10T01:04:33.681Z"
   },
   {
    "duration": 106,
    "start_time": "2025-01-10T01:04:33.697Z"
   },
   {
    "duration": 2,
    "start_time": "2025-01-10T01:04:33.805Z"
   },
   {
    "duration": 24,
    "start_time": "2025-01-10T01:04:33.809Z"
   },
   {
    "duration": 212,
    "start_time": "2025-01-10T01:04:33.872Z"
   },
   {
    "duration": 4,
    "start_time": "2025-01-10T01:04:34.087Z"
   },
   {
    "duration": 325,
    "start_time": "2025-01-10T01:04:34.174Z"
   },
   {
    "duration": 2,
    "start_time": "2025-01-10T01:04:55.962Z"
   },
   {
    "duration": 76,
    "start_time": "2025-01-10T01:04:57.613Z"
   },
   {
    "duration": 3,
    "start_time": "2025-01-10T01:05:18.998Z"
   },
   {
    "duration": 142,
    "start_time": "2025-01-10T01:05:43.229Z"
   },
   {
    "duration": 59,
    "start_time": "2025-01-10T01:05:53.233Z"
   },
   {
    "duration": 22,
    "start_time": "2025-01-10T01:06:48.458Z"
   },
   {
    "duration": 81,
    "start_time": "2025-01-10T01:06:51.210Z"
   },
   {
    "duration": 2,
    "start_time": "2025-01-10T01:06:57.291Z"
   },
   {
    "duration": 126,
    "start_time": "2025-01-10T01:06:59.047Z"
   },
   {
    "duration": 866,
    "start_time": "2025-01-10T01:29:52.141Z"
   },
   {
    "duration": 225,
    "start_time": "2025-01-10T01:29:53.009Z"
   },
   {
    "duration": 26,
    "start_time": "2025-01-10T01:29:53.236Z"
   },
   {
    "duration": 16,
    "start_time": "2025-01-10T01:29:53.263Z"
   },
   {
    "duration": 14,
    "start_time": "2025-01-10T01:29:53.281Z"
   },
   {
    "duration": 100,
    "start_time": "2025-01-10T01:29:53.297Z"
   },
   {
    "duration": 2,
    "start_time": "2025-01-10T01:29:53.399Z"
   },
   {
    "duration": 25,
    "start_time": "2025-01-10T01:29:53.404Z"
   },
   {
    "duration": 39,
    "start_time": "2025-01-10T01:29:53.431Z"
   },
   {
    "duration": 214,
    "start_time": "2025-01-10T01:29:53.472Z"
   },
   {
    "duration": 3,
    "start_time": "2025-01-10T01:30:02.224Z"
   },
   {
    "duration": 25,
    "start_time": "2025-01-10T01:30:19.255Z"
   },
   {
    "duration": 4,
    "start_time": "2025-01-10T01:30:25.075Z"
   },
   {
    "duration": 3,
    "start_time": "2025-01-10T01:30:26.933Z"
   },
   {
    "duration": 58,
    "start_time": "2025-01-10T01:30:28.631Z"
   },
   {
    "duration": 9,
    "start_time": "2025-01-10T01:30:30.536Z"
   },
   {
    "duration": 3,
    "start_time": "2025-01-10T01:40:09.092Z"
   },
   {
    "duration": 271,
    "start_time": "2025-01-10T02:04:08.477Z"
   },
   {
    "duration": 3,
    "start_time": "2025-01-10T02:04:13.680Z"
   },
   {
    "duration": 3,
    "start_time": "2025-01-10T02:04:16.572Z"
   },
   {
    "duration": 13,
    "start_time": "2025-01-10T02:04:22.737Z"
   },
   {
    "duration": 4,
    "start_time": "2025-01-10T02:04:25.433Z"
   },
   {
    "duration": 3,
    "start_time": "2025-01-10T02:05:15.639Z"
   },
   {
    "duration": 4,
    "start_time": "2025-01-10T02:05:21.678Z"
   },
   {
    "duration": 15,
    "start_time": "2025-01-10T02:18:44.859Z"
   },
   {
    "duration": 5,
    "start_time": "2025-01-10T02:18:53.553Z"
   },
   {
    "duration": 4,
    "start_time": "2025-01-10T02:18:56.005Z"
   },
   {
    "duration": 4,
    "start_time": "2025-01-10T02:18:57.780Z"
   },
   {
    "duration": 4,
    "start_time": "2025-01-10T02:19:00.038Z"
   },
   {
    "duration": 13,
    "start_time": "2025-01-10T02:25:28.983Z"
   },
   {
    "duration": 13,
    "start_time": "2025-01-10T02:25:41.058Z"
   },
   {
    "duration": 14,
    "start_time": "2025-01-10T02:26:23.561Z"
   },
   {
    "duration": 10,
    "start_time": "2025-01-10T02:26:27.782Z"
   },
   {
    "duration": 14,
    "start_time": "2025-01-10T02:26:45.815Z"
   },
   {
    "duration": 14,
    "start_time": "2025-01-10T02:28:07.886Z"
   },
   {
    "duration": 14,
    "start_time": "2025-01-10T02:30:05.300Z"
   },
   {
    "duration": 334,
    "start_time": "2025-01-10T02:31:03.712Z"
   },
   {
    "duration": 43,
    "start_time": "2025-01-10T02:32:41.843Z"
   },
   {
    "duration": 47,
    "start_time": "2025-01-10T02:33:18.883Z"
   },
   {
    "duration": 44,
    "start_time": "2025-01-10T02:33:29.815Z"
   },
   {
    "duration": 45,
    "start_time": "2025-01-10T02:33:38.053Z"
   },
   {
    "duration": 70,
    "start_time": "2025-01-10T02:33:58.844Z"
   },
   {
    "duration": 7,
    "start_time": "2025-01-10T02:56:34.857Z"
   },
   {
    "duration": 9,
    "start_time": "2025-01-10T02:57:10.656Z"
   },
   {
    "duration": 8,
    "start_time": "2025-01-10T02:57:19.498Z"
   },
   {
    "duration": 3,
    "start_time": "2025-01-10T03:54:50.156Z"
   },
   {
    "duration": 3,
    "start_time": "2025-01-10T03:55:06.335Z"
   },
   {
    "duration": 3,
    "start_time": "2025-01-10T03:55:08.223Z"
   },
   {
    "duration": 4,
    "start_time": "2025-01-10T03:55:10.172Z"
   },
   {
    "duration": 3,
    "start_time": "2025-01-10T03:55:12.069Z"
   },
   {
    "duration": 20,
    "start_time": "2025-01-10T03:55:49.112Z"
   },
   {
    "duration": 9,
    "start_time": "2025-01-10T03:56:32.802Z"
   },
   {
    "duration": 13,
    "start_time": "2025-01-10T03:58:36.786Z"
   },
   {
    "duration": 3,
    "start_time": "2025-01-10T03:59:52.146Z"
   },
   {
    "duration": 13,
    "start_time": "2025-01-10T03:59:54.201Z"
   },
   {
    "duration": 7,
    "start_time": "2025-01-10T04:00:04.903Z"
   },
   {
    "duration": 10,
    "start_time": "2025-01-10T04:00:09.001Z"
   },
   {
    "duration": 6,
    "start_time": "2025-01-10T04:00:19.033Z"
   },
   {
    "duration": 7,
    "start_time": "2025-01-10T04:00:21.264Z"
   },
   {
    "duration": 7,
    "start_time": "2025-01-10T04:01:48.819Z"
   },
   {
    "duration": 7,
    "start_time": "2025-01-10T04:02:12.292Z"
   },
   {
    "duration": 6,
    "start_time": "2025-01-10T04:02:14.289Z"
   },
   {
    "duration": 7,
    "start_time": "2025-01-10T23:47:23.257Z"
   },
   {
    "duration": 4,
    "start_time": "2025-01-10T23:47:39.441Z"
   },
   {
    "duration": 176,
    "start_time": "2025-01-10T23:48:19.790Z"
   },
   {
    "duration": 13,
    "start_time": "2025-01-10T23:48:55.714Z"
   },
   {
    "duration": 3,
    "start_time": "2025-01-10T23:49:09.499Z"
   },
   {
    "duration": 14,
    "start_time": "2025-01-10T23:49:17.454Z"
   },
   {
    "duration": 13,
    "start_time": "2025-01-10T23:55:54.837Z"
   },
   {
    "duration": 14,
    "start_time": "2025-01-10T23:57:14.552Z"
   },
   {
    "duration": 2736,
    "start_time": "2025-01-10T23:57:24.510Z"
   },
   {
    "duration": 319,
    "start_time": "2025-01-10T23:57:27.248Z"
   },
   {
    "duration": 26,
    "start_time": "2025-01-10T23:57:27.568Z"
   },
   {
    "duration": 23,
    "start_time": "2025-01-10T23:57:27.596Z"
   },
   {
    "duration": 14,
    "start_time": "2025-01-10T23:57:27.620Z"
   },
   {
    "duration": 94,
    "start_time": "2025-01-10T23:57:27.636Z"
   },
   {
    "duration": 2,
    "start_time": "2025-01-10T23:57:27.732Z"
   },
   {
    "duration": 4,
    "start_time": "2025-01-10T23:57:27.736Z"
   },
   {
    "duration": 2,
    "start_time": "2025-01-10T23:57:27.742Z"
   },
   {
    "duration": 264,
    "start_time": "2025-01-10T23:57:27.747Z"
   },
   {
    "duration": 23,
    "start_time": "2025-01-10T23:57:28.017Z"
   },
   {
    "duration": 8,
    "start_time": "2025-01-10T23:57:28.043Z"
   },
   {
    "duration": 60,
    "start_time": "2025-01-10T23:57:28.052Z"
   },
   {
    "duration": 5,
    "start_time": "2025-01-10T23:57:28.114Z"
   },
   {
    "duration": 4,
    "start_time": "2025-01-10T23:57:28.120Z"
   },
   {
    "duration": 3,
    "start_time": "2025-01-10T23:57:28.125Z"
   },
   {
    "duration": 301,
    "start_time": "2025-01-10T23:57:28.130Z"
   },
   {
    "duration": 0,
    "start_time": "2025-01-10T23:57:28.434Z"
   },
   {
    "duration": 0,
    "start_time": "2025-01-10T23:57:28.435Z"
   },
   {
    "duration": 0,
    "start_time": "2025-01-10T23:57:28.437Z"
   },
   {
    "duration": 0,
    "start_time": "2025-01-10T23:57:28.438Z"
   },
   {
    "duration": 23,
    "start_time": "2025-01-10T23:58:12.154Z"
   },
   {
    "duration": 21,
    "start_time": "2025-01-10T23:58:42.384Z"
   },
   {
    "duration": 888,
    "start_time": "2025-01-10T23:58:53.149Z"
   },
   {
    "duration": 218,
    "start_time": "2025-01-10T23:58:54.039Z"
   },
   {
    "duration": 25,
    "start_time": "2025-01-10T23:58:54.259Z"
   },
   {
    "duration": 11,
    "start_time": "2025-01-10T23:58:54.286Z"
   },
   {
    "duration": 23,
    "start_time": "2025-01-10T23:58:54.300Z"
   },
   {
    "duration": 97,
    "start_time": "2025-01-10T23:58:54.325Z"
   },
   {
    "duration": 3,
    "start_time": "2025-01-10T23:58:54.424Z"
   },
   {
    "duration": 4,
    "start_time": "2025-01-10T23:58:54.430Z"
   },
   {
    "duration": 2,
    "start_time": "2025-01-10T23:58:54.436Z"
   },
   {
    "duration": 177,
    "start_time": "2025-01-10T23:58:54.440Z"
   },
   {
    "duration": 9,
    "start_time": "2025-01-10T23:58:54.619Z"
   },
   {
    "duration": 85,
    "start_time": "2025-01-10T23:58:54.630Z"
   },
   {
    "duration": 4,
    "start_time": "2025-01-10T23:58:54.717Z"
   },
   {
    "duration": 4,
    "start_time": "2025-01-10T23:58:54.724Z"
   },
   {
    "duration": 4,
    "start_time": "2025-01-10T23:58:54.729Z"
   },
   {
    "duration": 3,
    "start_time": "2025-01-10T23:58:54.735Z"
   },
   {
    "duration": 313,
    "start_time": "2025-01-10T23:58:54.740Z"
   },
   {
    "duration": 0,
    "start_time": "2025-01-10T23:58:55.055Z"
   },
   {
    "duration": 0,
    "start_time": "2025-01-10T23:58:55.056Z"
   },
   {
    "duration": 0,
    "start_time": "2025-01-10T23:58:55.057Z"
   },
   {
    "duration": 0,
    "start_time": "2025-01-10T23:58:55.058Z"
   },
   {
    "duration": 4,
    "start_time": "2025-01-11T00:00:27.265Z"
   },
   {
    "duration": 21,
    "start_time": "2025-01-11T00:00:36.688Z"
   },
   {
    "duration": 3,
    "start_time": "2025-01-11T00:00:57.562Z"
   },
   {
    "duration": 4,
    "start_time": "2025-01-11T00:01:03.208Z"
   },
   {
    "duration": 3,
    "start_time": "2025-01-11T00:01:13.479Z"
   },
   {
    "duration": 901,
    "start_time": "2025-01-11T00:01:25.353Z"
   },
   {
    "duration": 232,
    "start_time": "2025-01-11T00:01:26.256Z"
   },
   {
    "duration": 30,
    "start_time": "2025-01-11T00:01:26.490Z"
   },
   {
    "duration": 11,
    "start_time": "2025-01-11T00:01:26.521Z"
   },
   {
    "duration": 13,
    "start_time": "2025-01-11T00:01:26.535Z"
   },
   {
    "duration": 99,
    "start_time": "2025-01-11T00:01:26.550Z"
   },
   {
    "duration": 3,
    "start_time": "2025-01-11T00:01:26.650Z"
   },
   {
    "duration": 4,
    "start_time": "2025-01-11T00:01:26.655Z"
   },
   {
    "duration": 3,
    "start_time": "2025-01-11T00:01:26.661Z"
   },
   {
    "duration": 156,
    "start_time": "2025-01-11T00:01:26.666Z"
   },
   {
    "duration": 10,
    "start_time": "2025-01-11T00:01:26.824Z"
   },
   {
    "duration": 8,
    "start_time": "2025-01-11T00:01:26.912Z"
   },
   {
    "duration": 2,
    "start_time": "2025-01-11T00:01:26.922Z"
   },
   {
    "duration": 3,
    "start_time": "2025-01-11T00:01:26.927Z"
   },
   {
    "duration": 4,
    "start_time": "2025-01-11T00:01:26.931Z"
   },
   {
    "duration": 3,
    "start_time": "2025-01-11T00:01:26.937Z"
   },
   {
    "duration": 4,
    "start_time": "2025-01-11T00:01:26.941Z"
   },
   {
    "duration": 345,
    "start_time": "2025-01-11T00:01:26.946Z"
   },
   {
    "duration": 0,
    "start_time": "2025-01-11T00:01:27.293Z"
   },
   {
    "duration": 0,
    "start_time": "2025-01-11T00:01:27.294Z"
   },
   {
    "duration": 0,
    "start_time": "2025-01-11T00:01:27.295Z"
   },
   {
    "duration": 0,
    "start_time": "2025-01-11T00:01:27.297Z"
   },
   {
    "duration": 3,
    "start_time": "2025-01-11T00:02:03.396Z"
   },
   {
    "duration": 3,
    "start_time": "2025-01-11T00:02:05.950Z"
   },
   {
    "duration": 3,
    "start_time": "2025-01-11T00:02:10.493Z"
   },
   {
    "duration": 897,
    "start_time": "2025-01-11T00:02:33.063Z"
   },
   {
    "duration": 229,
    "start_time": "2025-01-11T00:02:33.962Z"
   },
   {
    "duration": 32,
    "start_time": "2025-01-11T00:02:34.192Z"
   },
   {
    "duration": 12,
    "start_time": "2025-01-11T00:02:34.226Z"
   },
   {
    "duration": 14,
    "start_time": "2025-01-11T00:02:34.240Z"
   },
   {
    "duration": 111,
    "start_time": "2025-01-11T00:02:34.257Z"
   },
   {
    "duration": 3,
    "start_time": "2025-01-11T00:02:34.369Z"
   },
   {
    "duration": 4,
    "start_time": "2025-01-11T00:02:34.374Z"
   },
   {
    "duration": 4,
    "start_time": "2025-01-11T00:02:34.379Z"
   },
   {
    "duration": 229,
    "start_time": "2025-01-11T00:02:34.386Z"
   },
   {
    "duration": 14,
    "start_time": "2025-01-11T00:02:34.620Z"
   },
   {
    "duration": 10,
    "start_time": "2025-01-11T00:02:34.711Z"
   },
   {
    "duration": 3,
    "start_time": "2025-01-11T00:02:34.723Z"
   },
   {
    "duration": 4,
    "start_time": "2025-01-11T00:02:34.728Z"
   },
   {
    "duration": 3,
    "start_time": "2025-01-11T00:02:34.734Z"
   },
   {
    "duration": 4,
    "start_time": "2025-01-11T00:02:34.739Z"
   },
   {
    "duration": 3,
    "start_time": "2025-01-11T00:02:34.745Z"
   },
   {
    "duration": 318,
    "start_time": "2025-01-11T00:02:34.750Z"
   },
   {
    "duration": 0,
    "start_time": "2025-01-11T00:02:35.070Z"
   },
   {
    "duration": 0,
    "start_time": "2025-01-11T00:02:35.072Z"
   },
   {
    "duration": 0,
    "start_time": "2025-01-11T00:02:35.073Z"
   },
   {
    "duration": 0,
    "start_time": "2025-01-11T00:02:35.073Z"
   },
   {
    "duration": 3,
    "start_time": "2025-01-11T00:02:50.629Z"
   },
   {
    "duration": 447,
    "start_time": "2025-01-11T00:02:53.237Z"
   },
   {
    "duration": 3,
    "start_time": "2025-01-11T00:03:13.132Z"
   },
   {
    "duration": 433,
    "start_time": "2025-01-11T00:03:15.843Z"
   },
   {
    "duration": 3,
    "start_time": "2025-01-11T00:03:55.651Z"
   },
   {
    "duration": 451,
    "start_time": "2025-01-11T00:03:57.757Z"
   },
   {
    "duration": 924,
    "start_time": "2025-01-11T00:06:37.430Z"
   },
   {
    "duration": 230,
    "start_time": "2025-01-11T00:06:38.357Z"
   },
   {
    "duration": 27,
    "start_time": "2025-01-11T00:06:38.588Z"
   },
   {
    "duration": 11,
    "start_time": "2025-01-11T00:06:38.618Z"
   },
   {
    "duration": 14,
    "start_time": "2025-01-11T00:06:38.631Z"
   },
   {
    "duration": 106,
    "start_time": "2025-01-11T00:06:38.646Z"
   },
   {
    "duration": 3,
    "start_time": "2025-01-11T00:06:38.755Z"
   },
   {
    "duration": 4,
    "start_time": "2025-01-11T00:06:38.759Z"
   },
   {
    "duration": 3,
    "start_time": "2025-01-11T00:06:38.765Z"
   },
   {
    "duration": 146,
    "start_time": "2025-01-11T00:06:38.772Z"
   },
   {
    "duration": 11,
    "start_time": "2025-01-11T00:06:38.920Z"
   },
   {
    "duration": 84,
    "start_time": "2025-01-11T00:06:38.933Z"
   },
   {
    "duration": 3,
    "start_time": "2025-01-11T00:06:39.018Z"
   },
   {
    "duration": 4,
    "start_time": "2025-01-11T00:06:39.022Z"
   },
   {
    "duration": 3,
    "start_time": "2025-01-11T00:06:39.028Z"
   },
   {
    "duration": 3,
    "start_time": "2025-01-11T00:06:39.032Z"
   },
   {
    "duration": 6,
    "start_time": "2025-01-11T00:06:39.037Z"
   },
   {
    "duration": 5,
    "start_time": "2025-01-11T00:06:39.045Z"
   },
   {
    "duration": 6,
    "start_time": "2025-01-11T00:06:39.052Z"
   },
   {
    "duration": 3,
    "start_time": "2025-01-11T00:06:39.112Z"
   },
   {
    "duration": 449,
    "start_time": "2025-01-11T00:06:39.117Z"
   },
   {
    "duration": 416,
    "start_time": "2025-01-11T00:06:57.353Z"
   },
   {
    "duration": 424,
    "start_time": "2025-01-11T00:07:01.541Z"
   },
   {
    "duration": 2662,
    "start_time": "2025-01-12T00:39:48.078Z"
   },
   {
    "duration": 300,
    "start_time": "2025-01-12T00:39:50.743Z"
   },
   {
    "duration": 26,
    "start_time": "2025-01-12T00:39:54.731Z"
   },
   {
    "duration": 25,
    "start_time": "2025-01-12T00:40:32.726Z"
   },
   {
    "duration": 26,
    "start_time": "2025-01-12T00:40:47.546Z"
   },
   {
    "duration": 2669,
    "start_time": "2025-01-12T03:29:51.573Z"
   },
   {
    "duration": 309,
    "start_time": "2025-01-12T03:29:54.244Z"
   },
   {
    "duration": 27,
    "start_time": "2025-01-12T03:29:54.554Z"
   },
   {
    "duration": 11,
    "start_time": "2025-01-12T03:29:54.583Z"
   },
   {
    "duration": 14,
    "start_time": "2025-01-12T03:29:54.596Z"
   },
   {
    "duration": 104,
    "start_time": "2025-01-12T03:29:54.611Z"
   },
   {
    "duration": 3,
    "start_time": "2025-01-12T03:29:54.717Z"
   },
   {
    "duration": 5,
    "start_time": "2025-01-12T03:29:54.722Z"
   },
   {
    "duration": 16,
    "start_time": "2025-01-12T03:29:54.728Z"
   },
   {
    "duration": 116,
    "start_time": "2025-01-12T03:29:54.746Z"
   },
   {
    "duration": 82,
    "start_time": "2025-01-12T03:29:54.864Z"
   },
   {
    "duration": 9,
    "start_time": "2025-01-12T03:29:54.947Z"
   },
   {
    "duration": 2,
    "start_time": "2025-01-12T03:29:54.960Z"
   },
   {
    "duration": 3,
    "start_time": "2025-01-12T03:29:54.965Z"
   },
   {
    "duration": 74,
    "start_time": "2025-01-12T03:29:54.970Z"
   },
   {
    "duration": 5,
    "start_time": "2025-01-12T03:29:55.045Z"
   },
   {
    "duration": 6,
    "start_time": "2025-01-12T03:29:55.051Z"
   },
   {
    "duration": 6,
    "start_time": "2025-01-12T03:29:55.058Z"
   },
   {
    "duration": 5,
    "start_time": "2025-01-12T03:29:55.066Z"
   },
   {
    "duration": 3,
    "start_time": "2025-01-12T03:29:55.073Z"
   },
   {
    "duration": 482,
    "start_time": "2025-01-12T03:29:55.078Z"
   },
   {
    "duration": 437,
    "start_time": "2025-01-12T03:29:55.562Z"
   },
   {
    "duration": 442,
    "start_time": "2025-01-12T03:29:56.001Z"
   },
   {
    "duration": 7,
    "start_time": "2025-01-12T03:30:55.183Z"
   },
   {
    "duration": 26,
    "start_time": "2025-01-12T03:32:58.450Z"
   },
   {
    "duration": 57,
    "start_time": "2025-01-12T03:33:51.826Z"
   },
   {
    "duration": 24,
    "start_time": "2025-01-12T03:34:40.840Z"
   },
   {
    "duration": 924,
    "start_time": "2025-01-12T03:34:56.142Z"
   },
   {
    "duration": 220,
    "start_time": "2025-01-12T03:34:57.068Z"
   },
   {
    "duration": 26,
    "start_time": "2025-01-12T03:34:57.290Z"
   },
   {
    "duration": 29,
    "start_time": "2025-01-12T03:34:57.318Z"
   },
   {
    "duration": 20,
    "start_time": "2025-01-12T03:34:57.349Z"
   },
   {
    "duration": 14,
    "start_time": "2025-01-12T03:34:57.370Z"
   },
   {
    "duration": 103,
    "start_time": "2025-01-12T03:34:57.386Z"
   },
   {
    "duration": 2,
    "start_time": "2025-01-12T03:34:57.491Z"
   },
   {
    "duration": 4,
    "start_time": "2025-01-12T03:34:57.495Z"
   },
   {
    "duration": 2,
    "start_time": "2025-01-12T03:34:57.501Z"
   },
   {
    "duration": 143,
    "start_time": "2025-01-12T03:34:57.505Z"
   },
   {
    "duration": 11,
    "start_time": "2025-01-12T03:34:57.649Z"
   },
   {
    "duration": 82,
    "start_time": "2025-01-12T03:34:57.662Z"
   },
   {
    "duration": 3,
    "start_time": "2025-01-12T03:34:57.748Z"
   },
   {
    "duration": 4,
    "start_time": "2025-01-12T03:34:57.752Z"
   },
   {
    "duration": 3,
    "start_time": "2025-01-12T03:34:57.758Z"
   },
   {
    "duration": 4,
    "start_time": "2025-01-12T03:34:57.763Z"
   },
   {
    "duration": 7,
    "start_time": "2025-01-12T03:34:57.768Z"
   },
   {
    "duration": 5,
    "start_time": "2025-01-12T03:34:57.776Z"
   },
   {
    "duration": 6,
    "start_time": "2025-01-12T03:34:57.783Z"
   },
   {
    "duration": 3,
    "start_time": "2025-01-12T03:34:57.843Z"
   },
   {
    "duration": 444,
    "start_time": "2025-01-12T03:34:57.848Z"
   },
   {
    "duration": 440,
    "start_time": "2025-01-12T03:34:58.293Z"
   },
   {
    "duration": 436,
    "start_time": "2025-01-12T03:34:58.735Z"
   },
   {
    "duration": 22,
    "start_time": "2025-01-12T03:35:02.366Z"
   },
   {
    "duration": 25,
    "start_time": "2025-01-12T03:35:11.914Z"
   },
   {
    "duration": 25,
    "start_time": "2025-01-12T03:35:21.608Z"
   },
   {
    "duration": 27,
    "start_time": "2025-01-12T03:35:40.933Z"
   },
   {
    "duration": 362,
    "start_time": "2025-01-12T03:37:55.550Z"
   },
   {
    "duration": 305,
    "start_time": "2025-01-12T03:38:21.803Z"
   },
   {
    "duration": 323,
    "start_time": "2025-01-12T03:38:38.990Z"
   },
   {
    "duration": 298,
    "start_time": "2025-01-12T03:39:07.417Z"
   },
   {
    "duration": 24,
    "start_time": "2025-01-12T03:39:26.156Z"
   },
   {
    "duration": 24,
    "start_time": "2025-01-12T03:39:30.109Z"
   },
   {
    "duration": 302,
    "start_time": "2025-01-12T03:39:33.428Z"
   },
   {
    "duration": 388,
    "start_time": "2025-01-12T03:39:49.555Z"
   },
   {
    "duration": 24,
    "start_time": "2025-01-12T03:56:24.674Z"
   },
   {
    "duration": 15,
    "start_time": "2025-01-12T03:57:06.743Z"
   },
   {
    "duration": 79,
    "start_time": "2025-01-12T03:57:16.946Z"
   },
   {
    "duration": 15,
    "start_time": "2025-01-12T03:58:06.166Z"
   },
   {
    "duration": 276,
    "start_time": "2025-01-12T03:58:35.380Z"
   },
   {
    "duration": 80,
    "start_time": "2025-01-12T03:58:41.748Z"
   },
   {
    "duration": 78,
    "start_time": "2025-01-12T04:58:33.327Z"
   },
   {
    "duration": 8,
    "start_time": "2025-01-12T04:58:56.613Z"
   },
   {
    "duration": 4,
    "start_time": "2025-01-12T05:00:05.898Z"
   },
   {
    "duration": 10,
    "start_time": "2025-01-12T05:00:22.410Z"
   },
   {
    "duration": 10,
    "start_time": "2025-01-12T05:00:44.057Z"
   },
   {
    "duration": 10,
    "start_time": "2025-01-12T05:01:11.357Z"
   },
   {
    "duration": 9,
    "start_time": "2025-01-12T05:01:13.872Z"
   },
   {
    "duration": 41,
    "start_time": "2025-01-12T05:51:31.855Z"
   },
   {
    "duration": 7,
    "start_time": "2025-01-12T05:55:35.375Z"
   },
   {
    "duration": 5,
    "start_time": "2025-01-12T05:55:43.625Z"
   },
   {
    "duration": 22,
    "start_time": "2025-01-12T05:56:53.524Z"
   },
   {
    "duration": 15,
    "start_time": "2025-01-12T05:57:03.133Z"
   },
   {
    "duration": 17,
    "start_time": "2025-01-12T05:57:18.405Z"
   },
   {
    "duration": 860,
    "start_time": "2025-01-12T05:57:24.622Z"
   },
   {
    "duration": 220,
    "start_time": "2025-01-12T05:57:25.485Z"
   },
   {
    "duration": 25,
    "start_time": "2025-01-12T05:57:25.706Z"
   },
   {
    "duration": 35,
    "start_time": "2025-01-12T05:57:25.733Z"
   },
   {
    "duration": 371,
    "start_time": "2025-01-12T05:57:25.771Z"
   },
   {
    "duration": 25,
    "start_time": "2025-01-12T05:57:26.144Z"
   },
   {
    "duration": 319,
    "start_time": "2025-01-12T05:57:26.171Z"
   },
   {
    "duration": 24,
    "start_time": "2025-01-12T05:57:26.492Z"
   },
   {
    "duration": 296,
    "start_time": "2025-01-12T05:57:26.518Z"
   },
   {
    "duration": 14,
    "start_time": "2025-01-12T05:57:26.816Z"
   },
   {
    "duration": 99,
    "start_time": "2025-01-12T05:57:26.831Z"
   },
   {
    "duration": 9,
    "start_time": "2025-01-12T05:57:26.942Z"
   },
   {
    "duration": 8,
    "start_time": "2025-01-12T05:57:26.953Z"
   },
   {
    "duration": 8,
    "start_time": "2025-01-12T05:57:26.964Z"
   },
   {
    "duration": 15,
    "start_time": "2025-01-12T05:57:26.973Z"
   },
   {
    "duration": 8,
    "start_time": "2025-01-12T05:57:26.990Z"
   },
   {
    "duration": 3,
    "start_time": "2025-01-12T05:57:27.000Z"
   },
   {
    "duration": 40,
    "start_time": "2025-01-12T05:57:27.005Z"
   },
   {
    "duration": 3,
    "start_time": "2025-01-12T05:57:27.046Z"
   },
   {
    "duration": 192,
    "start_time": "2025-01-12T05:57:27.051Z"
   },
   {
    "duration": 13,
    "start_time": "2025-01-12T05:57:27.247Z"
   },
   {
    "duration": 7,
    "start_time": "2025-01-12T05:57:27.262Z"
   },
   {
    "duration": 3,
    "start_time": "2025-01-12T05:57:27.270Z"
   },
   {
    "duration": 70,
    "start_time": "2025-01-12T05:57:27.274Z"
   },
   {
    "duration": 4,
    "start_time": "2025-01-12T05:57:27.346Z"
   },
   {
    "duration": 3,
    "start_time": "2025-01-12T05:57:27.351Z"
   },
   {
    "duration": 7,
    "start_time": "2025-01-12T05:57:27.355Z"
   },
   {
    "duration": 5,
    "start_time": "2025-01-12T05:57:27.364Z"
   },
   {
    "duration": 5,
    "start_time": "2025-01-12T05:57:27.370Z"
   },
   {
    "duration": 3,
    "start_time": "2025-01-12T05:57:27.377Z"
   },
   {
    "duration": 459,
    "start_time": "2025-01-12T05:57:27.382Z"
   },
   {
    "duration": 434,
    "start_time": "2025-01-12T05:57:27.844Z"
   },
   {
    "duration": 422,
    "start_time": "2025-01-12T05:57:28.279Z"
   },
   {
    "duration": 10,
    "start_time": "2025-01-12T05:57:34.696Z"
   },
   {
    "duration": 407,
    "start_time": "2025-01-12T05:59:14.440Z"
   },
   {
    "duration": 47,
    "start_time": "2025-01-12T05:59:42.662Z"
   },
   {
    "duration": 9,
    "start_time": "2025-01-12T05:59:44.709Z"
   },
   {
    "duration": 124,
    "start_time": "2025-01-12T06:01:00.094Z"
   },
   {
    "duration": 9,
    "start_time": "2025-01-12T06:01:03.002Z"
   },
   {
    "duration": 9,
    "start_time": "2025-01-12T06:01:06.650Z"
   },
   {
    "duration": 10,
    "start_time": "2025-01-12T06:01:11.462Z"
   },
   {
    "duration": 25,
    "start_time": "2025-01-12T06:02:59.868Z"
   },
   {
    "duration": 74,
    "start_time": "2025-01-12T06:35:52.674Z"
   },
   {
    "duration": 889,
    "start_time": "2025-01-12T06:58:54.743Z"
   },
   {
    "duration": 224,
    "start_time": "2025-01-12T06:58:55.634Z"
   },
   {
    "duration": 26,
    "start_time": "2025-01-12T06:58:55.860Z"
   },
   {
    "duration": 26,
    "start_time": "2025-01-12T06:58:55.889Z"
   },
   {
    "duration": 384,
    "start_time": "2025-01-12T06:58:55.916Z"
   },
   {
    "duration": 26,
    "start_time": "2025-01-12T06:58:56.301Z"
   },
   {
    "duration": 317,
    "start_time": "2025-01-12T06:58:56.329Z"
   },
   {
    "duration": 24,
    "start_time": "2025-01-12T06:58:56.648Z"
   },
   {
    "duration": 302,
    "start_time": "2025-01-12T06:58:56.674Z"
   },
   {
    "duration": 15,
    "start_time": "2025-01-12T06:58:56.979Z"
   },
   {
    "duration": 97,
    "start_time": "2025-01-12T06:58:56.995Z"
   },
   {
    "duration": 9,
    "start_time": "2025-01-12T06:58:57.094Z"
   },
   {
    "duration": 9,
    "start_time": "2025-01-12T06:58:57.104Z"
   },
   {
    "duration": 29,
    "start_time": "2025-01-12T06:58:57.114Z"
   },
   {
    "duration": 132,
    "start_time": "2025-01-12T06:58:57.144Z"
   },
   {
    "duration": 25,
    "start_time": "2025-01-12T06:58:57.278Z"
   },
   {
    "duration": 4,
    "start_time": "2025-01-12T06:58:57.305Z"
   },
   {
    "duration": 4,
    "start_time": "2025-01-12T06:58:57.311Z"
   },
   {
    "duration": 3,
    "start_time": "2025-01-12T06:58:57.317Z"
   },
   {
    "duration": 130,
    "start_time": "2025-01-12T06:58:57.321Z"
   },
   {
    "duration": 10,
    "start_time": "2025-01-12T06:58:57.453Z"
   },
   {
    "duration": 9,
    "start_time": "2025-01-12T06:58:57.542Z"
   },
   {
    "duration": 3,
    "start_time": "2025-01-12T06:58:57.552Z"
   },
   {
    "duration": 3,
    "start_time": "2025-01-12T06:58:57.557Z"
   },
   {
    "duration": 3,
    "start_time": "2025-01-12T06:58:57.562Z"
   },
   {
    "duration": 3,
    "start_time": "2025-01-12T06:58:57.567Z"
   },
   {
    "duration": 6,
    "start_time": "2025-01-12T06:58:57.572Z"
   },
   {
    "duration": 5,
    "start_time": "2025-01-12T06:58:57.582Z"
   },
   {
    "duration": 58,
    "start_time": "2025-01-12T06:58:57.588Z"
   },
   {
    "duration": 3,
    "start_time": "2025-01-12T06:58:57.647Z"
   },
   {
    "duration": 465,
    "start_time": "2025-01-12T06:58:57.652Z"
   },
   {
    "duration": 438,
    "start_time": "2025-01-12T06:58:58.119Z"
   },
   {
    "duration": 447,
    "start_time": "2025-01-12T06:58:58.560Z"
   },
   {
    "duration": 2,
    "start_time": "2025-01-12T06:59:35.454Z"
   },
   {
    "duration": 920,
    "start_time": "2025-01-12T07:01:35.762Z"
   },
   {
    "duration": 221,
    "start_time": "2025-01-12T07:01:36.684Z"
   },
   {
    "duration": 25,
    "start_time": "2025-01-12T07:01:36.907Z"
   },
   {
    "duration": 27,
    "start_time": "2025-01-12T07:01:36.943Z"
   },
   {
    "duration": 365,
    "start_time": "2025-01-12T07:01:36.971Z"
   },
   {
    "duration": 27,
    "start_time": "2025-01-12T07:01:37.342Z"
   },
   {
    "duration": 321,
    "start_time": "2025-01-12T07:01:37.371Z"
   },
   {
    "duration": 26,
    "start_time": "2025-01-12T07:01:37.694Z"
   },
   {
    "duration": 301,
    "start_time": "2025-01-12T07:01:37.721Z"
   },
   {
    "duration": 23,
    "start_time": "2025-01-12T07:01:38.025Z"
   },
   {
    "duration": 83,
    "start_time": "2025-01-12T07:01:38.050Z"
   },
   {
    "duration": 9,
    "start_time": "2025-01-12T07:01:38.142Z"
   },
   {
    "duration": 8,
    "start_time": "2025-01-12T07:01:38.153Z"
   },
   {
    "duration": 8,
    "start_time": "2025-01-12T07:01:38.162Z"
   },
   {
    "duration": 2,
    "start_time": "2025-01-12T07:01:38.172Z"
   },
   {
    "duration": 24,
    "start_time": "2025-01-12T07:01:38.175Z"
   },
   {
    "duration": 3,
    "start_time": "2025-01-12T07:01:38.200Z"
   },
   {
    "duration": 40,
    "start_time": "2025-01-12T07:01:38.205Z"
   },
   {
    "duration": 3,
    "start_time": "2025-01-12T07:01:38.246Z"
   },
   {
    "duration": 110,
    "start_time": "2025-01-12T07:01:38.250Z"
   },
   {
    "duration": 84,
    "start_time": "2025-01-12T07:01:38.362Z"
   },
   {
    "duration": 8,
    "start_time": "2025-01-12T07:01:38.448Z"
   },
   {
    "duration": 2,
    "start_time": "2025-01-12T07:01:38.459Z"
   },
   {
    "duration": 4,
    "start_time": "2025-01-12T07:01:38.463Z"
   },
   {
    "duration": 3,
    "start_time": "2025-01-12T07:01:38.468Z"
   },
   {
    "duration": 71,
    "start_time": "2025-01-12T07:01:38.473Z"
   },
   {
    "duration": 32,
    "start_time": "2025-01-12T07:01:38.546Z"
   },
   {
    "duration": 5,
    "start_time": "2025-01-12T07:01:38.583Z"
   },
   {
    "duration": 5,
    "start_time": "2025-01-12T07:01:38.590Z"
   },
   {
    "duration": 3,
    "start_time": "2025-01-12T07:01:38.597Z"
   },
   {
    "duration": 442,
    "start_time": "2025-01-12T07:01:38.601Z"
   },
   {
    "duration": 443,
    "start_time": "2025-01-12T07:01:39.046Z"
   },
   {
    "duration": 434,
    "start_time": "2025-01-12T07:01:39.490Z"
   },
   {
    "duration": 922,
    "start_time": "2025-01-12T07:36:45.854Z"
   },
   {
    "duration": 218,
    "start_time": "2025-01-12T07:36:46.779Z"
   },
   {
    "duration": 27,
    "start_time": "2025-01-12T07:36:46.999Z"
   },
   {
    "duration": 35,
    "start_time": "2025-01-12T07:36:47.027Z"
   },
   {
    "duration": 363,
    "start_time": "2025-01-12T07:36:47.066Z"
   },
   {
    "duration": 29,
    "start_time": "2025-01-12T07:36:47.431Z"
   },
   {
    "duration": 318,
    "start_time": "2025-01-12T07:36:47.461Z"
   },
   {
    "duration": 25,
    "start_time": "2025-01-12T07:36:47.780Z"
   },
   {
    "duration": 295,
    "start_time": "2025-01-12T07:36:47.806Z"
   },
   {
    "duration": 15,
    "start_time": "2025-01-12T07:36:48.103Z"
   },
   {
    "duration": 95,
    "start_time": "2025-01-12T07:36:48.120Z"
   },
   {
    "duration": 8,
    "start_time": "2025-01-12T07:36:48.217Z"
   },
   {
    "duration": 22,
    "start_time": "2025-01-12T07:36:48.227Z"
   },
   {
    "duration": 8,
    "start_time": "2025-01-12T07:36:48.252Z"
   },
   {
    "duration": 3,
    "start_time": "2025-01-12T07:36:48.261Z"
   },
   {
    "duration": 23,
    "start_time": "2025-01-12T07:36:48.266Z"
   },
   {
    "duration": 2,
    "start_time": "2025-01-12T07:36:48.291Z"
   },
   {
    "duration": 4,
    "start_time": "2025-01-12T07:36:48.295Z"
   },
   {
    "duration": 3,
    "start_time": "2025-01-12T07:36:48.300Z"
   },
   {
    "duration": 147,
    "start_time": "2025-01-12T07:36:48.304Z"
   },
   {
    "duration": 88,
    "start_time": "2025-01-12T07:36:48.455Z"
   },
   {
    "duration": 8,
    "start_time": "2025-01-12T07:36:48.548Z"
   },
   {
    "duration": 2,
    "start_time": "2025-01-12T07:36:48.557Z"
   },
   {
    "duration": 4,
    "start_time": "2025-01-12T07:36:48.561Z"
   },
   {
    "duration": 4,
    "start_time": "2025-01-12T07:36:48.566Z"
   },
   {
    "duration": 4,
    "start_time": "2025-01-12T07:36:48.571Z"
   },
   {
    "duration": 6,
    "start_time": "2025-01-12T07:36:48.576Z"
   },
   {
    "duration": 60,
    "start_time": "2025-01-12T07:36:48.583Z"
   },
   {
    "duration": 6,
    "start_time": "2025-01-12T07:36:48.645Z"
   },
   {
    "duration": 3,
    "start_time": "2025-01-12T07:36:48.652Z"
   },
   {
    "duration": 466,
    "start_time": "2025-01-12T07:36:48.656Z"
   },
   {
    "duration": 442,
    "start_time": "2025-01-12T07:36:49.124Z"
   },
   {
    "duration": 443,
    "start_time": "2025-01-12T07:36:49.568Z"
   },
   {
    "duration": 547,
    "start_time": "2025-01-12T07:48:53.551Z"
   },
   {
    "duration": 549,
    "start_time": "2025-01-12T07:49:24.595Z"
   },
   {
    "duration": 560,
    "start_time": "2025-01-12T07:51:02.007Z"
   },
   {
    "duration": 556,
    "start_time": "2025-01-12T07:51:20.877Z"
   },
   {
    "duration": 632,
    "start_time": "2025-01-12T07:51:35.133Z"
   },
   {
    "duration": 454,
    "start_time": "2025-01-12T07:52:00.131Z"
   },
   {
    "duration": 430,
    "start_time": "2025-01-12T08:08:39.550Z"
   },
   {
    "duration": 121,
    "start_time": "2025-01-12T08:08:41.229Z"
   },
   {
    "duration": 438,
    "start_time": "2025-01-12T08:09:11.689Z"
   },
   {
    "duration": 113,
    "start_time": "2025-01-12T08:09:13.700Z"
   },
   {
    "duration": 437,
    "start_time": "2025-01-12T08:27:54.725Z"
   },
   {
    "duration": 433,
    "start_time": "2025-01-12T08:28:04.495Z"
   },
   {
    "duration": 436,
    "start_time": "2025-01-12T08:28:38.329Z"
   },
   {
    "duration": 445,
    "start_time": "2025-01-12T08:28:52.953Z"
   },
   {
    "duration": 2885,
    "start_time": "2025-01-12T21:55:29.053Z"
   },
   {
    "duration": 348,
    "start_time": "2025-01-12T21:55:31.941Z"
   },
   {
    "duration": 33,
    "start_time": "2025-01-12T21:55:32.291Z"
   },
   {
    "duration": 29,
    "start_time": "2025-01-12T21:55:32.326Z"
   },
   {
    "duration": 354,
    "start_time": "2025-01-12T21:55:32.358Z"
   },
   {
    "duration": 33,
    "start_time": "2025-01-12T21:55:32.715Z"
   },
   {
    "duration": 426,
    "start_time": "2025-01-12T21:55:32.751Z"
   },
   {
    "duration": 25,
    "start_time": "2025-01-12T21:55:33.179Z"
   },
   {
    "duration": 319,
    "start_time": "2025-01-12T21:55:33.206Z"
   },
   {
    "duration": 15,
    "start_time": "2025-01-12T21:55:33.527Z"
   },
   {
    "duration": 97,
    "start_time": "2025-01-12T21:55:33.543Z"
   },
   {
    "duration": 9,
    "start_time": "2025-01-12T21:55:33.641Z"
   },
   {
    "duration": 18,
    "start_time": "2025-01-12T21:55:33.652Z"
   },
   {
    "duration": 11,
    "start_time": "2025-01-12T21:55:33.675Z"
   },
   {
    "duration": 3,
    "start_time": "2025-01-12T21:55:33.692Z"
   },
   {
    "duration": 36,
    "start_time": "2025-01-12T21:55:33.697Z"
   },
   {
    "duration": 3,
    "start_time": "2025-01-12T21:55:33.735Z"
   },
   {
    "duration": 5,
    "start_time": "2025-01-12T21:55:33.739Z"
   },
   {
    "duration": 3,
    "start_time": "2025-01-12T21:55:33.745Z"
   },
   {
    "duration": 198,
    "start_time": "2025-01-12T21:55:33.749Z"
   },
   {
    "duration": 78,
    "start_time": "2025-01-12T21:55:33.949Z"
   },
   {
    "duration": 8,
    "start_time": "2025-01-12T21:55:34.031Z"
   },
   {
    "duration": 2,
    "start_time": "2025-01-12T21:55:34.041Z"
   },
   {
    "duration": 3,
    "start_time": "2025-01-12T21:55:34.045Z"
   },
   {
    "duration": 4,
    "start_time": "2025-01-12T21:55:34.124Z"
   },
   {
    "duration": 3,
    "start_time": "2025-01-12T21:55:34.129Z"
   },
   {
    "duration": 6,
    "start_time": "2025-01-12T21:55:34.134Z"
   },
   {
    "duration": 6,
    "start_time": "2025-01-12T21:55:34.141Z"
   },
   {
    "duration": 6,
    "start_time": "2025-01-12T21:55:34.148Z"
   },
   {
    "duration": 3,
    "start_time": "2025-01-12T21:55:34.156Z"
   },
   {
    "duration": 264,
    "start_time": "2025-01-12T21:55:34.161Z"
   },
   {
    "duration": 0,
    "start_time": "2025-01-12T21:55:34.426Z"
   },
   {
    "duration": 0,
    "start_time": "2025-01-12T21:55:34.427Z"
   },
   {
    "duration": 0,
    "start_time": "2025-01-12T21:55:34.429Z"
   },
   {
    "duration": 0,
    "start_time": "2025-01-12T21:55:34.430Z"
   },
   {
    "duration": 0,
    "start_time": "2025-01-12T21:55:34.431Z"
   },
   {
    "duration": 0,
    "start_time": "2025-01-12T21:55:34.433Z"
   },
   {
    "duration": 4,
    "start_time": "2025-01-12T21:58:55.481Z"
   },
   {
    "duration": 469,
    "start_time": "2025-01-12T21:59:05.041Z"
   },
   {
    "duration": 927,
    "start_time": "2025-01-12T22:07:04.729Z"
   },
   {
    "duration": 219,
    "start_time": "2025-01-12T22:07:05.658Z"
   },
   {
    "duration": 26,
    "start_time": "2025-01-12T22:07:05.878Z"
   },
   {
    "duration": 35,
    "start_time": "2025-01-12T22:07:05.906Z"
   },
   {
    "duration": 367,
    "start_time": "2025-01-12T22:07:05.943Z"
   },
   {
    "duration": 33,
    "start_time": "2025-01-12T22:07:06.311Z"
   },
   {
    "duration": 320,
    "start_time": "2025-01-12T22:07:06.346Z"
   },
   {
    "duration": 25,
    "start_time": "2025-01-12T22:07:06.668Z"
   },
   {
    "duration": 297,
    "start_time": "2025-01-12T22:07:06.694Z"
   },
   {
    "duration": 15,
    "start_time": "2025-01-12T22:07:06.994Z"
   },
   {
    "duration": 93,
    "start_time": "2025-01-12T22:07:07.011Z"
   },
   {
    "duration": 21,
    "start_time": "2025-01-12T22:07:07.106Z"
   },
   {
    "duration": 7,
    "start_time": "2025-01-12T22:07:07.129Z"
   },
   {
    "duration": 8,
    "start_time": "2025-01-12T22:07:07.138Z"
   },
   {
    "duration": 2,
    "start_time": "2025-01-12T22:07:07.148Z"
   },
   {
    "duration": 23,
    "start_time": "2025-01-12T22:07:07.152Z"
   },
   {
    "duration": 2,
    "start_time": "2025-01-12T22:07:07.177Z"
   },
   {
    "duration": 4,
    "start_time": "2025-01-12T22:07:07.181Z"
   },
   {
    "duration": 3,
    "start_time": "2025-01-12T22:07:07.187Z"
   },
   {
    "duration": 119,
    "start_time": "2025-01-12T22:07:07.224Z"
   },
   {
    "duration": 84,
    "start_time": "2025-01-12T22:07:07.345Z"
   },
   {
    "duration": 9,
    "start_time": "2025-01-12T22:07:07.432Z"
   },
   {
    "duration": 3,
    "start_time": "2025-01-12T22:07:07.442Z"
   },
   {
    "duration": 4,
    "start_time": "2025-01-12T22:07:07.447Z"
   },
   {
    "duration": 74,
    "start_time": "2025-01-12T22:07:07.452Z"
   },
   {
    "duration": 7,
    "start_time": "2025-01-12T22:07:07.528Z"
   },
   {
    "duration": 8,
    "start_time": "2025-01-12T22:07:07.538Z"
   },
   {
    "duration": 5,
    "start_time": "2025-01-12T22:07:07.550Z"
   },
   {
    "duration": 5,
    "start_time": "2025-01-12T22:07:07.557Z"
   },
   {
    "duration": 3,
    "start_time": "2025-01-12T22:07:07.564Z"
   },
   {
    "duration": 713,
    "start_time": "2025-01-12T22:07:07.569Z"
   },
   {
    "duration": 0,
    "start_time": "2025-01-12T22:07:08.284Z"
   },
   {
    "duration": 0,
    "start_time": "2025-01-12T22:07:08.285Z"
   },
   {
    "duration": 0,
    "start_time": "2025-01-12T22:07:08.287Z"
   },
   {
    "duration": 0,
    "start_time": "2025-01-12T22:07:08.289Z"
   },
   {
    "duration": 0,
    "start_time": "2025-01-12T22:07:08.290Z"
   },
   {
    "duration": 3,
    "start_time": "2025-01-12T22:07:41.340Z"
   },
   {
    "duration": 461,
    "start_time": "2025-01-12T22:07:43.395Z"
   },
   {
    "duration": 461,
    "start_time": "2025-01-12T22:07:55.492Z"
   },
   {
    "duration": 3,
    "start_time": "2025-01-12T22:18:50.328Z"
   },
   {
    "duration": 464,
    "start_time": "2025-01-12T22:18:52.346Z"
   },
   {
    "duration": 463,
    "start_time": "2025-01-12T22:19:02.910Z"
   },
   {
    "duration": 4,
    "start_time": "2025-01-12T22:26:37.819Z"
   },
   {
    "duration": 477,
    "start_time": "2025-01-12T22:26:41.971Z"
   },
   {
    "duration": 464,
    "start_time": "2025-01-12T22:26:49.594Z"
   },
   {
    "duration": 127,
    "start_time": "2025-01-12T22:27:05.957Z"
   },
   {
    "duration": 538,
    "start_time": "2025-01-12T22:27:08.693Z"
   },
   {
    "duration": 463,
    "start_time": "2025-01-12T22:27:25.272Z"
   },
   {
    "duration": 952,
    "start_time": "2025-01-12T22:28:03.926Z"
   },
   {
    "duration": 225,
    "start_time": "2025-01-12T22:28:04.880Z"
   },
   {
    "duration": 26,
    "start_time": "2025-01-12T22:28:05.106Z"
   },
   {
    "duration": 28,
    "start_time": "2025-01-12T22:28:05.134Z"
   },
   {
    "duration": 382,
    "start_time": "2025-01-12T22:28:05.164Z"
   },
   {
    "duration": 25,
    "start_time": "2025-01-12T22:28:05.547Z"
   },
   {
    "duration": 339,
    "start_time": "2025-01-12T22:28:05.574Z"
   },
   {
    "duration": 30,
    "start_time": "2025-01-12T22:28:05.915Z"
   },
   {
    "duration": 301,
    "start_time": "2025-01-12T22:28:05.947Z"
   },
   {
    "duration": 15,
    "start_time": "2025-01-12T22:28:06.251Z"
   },
   {
    "duration": 96,
    "start_time": "2025-01-12T22:28:06.267Z"
   },
   {
    "duration": 9,
    "start_time": "2025-01-12T22:28:06.364Z"
   },
   {
    "duration": 9,
    "start_time": "2025-01-12T22:28:06.375Z"
   },
   {
    "duration": 8,
    "start_time": "2025-01-12T22:28:06.386Z"
   },
   {
    "duration": 2,
    "start_time": "2025-01-12T22:28:06.396Z"
   },
   {
    "duration": 48,
    "start_time": "2025-01-12T22:28:06.399Z"
   },
   {
    "duration": 3,
    "start_time": "2025-01-12T22:28:06.448Z"
   },
   {
    "duration": 4,
    "start_time": "2025-01-12T22:28:06.453Z"
   },
   {
    "duration": 3,
    "start_time": "2025-01-12T22:28:06.458Z"
   },
   {
    "duration": 164,
    "start_time": "2025-01-12T22:28:06.463Z"
   },
   {
    "duration": 15,
    "start_time": "2025-01-12T22:28:06.628Z"
   },
   {
    "duration": 8,
    "start_time": "2025-01-12T22:28:06.645Z"
   },
   {
    "duration": 71,
    "start_time": "2025-01-12T22:28:06.655Z"
   },
   {
    "duration": 4,
    "start_time": "2025-01-12T22:28:06.729Z"
   },
   {
    "duration": 3,
    "start_time": "2025-01-12T22:28:06.735Z"
   },
   {
    "duration": 3,
    "start_time": "2025-01-12T22:28:06.741Z"
   },
   {
    "duration": 7,
    "start_time": "2025-01-12T22:28:06.745Z"
   },
   {
    "duration": 6,
    "start_time": "2025-01-12T22:28:06.756Z"
   },
   {
    "duration": 5,
    "start_time": "2025-01-12T22:28:06.763Z"
   },
   {
    "duration": 4,
    "start_time": "2025-01-12T22:28:06.770Z"
   },
   {
    "duration": 3,
    "start_time": "2025-01-12T22:28:06.775Z"
   },
   {
    "duration": 705,
    "start_time": "2025-01-12T22:28:06.780Z"
   },
   {
    "duration": 0,
    "start_time": "2025-01-12T22:28:07.487Z"
   },
   {
    "duration": 0,
    "start_time": "2025-01-12T22:28:07.489Z"
   },
   {
    "duration": 0,
    "start_time": "2025-01-12T22:28:07.490Z"
   },
   {
    "duration": 0,
    "start_time": "2025-01-12T22:28:07.491Z"
   },
   {
    "duration": 0,
    "start_time": "2025-01-12T22:28:07.492Z"
   },
   {
    "duration": 952,
    "start_time": "2025-01-12T22:33:37.930Z"
   },
   {
    "duration": 222,
    "start_time": "2025-01-12T22:33:38.885Z"
   },
   {
    "duration": 31,
    "start_time": "2025-01-12T22:33:39.109Z"
   },
   {
    "duration": 27,
    "start_time": "2025-01-12T22:33:39.142Z"
   },
   {
    "duration": 383,
    "start_time": "2025-01-12T22:33:39.171Z"
   },
   {
    "duration": 25,
    "start_time": "2025-01-12T22:33:39.556Z"
   },
   {
    "duration": 329,
    "start_time": "2025-01-12T22:33:39.582Z"
   },
   {
    "duration": 36,
    "start_time": "2025-01-12T22:33:39.913Z"
   },
   {
    "duration": 298,
    "start_time": "2025-01-12T22:33:39.950Z"
   },
   {
    "duration": 15,
    "start_time": "2025-01-12T22:33:40.251Z"
   },
   {
    "duration": 96,
    "start_time": "2025-01-12T22:33:40.268Z"
   },
   {
    "duration": 8,
    "start_time": "2025-01-12T22:33:40.366Z"
   },
   {
    "duration": 8,
    "start_time": "2025-01-12T22:33:40.376Z"
   },
   {
    "duration": 8,
    "start_time": "2025-01-12T22:33:40.386Z"
   },
   {
    "duration": 2,
    "start_time": "2025-01-12T22:33:40.395Z"
   },
   {
    "duration": 47,
    "start_time": "2025-01-12T22:33:40.399Z"
   },
   {
    "duration": 3,
    "start_time": "2025-01-12T22:33:40.447Z"
   },
   {
    "duration": 4,
    "start_time": "2025-01-12T22:33:40.451Z"
   },
   {
    "duration": 3,
    "start_time": "2025-01-12T22:33:40.457Z"
   },
   {
    "duration": 165,
    "start_time": "2025-01-12T22:33:40.461Z"
   },
   {
    "duration": 11,
    "start_time": "2025-01-12T22:33:40.628Z"
   },
   {
    "duration": 84,
    "start_time": "2025-01-12T22:33:40.642Z"
   },
   {
    "duration": 2,
    "start_time": "2025-01-12T22:33:40.727Z"
   },
   {
    "duration": 4,
    "start_time": "2025-01-12T22:33:40.731Z"
   },
   {
    "duration": 3,
    "start_time": "2025-01-12T22:33:40.736Z"
   },
   {
    "duration": 3,
    "start_time": "2025-01-12T22:33:40.741Z"
   },
   {
    "duration": 6,
    "start_time": "2025-01-12T22:33:40.746Z"
   },
   {
    "duration": 6,
    "start_time": "2025-01-12T22:33:40.755Z"
   },
   {
    "duration": 6,
    "start_time": "2025-01-12T22:33:40.762Z"
   },
   {
    "duration": 3,
    "start_time": "2025-01-12T22:33:40.770Z"
   },
   {
    "duration": 50,
    "start_time": "2025-01-12T22:33:40.775Z"
   },
   {
    "duration": 669,
    "start_time": "2025-01-12T22:33:40.827Z"
   },
   {
    "duration": 0,
    "start_time": "2025-01-12T22:33:41.498Z"
   },
   {
    "duration": 0,
    "start_time": "2025-01-12T22:33:41.499Z"
   },
   {
    "duration": 0,
    "start_time": "2025-01-12T22:33:41.501Z"
   },
   {
    "duration": 0,
    "start_time": "2025-01-12T22:33:41.502Z"
   },
   {
    "duration": 0,
    "start_time": "2025-01-12T22:33:41.503Z"
   },
   {
    "duration": 492,
    "start_time": "2025-01-12T22:33:48.131Z"
   },
   {
    "duration": 3,
    "start_time": "2025-01-12T22:40:15.113Z"
   },
   {
    "duration": 453,
    "start_time": "2025-01-12T22:40:17.532Z"
   },
   {
    "duration": 966,
    "start_time": "2025-01-12T22:40:37.241Z"
   },
   {
    "duration": 219,
    "start_time": "2025-01-12T22:40:38.209Z"
   },
   {
    "duration": 26,
    "start_time": "2025-01-12T22:40:38.430Z"
   },
   {
    "duration": 26,
    "start_time": "2025-01-12T22:40:38.458Z"
   },
   {
    "duration": 385,
    "start_time": "2025-01-12T22:40:38.487Z"
   },
   {
    "duration": 25,
    "start_time": "2025-01-12T22:40:38.873Z"
   },
   {
    "duration": 342,
    "start_time": "2025-01-12T22:40:38.900Z"
   },
   {
    "duration": 26,
    "start_time": "2025-01-12T22:40:39.244Z"
   },
   {
    "duration": 313,
    "start_time": "2025-01-12T22:40:39.273Z"
   },
   {
    "duration": 15,
    "start_time": "2025-01-12T22:40:39.588Z"
   },
   {
    "duration": 98,
    "start_time": "2025-01-12T22:40:39.605Z"
   },
   {
    "duration": 19,
    "start_time": "2025-01-12T22:40:39.705Z"
   },
   {
    "duration": 8,
    "start_time": "2025-01-12T22:40:39.726Z"
   },
   {
    "duration": 8,
    "start_time": "2025-01-12T22:40:39.738Z"
   },
   {
    "duration": 4,
    "start_time": "2025-01-12T22:40:39.748Z"
   },
   {
    "duration": 24,
    "start_time": "2025-01-12T22:40:39.754Z"
   },
   {
    "duration": 3,
    "start_time": "2025-01-12T22:40:39.779Z"
   },
   {
    "duration": 4,
    "start_time": "2025-01-12T22:40:39.783Z"
   },
   {
    "duration": 37,
    "start_time": "2025-01-12T22:40:39.788Z"
   },
   {
    "duration": 108,
    "start_time": "2025-01-12T22:40:39.826Z"
   },
   {
    "duration": 91,
    "start_time": "2025-01-12T22:40:39.937Z"
   },
   {
    "duration": 7,
    "start_time": "2025-01-12T22:40:40.033Z"
   },
   {
    "duration": 2,
    "start_time": "2025-01-12T22:40:40.041Z"
   },
   {
    "duration": 3,
    "start_time": "2025-01-12T22:40:40.045Z"
   },
   {
    "duration": 5,
    "start_time": "2025-01-12T22:40:40.050Z"
   },
   {
    "duration": 3,
    "start_time": "2025-01-12T22:40:40.056Z"
   },
   {
    "duration": 6,
    "start_time": "2025-01-12T22:40:40.060Z"
   },
   {
    "duration": 63,
    "start_time": "2025-01-12T22:40:40.067Z"
   },
   {
    "duration": 6,
    "start_time": "2025-01-12T22:40:40.133Z"
   },
   {
    "duration": 3,
    "start_time": "2025-01-12T22:40:40.141Z"
   },
   {
    "duration": 4,
    "start_time": "2025-01-12T22:40:40.147Z"
   },
   {
    "duration": 459,
    "start_time": "2025-01-12T22:40:40.153Z"
   },
   {
    "duration": 140,
    "start_time": "2025-01-12T22:40:40.614Z"
   },
   {
    "duration": 460,
    "start_time": "2025-01-12T22:40:40.756Z"
   },
   {
    "duration": 130,
    "start_time": "2025-01-12T22:40:41.218Z"
   },
   {
    "duration": 446,
    "start_time": "2025-01-12T22:40:41.350Z"
   },
   {
    "duration": 131,
    "start_time": "2025-01-12T22:40:41.797Z"
   },
   {
    "duration": 451,
    "start_time": "2025-01-12T22:43:48.135Z"
   },
   {
    "duration": 2689,
    "start_time": "2025-01-19T02:32:03.602Z"
   },
   {
    "duration": 335,
    "start_time": "2025-01-19T02:32:06.293Z"
   },
   {
    "duration": 27,
    "start_time": "2025-01-19T02:32:06.629Z"
   },
   {
    "duration": 37,
    "start_time": "2025-01-19T02:32:06.659Z"
   },
   {
    "duration": 335,
    "start_time": "2025-01-19T02:32:06.698Z"
   },
   {
    "duration": 26,
    "start_time": "2025-01-19T02:32:07.035Z"
   },
   {
    "duration": 374,
    "start_time": "2025-01-19T02:32:07.063Z"
   },
   {
    "duration": 26,
    "start_time": "2025-01-19T02:32:07.439Z"
   },
   {
    "duration": 312,
    "start_time": "2025-01-19T02:32:07.467Z"
   },
   {
    "duration": 15,
    "start_time": "2025-01-19T02:32:07.786Z"
   },
   {
    "duration": 97,
    "start_time": "2025-01-19T02:32:07.803Z"
   },
   {
    "duration": 8,
    "start_time": "2025-01-19T02:32:07.902Z"
   },
   {
    "duration": 8,
    "start_time": "2025-01-19T02:32:07.912Z"
   },
   {
    "duration": 9,
    "start_time": "2025-01-19T02:32:07.921Z"
   },
   {
    "duration": 2,
    "start_time": "2025-01-19T02:32:07.931Z"
   },
   {
    "duration": 56,
    "start_time": "2025-01-19T02:32:07.935Z"
   },
   {
    "duration": 3,
    "start_time": "2025-01-19T02:32:07.992Z"
   },
   {
    "duration": 4,
    "start_time": "2025-01-19T02:32:07.997Z"
   },
   {
    "duration": 3,
    "start_time": "2025-01-19T02:32:08.003Z"
   },
   {
    "duration": 184,
    "start_time": "2025-01-19T02:32:08.008Z"
   },
   {
    "duration": 9,
    "start_time": "2025-01-19T02:32:08.194Z"
   },
   {
    "duration": 81,
    "start_time": "2025-01-19T02:32:08.209Z"
   },
   {
    "duration": 2,
    "start_time": "2025-01-19T02:32:08.292Z"
   },
   {
    "duration": 4,
    "start_time": "2025-01-19T02:32:08.296Z"
   },
   {
    "duration": 4,
    "start_time": "2025-01-19T02:32:08.301Z"
   },
   {
    "duration": 3,
    "start_time": "2025-01-19T02:32:08.306Z"
   },
   {
    "duration": 5,
    "start_time": "2025-01-19T02:32:08.311Z"
   },
   {
    "duration": 6,
    "start_time": "2025-01-19T02:32:08.320Z"
   },
   {
    "duration": 60,
    "start_time": "2025-01-19T02:32:08.327Z"
   },
   {
    "duration": 3,
    "start_time": "2025-01-19T02:32:08.389Z"
   },
   {
    "duration": 3,
    "start_time": "2025-01-19T02:32:08.394Z"
   },
   {
    "duration": 239,
    "start_time": "2025-01-19T02:32:08.399Z"
   },
   {
    "duration": 0,
    "start_time": "2025-01-19T02:32:08.640Z"
   },
   {
    "duration": 0,
    "start_time": "2025-01-19T02:32:08.641Z"
   },
   {
    "duration": 0,
    "start_time": "2025-01-19T02:32:08.642Z"
   },
   {
    "duration": 0,
    "start_time": "2025-01-19T02:32:08.643Z"
   },
   {
    "duration": 0,
    "start_time": "2025-01-19T02:32:08.644Z"
   },
   {
    "duration": 0,
    "start_time": "2025-01-19T02:32:08.645Z"
   },
   {
    "duration": 0,
    "start_time": "2025-01-19T02:32:08.646Z"
   },
   {
    "duration": 3,
    "start_time": "2025-01-19T02:32:57.256Z"
   },
   {
    "duration": 434,
    "start_time": "2025-01-19T02:33:00.316Z"
   },
   {
    "duration": 136,
    "start_time": "2025-01-19T02:33:01.624Z"
   },
   {
    "duration": 443,
    "start_time": "2025-01-19T02:33:02.607Z"
   },
   {
    "duration": 149,
    "start_time": "2025-01-19T02:33:03.052Z"
   },
   {
    "duration": 463,
    "start_time": "2025-01-19T02:33:03.293Z"
   },
   {
    "duration": 133,
    "start_time": "2025-01-19T02:33:03.759Z"
   },
   {
    "duration": 15,
    "start_time": "2025-01-19T02:33:04.834Z"
   },
   {
    "duration": 10,
    "start_time": "2025-01-20T23:50:24.815Z"
   },
   {
    "duration": 4,
    "start_time": "2025-01-21T01:08:15.569Z"
   },
   {
    "duration": 2669,
    "start_time": "2025-01-21T01:33:32.662Z"
   },
   {
    "duration": 306,
    "start_time": "2025-01-21T01:33:35.333Z"
   },
   {
    "duration": 26,
    "start_time": "2025-01-21T01:33:35.641Z"
   },
   {
    "duration": 27,
    "start_time": "2025-01-21T01:33:35.670Z"
   },
   {
    "duration": 318,
    "start_time": "2025-01-21T01:33:35.710Z"
   },
   {
    "duration": 25,
    "start_time": "2025-01-21T01:33:36.030Z"
   },
   {
    "duration": 373,
    "start_time": "2025-01-21T01:33:36.057Z"
   },
   {
    "duration": 24,
    "start_time": "2025-01-21T01:33:36.432Z"
   },
   {
    "duration": 314,
    "start_time": "2025-01-21T01:33:36.458Z"
   },
   {
    "duration": 15,
    "start_time": "2025-01-21T01:33:36.775Z"
   },
   {
    "duration": 97,
    "start_time": "2025-01-21T01:33:36.791Z"
   },
   {
    "duration": 8,
    "start_time": "2025-01-21T01:33:36.890Z"
   },
   {
    "duration": 8,
    "start_time": "2025-01-21T01:33:36.909Z"
   },
   {
    "duration": 8,
    "start_time": "2025-01-21T01:33:36.919Z"
   },
   {
    "duration": 2,
    "start_time": "2025-01-21T01:33:36.929Z"
   },
   {
    "duration": 24,
    "start_time": "2025-01-21T01:33:36.932Z"
   },
   {
    "duration": 2,
    "start_time": "2025-01-21T01:33:36.958Z"
   },
   {
    "duration": 4,
    "start_time": "2025-01-21T01:33:36.962Z"
   },
   {
    "duration": 3,
    "start_time": "2025-01-21T01:33:36.968Z"
   },
   {
    "duration": 160,
    "start_time": "2025-01-21T01:33:36.973Z"
   },
   {
    "duration": 18,
    "start_time": "2025-01-21T01:33:37.215Z"
   },
   {
    "duration": 9,
    "start_time": "2025-01-21T01:33:37.235Z"
   },
   {
    "duration": 3,
    "start_time": "2025-01-21T01:33:37.245Z"
   },
   {
    "duration": 4,
    "start_time": "2025-01-21T01:33:37.310Z"
   },
   {
    "duration": 7,
    "start_time": "2025-01-21T01:33:37.316Z"
   },
   {
    "duration": 3,
    "start_time": "2025-01-21T01:33:37.325Z"
   },
   {
    "duration": 6,
    "start_time": "2025-01-21T01:33:37.330Z"
   },
   {
    "duration": 7,
    "start_time": "2025-01-21T01:33:37.341Z"
   },
   {
    "duration": 6,
    "start_time": "2025-01-21T01:33:37.349Z"
   },
   {
    "duration": 3,
    "start_time": "2025-01-21T01:33:37.356Z"
   },
   {
    "duration": 3,
    "start_time": "2025-01-21T01:33:37.361Z"
   },
   {
    "duration": 5,
    "start_time": "2025-01-21T01:33:37.366Z"
   },
   {
    "duration": 505,
    "start_time": "2025-01-21T01:33:37.373Z"
   },
   {
    "duration": 144,
    "start_time": "2025-01-21T01:33:37.881Z"
   },
   {
    "duration": 448,
    "start_time": "2025-01-21T01:33:38.027Z"
   },
   {
    "duration": 133,
    "start_time": "2025-01-21T01:33:38.476Z"
   },
   {
    "duration": 471,
    "start_time": "2025-01-21T01:33:38.610Z"
   },
   {
    "duration": 132,
    "start_time": "2025-01-21T01:33:39.082Z"
   },
   {
    "duration": 235,
    "start_time": "2025-01-21T01:33:39.216Z"
   },
   {
    "duration": 154,
    "start_time": "2025-01-21T05:55:48.389Z"
   },
   {
    "duration": 2677,
    "start_time": "2025-01-21T05:56:07.968Z"
   },
   {
    "duration": 305,
    "start_time": "2025-01-21T05:56:10.647Z"
   },
   {
    "duration": 27,
    "start_time": "2025-01-21T05:56:10.954Z"
   },
   {
    "duration": 27,
    "start_time": "2025-01-21T05:56:10.983Z"
   },
   {
    "duration": 331,
    "start_time": "2025-01-21T05:56:11.011Z"
   },
   {
    "duration": 35,
    "start_time": "2025-01-21T05:56:11.344Z"
   },
   {
    "duration": 365,
    "start_time": "2025-01-21T05:56:11.381Z"
   },
   {
    "duration": 34,
    "start_time": "2025-01-21T05:56:11.747Z"
   },
   {
    "duration": 297,
    "start_time": "2025-01-21T05:56:11.783Z"
   },
   {
    "duration": 15,
    "start_time": "2025-01-21T05:56:12.083Z"
   },
   {
    "duration": 99,
    "start_time": "2025-01-21T05:56:12.100Z"
   },
   {
    "duration": 8,
    "start_time": "2025-01-21T05:56:12.201Z"
   },
   {
    "duration": 8,
    "start_time": "2025-01-21T05:56:12.211Z"
   },
   {
    "duration": 8,
    "start_time": "2025-01-21T05:56:12.221Z"
   },
   {
    "duration": 3,
    "start_time": "2025-01-21T05:56:12.230Z"
   },
   {
    "duration": 52,
    "start_time": "2025-01-21T05:56:12.235Z"
   },
   {
    "duration": 3,
    "start_time": "2025-01-21T05:56:12.289Z"
   },
   {
    "duration": 4,
    "start_time": "2025-01-21T05:56:12.293Z"
   },
   {
    "duration": 3,
    "start_time": "2025-01-21T05:56:12.299Z"
   },
   {
    "duration": 186,
    "start_time": "2025-01-21T05:56:12.303Z"
   },
   {
    "duration": 83,
    "start_time": "2025-01-21T05:56:12.491Z"
   },
   {
    "duration": 9,
    "start_time": "2025-01-21T05:56:12.576Z"
   },
   {
    "duration": 7,
    "start_time": "2025-01-21T05:56:12.588Z"
   },
   {
    "duration": 76,
    "start_time": "2025-01-21T05:56:12.597Z"
   },
   {
    "duration": 2,
    "start_time": "2025-01-21T05:56:12.674Z"
   },
   {
    "duration": 4,
    "start_time": "2025-01-21T05:56:12.678Z"
   },
   {
    "duration": 3,
    "start_time": "2025-01-21T05:56:12.683Z"
   },
   {
    "duration": 3,
    "start_time": "2025-01-21T05:56:12.691Z"
   },
   {
    "duration": 6,
    "start_time": "2025-01-21T05:56:12.695Z"
   },
   {
    "duration": 5,
    "start_time": "2025-01-21T05:56:12.703Z"
   },
   {
    "duration": 5,
    "start_time": "2025-01-21T05:56:12.710Z"
   },
   {
    "duration": 3,
    "start_time": "2025-01-21T05:56:12.717Z"
   },
   {
    "duration": 49,
    "start_time": "2025-01-21T05:56:12.721Z"
   },
   {
    "duration": 2,
    "start_time": "2025-01-21T05:56:12.772Z"
   },
   {
    "duration": 454,
    "start_time": "2025-01-21T05:56:12.775Z"
   },
   {
    "duration": 140,
    "start_time": "2025-01-21T05:56:13.231Z"
   },
   {
    "duration": 433,
    "start_time": "2025-01-21T05:56:13.373Z"
   },
   {
    "duration": 128,
    "start_time": "2025-01-21T05:56:13.808Z"
   },
   {
    "duration": 467,
    "start_time": "2025-01-21T05:56:13.938Z"
   },
   {
    "duration": 133,
    "start_time": "2025-01-21T05:56:14.407Z"
   },
   {
    "duration": 234,
    "start_time": "2025-01-21T05:56:14.542Z"
   },
   {
    "duration": 14,
    "start_time": "2025-01-21T05:58:48.373Z"
   },
   {
    "duration": 12,
    "start_time": "2025-01-21T05:58:53.853Z"
   },
   {
    "duration": 13,
    "start_time": "2025-01-21T05:58:58.073Z"
   },
   {
    "duration": 5,
    "start_time": "2025-01-21T06:00:11.349Z"
   },
   {
    "duration": 3,
    "start_time": "2025-01-21T06:00:16.724Z"
   },
   {
    "duration": 4,
    "start_time": "2025-01-21T06:00:29.994Z"
   },
   {
    "duration": 3,
    "start_time": "2025-01-21T06:00:33.870Z"
   },
   {
    "duration": 217,
    "start_time": "2025-01-21T06:00:36.616Z"
   },
   {
    "duration": 4,
    "start_time": "2025-01-21T06:01:30.625Z"
   },
   {
    "duration": 4,
    "start_time": "2025-01-21T06:01:35.503Z"
   },
   {
    "duration": 913,
    "start_time": "2025-01-21T06:01:54.997Z"
   },
   {
    "duration": 222,
    "start_time": "2025-01-21T06:01:55.912Z"
   },
   {
    "duration": 34,
    "start_time": "2025-01-21T06:01:56.136Z"
   },
   {
    "duration": 27,
    "start_time": "2025-01-21T06:01:56.172Z"
   },
   {
    "duration": 400,
    "start_time": "2025-01-21T06:01:56.201Z"
   },
   {
    "duration": 24,
    "start_time": "2025-01-21T06:01:56.603Z"
   },
   {
    "duration": 350,
    "start_time": "2025-01-21T06:01:56.629Z"
   },
   {
    "duration": 26,
    "start_time": "2025-01-21T06:01:56.982Z"
   },
   {
    "duration": 324,
    "start_time": "2025-01-21T06:01:57.009Z"
   },
   {
    "duration": 17,
    "start_time": "2025-01-21T06:01:57.337Z"
   },
   {
    "duration": 100,
    "start_time": "2025-01-21T06:01:57.356Z"
   },
   {
    "duration": 13,
    "start_time": "2025-01-21T06:01:57.458Z"
   },
   {
    "duration": 8,
    "start_time": "2025-01-21T06:01:57.472Z"
   },
   {
    "duration": 10,
    "start_time": "2025-01-21T06:01:57.482Z"
   },
   {
    "duration": 2,
    "start_time": "2025-01-21T06:01:57.494Z"
   },
   {
    "duration": 24,
    "start_time": "2025-01-21T06:01:57.498Z"
   },
   {
    "duration": 3,
    "start_time": "2025-01-21T06:01:57.523Z"
   },
   {
    "duration": 5,
    "start_time": "2025-01-21T06:01:57.527Z"
   },
   {
    "duration": 38,
    "start_time": "2025-01-21T06:01:57.533Z"
   },
   {
    "duration": 116,
    "start_time": "2025-01-21T06:01:57.573Z"
   },
   {
    "duration": 81,
    "start_time": "2025-01-21T06:01:57.691Z"
   },
   {
    "duration": 11,
    "start_time": "2025-01-21T06:01:57.776Z"
   },
   {
    "duration": 8,
    "start_time": "2025-01-21T06:01:57.789Z"
   },
   {
    "duration": 72,
    "start_time": "2025-01-21T06:01:57.799Z"
   },
   {
    "duration": 2,
    "start_time": "2025-01-21T06:01:57.873Z"
   },
   {
    "duration": 4,
    "start_time": "2025-01-21T06:01:57.877Z"
   },
   {
    "duration": 3,
    "start_time": "2025-01-21T06:01:57.883Z"
   },
   {
    "duration": 2,
    "start_time": "2025-01-21T06:01:57.891Z"
   },
   {
    "duration": 6,
    "start_time": "2025-01-21T06:01:57.895Z"
   },
   {
    "duration": 5,
    "start_time": "2025-01-21T06:01:57.903Z"
   },
   {
    "duration": 6,
    "start_time": "2025-01-21T06:01:57.909Z"
   },
   {
    "duration": 3,
    "start_time": "2025-01-21T06:01:57.917Z"
   },
   {
    "duration": 4,
    "start_time": "2025-01-21T06:01:57.969Z"
   },
   {
    "duration": 2,
    "start_time": "2025-01-21T06:01:57.975Z"
   },
   {
    "duration": 456,
    "start_time": "2025-01-21T06:01:57.980Z"
   },
   {
    "duration": 138,
    "start_time": "2025-01-21T06:01:58.438Z"
   },
   {
    "duration": 459,
    "start_time": "2025-01-21T06:01:58.578Z"
   },
   {
    "duration": 128,
    "start_time": "2025-01-21T06:01:59.038Z"
   },
   {
    "duration": 447,
    "start_time": "2025-01-21T06:01:59.170Z"
   },
   {
    "duration": 134,
    "start_time": "2025-01-21T06:01:59.619Z"
   },
   {
    "duration": 346,
    "start_time": "2025-01-21T06:01:59.755Z"
   },
   {
    "duration": 5,
    "start_time": "2025-01-21T06:02:56.989Z"
   },
   {
    "duration": 3,
    "start_time": "2025-01-21T06:02:59.404Z"
   },
   {
    "duration": 4,
    "start_time": "2025-01-21T06:03:19.177Z"
   },
   {
    "duration": 2,
    "start_time": "2025-01-21T06:03:23.128Z"
   },
   {
    "duration": 90,
    "start_time": "2025-01-21T06:03:25.587Z"
   },
   {
    "duration": 4,
    "start_time": "2025-01-21T06:03:40.521Z"
   },
   {
    "duration": 3,
    "start_time": "2025-01-21T06:03:43.231Z"
   },
   {
    "duration": 63,
    "start_time": "2025-01-21T06:03:45.223Z"
   },
   {
    "duration": 4,
    "start_time": "2025-01-21T06:04:30.230Z"
   },
   {
    "duration": 3,
    "start_time": "2025-01-21T06:04:32.391Z"
   },
   {
    "duration": 102,
    "start_time": "2025-01-21T06:04:34.591Z"
   },
   {
    "duration": 3,
    "start_time": "2025-01-21T06:12:11.706Z"
   },
   {
    "duration": 7,
    "start_time": "2025-01-21T06:12:14.496Z"
   },
   {
    "duration": 3,
    "start_time": "2025-01-21T06:12:21.681Z"
   },
   {
    "duration": 7,
    "start_time": "2025-01-21T06:12:24.006Z"
   },
   {
    "duration": 159,
    "start_time": "2025-01-21T21:49:35.319Z"
   },
   {
    "duration": 2685,
    "start_time": "2025-01-21T21:49:41.101Z"
   },
   {
    "duration": 306,
    "start_time": "2025-01-21T21:49:43.788Z"
   },
   {
    "duration": 26,
    "start_time": "2025-01-21T21:49:44.096Z"
   },
   {
    "duration": 27,
    "start_time": "2025-01-21T21:49:44.125Z"
   },
   {
    "duration": 328,
    "start_time": "2025-01-21T21:49:44.170Z"
   },
   {
    "duration": 26,
    "start_time": "2025-01-21T21:49:44.499Z"
   },
   {
    "duration": 332,
    "start_time": "2025-01-21T21:49:44.527Z"
   },
   {
    "duration": 33,
    "start_time": "2025-01-21T21:49:44.861Z"
   },
   {
    "duration": 316,
    "start_time": "2025-01-21T21:49:44.896Z"
   },
   {
    "duration": 15,
    "start_time": "2025-01-21T21:49:45.216Z"
   },
   {
    "duration": 100,
    "start_time": "2025-01-21T21:49:45.232Z"
   },
   {
    "duration": 9,
    "start_time": "2025-01-21T21:49:45.334Z"
   },
   {
    "duration": 8,
    "start_time": "2025-01-21T21:49:45.345Z"
   },
   {
    "duration": 84,
    "start_time": "2025-01-21T21:49:45.355Z"
   },
   {
    "duration": 3,
    "start_time": "2025-01-21T21:49:45.441Z"
   },
   {
    "duration": 40,
    "start_time": "2025-01-21T21:49:45.446Z"
   },
   {
    "duration": 3,
    "start_time": "2025-01-21T21:49:45.487Z"
   },
   {
    "duration": 4,
    "start_time": "2025-01-21T21:49:45.492Z"
   },
   {
    "duration": 3,
    "start_time": "2025-01-21T21:49:45.498Z"
   },
   {
    "duration": 191,
    "start_time": "2025-01-21T21:49:45.503Z"
   },
   {
    "duration": 83,
    "start_time": "2025-01-21T21:49:45.696Z"
   },
   {
    "duration": 8,
    "start_time": "2025-01-21T21:49:45.780Z"
   },
   {
    "duration": 7,
    "start_time": "2025-01-21T21:49:45.790Z"
   },
   {
    "duration": 9,
    "start_time": "2025-01-21T21:49:45.871Z"
   },
   {
    "duration": 2,
    "start_time": "2025-01-21T21:49:45.882Z"
   },
   {
    "duration": 3,
    "start_time": "2025-01-21T21:49:45.886Z"
   },
   {
    "duration": 4,
    "start_time": "2025-01-21T21:49:45.891Z"
   },
   {
    "duration": 3,
    "start_time": "2025-01-21T21:49:45.898Z"
   },
   {
    "duration": 6,
    "start_time": "2025-01-21T21:49:45.903Z"
   },
   {
    "duration": 5,
    "start_time": "2025-01-21T21:49:45.911Z"
   },
   {
    "duration": 5,
    "start_time": "2025-01-21T21:49:45.918Z"
   },
   {
    "duration": 46,
    "start_time": "2025-01-21T21:49:45.925Z"
   },
   {
    "duration": 3,
    "start_time": "2025-01-21T21:49:45.973Z"
   },
   {
    "duration": 2,
    "start_time": "2025-01-21T21:49:45.978Z"
   },
   {
    "duration": 484,
    "start_time": "2025-01-21T21:49:45.982Z"
   },
   {
    "duration": 153,
    "start_time": "2025-01-21T21:49:46.471Z"
   },
   {
    "duration": 468,
    "start_time": "2025-01-21T21:49:46.626Z"
   },
   {
    "duration": 144,
    "start_time": "2025-01-21T21:49:47.096Z"
   },
   {
    "duration": 458,
    "start_time": "2025-01-21T21:49:47.242Z"
   },
   {
    "duration": 134,
    "start_time": "2025-01-21T21:49:47.702Z"
   },
   {
    "duration": 243,
    "start_time": "2025-01-21T21:49:47.838Z"
   },
   {
    "duration": 4,
    "start_time": "2025-01-21T22:55:10.274Z"
   },
   {
    "duration": 3,
    "start_time": "2025-01-21T22:55:18.554Z"
   },
   {
    "duration": 4,
    "start_time": "2025-01-21T22:57:16.299Z"
   },
   {
    "duration": 4,
    "start_time": "2025-01-21T22:57:20.455Z"
   },
   {
    "duration": 3,
    "start_time": "2025-01-21T22:57:32.698Z"
   },
   {
    "duration": 3,
    "start_time": "2025-01-21T22:57:36.732Z"
   },
   {
    "duration": 3,
    "start_time": "2025-01-21T23:04:04.892Z"
   },
   {
    "duration": 3,
    "start_time": "2025-01-21T23:25:45.595Z"
   },
   {
    "duration": 6,
    "start_time": "2025-01-21T23:25:48.117Z"
   },
   {
    "duration": 7,
    "start_time": "2025-01-21T23:25:50.422Z"
   },
   {
    "duration": 7,
    "start_time": "2025-01-21T23:25:52.582Z"
   },
   {
    "duration": 6,
    "start_time": "2025-01-21T23:26:36.764Z"
   },
   {
    "duration": 6,
    "start_time": "2025-01-21T23:26:38.843Z"
   },
   {
    "duration": 6,
    "start_time": "2025-01-21T23:26:40.700Z"
   },
   {
    "duration": 3,
    "start_time": "2025-01-21T23:28:48.844Z"
   },
   {
    "duration": 8,
    "start_time": "2025-01-21T23:28:51.567Z"
   },
   {
    "duration": 3,
    "start_time": "2025-01-21T23:29:16.564Z"
   },
   {
    "duration": 6,
    "start_time": "2025-01-21T23:29:18.972Z"
   },
   {
    "duration": 3,
    "start_time": "2025-01-21T23:29:34.943Z"
   },
   {
    "duration": 7,
    "start_time": "2025-01-21T23:29:37.332Z"
   },
   {
    "duration": 3,
    "start_time": "2025-01-21T23:29:49.808Z"
   },
   {
    "duration": 6,
    "start_time": "2025-01-21T23:29:51.638Z"
   },
   {
    "duration": 7,
    "start_time": "2025-01-21T23:30:39.071Z"
   },
   {
    "duration": 6,
    "start_time": "2025-01-21T23:30:41.910Z"
   },
   {
    "duration": 4,
    "start_time": "2025-01-21T23:31:57.749Z"
   },
   {
    "duration": 6,
    "start_time": "2025-01-21T23:31:59.453Z"
   },
   {
    "duration": 6,
    "start_time": "2025-01-21T23:32:01.615Z"
   },
   {
    "duration": 7,
    "start_time": "2025-01-21T23:32:03.331Z"
   },
   {
    "duration": 2,
    "start_time": "2025-01-21T23:32:23.805Z"
   },
   {
    "duration": 7,
    "start_time": "2025-01-21T23:32:25.581Z"
   },
   {
    "duration": 3,
    "start_time": "2025-01-21T23:32:58.916Z"
   },
   {
    "duration": 3,
    "start_time": "2025-01-21T23:33:00.810Z"
   },
   {
    "duration": 6,
    "start_time": "2025-01-21T23:33:03.214Z"
   },
   {
    "duration": 3,
    "start_time": "2025-01-21T23:33:30.366Z"
   },
   {
    "duration": 6,
    "start_time": "2025-01-21T23:33:33.461Z"
   },
   {
    "duration": 7,
    "start_time": "2025-01-21T23:33:35.676Z"
   },
   {
    "duration": 7,
    "start_time": "2025-01-21T23:33:37.843Z"
   },
   {
    "duration": 7,
    "start_time": "2025-01-21T23:34:18.645Z"
   },
   {
    "duration": 6,
    "start_time": "2025-01-21T23:34:44.377Z"
   },
   {
    "duration": 6,
    "start_time": "2025-01-21T23:34:46.074Z"
   },
   {
    "duration": 13,
    "start_time": "2025-01-22T00:33:38.603Z"
   },
   {
    "duration": 13,
    "start_time": "2025-01-22T00:34:16.433Z"
   },
   {
    "duration": 13,
    "start_time": "2025-01-22T00:34:41.281Z"
   },
   {
    "duration": 23,
    "start_time": "2025-01-22T00:36:14.964Z"
   },
   {
    "duration": 23,
    "start_time": "2025-01-22T00:36:22.027Z"
   },
   {
    "duration": 498,
    "start_time": "2025-01-22T00:37:03.280Z"
   },
   {
    "duration": 506,
    "start_time": "2025-01-22T00:37:10.583Z"
   },
   {
    "duration": 505,
    "start_time": "2025-01-22T00:44:52.744Z"
   },
   {
    "duration": 491,
    "start_time": "2025-01-22T00:45:59.922Z"
   },
   {
    "duration": 496,
    "start_time": "2025-01-22T00:46:22.975Z"
   },
   {
    "duration": 1037,
    "start_time": "2025-01-22T00:50:33.911Z"
   },
   {
    "duration": 649,
    "start_time": "2025-01-22T00:55:14.255Z"
   },
   {
    "duration": 574,
    "start_time": "2025-01-22T00:56:26.066Z"
   },
   {
    "duration": 942,
    "start_time": "2025-01-22T00:57:35.276Z"
   },
   {
    "duration": 227,
    "start_time": "2025-01-22T00:57:36.220Z"
   },
   {
    "duration": 26,
    "start_time": "2025-01-22T00:57:36.448Z"
   },
   {
    "duration": 28,
    "start_time": "2025-01-22T00:57:36.476Z"
   },
   {
    "duration": 397,
    "start_time": "2025-01-22T00:57:36.506Z"
   },
   {
    "duration": 25,
    "start_time": "2025-01-22T00:57:36.904Z"
   },
   {
    "duration": 355,
    "start_time": "2025-01-22T00:57:36.931Z"
   },
   {
    "duration": 27,
    "start_time": "2025-01-22T00:57:37.288Z"
   },
   {
    "duration": 313,
    "start_time": "2025-01-22T00:57:37.317Z"
   },
   {
    "duration": 15,
    "start_time": "2025-01-22T00:57:37.632Z"
   },
   {
    "duration": 99,
    "start_time": "2025-01-22T00:57:37.648Z"
   },
   {
    "duration": 20,
    "start_time": "2025-01-22T00:57:37.750Z"
   },
   {
    "duration": 8,
    "start_time": "2025-01-22T00:57:37.772Z"
   },
   {
    "duration": 8,
    "start_time": "2025-01-22T00:57:37.784Z"
   },
   {
    "duration": 4,
    "start_time": "2025-01-22T00:57:37.793Z"
   },
   {
    "duration": 24,
    "start_time": "2025-01-22T00:57:37.799Z"
   },
   {
    "duration": 3,
    "start_time": "2025-01-22T00:57:37.824Z"
   },
   {
    "duration": 5,
    "start_time": "2025-01-22T00:57:37.829Z"
   },
   {
    "duration": 35,
    "start_time": "2025-01-22T00:57:37.836Z"
   },
   {
    "duration": 118,
    "start_time": "2025-01-22T00:57:37.873Z"
   },
   {
    "duration": 86,
    "start_time": "2025-01-22T00:57:37.993Z"
   },
   {
    "duration": 9,
    "start_time": "2025-01-22T00:57:38.081Z"
   },
   {
    "duration": 8,
    "start_time": "2025-01-22T00:57:38.091Z"
   },
   {
    "duration": 75,
    "start_time": "2025-01-22T00:57:38.100Z"
   },
   {
    "duration": 2,
    "start_time": "2025-01-22T00:57:38.178Z"
   },
   {
    "duration": 5,
    "start_time": "2025-01-22T00:57:38.182Z"
   },
   {
    "duration": 2,
    "start_time": "2025-01-22T00:57:38.190Z"
   },
   {
    "duration": 4,
    "start_time": "2025-01-22T00:57:38.194Z"
   },
   {
    "duration": 7,
    "start_time": "2025-01-22T00:57:38.200Z"
   },
   {
    "duration": 6,
    "start_time": "2025-01-22T00:57:38.209Z"
   },
   {
    "duration": 6,
    "start_time": "2025-01-22T00:57:38.216Z"
   },
   {
    "duration": 4,
    "start_time": "2025-01-22T00:57:38.224Z"
   },
   {
    "duration": 1353,
    "start_time": "2025-01-22T00:57:38.229Z"
   },
   {
    "duration": 0,
    "start_time": "2025-01-22T00:57:39.584Z"
   },
   {
    "duration": 0,
    "start_time": "2025-01-22T00:57:39.586Z"
   },
   {
    "duration": 0,
    "start_time": "2025-01-22T00:57:39.588Z"
   },
   {
    "duration": 0,
    "start_time": "2025-01-22T00:57:39.589Z"
   },
   {
    "duration": 0,
    "start_time": "2025-01-22T00:57:39.591Z"
   },
   {
    "duration": 0,
    "start_time": "2025-01-22T00:57:39.592Z"
   },
   {
    "duration": 0,
    "start_time": "2025-01-22T00:57:39.593Z"
   },
   {
    "duration": 0,
    "start_time": "2025-01-22T00:57:39.594Z"
   },
   {
    "duration": 490,
    "start_time": "2025-01-22T00:59:18.033Z"
   },
   {
    "duration": 526,
    "start_time": "2025-01-22T00:59:26.093Z"
   },
   {
    "duration": 508,
    "start_time": "2025-01-22T00:59:29.115Z"
   },
   {
    "duration": 523,
    "start_time": "2025-01-22T00:59:33.319Z"
   },
   {
    "duration": 510,
    "start_time": "2025-01-22T01:20:54.373Z"
   },
   {
    "duration": 493,
    "start_time": "2025-01-22T01:20:57.025Z"
   },
   {
    "duration": 997,
    "start_time": "2025-01-22T01:21:50.130Z"
   },
   {
    "duration": 508,
    "start_time": "2025-01-22T01:22:36.591Z"
   },
   {
    "duration": 542,
    "start_time": "2025-01-22T01:22:49.599Z"
   },
   {
    "duration": 512,
    "start_time": "2025-01-22T01:22:56.871Z"
   },
   {
    "duration": 484,
    "start_time": "2025-01-22T01:23:05.603Z"
   },
   {
    "duration": 483,
    "start_time": "2025-01-22T01:23:13.449Z"
   },
   {
    "duration": 522,
    "start_time": "2025-01-22T01:29:24.334Z"
   },
   {
    "duration": 891,
    "start_time": "2025-01-22T01:30:05.948Z"
   },
   {
    "duration": 233,
    "start_time": "2025-01-22T01:30:06.840Z"
   },
   {
    "duration": 27,
    "start_time": "2025-01-22T01:30:07.075Z"
   },
   {
    "duration": 27,
    "start_time": "2025-01-22T01:30:07.106Z"
   },
   {
    "duration": 414,
    "start_time": "2025-01-22T01:30:07.134Z"
   },
   {
    "duration": 37,
    "start_time": "2025-01-22T01:30:07.550Z"
   },
   {
    "duration": 322,
    "start_time": "2025-01-22T01:30:07.589Z"
   },
   {
    "duration": 26,
    "start_time": "2025-01-22T01:30:07.913Z"
   },
   {
    "duration": 312,
    "start_time": "2025-01-22T01:30:07.940Z"
   },
   {
    "duration": 28,
    "start_time": "2025-01-22T01:30:08.256Z"
   },
   {
    "duration": 99,
    "start_time": "2025-01-22T01:30:08.286Z"
   },
   {
    "duration": 9,
    "start_time": "2025-01-22T01:30:08.386Z"
   },
   {
    "duration": 8,
    "start_time": "2025-01-22T01:30:08.397Z"
   },
   {
    "duration": 8,
    "start_time": "2025-01-22T01:30:08.407Z"
   },
   {
    "duration": 3,
    "start_time": "2025-01-22T01:30:08.417Z"
   },
   {
    "duration": 53,
    "start_time": "2025-01-22T01:30:08.421Z"
   },
   {
    "duration": 3,
    "start_time": "2025-01-22T01:30:08.476Z"
   },
   {
    "duration": 4,
    "start_time": "2025-01-22T01:30:08.481Z"
   },
   {
    "duration": 4,
    "start_time": "2025-01-22T01:30:08.487Z"
   },
   {
    "duration": 177,
    "start_time": "2025-01-22T01:30:08.492Z"
   },
   {
    "duration": 18,
    "start_time": "2025-01-22T01:30:08.671Z"
   },
   {
    "duration": 7,
    "start_time": "2025-01-22T01:30:08.692Z"
   },
   {
    "duration": 70,
    "start_time": "2025-01-22T01:30:08.701Z"
   },
   {
    "duration": 7,
    "start_time": "2025-01-22T01:30:08.773Z"
   },
   {
    "duration": 2,
    "start_time": "2025-01-22T01:30:08.782Z"
   },
   {
    "duration": 4,
    "start_time": "2025-01-22T01:30:08.786Z"
   },
   {
    "duration": 4,
    "start_time": "2025-01-22T01:30:08.791Z"
   },
   {
    "duration": 3,
    "start_time": "2025-01-22T01:30:08.799Z"
   },
   {
    "duration": 7,
    "start_time": "2025-01-22T01:30:08.804Z"
   },
   {
    "duration": 6,
    "start_time": "2025-01-22T01:30:08.812Z"
   },
   {
    "duration": 6,
    "start_time": "2025-01-22T01:30:08.819Z"
   },
   {
    "duration": 43,
    "start_time": "2025-01-22T01:30:08.827Z"
   },
   {
    "duration": 1002,
    "start_time": "2025-01-22T01:30:08.872Z"
   },
   {
    "duration": 508,
    "start_time": "2025-01-22T01:30:09.876Z"
   },
   {
    "duration": 498,
    "start_time": "2025-01-22T01:30:10.386Z"
   },
   {
    "duration": 4,
    "start_time": "2025-01-22T01:30:10.886Z"
   },
   {
    "duration": 3,
    "start_time": "2025-01-22T01:30:10.891Z"
   },
   {
    "duration": 737,
    "start_time": "2025-01-22T01:30:10.895Z"
   },
   {
    "duration": 0,
    "start_time": "2025-01-22T01:30:11.634Z"
   },
   {
    "duration": 0,
    "start_time": "2025-01-22T01:30:11.636Z"
   },
   {
    "duration": 0,
    "start_time": "2025-01-22T01:30:11.637Z"
   },
   {
    "duration": 21862,
    "start_time": "2025-01-22T01:31:31.062Z"
   },
   {
    "duration": 3,
    "start_time": "2025-01-22T01:34:00.728Z"
   },
   {
    "duration": 982,
    "start_time": "2025-01-22T01:34:02.785Z"
   },
   {
    "duration": 3,
    "start_time": "2025-01-22T01:36:27.345Z"
   },
   {
    "duration": 6,
    "start_time": "2025-01-22T01:36:58.891Z"
   },
   {
    "duration": 6,
    "start_time": "2025-01-22T01:37:00.870Z"
   },
   {
    "duration": 6,
    "start_time": "2025-01-22T01:37:02.612Z"
   },
   {
    "duration": 4,
    "start_time": "2025-01-22T01:37:04.215Z"
   },
   {
    "duration": 6,
    "start_time": "2025-01-22T01:37:07.535Z"
   },
   {
    "duration": 6,
    "start_time": "2025-01-22T01:37:09.130Z"
   },
   {
    "duration": 7,
    "start_time": "2025-01-22T01:37:10.759Z"
   },
   {
    "duration": 3,
    "start_time": "2025-01-22T01:37:13.509Z"
   },
   {
    "duration": 971,
    "start_time": "2025-01-22T01:37:15.187Z"
   },
   {
    "duration": 16,
    "start_time": "2025-01-22T01:37:35.242Z"
   },
   {
    "duration": 128,
    "start_time": "2025-01-22T01:37:53.323Z"
   },
   {
    "duration": 134,
    "start_time": "2025-01-22T01:38:10.566Z"
   },
   {
    "duration": 465,
    "start_time": "2025-01-22T01:38:20.849Z"
   },
   {
    "duration": 443,
    "start_time": "2025-01-22T01:38:24.898Z"
   },
   {
    "duration": 135,
    "start_time": "2025-01-22T01:38:28.499Z"
   },
   {
    "duration": 129,
    "start_time": "2025-01-22T01:38:35.022Z"
   },
   {
    "duration": 129,
    "start_time": "2025-01-22T01:38:49.090Z"
   },
   {
    "duration": 2742,
    "start_time": "2025-01-22T01:39:42.242Z"
   },
   {
    "duration": 444,
    "start_time": "2025-01-22T01:41:37.456Z"
   },
   {
    "duration": 439,
    "start_time": "2025-01-22T01:41:39.325Z"
   },
   {
    "duration": 440,
    "start_time": "2025-01-22T01:41:40.859Z"
   },
   {
    "duration": 130,
    "start_time": "2025-01-22T01:41:48.202Z"
   },
   {
    "duration": 3,
    "start_time": "2025-01-22T01:42:08.556Z"
   },
   {
    "duration": 455,
    "start_time": "2025-01-22T01:42:10.769Z"
   },
   {
    "duration": 451,
    "start_time": "2025-01-22T01:42:12.734Z"
   },
   {
    "duration": 3,
    "start_time": "2025-01-22T01:42:29.162Z"
   },
   {
    "duration": 3,
    "start_time": "2025-01-22T01:42:36.894Z"
   },
   {
    "duration": 2,
    "start_time": "2025-01-22T01:42:47.490Z"
   },
   {
    "duration": 19,
    "start_time": "2025-01-22T01:43:15.092Z"
   },
   {
    "duration": 462,
    "start_time": "2025-01-22T01:44:00.431Z"
   },
   {
    "duration": 4,
    "start_time": "2025-01-22T01:45:03.729Z"
   },
   {
    "duration": 484,
    "start_time": "2025-01-22T01:45:06.086Z"
   },
   {
    "duration": 3,
    "start_time": "2025-01-22T01:45:17.817Z"
   },
   {
    "duration": 455,
    "start_time": "2025-01-22T01:45:20.001Z"
   },
   {
    "duration": 3,
    "start_time": "2025-01-22T01:45:28.632Z"
   },
   {
    "duration": 505,
    "start_time": "2025-01-22T01:45:31.026Z"
   },
   {
    "duration": 580,
    "start_time": "2025-01-22T01:45:33.385Z"
   },
   {
    "duration": 484,
    "start_time": "2025-01-22T01:45:35.049Z"
   },
   {
    "duration": 3,
    "start_time": "2025-01-22T01:45:36.554Z"
   },
   {
    "duration": 3,
    "start_time": "2025-01-22T01:45:54.897Z"
   },
   {
    "duration": 470,
    "start_time": "2025-01-22T01:45:56.622Z"
   },
   {
    "duration": 462,
    "start_time": "2025-01-22T02:03:19.035Z"
   },
   {
    "duration": 3,
    "start_time": "2025-01-22T02:03:42.437Z"
   },
   {
    "duration": 476,
    "start_time": "2025-01-22T02:04:12.295Z"
   },
   {
    "duration": 22,
    "start_time": "2025-01-22T02:04:37.202Z"
   },
   {
    "duration": 916,
    "start_time": "2025-01-22T02:09:33.704Z"
   },
   {
    "duration": 227,
    "start_time": "2025-01-22T02:09:34.622Z"
   },
   {
    "duration": 25,
    "start_time": "2025-01-22T02:09:34.851Z"
   },
   {
    "duration": 28,
    "start_time": "2025-01-22T02:09:34.878Z"
   },
   {
    "duration": 392,
    "start_time": "2025-01-22T02:09:34.909Z"
   },
   {
    "duration": 26,
    "start_time": "2025-01-22T02:09:35.303Z"
   },
   {
    "duration": 346,
    "start_time": "2025-01-22T02:09:35.331Z"
   },
   {
    "duration": 26,
    "start_time": "2025-01-22T02:09:35.679Z"
   },
   {
    "duration": 326,
    "start_time": "2025-01-22T02:09:35.707Z"
   },
   {
    "duration": 21,
    "start_time": "2025-01-22T02:09:36.036Z"
   },
   {
    "duration": 102,
    "start_time": "2025-01-22T02:09:36.059Z"
   },
   {
    "duration": 9,
    "start_time": "2025-01-22T02:09:36.171Z"
   },
   {
    "duration": 9,
    "start_time": "2025-01-22T02:09:36.182Z"
   },
   {
    "duration": 8,
    "start_time": "2025-01-22T02:09:36.195Z"
   },
   {
    "duration": 4,
    "start_time": "2025-01-22T02:09:36.204Z"
   },
   {
    "duration": 24,
    "start_time": "2025-01-22T02:09:36.209Z"
   },
   {
    "duration": 3,
    "start_time": "2025-01-22T02:09:36.234Z"
   },
   {
    "duration": 4,
    "start_time": "2025-01-22T02:09:36.271Z"
   },
   {
    "duration": 4,
    "start_time": "2025-01-22T02:09:36.277Z"
   },
   {
    "duration": 107,
    "start_time": "2025-01-22T02:09:36.282Z"
   },
   {
    "duration": 87,
    "start_time": "2025-01-22T02:09:36.391Z"
   },
   {
    "duration": 10,
    "start_time": "2025-01-22T02:09:36.480Z"
   },
   {
    "duration": 9,
    "start_time": "2025-01-22T02:09:36.491Z"
   },
   {
    "duration": 75,
    "start_time": "2025-01-22T02:09:36.501Z"
   },
   {
    "duration": 3,
    "start_time": "2025-01-22T02:09:36.578Z"
   },
   {
    "duration": 4,
    "start_time": "2025-01-22T02:09:36.583Z"
   },
   {
    "duration": 4,
    "start_time": "2025-01-22T02:09:36.588Z"
   },
   {
    "duration": 3,
    "start_time": "2025-01-22T02:09:36.593Z"
   },
   {
    "duration": 8,
    "start_time": "2025-01-22T02:09:36.597Z"
   },
   {
    "duration": 7,
    "start_time": "2025-01-22T02:09:36.606Z"
   },
   {
    "duration": 7,
    "start_time": "2025-01-22T02:09:36.614Z"
   },
   {
    "duration": 3,
    "start_time": "2025-01-22T02:09:36.624Z"
   },
   {
    "duration": 514,
    "start_time": "2025-01-22T02:09:36.629Z"
   },
   {
    "duration": 471,
    "start_time": "2025-01-22T02:09:37.145Z"
   },
   {
    "duration": 476,
    "start_time": "2025-01-22T02:09:37.618Z"
   },
   {
    "duration": 150,
    "start_time": "2025-01-22T02:09:38.096Z"
   },
   {
    "duration": 132,
    "start_time": "2025-01-22T02:09:38.248Z"
   },
   {
    "duration": 133,
    "start_time": "2025-01-22T02:09:38.381Z"
   },
   {
    "duration": 3,
    "start_time": "2025-01-22T02:09:38.516Z"
   },
   {
    "duration": 311,
    "start_time": "2025-01-22T02:09:38.521Z"
   },
   {
    "duration": 3,
    "start_time": "2025-01-22T02:12:31.264Z"
   },
   {
    "duration": 4,
    "start_time": "2025-01-22T02:12:50.790Z"
   },
   {
    "duration": 894,
    "start_time": "2025-01-22T02:15:34.031Z"
   },
   {
    "duration": 224,
    "start_time": "2025-01-22T02:15:34.927Z"
   },
   {
    "duration": 31,
    "start_time": "2025-01-22T02:15:35.153Z"
   },
   {
    "duration": 27,
    "start_time": "2025-01-22T02:15:35.187Z"
   },
   {
    "duration": 384,
    "start_time": "2025-01-22T02:15:35.216Z"
   },
   {
    "duration": 25,
    "start_time": "2025-01-22T02:15:35.602Z"
   },
   {
    "duration": 343,
    "start_time": "2025-01-22T02:15:35.629Z"
   },
   {
    "duration": 28,
    "start_time": "2025-01-22T02:15:35.974Z"
   },
   {
    "duration": 306,
    "start_time": "2025-01-22T02:15:36.004Z"
   },
   {
    "duration": 18,
    "start_time": "2025-01-22T02:15:36.313Z"
   },
   {
    "duration": 98,
    "start_time": "2025-01-22T02:15:36.334Z"
   },
   {
    "duration": 9,
    "start_time": "2025-01-22T02:15:36.434Z"
   },
   {
    "duration": 25,
    "start_time": "2025-01-22T02:15:36.445Z"
   },
   {
    "duration": 8,
    "start_time": "2025-01-22T02:15:36.472Z"
   },
   {
    "duration": 4,
    "start_time": "2025-01-22T02:15:36.482Z"
   },
   {
    "duration": 25,
    "start_time": "2025-01-22T02:15:36.488Z"
   },
   {
    "duration": 3,
    "start_time": "2025-01-22T02:15:36.514Z"
   },
   {
    "duration": 5,
    "start_time": "2025-01-22T02:15:36.518Z"
   },
   {
    "duration": 4,
    "start_time": "2025-01-22T02:15:36.524Z"
   },
   {
    "duration": 154,
    "start_time": "2025-01-22T02:15:36.529Z"
   },
   {
    "duration": 88,
    "start_time": "2025-01-22T02:15:36.685Z"
   },
   {
    "duration": 9,
    "start_time": "2025-01-22T02:15:36.775Z"
   },
   {
    "duration": 8,
    "start_time": "2025-01-22T02:15:36.786Z"
   },
   {
    "duration": 8,
    "start_time": "2025-01-22T02:15:36.795Z"
   },
   {
    "duration": 3,
    "start_time": "2025-01-22T02:15:36.804Z"
   },
   {
    "duration": 3,
    "start_time": "2025-01-22T02:15:36.809Z"
   },
   {
    "duration": 3,
    "start_time": "2025-01-22T02:15:36.814Z"
   },
   {
    "duration": 3,
    "start_time": "2025-01-22T02:15:36.870Z"
   },
   {
    "duration": 9,
    "start_time": "2025-01-22T02:15:36.875Z"
   },
   {
    "duration": 5,
    "start_time": "2025-01-22T02:15:36.886Z"
   },
   {
    "duration": 5,
    "start_time": "2025-01-22T02:15:36.893Z"
   },
   {
    "duration": 3,
    "start_time": "2025-01-22T02:15:36.900Z"
   },
   {
    "duration": 504,
    "start_time": "2025-01-22T02:15:36.904Z"
   },
   {
    "duration": 441,
    "start_time": "2025-01-22T02:15:37.410Z"
   },
   {
    "duration": 475,
    "start_time": "2025-01-22T02:15:37.853Z"
   },
   {
    "duration": 4,
    "start_time": "2025-01-22T02:15:38.332Z"
   },
   {
    "duration": 149,
    "start_time": "2025-01-22T02:15:38.338Z"
   },
   {
    "duration": 134,
    "start_time": "2025-01-22T02:15:38.488Z"
   },
   {
    "duration": 130,
    "start_time": "2025-01-22T02:15:38.624Z"
   },
   {
    "duration": 2,
    "start_time": "2025-01-22T02:15:38.756Z"
   },
   {
    "duration": 301,
    "start_time": "2025-01-22T02:15:38.770Z"
   },
   {
    "duration": 6,
    "start_time": "2025-01-22T03:17:02.994Z"
   },
   {
    "duration": 5,
    "start_time": "2025-01-22T03:17:35.935Z"
   },
   {
    "duration": 5,
    "start_time": "2025-01-22T03:17:44.472Z"
   },
   {
    "duration": 5,
    "start_time": "2025-01-22T03:17:48.571Z"
   },
   {
    "duration": 5,
    "start_time": "2025-01-22T03:18:07.403Z"
   },
   {
    "duration": 4,
    "start_time": "2025-01-22T03:18:22.082Z"
   },
   {
    "duration": 30,
    "start_time": "2025-01-22T03:19:52.003Z"
   },
   {
    "duration": 3,
    "start_time": "2025-01-22T03:20:09.612Z"
   },
   {
    "duration": 5,
    "start_time": "2025-01-22T03:20:11.786Z"
   },
   {
    "duration": 4,
    "start_time": "2025-01-22T03:20:26.722Z"
   },
   {
    "duration": 4,
    "start_time": "2025-01-22T03:20:36.036Z"
   },
   {
    "duration": 4,
    "start_time": "2025-01-22T03:31:13.483Z"
   },
   {
    "duration": 5,
    "start_time": "2025-01-22T03:31:16.122Z"
   },
   {
    "duration": 5,
    "start_time": "2025-01-22T03:31:18.453Z"
   },
   {
    "duration": 5,
    "start_time": "2025-01-22T03:31:20.540Z"
   }
  ],
  "kernelspec": {
   "display_name": "Python 3 (ipykernel)",
   "language": "python",
   "name": "python3"
  },
  "language_info": {
   "codemirror_mode": {
    "name": "ipython",
    "version": 3
   },
   "file_extension": ".py",
   "mimetype": "text/x-python",
   "name": "python",
   "nbconvert_exporter": "python",
   "pygments_lexer": "ipython3",
   "version": "3.9.19"
  },
  "toc": {
   "base_numbering": 1,
   "nav_menu": {},
   "number_sections": true,
   "sideBar": true,
   "skip_h1_title": true,
   "title_cell": "Table of Contents",
   "title_sidebar": "Contents",
   "toc_cell": false,
   "toc_position": {},
   "toc_section_display": true,
   "toc_window_display": false
  }
 },
 "nbformat": 4,
 "nbformat_minor": 2
}
